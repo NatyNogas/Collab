{
  "nbformat": 4,
  "nbformat_minor": 0,
  "metadata": {
    "colab": {
      "name": "[Accenture]Spark com linguagem python.ipynb",
      "provenance": [],
      "collapsed_sections": [
        "rjVl1ZTPMinn"
      ],
      "toc_visible": true,
      "mount_file_id": "1omhEE1M2vy6U3otErvvxLJJRjUKUvbxZ",
      "authorship_tag": "ABX9TyOApSSnvu0HYiTaZws7takZ",
      "include_colab_link": true
    },
    "kernelspec": {
      "name": "python3",
      "display_name": "Python 3"
    }
  },
  "cells": [
    {
      "cell_type": "markdown",
      "metadata": {
        "id": "view-in-github",
        "colab_type": "text"
      },
      "source": [
        "<a href=\"https://colab.research.google.com/github/falecomnataliasouza/Spark-com-linguagem-python/blob/master/%5BAccenture%5DSpark_com_linguagem_python.ipynb\" target=\"_parent\"><img src=\"https://colab.research.google.com/assets/colab-badge.svg\" alt=\"Open In Colab\"/></a>"
      ]
    },
    {
      "cell_type": "markdown",
      "metadata": {
        "id": "gcN03vfnOUM8"
      },
      "source": [
        "\n",
        "# **Running Pyspark in Colab**\n",
        "\n",
        "To run spark in Colab, we need to first install all the dependencies in Colab environment i.e. Apache Spark 3.0.1 with hadoop 2.7 and Java 8. The tools installation can be carried out inside the Jupyter Notebook of the Colab. One important note is that if you are new in Spark, it is better to avoid Spark 2.4.0 version since some people have already complained about its compatibility issue with python. \n",
        "Follow the steps to install the dependencies:"
      ]
    },
    {
      "cell_type": "code",
      "metadata": {
        "id": "vyK3Jig5OOB4",
        "colab": {
          "base_uri": "https://localhost:8080/"
        },
        "outputId": "b23cceef-2e9f-4978-d6ff-7278f75d6f90"
      },
      "source": [
        "!apt update\n",
        "!apt-get install openjdk-8-jdk-headless -qq > /dev/null\n",
        "!pip install pyspark"
      ],
      "execution_count": null,
      "outputs": [
        {
          "output_type": "stream",
          "text": [
            "\u001b[33m\r0% [Working]\u001b[0m\r            \rHit:1 http://security.ubuntu.com/ubuntu bionic-security InRelease\n",
            "\u001b[33m\r0% [Connecting to archive.ubuntu.com] [Connected to cloud.r-project.org (13.32.\u001b[0m\u001b[33m\r0% [1 InRelease gpgv 88.7 kB] [Connecting to archive.ubuntu.com] [Connected to \u001b[0m\r                                                                               \rIgn:2 https://developer.download.nvidia.com/compute/cuda/repos/ubuntu1804/x86_64  InRelease\n",
            "\u001b[33m\r0% [1 InRelease gpgv 88.7 kB] [Connecting to archive.ubuntu.com (91.189.88.142)\u001b[0m\r                                                                               \rHit:3 https://cloud.r-project.org/bin/linux/ubuntu bionic-cran40/ InRelease\n",
            "\u001b[33m\r0% [1 InRelease gpgv 88.7 kB] [Connecting to archive.ubuntu.com (91.189.88.142)\u001b[0m\r                                                                               \rIgn:4 https://developer.download.nvidia.com/compute/machine-learning/repos/ubuntu1804/x86_64  InRelease\n",
            "\u001b[33m\r0% [1 InRelease gpgv 88.7 kB] [Connecting to archive.ubuntu.com (91.189.88.142)\u001b[0m\r                                                                               \rHit:5 http://ppa.launchpad.net/c2d4u.team/c2d4u4.0+/ubuntu bionic InRelease\n",
            "Hit:6 https://developer.download.nvidia.com/compute/cuda/repos/ubuntu1804/x86_64  Release\n",
            "Hit:7 https://developer.download.nvidia.com/compute/machine-learning/repos/ubuntu1804/x86_64  Release\n",
            "Hit:8 http://archive.ubuntu.com/ubuntu bionic InRelease\n",
            "Hit:9 http://ppa.launchpad.net/graphics-drivers/ppa/ubuntu bionic InRelease\n",
            "Hit:10 http://archive.ubuntu.com/ubuntu bionic-updates InRelease\n",
            "Hit:11 http://archive.ubuntu.com/ubuntu bionic-backports InRelease\n",
            "Reading package lists... Done\n",
            "Building dependency tree       \n",
            "Reading state information... Done\n",
            "40 packages can be upgraded. Run 'apt list --upgradable' to see them.\n",
            "Requirement already satisfied: pyspark in /usr/local/lib/python3.6/dist-packages (3.0.1)\n",
            "Requirement already satisfied: py4j==0.10.9 in /usr/local/lib/python3.6/dist-packages (from pyspark) (0.10.9)\n"
          ],
          "name": "stdout"
        }
      ]
    },
    {
      "cell_type": "markdown",
      "metadata": {
        "id": "jFJkwnThPAbm"
      },
      "source": [
        "Now that you installed Spark and Java in Colab, it is time to set the environment path which enables you to run Pyspark in your Colab environment. Set the location of Java and Spark by running the following code:"
      ]
    },
    {
      "cell_type": "code",
      "metadata": {
        "id": "K8aenl0wO4zA"
      },
      "source": [
        "import os\n",
        "os.environ[\"JAVA_HOME\"] = \"/usr/lib/jvm/java-8-openjdk-amd64\""
      ],
      "execution_count": null,
      "outputs": []
    },
    {
      "cell_type": "markdown",
      "metadata": {
        "id": "ycPxf8R5PMpE"
      },
      "source": [
        "Run a local spark session to test your installation:"
      ]
    },
    {
      "cell_type": "code",
      "metadata": {
        "id": "4n6HgY30PKkv"
      },
      "source": [
        "from pyspark.sql import SparkSession\n",
        "spark = SparkSession.builder.master(\"local[*]\").getOrCreate()"
      ],
      "execution_count": null,
      "outputs": []
    },
    {
      "cell_type": "code",
      "metadata": {
        "id": "4x1nvTkuPTJG",
        "colab": {
          "base_uri": "https://localhost:8080/",
          "height": 222
        },
        "outputId": "3909030e-0a77-4edf-9a2f-68b1f682e6b8"
      },
      "source": [
        "spark"
      ],
      "execution_count": null,
      "outputs": [
        {
          "output_type": "execute_result",
          "data": {
            "text/html": [
              "\n",
              "            <div>\n",
              "                <p><b>SparkSession - in-memory</b></p>\n",
              "                \n",
              "        <div>\n",
              "            <p><b>SparkContext</b></p>\n",
              "\n",
              "            <p><a href=\"http://17a452e27a2b:4040\">Spark UI</a></p>\n",
              "\n",
              "            <dl>\n",
              "              <dt>Version</dt>\n",
              "                <dd><code>v3.0.1</code></dd>\n",
              "              <dt>Master</dt>\n",
              "                <dd><code>local[*]</code></dd>\n",
              "              <dt>AppName</dt>\n",
              "                <dd><code>pyspark-shell</code></dd>\n",
              "            </dl>\n",
              "        </div>\n",
              "        \n",
              "            </div>\n",
              "        "
            ],
            "text/plain": [
              "<pyspark.sql.session.SparkSession at 0x7fa86158bfd0>"
            ]
          },
          "metadata": {
            "tags": []
          },
          "execution_count": 17
        }
      ]
    },
    {
      "cell_type": "markdown",
      "metadata": {
        "id": "zB6I1e90Mt7k"
      },
      "source": [
        "# Aula 1 - Introdução aos Dataframes\n",
        "\n"
      ]
    },
    {
      "cell_type": "markdown",
      "metadata": {
        "id": "KSJAj4-APZrk"
      },
      "source": [
        "# Reading a CSV from google drive\n",
        "\n",
        "Utilizando o Google Colab, é possível importar os datasets diretamente do Google Drive, sem ter que realizar o upload manual dos mesmos para a instância colab manualmente"
      ]
    },
    {
      "cell_type": "code",
      "metadata": {
        "id": "OT2a7iPmPVrJ",
        "colab": {
          "base_uri": "https://localhost:8080/"
        },
        "outputId": "ba203fd6-0a8d-44b0-b1b3-42461d488b50"
      },
      "source": [
        "from google.colab import drive\n",
        "drive.mount('/content/drive')"
      ],
      "execution_count": null,
      "outputs": [
        {
          "output_type": "stream",
          "text": [
            "Drive already mounted at /content/drive; to attempt to forcibly remount, call drive.mount(\"/content/drive\", force_remount=True).\n"
          ],
          "name": "stdout"
        }
      ]
    },
    {
      "cell_type": "code",
      "metadata": {
        "id": "rkGUyD-MPcaC",
        "colab": {
          "base_uri": "https://localhost:8080/"
        },
        "outputId": "f1aa7909-03ed-4a6d-c383-66991f42746f"
      },
      "source": [
        "spark.read\\\n",
        "  .option(\"inferSchema\", \"true\") \\\n",
        "  .option(\"header\", \"true\") \\\n",
        "  .option(\"delimiter\", \",\") \\\n",
        "  .csv(\"/content/drive/My Drive/Big Data/vgsales.csv\") \\\n",
        "  .show()"
      ],
      "execution_count": null,
      "outputs": [
        {
          "output_type": "stream",
          "text": [
            "+----+--------------------+--------+----+------------+--------------------+--------+--------+--------+-----------+------------+\n",
            "|Rank|                Name|Platform|Year|       Genre|           Publisher|NA_Sales|EU_Sales|JP_Sales|Other_Sales|Global_Sales|\n",
            "+----+--------------------+--------+----+------------+--------------------+--------+--------+--------+-----------+------------+\n",
            "|   1|          Wii Sports|     Wii|2006|      Sports|            Nintendo|   41.49|   29.02|    3.77|       8.46|       82.74|\n",
            "|   2|   Super Mario Bros.|     NES|1985|    Platform|            Nintendo|   29.08|    3.58|    6.81|       0.77|       40.24|\n",
            "|   3|      Mario Kart Wii|     Wii|2008|      Racing|            Nintendo|   15.85|   12.88|    3.79|       3.31|       35.82|\n",
            "|   4|   Wii Sports Resort|     Wii|2009|      Sports|            Nintendo|   15.75|   11.01|    3.28|       2.96|        33.0|\n",
            "|   5|Pokemon Red/Pokem...|      GB|1996|Role-Playing|            Nintendo|   11.27|    8.89|   10.22|        1.0|       31.37|\n",
            "|   6|              Tetris|      GB|1989|      Puzzle|            Nintendo|    23.2|    2.26|    4.22|       0.58|       30.26|\n",
            "|   7|New Super Mario B...|      DS|2006|    Platform|            Nintendo|   11.38|    9.23|     6.5|        2.9|       30.01|\n",
            "|   8|            Wii Play|     Wii|2006|        Misc|            Nintendo|   14.03|     9.2|    2.93|       2.85|       29.02|\n",
            "|   9|New Super Mario B...|     Wii|2009|    Platform|            Nintendo|   14.59|    7.06|     4.7|       2.26|       28.62|\n",
            "|  10|           Duck Hunt|     NES|1984|     Shooter|            Nintendo|   26.93|    0.63|    0.28|       0.47|       28.31|\n",
            "|  11|          Nintendogs|      DS|2005|  Simulation|            Nintendo|    9.07|    11.0|    1.93|       2.75|       24.76|\n",
            "|  12|       Mario Kart DS|      DS|2005|      Racing|            Nintendo|    9.81|    7.57|    4.13|       1.92|       23.42|\n",
            "|  13|Pokemon Gold/Poke...|      GB|1999|Role-Playing|            Nintendo|     9.0|    6.18|     7.2|       0.71|        23.1|\n",
            "|  14|             Wii Fit|     Wii|2007|      Sports|            Nintendo|    8.94|    8.03|     3.6|       2.15|       22.72|\n",
            "|  15|        Wii Fit Plus|     Wii|2009|      Sports|            Nintendo|    9.09|    8.59|    2.53|       1.79|        22.0|\n",
            "|  16|  Kinect Adventures!|    X360|2010|        Misc|Microsoft Game St...|   14.97|    4.94|    0.24|       1.67|       21.82|\n",
            "|  17|  Grand Theft Auto V|     PS3|2013|      Action|Take-Two Interactive|    7.01|    9.27|    0.97|       4.14|        21.4|\n",
            "|  18|Grand Theft Auto:...|     PS2|2004|      Action|Take-Two Interactive|    9.43|     0.4|    0.41|      10.57|       20.81|\n",
            "|  19|   Super Mario World|    SNES|1990|    Platform|            Nintendo|   12.78|    3.75|    3.54|       0.55|       20.61|\n",
            "|  20|Brain Age: Train ...|      DS|2005|        Misc|            Nintendo|    4.75|    9.26|    4.16|       2.05|       20.22|\n",
            "+----+--------------------+--------+----+------------+--------------------+--------+--------+--------+-----------+------------+\n",
            "only showing top 20 rows\n",
            "\n"
          ],
          "name": "stdout"
        }
      ]
    },
    {
      "cell_type": "markdown",
      "metadata": {
        "id": "7pK2xNioHmOd"
      },
      "source": [
        "**O Spark é feito para ler e particionar grandes quantidade de dados, então uma das formas de \"ler\" e \"tratar\" os dados recebidos é atráves do Dataframe. O que foi feito até agora é só preparo do ambiente e dos dados.**"
      ]
    },
    {
      "cell_type": "markdown",
      "metadata": {
        "id": "GZuPTlB8LBJR"
      },
      "source": [
        "# Introdução aos Dataframes\n",
        "Nessa aula, daremos uma breve explicação do que vêm a ser **Dataframes** no âmbito do Apache Spark e como eles podem ser muito úteis na construção de aplicações escaláveis. Construiremos um dataframe baseado em um arquivo .csv de testes.\n",
        "\n",
        "Dataframe são uma das formas que temos os arquivos dentro do Spark"
      ]
    },
    {
      "cell_type": "markdown",
      "metadata": {
        "id": "sClgfNqSLD-3"
      },
      "source": [
        "### Overwiew de uma aplicação Spark\n",
        "Relembrando o conceito de uma aplicação Spark submetida a um cluster\n",
        "![Spark](https://spark.apache.org/docs/latest/img/cluster-overview.png)\n",
        "*Fonte: https://spark.apache.org/docs/latest/cluster-overview.html*\n",
        "\n",
        "Podemos ver aqui dois processos principais:\n",
        "\n",
        "- Executors: processo responsável por realizar a computação bruta dos dados, de forma paralela, ou seja, cada executor em um cluster irá processar uma parte dos dados.\n",
        "- Driver: processo responsável por coordenar a aplicação e enviar instrução de processamento (transformações) para os executores e receber os resultados das ações. **Códigos não paralelizáveis (códigos que não usufruem dos Dataframes ou RDDs), consumirão poder de processamento e memória do processo Driver**. Exemplo: Pandas"
      ]
    },
    {
      "cell_type": "markdown",
      "metadata": {
        "id": "mMr5j8NHLKNa"
      },
      "source": [
        "SparkSession\n",
        "\n",
        "O SparkSession é o objeto responsável por criar Dataframes, ou seja, estrutura de dados paralelizáveis semelhante aos dataframes do framework pandas e da linguagem R. Em modos interativos, como é o caso do CLI pyspark, o objeto SparkSession já vem previamente instânciado, permitindo ao usuário, o uso imediato. Para checar, basta rodar o comando abaixo:"
      ]
    },
    {
      "cell_type": "code",
      "metadata": {
        "id": "4yuWIU7MLNFh",
        "colab": {
          "base_uri": "https://localhost:8080/",
          "height": 222
        },
        "outputId": "46212736-be73-4026-fd65-0a0d6cb08569"
      },
      "source": [
        "spark"
      ],
      "execution_count": null,
      "outputs": [
        {
          "output_type": "execute_result",
          "data": {
            "text/html": [
              "\n",
              "            <div>\n",
              "                <p><b>SparkSession - in-memory</b></p>\n",
              "                \n",
              "        <div>\n",
              "            <p><b>SparkContext</b></p>\n",
              "\n",
              "            <p><a href=\"http://17a452e27a2b:4040\">Spark UI</a></p>\n",
              "\n",
              "            <dl>\n",
              "              <dt>Version</dt>\n",
              "                <dd><code>v3.0.1</code></dd>\n",
              "              <dt>Master</dt>\n",
              "                <dd><code>local[*]</code></dd>\n",
              "              <dt>AppName</dt>\n",
              "                <dd><code>pyspark-shell</code></dd>\n",
              "            </dl>\n",
              "        </div>\n",
              "        \n",
              "            </div>\n",
              "        "
            ],
            "text/plain": [
              "<pyspark.sql.session.SparkSession at 0x7fa86158bfd0>"
            ]
          },
          "metadata": {
            "tags": []
          },
          "execution_count": 20
        }
      ]
    },
    {
      "cell_type": "markdown",
      "metadata": {
        "id": "gwSPNKvBJsLr"
      },
      "source": [
        "Exemplos a seguir é sobre a construção dos DataFrames dentro do Spark, não sobre o Spark"
      ]
    },
    {
      "cell_type": "markdown",
      "metadata": {
        "id": "GFSuw34vLRjU"
      },
      "source": [
        "### Criando um Spark Dataframe a partir de um array de dicionários"
      ]
    },
    {
      "cell_type": "code",
      "metadata": {
        "id": "j4uQxKQqLRI8",
        "colab": {
          "base_uri": "https://localhost:8080/"
        },
        "outputId": "0286d451-1413-48b3-e011-c8f2776295cd"
      },
      "source": [
        "data_dict = [{\n",
        "    \"nome\":\"Jose\",\n",
        "    \"idade\": 52,\n",
        "    \"profissao\": \"Advogado\"\n",
        "},{\n",
        "    \"nome\":\"Maria\",\n",
        "    \"idade\": 35,\n",
        "    \"profissao\": \"Médico\"\n",
        "},{\n",
        "    \"nome\":\"Pedro\",\n",
        "    \"idade\": 25,\n",
        "    \"profissao\": \"Estudante\"\n",
        "}]\n",
        "\n",
        "data_dict"
      ],
      "execution_count": null,
      "outputs": [
        {
          "output_type": "execute_result",
          "data": {
            "text/plain": [
              "[{'idade': 52, 'nome': 'Jose', 'profissao': 'Advogado'},\n",
              " {'idade': 35, 'nome': 'Maria', 'profissao': 'Médico'},\n",
              " {'idade': 25, 'nome': 'Pedro', 'profissao': 'Estudante'}]"
            ]
          },
          "metadata": {
            "tags": []
          },
          "execution_count": 21
        }
      ]
    },
    {
      "cell_type": "markdown",
      "metadata": {
        "id": "phE1tsUSLety"
      },
      "source": [
        "**Método do SparkSession, createDataFrame responsável por criar o DataFrame**"
      ]
    },
    {
      "cell_type": "markdown",
      "metadata": {
        "id": "ETZINgMEKIqv"
      },
      "source": [
        "Aqui, independente de ser uma lista, um dicionário, é assim que o DataFrame é criado dentro do Spark"
      ]
    },
    {
      "cell_type": "code",
      "metadata": {
        "id": "6reT3tQcLhSc",
        "colab": {
          "base_uri": "https://localhost:8080/"
        },
        "outputId": "adac2348-d68b-4809-bfbe-76dfba537252"
      },
      "source": [
        "df = spark.createDataFrame(data_dict)"
      ],
      "execution_count": null,
      "outputs": [
        {
          "output_type": "stream",
          "text": [
            "/usr/local/lib/python3.6/dist-packages/pyspark/sql/session.py:381: UserWarning: inferring schema from dict is deprecated,please use pyspark.sql.Row instead\n",
            "  warnings.warn(\"inferring schema from dict is deprecated,\"\n"
          ],
          "name": "stderr"
        }
      ]
    },
    {
      "cell_type": "markdown",
      "metadata": {
        "id": "Eu72ixm8LkPR"
      },
      "source": [
        "**Método show() responsável por exibir o DataFrame**"
      ]
    },
    {
      "cell_type": "code",
      "metadata": {
        "id": "4kHZPzoZLmIr",
        "colab": {
          "base_uri": "https://localhost:8080/"
        },
        "outputId": "70d16690-0dda-4131-dc4e-e50d22a67c82"
      },
      "source": [
        "df.show()"
      ],
      "execution_count": null,
      "outputs": [
        {
          "output_type": "stream",
          "text": [
            "+-----+-----+---------+\n",
            "|idade| nome|profissao|\n",
            "+-----+-----+---------+\n",
            "|   52| Jose| Advogado|\n",
            "|   35|Maria|   Médico|\n",
            "|   25|Pedro|Estudante|\n",
            "+-----+-----+---------+\n",
            "\n"
          ],
          "name": "stdout"
        }
      ]
    },
    {
      "cell_type": "markdown",
      "metadata": {
        "id": "N_Jxl_lQLpja"
      },
      "source": [
        "**Printando o schema do DataFrame**\n"
      ]
    },
    {
      "cell_type": "code",
      "metadata": {
        "id": "NNBYTWYYLrXi",
        "colab": {
          "base_uri": "https://localhost:8080/"
        },
        "outputId": "9bc025e4-9b98-498f-9d9b-494171db5ad8"
      },
      "source": [
        "df.printSchema()"
      ],
      "execution_count": null,
      "outputs": [
        {
          "output_type": "stream",
          "text": [
            "root\n",
            " |-- idade: long (nullable = true)\n",
            " |-- nome: string (nullable = true)\n",
            " |-- profissao: string (nullable = true)\n",
            "\n"
          ],
          "name": "stdout"
        }
      ]
    },
    {
      "cell_type": "markdown",
      "metadata": {
        "id": "L-Ck5cNsLvc-"
      },
      "source": [
        "## Criando um dataframe a partir de um arquivo CSV\n",
        "\n",
        "[Usando um arquivo escolhido]\n",
        "\n",
        "\n",
        "Utilizaremos um dataset que contém algumas das vendas de jogos para consoles. O mesmo se encontra em https://www.kaggle.com/gregorut/videogamesales/data.\n",
        "\n",
        "Obs.: é necessário criar uma conta no Kaggle para isso.\n",
        "\n",
        "Realizado o download, importe-o para dentro do armazenamento no seu notebook. Todos os arquivos de dados dentro de uma seção irão ser removidos após a finalização da mesma. Caso deseje salvar permanentemente os arquivos de dados, utilize a opção de importar do Google Drive (seção \"Reading a CSV from google drive\")."
      ]
    },
    {
      "cell_type": "code",
      "metadata": {
        "id": "i2iXTJNvLxeM"
      },
      "source": [
        "data_dir = \"vgsales.csv\""
      ],
      "execution_count": null,
      "outputs": []
    },
    {
      "cell_type": "markdown",
      "metadata": {
        "id": "zQlAfEnOLAhq"
      },
      "source": [
        "**Aqui eu estou lendo local, não do drive**"
      ]
    },
    {
      "cell_type": "markdown",
      "metadata": {
        "id": "GN2U7kI-L-54"
      },
      "source": [
        "##Sem inferência de schema\n"
      ]
    },
    {
      "cell_type": "code",
      "metadata": {
        "id": "QDGx5AiXMA6z"
      },
      "source": [
        "df = spark.read.load(data_dir, format=\"csv\", header=\"true\")"
      ],
      "execution_count": null,
      "outputs": []
    },
    {
      "cell_type": "markdown",
      "metadata": {
        "id": "tCbLi3ZHMDMH"
      },
      "source": [
        "Visualizando o Dataframe Lido"
      ]
    },
    {
      "cell_type": "code",
      "metadata": {
        "id": "SS9p8di6ME5j",
        "colab": {
          "base_uri": "https://localhost:8080/"
        },
        "outputId": "592317f4-bd71-40d4-850d-e151c3a07034"
      },
      "source": [
        "df.show()"
      ],
      "execution_count": null,
      "outputs": [
        {
          "output_type": "stream",
          "text": [
            "+----+--------------------+--------+----+------------+--------------------+--------+--------+--------+-----------+------------+\n",
            "|Rank|                Name|Platform|Year|       Genre|           Publisher|NA_Sales|EU_Sales|JP_Sales|Other_Sales|Global_Sales|\n",
            "+----+--------------------+--------+----+------------+--------------------+--------+--------+--------+-----------+------------+\n",
            "|   1|          Wii Sports|     Wii|2006|      Sports|            Nintendo|   41.49|   29.02|    3.77|       8.46|       82.74|\n",
            "|   2|   Super Mario Bros.|     NES|1985|    Platform|            Nintendo|   29.08|    3.58|    6.81|       0.77|       40.24|\n",
            "|   3|      Mario Kart Wii|     Wii|2008|      Racing|            Nintendo|   15.85|   12.88|    3.79|       3.31|       35.82|\n",
            "|   4|   Wii Sports Resort|     Wii|2009|      Sports|            Nintendo|   15.75|   11.01|    3.28|       2.96|          33|\n",
            "|   5|Pokemon Red/Pokem...|      GB|1996|Role-Playing|            Nintendo|   11.27|    8.89|   10.22|          1|       31.37|\n",
            "|   6|              Tetris|      GB|1989|      Puzzle|            Nintendo|    23.2|    2.26|    4.22|       0.58|       30.26|\n",
            "|   7|New Super Mario B...|      DS|2006|    Platform|            Nintendo|   11.38|    9.23|     6.5|        2.9|       30.01|\n",
            "|   8|            Wii Play|     Wii|2006|        Misc|            Nintendo|   14.03|     9.2|    2.93|       2.85|       29.02|\n",
            "|   9|New Super Mario B...|     Wii|2009|    Platform|            Nintendo|   14.59|    7.06|     4.7|       2.26|       28.62|\n",
            "|  10|           Duck Hunt|     NES|1984|     Shooter|            Nintendo|   26.93|    0.63|    0.28|       0.47|       28.31|\n",
            "|  11|          Nintendogs|      DS|2005|  Simulation|            Nintendo|    9.07|      11|    1.93|       2.75|       24.76|\n",
            "|  12|       Mario Kart DS|      DS|2005|      Racing|            Nintendo|    9.81|    7.57|    4.13|       1.92|       23.42|\n",
            "|  13|Pokemon Gold/Poke...|      GB|1999|Role-Playing|            Nintendo|       9|    6.18|     7.2|       0.71|        23.1|\n",
            "|  14|             Wii Fit|     Wii|2007|      Sports|            Nintendo|    8.94|    8.03|     3.6|       2.15|       22.72|\n",
            "|  15|        Wii Fit Plus|     Wii|2009|      Sports|            Nintendo|    9.09|    8.59|    2.53|       1.79|          22|\n",
            "|  16|  Kinect Adventures!|    X360|2010|        Misc|Microsoft Game St...|   14.97|    4.94|    0.24|       1.67|       21.82|\n",
            "|  17|  Grand Theft Auto V|     PS3|2013|      Action|Take-Two Interactive|    7.01|    9.27|    0.97|       4.14|        21.4|\n",
            "|  18|Grand Theft Auto:...|     PS2|2004|      Action|Take-Two Interactive|    9.43|     0.4|    0.41|      10.57|       20.81|\n",
            "|  19|   Super Mario World|    SNES|1990|    Platform|            Nintendo|   12.78|    3.75|    3.54|       0.55|       20.61|\n",
            "|  20|Brain Age: Train ...|      DS|2005|        Misc|            Nintendo|    4.75|    9.26|    4.16|       2.05|       20.22|\n",
            "+----+--------------------+--------+----+------------+--------------------+--------+--------+--------+-----------+------------+\n",
            "only showing top 20 rows\n",
            "\n"
          ],
          "name": "stdout"
        }
      ]
    },
    {
      "cell_type": "markdown",
      "metadata": {
        "id": "y_WcfxkzMHyx"
      },
      "source": [
        "Visualizando o Schema"
      ]
    },
    {
      "cell_type": "code",
      "metadata": {
        "id": "X8VszbwqMJDC",
        "colab": {
          "base_uri": "https://localhost:8080/"
        },
        "outputId": "6f9b3527-85c9-4714-ca6b-b9d74f610497"
      },
      "source": [
        "df.printSchema()"
      ],
      "execution_count": null,
      "outputs": [
        {
          "output_type": "stream",
          "text": [
            "root\n",
            " |-- Rank: string (nullable = true)\n",
            " |-- Name: string (nullable = true)\n",
            " |-- Platform: string (nullable = true)\n",
            " |-- Year: string (nullable = true)\n",
            " |-- Genre: string (nullable = true)\n",
            " |-- Publisher: string (nullable = true)\n",
            " |-- NA_Sales: string (nullable = true)\n",
            " |-- EU_Sales: string (nullable = true)\n",
            " |-- JP_Sales: string (nullable = true)\n",
            " |-- Other_Sales: string (nullable = true)\n",
            " |-- Global_Sales: string (nullable = true)\n",
            "\n"
          ],
          "name": "stdout"
        }
      ]
    },
    {
      "cell_type": "markdown",
      "metadata": {
        "id": "TvKxX69xMMGp"
      },
      "source": [
        "##Usando a opção para inferir o schema dos dados automaticamente"
      ]
    },
    {
      "cell_type": "code",
      "metadata": {
        "id": "ZeExmqBpMP8D"
      },
      "source": [
        "df = spark.read.load(data_dir, format=\"csv\", inferSchema=\"true\", header=\"true\")"
      ],
      "execution_count": null,
      "outputs": []
    },
    {
      "cell_type": "code",
      "metadata": {
        "id": "AYBK7CyxMS8J",
        "colab": {
          "base_uri": "https://localhost:8080/"
        },
        "outputId": "afd1a58d-1618-47e9-b030-73a1e80c01e0"
      },
      "source": [
        "df.printSchema()"
      ],
      "execution_count": null,
      "outputs": [
        {
          "output_type": "stream",
          "text": [
            "root\n",
            " |-- Rank: integer (nullable = true)\n",
            " |-- Name: string (nullable = true)\n",
            " |-- Platform: string (nullable = true)\n",
            " |-- Year: string (nullable = true)\n",
            " |-- Genre: string (nullable = true)\n",
            " |-- Publisher: string (nullable = true)\n",
            " |-- NA_Sales: double (nullable = true)\n",
            " |-- EU_Sales: double (nullable = true)\n",
            " |-- JP_Sales: double (nullable = true)\n",
            " |-- Other_Sales: double (nullable = true)\n",
            " |-- Global_Sales: double (nullable = true)\n",
            "\n"
          ],
          "name": "stdout"
        }
      ]
    },
    {
      "cell_type": "markdown",
      "metadata": {
        "id": "zFQEkjmSMVzF"
      },
      "source": [
        "##Utilizando um schema definido pelo usuário"
      ]
    },
    {
      "cell_type": "markdown",
      "metadata": {
        "id": "ZYRuWwAgLhyS"
      },
      "source": [
        "Aqui eu importei os tipos de variáveis que eu quero"
      ]
    },
    {
      "cell_type": "code",
      "metadata": {
        "id": "aVF_mmVfMYC_"
      },
      "source": [
        "from pyspark.sql.types import StructType, StructField, StringType, IntegerType, DoubleType\n",
        "\n",
        "schema = StructType([\n",
        "    StructField(\"new_rank\", IntegerType(), True),\n",
        "    StructField(\"new_name\", StringType(), True),\n",
        "    StructField(\"new_platform\", StringType(), True),\n",
        "    StructField(\"new_year\", IntegerType(), True),\n",
        "    StructField(\"new_genre\", StringType(), True),\n",
        "    StructField(\"new_publisher\", StringType(), True),\n",
        "    StructField(\"new_na_sales\", DoubleType(), True),\n",
        "    StructField(\"new_eu_sales\", DoubleType(), True),\n",
        "    StructField(\"new_jp_sales\", DoubleType(), True),\n",
        "    StructField(\"new_other_sales\", DoubleType(), True),\n",
        "    StructField(\"new_global_sales\", DoubleType(), True)\n",
        "])"
      ],
      "execution_count": null,
      "outputs": []
    },
    {
      "cell_type": "code",
      "metadata": {
        "id": "COjgeZKaMZwS"
      },
      "source": [
        "df = spark.read.load(data_dir, format=\"csv\", schema=schema, header=\"true\")"
      ],
      "execution_count": null,
      "outputs": []
    },
    {
      "cell_type": "code",
      "metadata": {
        "id": "qWIYnNBzMbbh",
        "colab": {
          "base_uri": "https://localhost:8080/"
        },
        "outputId": "5fb2c513-7da9-419d-f6f3-004be767d2a3"
      },
      "source": [
        "df.printSchema()"
      ],
      "execution_count": null,
      "outputs": [
        {
          "output_type": "stream",
          "text": [
            "root\n",
            " |-- new_rank: integer (nullable = true)\n",
            " |-- new_name: string (nullable = true)\n",
            " |-- new_platform: string (nullable = true)\n",
            " |-- new_year: integer (nullable = true)\n",
            " |-- new_genre: string (nullable = true)\n",
            " |-- new_publisher: string (nullable = true)\n",
            " |-- new_na_sales: double (nullable = true)\n",
            " |-- new_eu_sales: double (nullable = true)\n",
            " |-- new_jp_sales: double (nullable = true)\n",
            " |-- new_other_sales: double (nullable = true)\n",
            " |-- new_global_sales: double (nullable = true)\n",
            "\n"
          ],
          "name": "stdout"
        }
      ]
    },
    {
      "cell_type": "code",
      "metadata": {
        "id": "jknUHnIEMf1a",
        "colab": {
          "base_uri": "https://localhost:8080/"
        },
        "outputId": "139fe45c-0ffe-42c6-c8a2-0dbc1a62a3c4"
      },
      "source": [
        "df.show()"
      ],
      "execution_count": null,
      "outputs": [
        {
          "output_type": "stream",
          "text": [
            "+--------+--------------------+------------+--------+------------+--------------------+------------+------------+------------+---------------+----------------+\n",
            "|new_rank|            new_name|new_platform|new_year|   new_genre|       new_publisher|new_na_sales|new_eu_sales|new_jp_sales|new_other_sales|new_global_sales|\n",
            "+--------+--------------------+------------+--------+------------+--------------------+------------+------------+------------+---------------+----------------+\n",
            "|       1|          Wii Sports|         Wii|    2006|      Sports|            Nintendo|       41.49|       29.02|        3.77|           8.46|           82.74|\n",
            "|       2|   Super Mario Bros.|         NES|    1985|    Platform|            Nintendo|       29.08|        3.58|        6.81|           0.77|           40.24|\n",
            "|       3|      Mario Kart Wii|         Wii|    2008|      Racing|            Nintendo|       15.85|       12.88|        3.79|           3.31|           35.82|\n",
            "|       4|   Wii Sports Resort|         Wii|    2009|      Sports|            Nintendo|       15.75|       11.01|        3.28|           2.96|            33.0|\n",
            "|       5|Pokemon Red/Pokem...|          GB|    1996|Role-Playing|            Nintendo|       11.27|        8.89|       10.22|            1.0|           31.37|\n",
            "|       6|              Tetris|          GB|    1989|      Puzzle|            Nintendo|        23.2|        2.26|        4.22|           0.58|           30.26|\n",
            "|       7|New Super Mario B...|          DS|    2006|    Platform|            Nintendo|       11.38|        9.23|         6.5|            2.9|           30.01|\n",
            "|       8|            Wii Play|         Wii|    2006|        Misc|            Nintendo|       14.03|         9.2|        2.93|           2.85|           29.02|\n",
            "|       9|New Super Mario B...|         Wii|    2009|    Platform|            Nintendo|       14.59|        7.06|         4.7|           2.26|           28.62|\n",
            "|      10|           Duck Hunt|         NES|    1984|     Shooter|            Nintendo|       26.93|        0.63|        0.28|           0.47|           28.31|\n",
            "|      11|          Nintendogs|          DS|    2005|  Simulation|            Nintendo|        9.07|        11.0|        1.93|           2.75|           24.76|\n",
            "|      12|       Mario Kart DS|          DS|    2005|      Racing|            Nintendo|        9.81|        7.57|        4.13|           1.92|           23.42|\n",
            "|      13|Pokemon Gold/Poke...|          GB|    1999|Role-Playing|            Nintendo|         9.0|        6.18|         7.2|           0.71|            23.1|\n",
            "|      14|             Wii Fit|         Wii|    2007|      Sports|            Nintendo|        8.94|        8.03|         3.6|           2.15|           22.72|\n",
            "|      15|        Wii Fit Plus|         Wii|    2009|      Sports|            Nintendo|        9.09|        8.59|        2.53|           1.79|            22.0|\n",
            "|      16|  Kinect Adventures!|        X360|    2010|        Misc|Microsoft Game St...|       14.97|        4.94|        0.24|           1.67|           21.82|\n",
            "|      17|  Grand Theft Auto V|         PS3|    2013|      Action|Take-Two Interactive|        7.01|        9.27|        0.97|           4.14|            21.4|\n",
            "|      18|Grand Theft Auto:...|         PS2|    2004|      Action|Take-Two Interactive|        9.43|         0.4|        0.41|          10.57|           20.81|\n",
            "|      19|   Super Mario World|        SNES|    1990|    Platform|            Nintendo|       12.78|        3.75|        3.54|           0.55|           20.61|\n",
            "|      20|Brain Age: Train ...|          DS|    2005|        Misc|            Nintendo|        4.75|        9.26|        4.16|           2.05|           20.22|\n",
            "+--------+--------------------+------------+--------+------------+--------------------+------------+------------+------------+---------------+----------------+\n",
            "only showing top 20 rows\n",
            "\n"
          ],
          "name": "stdout"
        }
      ]
    },
    {
      "cell_type": "markdown",
      "metadata": {
        "id": "rjVl1ZTPMinn"
      },
      "source": [
        "## Formatos suportados\n",
        "O Spark é capaz de ler uma gama de arquivos e fontes de dados nativamente. Dentre eles, temos:\n",
        "\n",
        "- CSV\n",
        "- JSON (JSON lines text format)\n",
        "- Parquet files\n",
        "- ORC files\n",
        "- Hive tables\n",
        "- JDBC (MySQL, Postgresql, Oracle, SAP, e inúmeros outros BDs)\n",
        "- Avro\n",
        "\n",
        "É possível também encontrar dependências de terceiros, que apliam ainda mais o leque de opções de fontes de dados para o Spark. Ler mais em https://spark.apache.org/third-party-projects.html"
      ]
    },
    {
      "cell_type": "markdown",
      "metadata": {
        "id": "b29WeR6wB2Q0"
      },
      "source": [
        "# Exercícios\n",
        "Para iniciar os exercícios, configure a variável abaixo para que possa apontar para o caminho correto em seu ambiente de desenvolvimento:\n"
      ]
    },
    {
      "cell_type": "code",
      "metadata": {
        "id": "jACoRZrmB4Jt"
      },
      "source": [
        "data_dir = '/content/drive/My Drive/Big Data/vgsales.csv'"
      ],
      "execution_count": null,
      "outputs": []
    },
    {
      "cell_type": "code",
      "metadata": {
        "id": "k4MYnjPOCUOZ"
      },
      "source": [
        "df = spark.read.load(data_dir, format=\"csv\", header=\"true\")"
      ],
      "execution_count": null,
      "outputs": []
    },
    {
      "cell_type": "code",
      "metadata": {
        "id": "xId5_-sKCXls",
        "colab": {
          "base_uri": "https://localhost:8080/"
        },
        "outputId": "d8efeac8-38e3-45a3-f88c-1b29db343e23"
      },
      "source": [
        "df.show()"
      ],
      "execution_count": null,
      "outputs": [
        {
          "output_type": "stream",
          "text": [
            "+----+--------------------+--------+----+------------+--------------------+--------+--------+--------+-----------+------------+\n",
            "|Rank|                Name|Platform|Year|       Genre|           Publisher|NA_Sales|EU_Sales|JP_Sales|Other_Sales|Global_Sales|\n",
            "+----+--------------------+--------+----+------------+--------------------+--------+--------+--------+-----------+------------+\n",
            "|   1|          Wii Sports|     Wii|2006|      Sports|            Nintendo|   41.49|   29.02|    3.77|       8.46|       82.74|\n",
            "|   2|   Super Mario Bros.|     NES|1985|    Platform|            Nintendo|   29.08|    3.58|    6.81|       0.77|       40.24|\n",
            "|   3|      Mario Kart Wii|     Wii|2008|      Racing|            Nintendo|   15.85|   12.88|    3.79|       3.31|       35.82|\n",
            "|   4|   Wii Sports Resort|     Wii|2009|      Sports|            Nintendo|   15.75|   11.01|    3.28|       2.96|          33|\n",
            "|   5|Pokemon Red/Pokem...|      GB|1996|Role-Playing|            Nintendo|   11.27|    8.89|   10.22|          1|       31.37|\n",
            "|   6|              Tetris|      GB|1989|      Puzzle|            Nintendo|    23.2|    2.26|    4.22|       0.58|       30.26|\n",
            "|   7|New Super Mario B...|      DS|2006|    Platform|            Nintendo|   11.38|    9.23|     6.5|        2.9|       30.01|\n",
            "|   8|            Wii Play|     Wii|2006|        Misc|            Nintendo|   14.03|     9.2|    2.93|       2.85|       29.02|\n",
            "|   9|New Super Mario B...|     Wii|2009|    Platform|            Nintendo|   14.59|    7.06|     4.7|       2.26|       28.62|\n",
            "|  10|           Duck Hunt|     NES|1984|     Shooter|            Nintendo|   26.93|    0.63|    0.28|       0.47|       28.31|\n",
            "|  11|          Nintendogs|      DS|2005|  Simulation|            Nintendo|    9.07|      11|    1.93|       2.75|       24.76|\n",
            "|  12|       Mario Kart DS|      DS|2005|      Racing|            Nintendo|    9.81|    7.57|    4.13|       1.92|       23.42|\n",
            "|  13|Pokemon Gold/Poke...|      GB|1999|Role-Playing|            Nintendo|       9|    6.18|     7.2|       0.71|        23.1|\n",
            "|  14|             Wii Fit|     Wii|2007|      Sports|            Nintendo|    8.94|    8.03|     3.6|       2.15|       22.72|\n",
            "|  15|        Wii Fit Plus|     Wii|2009|      Sports|            Nintendo|    9.09|    8.59|    2.53|       1.79|          22|\n",
            "|  16|  Kinect Adventures!|    X360|2010|        Misc|Microsoft Game St...|   14.97|    4.94|    0.24|       1.67|       21.82|\n",
            "|  17|  Grand Theft Auto V|     PS3|2013|      Action|Take-Two Interactive|    7.01|    9.27|    0.97|       4.14|        21.4|\n",
            "|  18|Grand Theft Auto:...|     PS2|2004|      Action|Take-Two Interactive|    9.43|     0.4|    0.41|      10.57|       20.81|\n",
            "|  19|   Super Mario World|    SNES|1990|    Platform|            Nintendo|   12.78|    3.75|    3.54|       0.55|       20.61|\n",
            "|  20|Brain Age: Train ...|      DS|2005|        Misc|            Nintendo|    4.75|    9.26|    4.16|       2.05|       20.22|\n",
            "+----+--------------------+--------+----+------------+--------------------+--------+--------+--------+-----------+------------+\n",
            "only showing top 20 rows\n",
            "\n"
          ],
          "name": "stdout"
        }
      ]
    },
    {
      "cell_type": "code",
      "metadata": {
        "id": "LVwu95oDCauJ",
        "colab": {
          "base_uri": "https://localhost:8080/"
        },
        "outputId": "b84fbb4e-ee51-49e5-b12f-9083e90cd128"
      },
      "source": [
        "df.printSchema()"
      ],
      "execution_count": null,
      "outputs": [
        {
          "output_type": "stream",
          "text": [
            "root\n",
            " |-- Rank: string (nullable = true)\n",
            " |-- Name: string (nullable = true)\n",
            " |-- Platform: string (nullable = true)\n",
            " |-- Year: string (nullable = true)\n",
            " |-- Genre: string (nullable = true)\n",
            " |-- Publisher: string (nullable = true)\n",
            " |-- NA_Sales: string (nullable = true)\n",
            " |-- EU_Sales: string (nullable = true)\n",
            " |-- JP_Sales: string (nullable = true)\n",
            " |-- Other_Sales: string (nullable = true)\n",
            " |-- Global_Sales: string (nullable = true)\n",
            "\n"
          ],
          "name": "stdout"
        }
      ]
    },
    {
      "cell_type": "markdown",
      "metadata": {
        "id": "I3G5PQYEDXcJ"
      },
      "source": [
        "1) Leia o arquivo vgsales.csv em formato de inferência de schema e header desativado:"
      ]
    },
    {
      "cell_type": "code",
      "metadata": {
        "id": "j1w25l76DbBT",
        "colab": {
          "base_uri": "https://localhost:8080/"
        },
        "outputId": "83ce448d-0232-437a-8070-ab402faf174c"
      },
      "source": [
        "df = spark.read.load(data_dir, format=\"csv\", inferSchema=\"true\", header=\"false\")\n",
        "df.show()"
      ],
      "execution_count": null,
      "outputs": [
        {
          "output_type": "stream",
          "text": [
            "+----+--------------------+--------+----+------------+--------------------+--------+--------+--------+-----------+------------+\n",
            "| _c0|                 _c1|     _c2| _c3|         _c4|                 _c5|     _c6|     _c7|     _c8|        _c9|        _c10|\n",
            "+----+--------------------+--------+----+------------+--------------------+--------+--------+--------+-----------+------------+\n",
            "|Rank|                Name|Platform|Year|       Genre|           Publisher|NA_Sales|EU_Sales|JP_Sales|Other_Sales|Global_Sales|\n",
            "|   1|          Wii Sports|     Wii|2006|      Sports|            Nintendo|   41.49|   29.02|    3.77|       8.46|       82.74|\n",
            "|   2|   Super Mario Bros.|     NES|1985|    Platform|            Nintendo|   29.08|    3.58|    6.81|       0.77|       40.24|\n",
            "|   3|      Mario Kart Wii|     Wii|2008|      Racing|            Nintendo|   15.85|   12.88|    3.79|       3.31|       35.82|\n",
            "|   4|   Wii Sports Resort|     Wii|2009|      Sports|            Nintendo|   15.75|   11.01|    3.28|       2.96|          33|\n",
            "|   5|Pokemon Red/Pokem...|      GB|1996|Role-Playing|            Nintendo|   11.27|    8.89|   10.22|          1|       31.37|\n",
            "|   6|              Tetris|      GB|1989|      Puzzle|            Nintendo|    23.2|    2.26|    4.22|       0.58|       30.26|\n",
            "|   7|New Super Mario B...|      DS|2006|    Platform|            Nintendo|   11.38|    9.23|     6.5|        2.9|       30.01|\n",
            "|   8|            Wii Play|     Wii|2006|        Misc|            Nintendo|   14.03|     9.2|    2.93|       2.85|       29.02|\n",
            "|   9|New Super Mario B...|     Wii|2009|    Platform|            Nintendo|   14.59|    7.06|     4.7|       2.26|       28.62|\n",
            "|  10|           Duck Hunt|     NES|1984|     Shooter|            Nintendo|   26.93|    0.63|    0.28|       0.47|       28.31|\n",
            "|  11|          Nintendogs|      DS|2005|  Simulation|            Nintendo|    9.07|      11|    1.93|       2.75|       24.76|\n",
            "|  12|       Mario Kart DS|      DS|2005|      Racing|            Nintendo|    9.81|    7.57|    4.13|       1.92|       23.42|\n",
            "|  13|Pokemon Gold/Poke...|      GB|1999|Role-Playing|            Nintendo|       9|    6.18|     7.2|       0.71|        23.1|\n",
            "|  14|             Wii Fit|     Wii|2007|      Sports|            Nintendo|    8.94|    8.03|     3.6|       2.15|       22.72|\n",
            "|  15|        Wii Fit Plus|     Wii|2009|      Sports|            Nintendo|    9.09|    8.59|    2.53|       1.79|          22|\n",
            "|  16|  Kinect Adventures!|    X360|2010|        Misc|Microsoft Game St...|   14.97|    4.94|    0.24|       1.67|       21.82|\n",
            "|  17|  Grand Theft Auto V|     PS3|2013|      Action|Take-Two Interactive|    7.01|    9.27|    0.97|       4.14|        21.4|\n",
            "|  18|Grand Theft Auto:...|     PS2|2004|      Action|Take-Two Interactive|    9.43|     0.4|    0.41|      10.57|       20.81|\n",
            "|  19|   Super Mario World|    SNES|1990|    Platform|            Nintendo|   12.78|    3.75|    3.54|       0.55|       20.61|\n",
            "+----+--------------------+--------+----+------------+--------------------+--------+--------+--------+-----------+------------+\n",
            "only showing top 20 rows\n",
            "\n"
          ],
          "name": "stdout"
        }
      ]
    },
    {
      "cell_type": "markdown",
      "metadata": {
        "id": "e5qbcPU8ExG6"
      },
      "source": [
        "Para auxiliar na visualização dos resultados, execute o paragrafo abaixo para definir a função display_df():"
      ]
    },
    {
      "cell_type": "code",
      "metadata": {
        "id": "RPDaaG_kEkZK"
      },
      "source": [
        "def display_df(df, n=20):\n",
        "    return df.limit(n).toPandas()"
      ],
      "execution_count": null,
      "outputs": []
    },
    {
      "cell_type": "code",
      "metadata": {
        "id": "p9QN8FWWEqFc",
        "colab": {
          "base_uri": "https://localhost:8080/",
          "height": 816
        },
        "outputId": "5d7629ae-4f47-4648-8d9f-944087dc8543"
      },
      "source": [
        "display_df(df)"
      ],
      "execution_count": null,
      "outputs": [
        {
          "output_type": "execute_result",
          "data": {
            "text/html": [
              "<div>\n",
              "<style scoped>\n",
              "    .dataframe tbody tr th:only-of-type {\n",
              "        vertical-align: middle;\n",
              "    }\n",
              "\n",
              "    .dataframe tbody tr th {\n",
              "        vertical-align: top;\n",
              "    }\n",
              "\n",
              "    .dataframe thead th {\n",
              "        text-align: right;\n",
              "    }\n",
              "</style>\n",
              "<table border=\"1\" class=\"dataframe\">\n",
              "  <thead>\n",
              "    <tr style=\"text-align: right;\">\n",
              "      <th></th>\n",
              "      <th>_c0</th>\n",
              "      <th>_c1</th>\n",
              "      <th>_c2</th>\n",
              "      <th>_c3</th>\n",
              "      <th>_c4</th>\n",
              "      <th>_c5</th>\n",
              "      <th>_c6</th>\n",
              "      <th>_c7</th>\n",
              "      <th>_c8</th>\n",
              "      <th>_c9</th>\n",
              "      <th>_c10</th>\n",
              "    </tr>\n",
              "  </thead>\n",
              "  <tbody>\n",
              "    <tr>\n",
              "      <th>0</th>\n",
              "      <td>Rank</td>\n",
              "      <td>Name</td>\n",
              "      <td>Platform</td>\n",
              "      <td>Year</td>\n",
              "      <td>Genre</td>\n",
              "      <td>Publisher</td>\n",
              "      <td>NA_Sales</td>\n",
              "      <td>EU_Sales</td>\n",
              "      <td>JP_Sales</td>\n",
              "      <td>Other_Sales</td>\n",
              "      <td>Global_Sales</td>\n",
              "    </tr>\n",
              "    <tr>\n",
              "      <th>1</th>\n",
              "      <td>1</td>\n",
              "      <td>Wii Sports</td>\n",
              "      <td>Wii</td>\n",
              "      <td>2006</td>\n",
              "      <td>Sports</td>\n",
              "      <td>Nintendo</td>\n",
              "      <td>41.49</td>\n",
              "      <td>29.02</td>\n",
              "      <td>3.77</td>\n",
              "      <td>8.46</td>\n",
              "      <td>82.74</td>\n",
              "    </tr>\n",
              "    <tr>\n",
              "      <th>2</th>\n",
              "      <td>2</td>\n",
              "      <td>Super Mario Bros.</td>\n",
              "      <td>NES</td>\n",
              "      <td>1985</td>\n",
              "      <td>Platform</td>\n",
              "      <td>Nintendo</td>\n",
              "      <td>29.08</td>\n",
              "      <td>3.58</td>\n",
              "      <td>6.81</td>\n",
              "      <td>0.77</td>\n",
              "      <td>40.24</td>\n",
              "    </tr>\n",
              "    <tr>\n",
              "      <th>3</th>\n",
              "      <td>3</td>\n",
              "      <td>Mario Kart Wii</td>\n",
              "      <td>Wii</td>\n",
              "      <td>2008</td>\n",
              "      <td>Racing</td>\n",
              "      <td>Nintendo</td>\n",
              "      <td>15.85</td>\n",
              "      <td>12.88</td>\n",
              "      <td>3.79</td>\n",
              "      <td>3.31</td>\n",
              "      <td>35.82</td>\n",
              "    </tr>\n",
              "    <tr>\n",
              "      <th>4</th>\n",
              "      <td>4</td>\n",
              "      <td>Wii Sports Resort</td>\n",
              "      <td>Wii</td>\n",
              "      <td>2009</td>\n",
              "      <td>Sports</td>\n",
              "      <td>Nintendo</td>\n",
              "      <td>15.75</td>\n",
              "      <td>11.01</td>\n",
              "      <td>3.28</td>\n",
              "      <td>2.96</td>\n",
              "      <td>33</td>\n",
              "    </tr>\n",
              "    <tr>\n",
              "      <th>5</th>\n",
              "      <td>5</td>\n",
              "      <td>Pokemon Red/Pokemon Blue</td>\n",
              "      <td>GB</td>\n",
              "      <td>1996</td>\n",
              "      <td>Role-Playing</td>\n",
              "      <td>Nintendo</td>\n",
              "      <td>11.27</td>\n",
              "      <td>8.89</td>\n",
              "      <td>10.22</td>\n",
              "      <td>1</td>\n",
              "      <td>31.37</td>\n",
              "    </tr>\n",
              "    <tr>\n",
              "      <th>6</th>\n",
              "      <td>6</td>\n",
              "      <td>Tetris</td>\n",
              "      <td>GB</td>\n",
              "      <td>1989</td>\n",
              "      <td>Puzzle</td>\n",
              "      <td>Nintendo</td>\n",
              "      <td>23.2</td>\n",
              "      <td>2.26</td>\n",
              "      <td>4.22</td>\n",
              "      <td>0.58</td>\n",
              "      <td>30.26</td>\n",
              "    </tr>\n",
              "    <tr>\n",
              "      <th>7</th>\n",
              "      <td>7</td>\n",
              "      <td>New Super Mario Bros.</td>\n",
              "      <td>DS</td>\n",
              "      <td>2006</td>\n",
              "      <td>Platform</td>\n",
              "      <td>Nintendo</td>\n",
              "      <td>11.38</td>\n",
              "      <td>9.23</td>\n",
              "      <td>6.5</td>\n",
              "      <td>2.9</td>\n",
              "      <td>30.01</td>\n",
              "    </tr>\n",
              "    <tr>\n",
              "      <th>8</th>\n",
              "      <td>8</td>\n",
              "      <td>Wii Play</td>\n",
              "      <td>Wii</td>\n",
              "      <td>2006</td>\n",
              "      <td>Misc</td>\n",
              "      <td>Nintendo</td>\n",
              "      <td>14.03</td>\n",
              "      <td>9.2</td>\n",
              "      <td>2.93</td>\n",
              "      <td>2.85</td>\n",
              "      <td>29.02</td>\n",
              "    </tr>\n",
              "    <tr>\n",
              "      <th>9</th>\n",
              "      <td>9</td>\n",
              "      <td>New Super Mario Bros. Wii</td>\n",
              "      <td>Wii</td>\n",
              "      <td>2009</td>\n",
              "      <td>Platform</td>\n",
              "      <td>Nintendo</td>\n",
              "      <td>14.59</td>\n",
              "      <td>7.06</td>\n",
              "      <td>4.7</td>\n",
              "      <td>2.26</td>\n",
              "      <td>28.62</td>\n",
              "    </tr>\n",
              "    <tr>\n",
              "      <th>10</th>\n",
              "      <td>10</td>\n",
              "      <td>Duck Hunt</td>\n",
              "      <td>NES</td>\n",
              "      <td>1984</td>\n",
              "      <td>Shooter</td>\n",
              "      <td>Nintendo</td>\n",
              "      <td>26.93</td>\n",
              "      <td>0.63</td>\n",
              "      <td>0.28</td>\n",
              "      <td>0.47</td>\n",
              "      <td>28.31</td>\n",
              "    </tr>\n",
              "    <tr>\n",
              "      <th>11</th>\n",
              "      <td>11</td>\n",
              "      <td>Nintendogs</td>\n",
              "      <td>DS</td>\n",
              "      <td>2005</td>\n",
              "      <td>Simulation</td>\n",
              "      <td>Nintendo</td>\n",
              "      <td>9.07</td>\n",
              "      <td>11</td>\n",
              "      <td>1.93</td>\n",
              "      <td>2.75</td>\n",
              "      <td>24.76</td>\n",
              "    </tr>\n",
              "    <tr>\n",
              "      <th>12</th>\n",
              "      <td>12</td>\n",
              "      <td>Mario Kart DS</td>\n",
              "      <td>DS</td>\n",
              "      <td>2005</td>\n",
              "      <td>Racing</td>\n",
              "      <td>Nintendo</td>\n",
              "      <td>9.81</td>\n",
              "      <td>7.57</td>\n",
              "      <td>4.13</td>\n",
              "      <td>1.92</td>\n",
              "      <td>23.42</td>\n",
              "    </tr>\n",
              "    <tr>\n",
              "      <th>13</th>\n",
              "      <td>13</td>\n",
              "      <td>Pokemon Gold/Pokemon Silver</td>\n",
              "      <td>GB</td>\n",
              "      <td>1999</td>\n",
              "      <td>Role-Playing</td>\n",
              "      <td>Nintendo</td>\n",
              "      <td>9</td>\n",
              "      <td>6.18</td>\n",
              "      <td>7.2</td>\n",
              "      <td>0.71</td>\n",
              "      <td>23.1</td>\n",
              "    </tr>\n",
              "    <tr>\n",
              "      <th>14</th>\n",
              "      <td>14</td>\n",
              "      <td>Wii Fit</td>\n",
              "      <td>Wii</td>\n",
              "      <td>2007</td>\n",
              "      <td>Sports</td>\n",
              "      <td>Nintendo</td>\n",
              "      <td>8.94</td>\n",
              "      <td>8.03</td>\n",
              "      <td>3.6</td>\n",
              "      <td>2.15</td>\n",
              "      <td>22.72</td>\n",
              "    </tr>\n",
              "    <tr>\n",
              "      <th>15</th>\n",
              "      <td>15</td>\n",
              "      <td>Wii Fit Plus</td>\n",
              "      <td>Wii</td>\n",
              "      <td>2009</td>\n",
              "      <td>Sports</td>\n",
              "      <td>Nintendo</td>\n",
              "      <td>9.09</td>\n",
              "      <td>8.59</td>\n",
              "      <td>2.53</td>\n",
              "      <td>1.79</td>\n",
              "      <td>22</td>\n",
              "    </tr>\n",
              "    <tr>\n",
              "      <th>16</th>\n",
              "      <td>16</td>\n",
              "      <td>Kinect Adventures!</td>\n",
              "      <td>X360</td>\n",
              "      <td>2010</td>\n",
              "      <td>Misc</td>\n",
              "      <td>Microsoft Game Studios</td>\n",
              "      <td>14.97</td>\n",
              "      <td>4.94</td>\n",
              "      <td>0.24</td>\n",
              "      <td>1.67</td>\n",
              "      <td>21.82</td>\n",
              "    </tr>\n",
              "    <tr>\n",
              "      <th>17</th>\n",
              "      <td>17</td>\n",
              "      <td>Grand Theft Auto V</td>\n",
              "      <td>PS3</td>\n",
              "      <td>2013</td>\n",
              "      <td>Action</td>\n",
              "      <td>Take-Two Interactive</td>\n",
              "      <td>7.01</td>\n",
              "      <td>9.27</td>\n",
              "      <td>0.97</td>\n",
              "      <td>4.14</td>\n",
              "      <td>21.4</td>\n",
              "    </tr>\n",
              "    <tr>\n",
              "      <th>18</th>\n",
              "      <td>18</td>\n",
              "      <td>Grand Theft Auto: San Andreas</td>\n",
              "      <td>PS2</td>\n",
              "      <td>2004</td>\n",
              "      <td>Action</td>\n",
              "      <td>Take-Two Interactive</td>\n",
              "      <td>9.43</td>\n",
              "      <td>0.4</td>\n",
              "      <td>0.41</td>\n",
              "      <td>10.57</td>\n",
              "      <td>20.81</td>\n",
              "    </tr>\n",
              "    <tr>\n",
              "      <th>19</th>\n",
              "      <td>19</td>\n",
              "      <td>Super Mario World</td>\n",
              "      <td>SNES</td>\n",
              "      <td>1990</td>\n",
              "      <td>Platform</td>\n",
              "      <td>Nintendo</td>\n",
              "      <td>12.78</td>\n",
              "      <td>3.75</td>\n",
              "      <td>3.54</td>\n",
              "      <td>0.55</td>\n",
              "      <td>20.61</td>\n",
              "    </tr>\n",
              "  </tbody>\n",
              "</table>\n",
              "</div>"
            ],
            "text/plain": [
              "     _c0                            _c1  ...          _c9          _c10\n",
              "0   Rank                           Name  ...  Other_Sales  Global_Sales\n",
              "1      1                     Wii Sports  ...         8.46         82.74\n",
              "2      2              Super Mario Bros.  ...         0.77         40.24\n",
              "3      3                 Mario Kart Wii  ...         3.31         35.82\n",
              "4      4              Wii Sports Resort  ...         2.96            33\n",
              "5      5       Pokemon Red/Pokemon Blue  ...            1         31.37\n",
              "6      6                         Tetris  ...         0.58         30.26\n",
              "7      7          New Super Mario Bros.  ...          2.9         30.01\n",
              "8      8                       Wii Play  ...         2.85         29.02\n",
              "9      9      New Super Mario Bros. Wii  ...         2.26         28.62\n",
              "10    10                      Duck Hunt  ...         0.47         28.31\n",
              "11    11                     Nintendogs  ...         2.75         24.76\n",
              "12    12                  Mario Kart DS  ...         1.92         23.42\n",
              "13    13    Pokemon Gold/Pokemon Silver  ...         0.71          23.1\n",
              "14    14                        Wii Fit  ...         2.15         22.72\n",
              "15    15                   Wii Fit Plus  ...         1.79            22\n",
              "16    16             Kinect Adventures!  ...         1.67         21.82\n",
              "17    17             Grand Theft Auto V  ...         4.14          21.4\n",
              "18    18  Grand Theft Auto: San Andreas  ...        10.57         20.81\n",
              "19    19              Super Mario World  ...         0.55         20.61\n",
              "\n",
              "[20 rows x 11 columns]"
            ]
          },
          "metadata": {
            "tags": []
          },
          "execution_count": 41
        }
      ]
    },
    {
      "cell_type": "markdown",
      "metadata": {
        "id": "djK_7bA0DxKM"
      },
      "source": [
        "2) Leia o arquivo vgsales.csv com um schema pré-definido e header ativado:\n",
        "\n",
        "Obs.: considere todos os valores numéricos como inteiros para esse exercício\n"
      ]
    },
    {
      "cell_type": "markdown",
      "metadata": {
        "id": "gWryZBooCpef"
      },
      "source": [
        "Utilizando um schema definido pelo usuário"
      ]
    },
    {
      "cell_type": "code",
      "metadata": {
        "id": "jA6gFJd2Cmkh"
      },
      "source": [
        "from pyspark.sql.types import StructType, StructField, StringType, IntegerType, DoubleType\n",
        "\n",
        "schema = StructType([\n",
        "    StructField(\"new_rank\", IntegerType(), True),\n",
        "    StructField(\"new_name\", StringType(), True),\n",
        "    StructField(\"new_platform\", StringType(), True),\n",
        "    StructField(\"new_year\", IntegerType(), True),\n",
        "    StructField(\"new_genre\", StringType(), True),\n",
        "    StructField(\"new_publisher\", StringType(), True),\n",
        "    StructField(\"new_na_sales\", IntegerType(), True),\n",
        "    StructField(\"new_eu_sales\", IntegerType(), True),\n",
        "    StructField(\"new_jp_sales\", IntegerType(), True),\n",
        "    StructField(\"new_other_sales\", IntegerType(), True),\n",
        "    StructField(\"new_global_sales\", IntegerType(), True)\n",
        "])\n"
      ],
      "execution_count": null,
      "outputs": []
    },
    {
      "cell_type": "code",
      "metadata": {
        "id": "eej9IqrmCr_l"
      },
      "source": [
        "df = spark.read.load(data_dir, format=\"csv\", schema=schema, header=\"true\")"
      ],
      "execution_count": null,
      "outputs": []
    },
    {
      "cell_type": "code",
      "metadata": {
        "id": "ZPGLZ7sOC8di",
        "colab": {
          "base_uri": "https://localhost:8080/"
        },
        "outputId": "2af482a2-76ab-45ae-8647-8190cd7af62b"
      },
      "source": [
        "df.printSchema()"
      ],
      "execution_count": null,
      "outputs": [
        {
          "output_type": "stream",
          "text": [
            "root\n",
            " |-- new_rank: integer (nullable = true)\n",
            " |-- new_name: string (nullable = true)\n",
            " |-- new_platform: string (nullable = true)\n",
            " |-- new_year: integer (nullable = true)\n",
            " |-- new_genre: string (nullable = true)\n",
            " |-- new_publisher: string (nullable = true)\n",
            " |-- new_na_sales: integer (nullable = true)\n",
            " |-- new_eu_sales: integer (nullable = true)\n",
            " |-- new_jp_sales: integer (nullable = true)\n",
            " |-- new_other_sales: integer (nullable = true)\n",
            " |-- new_global_sales: integer (nullable = true)\n",
            "\n"
          ],
          "name": "stdout"
        }
      ]
    },
    {
      "cell_type": "code",
      "metadata": {
        "id": "zvrlnSHEC90h",
        "colab": {
          "base_uri": "https://localhost:8080/"
        },
        "outputId": "cedd7262-0f5a-4e7b-f640-d0b0a14f9134"
      },
      "source": [
        "df.show()"
      ],
      "execution_count": null,
      "outputs": [
        {
          "output_type": "stream",
          "text": [
            "+--------+--------------------+------------+--------+------------+--------------------+------------+------------+------------+---------------+----------------+\n",
            "|new_rank|            new_name|new_platform|new_year|   new_genre|       new_publisher|new_na_sales|new_eu_sales|new_jp_sales|new_other_sales|new_global_sales|\n",
            "+--------+--------------------+------------+--------+------------+--------------------+------------+------------+------------+---------------+----------------+\n",
            "|       1|          Wii Sports|         Wii|    2006|      Sports|            Nintendo|        null|        null|        null|           null|            null|\n",
            "|       2|   Super Mario Bros.|         NES|    1985|    Platform|            Nintendo|        null|        null|        null|           null|            null|\n",
            "|       3|      Mario Kart Wii|         Wii|    2008|      Racing|            Nintendo|        null|        null|        null|           null|            null|\n",
            "|       4|   Wii Sports Resort|         Wii|    2009|      Sports|            Nintendo|        null|        null|        null|           null|              33|\n",
            "|       5|Pokemon Red/Pokem...|          GB|    1996|Role-Playing|            Nintendo|        null|        null|        null|              1|            null|\n",
            "|       6|              Tetris|          GB|    1989|      Puzzle|            Nintendo|        null|        null|        null|           null|            null|\n",
            "|       7|New Super Mario B...|          DS|    2006|    Platform|            Nintendo|        null|        null|        null|           null|            null|\n",
            "|       8|            Wii Play|         Wii|    2006|        Misc|            Nintendo|        null|        null|        null|           null|            null|\n",
            "|       9|New Super Mario B...|         Wii|    2009|    Platform|            Nintendo|        null|        null|        null|           null|            null|\n",
            "|      10|           Duck Hunt|         NES|    1984|     Shooter|            Nintendo|        null|        null|        null|           null|            null|\n",
            "|      11|          Nintendogs|          DS|    2005|  Simulation|            Nintendo|        null|          11|        null|           null|            null|\n",
            "|      12|       Mario Kart DS|          DS|    2005|      Racing|            Nintendo|        null|        null|        null|           null|            null|\n",
            "|      13|Pokemon Gold/Poke...|          GB|    1999|Role-Playing|            Nintendo|           9|        null|        null|           null|            null|\n",
            "|      14|             Wii Fit|         Wii|    2007|      Sports|            Nintendo|        null|        null|        null|           null|            null|\n",
            "|      15|        Wii Fit Plus|         Wii|    2009|      Sports|            Nintendo|        null|        null|        null|           null|              22|\n",
            "|      16|  Kinect Adventures!|        X360|    2010|        Misc|Microsoft Game St...|        null|        null|        null|           null|            null|\n",
            "|      17|  Grand Theft Auto V|         PS3|    2013|      Action|Take-Two Interactive|        null|        null|        null|           null|            null|\n",
            "|      18|Grand Theft Auto:...|         PS2|    2004|      Action|Take-Two Interactive|        null|        null|        null|           null|            null|\n",
            "|      19|   Super Mario World|        SNES|    1990|    Platform|            Nintendo|        null|        null|        null|           null|            null|\n",
            "|      20|Brain Age: Train ...|          DS|    2005|        Misc|            Nintendo|        null|        null|        null|           null|            null|\n",
            "+--------+--------------------+------------+--------+------------+--------------------+------------+------------+------------+---------------+----------------+\n",
            "only showing top 20 rows\n",
            "\n"
          ],
          "name": "stdout"
        }
      ]
    },
    {
      "cell_type": "markdown",
      "metadata": {
        "id": "uSJ0mN3aDEY3"
      },
      "source": [
        "Para auxiliar na visualização dos resultados, execute o paragrafo abaixo para definir a função display_df():"
      ]
    },
    {
      "cell_type": "code",
      "metadata": {
        "id": "DSlk6yNbC_r5"
      },
      "source": [
        "def display_df(df, n=20):\n",
        "    return df.limit(n).toPandas()"
      ],
      "execution_count": null,
      "outputs": []
    },
    {
      "cell_type": "code",
      "metadata": {
        "id": "lhss6zVlDGcF",
        "colab": {
          "base_uri": "https://localhost:8080/",
          "height": 992
        },
        "outputId": "cfa3520c-507d-47bc-d02d-45a67418ebd6"
      },
      "source": [
        "display_df(df)\n",
        "#df.show()"
      ],
      "execution_count": null,
      "outputs": [
        {
          "output_type": "execute_result",
          "data": {
            "text/html": [
              "<div>\n",
              "<style scoped>\n",
              "    .dataframe tbody tr th:only-of-type {\n",
              "        vertical-align: middle;\n",
              "    }\n",
              "\n",
              "    .dataframe tbody tr th {\n",
              "        vertical-align: top;\n",
              "    }\n",
              "\n",
              "    .dataframe thead th {\n",
              "        text-align: right;\n",
              "    }\n",
              "</style>\n",
              "<table border=\"1\" class=\"dataframe\">\n",
              "  <thead>\n",
              "    <tr style=\"text-align: right;\">\n",
              "      <th></th>\n",
              "      <th>new_rank</th>\n",
              "      <th>new_name</th>\n",
              "      <th>new_platform</th>\n",
              "      <th>new_year</th>\n",
              "      <th>new_genre</th>\n",
              "      <th>new_publisher</th>\n",
              "      <th>new_na_sales</th>\n",
              "      <th>new_eu_sales</th>\n",
              "      <th>new_jp_sales</th>\n",
              "      <th>new_other_sales</th>\n",
              "      <th>new_global_sales</th>\n",
              "    </tr>\n",
              "  </thead>\n",
              "  <tbody>\n",
              "    <tr>\n",
              "      <th>0</th>\n",
              "      <td>1</td>\n",
              "      <td>Wii Sports</td>\n",
              "      <td>Wii</td>\n",
              "      <td>2006</td>\n",
              "      <td>Sports</td>\n",
              "      <td>Nintendo</td>\n",
              "      <td>NaN</td>\n",
              "      <td>NaN</td>\n",
              "      <td>NaN</td>\n",
              "      <td>NaN</td>\n",
              "      <td>NaN</td>\n",
              "    </tr>\n",
              "    <tr>\n",
              "      <th>1</th>\n",
              "      <td>2</td>\n",
              "      <td>Super Mario Bros.</td>\n",
              "      <td>NES</td>\n",
              "      <td>1985</td>\n",
              "      <td>Platform</td>\n",
              "      <td>Nintendo</td>\n",
              "      <td>NaN</td>\n",
              "      <td>NaN</td>\n",
              "      <td>NaN</td>\n",
              "      <td>NaN</td>\n",
              "      <td>NaN</td>\n",
              "    </tr>\n",
              "    <tr>\n",
              "      <th>2</th>\n",
              "      <td>3</td>\n",
              "      <td>Mario Kart Wii</td>\n",
              "      <td>Wii</td>\n",
              "      <td>2008</td>\n",
              "      <td>Racing</td>\n",
              "      <td>Nintendo</td>\n",
              "      <td>NaN</td>\n",
              "      <td>NaN</td>\n",
              "      <td>NaN</td>\n",
              "      <td>NaN</td>\n",
              "      <td>NaN</td>\n",
              "    </tr>\n",
              "    <tr>\n",
              "      <th>3</th>\n",
              "      <td>4</td>\n",
              "      <td>Wii Sports Resort</td>\n",
              "      <td>Wii</td>\n",
              "      <td>2009</td>\n",
              "      <td>Sports</td>\n",
              "      <td>Nintendo</td>\n",
              "      <td>NaN</td>\n",
              "      <td>NaN</td>\n",
              "      <td>NaN</td>\n",
              "      <td>NaN</td>\n",
              "      <td>33.0</td>\n",
              "    </tr>\n",
              "    <tr>\n",
              "      <th>4</th>\n",
              "      <td>5</td>\n",
              "      <td>Pokemon Red/Pokemon Blue</td>\n",
              "      <td>GB</td>\n",
              "      <td>1996</td>\n",
              "      <td>Role-Playing</td>\n",
              "      <td>Nintendo</td>\n",
              "      <td>NaN</td>\n",
              "      <td>NaN</td>\n",
              "      <td>NaN</td>\n",
              "      <td>1.0</td>\n",
              "      <td>NaN</td>\n",
              "    </tr>\n",
              "    <tr>\n",
              "      <th>5</th>\n",
              "      <td>6</td>\n",
              "      <td>Tetris</td>\n",
              "      <td>GB</td>\n",
              "      <td>1989</td>\n",
              "      <td>Puzzle</td>\n",
              "      <td>Nintendo</td>\n",
              "      <td>NaN</td>\n",
              "      <td>NaN</td>\n",
              "      <td>NaN</td>\n",
              "      <td>NaN</td>\n",
              "      <td>NaN</td>\n",
              "    </tr>\n",
              "    <tr>\n",
              "      <th>6</th>\n",
              "      <td>7</td>\n",
              "      <td>New Super Mario Bros.</td>\n",
              "      <td>DS</td>\n",
              "      <td>2006</td>\n",
              "      <td>Platform</td>\n",
              "      <td>Nintendo</td>\n",
              "      <td>NaN</td>\n",
              "      <td>NaN</td>\n",
              "      <td>NaN</td>\n",
              "      <td>NaN</td>\n",
              "      <td>NaN</td>\n",
              "    </tr>\n",
              "    <tr>\n",
              "      <th>7</th>\n",
              "      <td>8</td>\n",
              "      <td>Wii Play</td>\n",
              "      <td>Wii</td>\n",
              "      <td>2006</td>\n",
              "      <td>Misc</td>\n",
              "      <td>Nintendo</td>\n",
              "      <td>NaN</td>\n",
              "      <td>NaN</td>\n",
              "      <td>NaN</td>\n",
              "      <td>NaN</td>\n",
              "      <td>NaN</td>\n",
              "    </tr>\n",
              "    <tr>\n",
              "      <th>8</th>\n",
              "      <td>9</td>\n",
              "      <td>New Super Mario Bros. Wii</td>\n",
              "      <td>Wii</td>\n",
              "      <td>2009</td>\n",
              "      <td>Platform</td>\n",
              "      <td>Nintendo</td>\n",
              "      <td>NaN</td>\n",
              "      <td>NaN</td>\n",
              "      <td>NaN</td>\n",
              "      <td>NaN</td>\n",
              "      <td>NaN</td>\n",
              "    </tr>\n",
              "    <tr>\n",
              "      <th>9</th>\n",
              "      <td>10</td>\n",
              "      <td>Duck Hunt</td>\n",
              "      <td>NES</td>\n",
              "      <td>1984</td>\n",
              "      <td>Shooter</td>\n",
              "      <td>Nintendo</td>\n",
              "      <td>NaN</td>\n",
              "      <td>NaN</td>\n",
              "      <td>NaN</td>\n",
              "      <td>NaN</td>\n",
              "      <td>NaN</td>\n",
              "    </tr>\n",
              "    <tr>\n",
              "      <th>10</th>\n",
              "      <td>11</td>\n",
              "      <td>Nintendogs</td>\n",
              "      <td>DS</td>\n",
              "      <td>2005</td>\n",
              "      <td>Simulation</td>\n",
              "      <td>Nintendo</td>\n",
              "      <td>NaN</td>\n",
              "      <td>11.0</td>\n",
              "      <td>NaN</td>\n",
              "      <td>NaN</td>\n",
              "      <td>NaN</td>\n",
              "    </tr>\n",
              "    <tr>\n",
              "      <th>11</th>\n",
              "      <td>12</td>\n",
              "      <td>Mario Kart DS</td>\n",
              "      <td>DS</td>\n",
              "      <td>2005</td>\n",
              "      <td>Racing</td>\n",
              "      <td>Nintendo</td>\n",
              "      <td>NaN</td>\n",
              "      <td>NaN</td>\n",
              "      <td>NaN</td>\n",
              "      <td>NaN</td>\n",
              "      <td>NaN</td>\n",
              "    </tr>\n",
              "    <tr>\n",
              "      <th>12</th>\n",
              "      <td>13</td>\n",
              "      <td>Pokemon Gold/Pokemon Silver</td>\n",
              "      <td>GB</td>\n",
              "      <td>1999</td>\n",
              "      <td>Role-Playing</td>\n",
              "      <td>Nintendo</td>\n",
              "      <td>9.0</td>\n",
              "      <td>NaN</td>\n",
              "      <td>NaN</td>\n",
              "      <td>NaN</td>\n",
              "      <td>NaN</td>\n",
              "    </tr>\n",
              "    <tr>\n",
              "      <th>13</th>\n",
              "      <td>14</td>\n",
              "      <td>Wii Fit</td>\n",
              "      <td>Wii</td>\n",
              "      <td>2007</td>\n",
              "      <td>Sports</td>\n",
              "      <td>Nintendo</td>\n",
              "      <td>NaN</td>\n",
              "      <td>NaN</td>\n",
              "      <td>NaN</td>\n",
              "      <td>NaN</td>\n",
              "      <td>NaN</td>\n",
              "    </tr>\n",
              "    <tr>\n",
              "      <th>14</th>\n",
              "      <td>15</td>\n",
              "      <td>Wii Fit Plus</td>\n",
              "      <td>Wii</td>\n",
              "      <td>2009</td>\n",
              "      <td>Sports</td>\n",
              "      <td>Nintendo</td>\n",
              "      <td>NaN</td>\n",
              "      <td>NaN</td>\n",
              "      <td>NaN</td>\n",
              "      <td>NaN</td>\n",
              "      <td>22.0</td>\n",
              "    </tr>\n",
              "    <tr>\n",
              "      <th>15</th>\n",
              "      <td>16</td>\n",
              "      <td>Kinect Adventures!</td>\n",
              "      <td>X360</td>\n",
              "      <td>2010</td>\n",
              "      <td>Misc</td>\n",
              "      <td>Microsoft Game Studios</td>\n",
              "      <td>NaN</td>\n",
              "      <td>NaN</td>\n",
              "      <td>NaN</td>\n",
              "      <td>NaN</td>\n",
              "      <td>NaN</td>\n",
              "    </tr>\n",
              "    <tr>\n",
              "      <th>16</th>\n",
              "      <td>17</td>\n",
              "      <td>Grand Theft Auto V</td>\n",
              "      <td>PS3</td>\n",
              "      <td>2013</td>\n",
              "      <td>Action</td>\n",
              "      <td>Take-Two Interactive</td>\n",
              "      <td>NaN</td>\n",
              "      <td>NaN</td>\n",
              "      <td>NaN</td>\n",
              "      <td>NaN</td>\n",
              "      <td>NaN</td>\n",
              "    </tr>\n",
              "    <tr>\n",
              "      <th>17</th>\n",
              "      <td>18</td>\n",
              "      <td>Grand Theft Auto: San Andreas</td>\n",
              "      <td>PS2</td>\n",
              "      <td>2004</td>\n",
              "      <td>Action</td>\n",
              "      <td>Take-Two Interactive</td>\n",
              "      <td>NaN</td>\n",
              "      <td>NaN</td>\n",
              "      <td>NaN</td>\n",
              "      <td>NaN</td>\n",
              "      <td>NaN</td>\n",
              "    </tr>\n",
              "    <tr>\n",
              "      <th>18</th>\n",
              "      <td>19</td>\n",
              "      <td>Super Mario World</td>\n",
              "      <td>SNES</td>\n",
              "      <td>1990</td>\n",
              "      <td>Platform</td>\n",
              "      <td>Nintendo</td>\n",
              "      <td>NaN</td>\n",
              "      <td>NaN</td>\n",
              "      <td>NaN</td>\n",
              "      <td>NaN</td>\n",
              "      <td>NaN</td>\n",
              "    </tr>\n",
              "    <tr>\n",
              "      <th>19</th>\n",
              "      <td>20</td>\n",
              "      <td>Brain Age: Train Your Brain in Minutes a Day</td>\n",
              "      <td>DS</td>\n",
              "      <td>2005</td>\n",
              "      <td>Misc</td>\n",
              "      <td>Nintendo</td>\n",
              "      <td>NaN</td>\n",
              "      <td>NaN</td>\n",
              "      <td>NaN</td>\n",
              "      <td>NaN</td>\n",
              "      <td>NaN</td>\n",
              "    </tr>\n",
              "  </tbody>\n",
              "</table>\n",
              "</div>"
            ],
            "text/plain": [
              "    new_rank  ... new_global_sales\n",
              "0          1  ...              NaN\n",
              "1          2  ...              NaN\n",
              "2          3  ...              NaN\n",
              "3          4  ...             33.0\n",
              "4          5  ...              NaN\n",
              "5          6  ...              NaN\n",
              "6          7  ...              NaN\n",
              "7          8  ...              NaN\n",
              "8          9  ...              NaN\n",
              "9         10  ...              NaN\n",
              "10        11  ...              NaN\n",
              "11        12  ...              NaN\n",
              "12        13  ...              NaN\n",
              "13        14  ...              NaN\n",
              "14        15  ...             22.0\n",
              "15        16  ...              NaN\n",
              "16        17  ...              NaN\n",
              "17        18  ...              NaN\n",
              "18        19  ...              NaN\n",
              "19        20  ...              NaN\n",
              "\n",
              "[20 rows x 11 columns]"
            ]
          },
          "metadata": {
            "tags": []
          },
          "execution_count": 47
        }
      ]
    },
    {
      "cell_type": "markdown",
      "metadata": {
        "id": "xjhKffJYNGor"
      },
      "source": [
        "# Aula 2 - Transformações e ações com Dataframes"
      ]
    },
    {
      "cell_type": "markdown",
      "metadata": {
        "id": "N-yW1YxuNPpX"
      },
      "source": [
        "# Transformações e ações com Dataframes\n",
        "Nessa aula, daremos passaremos sobre o que vem a ser transformação e ação. Veremos como esses conceitos são utilizados se tratando dos Dataframes e quais ações são possíveis de serem realizadas utilizando SparkSQL."
      ]
    },
    {
      "cell_type": "markdown",
      "metadata": {
        "id": "JouH40JaNUen"
      },
      "source": [
        "## Pré-requisitos:\n",
        "Instalar as bibliotecas `pandas` e `matplotlib`:\n"
      ]
    },
    {
      "cell_type": "code",
      "metadata": {
        "id": "gtObcLp1NX1Z",
        "colab": {
          "base_uri": "https://localhost:8080/"
        },
        "outputId": "702de4ae-ad23-4ff4-a173-72889f0e0c9f"
      },
      "source": [
        "!pip install pandas\n",
        "!pip install matplotlib"
      ],
      "execution_count": null,
      "outputs": [
        {
          "output_type": "stream",
          "text": [
            "Requirement already satisfied: pandas in /usr/local/lib/python3.6/dist-packages (1.1.4)\n",
            "Requirement already satisfied: python-dateutil>=2.7.3 in /usr/local/lib/python3.6/dist-packages (from pandas) (2.8.1)\n",
            "Requirement already satisfied: numpy>=1.15.4 in /usr/local/lib/python3.6/dist-packages (from pandas) (1.18.5)\n",
            "Requirement already satisfied: pytz>=2017.2 in /usr/local/lib/python3.6/dist-packages (from pandas) (2018.9)\n",
            "Requirement already satisfied: six>=1.5 in /usr/local/lib/python3.6/dist-packages (from python-dateutil>=2.7.3->pandas) (1.15.0)\n",
            "Requirement already satisfied: matplotlib in /usr/local/lib/python3.6/dist-packages (3.2.2)\n",
            "Requirement already satisfied: numpy>=1.11 in /usr/local/lib/python3.6/dist-packages (from matplotlib) (1.18.5)\n",
            "Requirement already satisfied: kiwisolver>=1.0.1 in /usr/local/lib/python3.6/dist-packages (from matplotlib) (1.3.1)\n",
            "Requirement already satisfied: pyparsing!=2.0.4,!=2.1.2,!=2.1.6,>=2.0.1 in /usr/local/lib/python3.6/dist-packages (from matplotlib) (2.4.7)\n",
            "Requirement already satisfied: cycler>=0.10 in /usr/local/lib/python3.6/dist-packages (from matplotlib) (0.10.0)\n",
            "Requirement already satisfied: python-dateutil>=2.1 in /usr/local/lib/python3.6/dist-packages (from matplotlib) (2.8.1)\n",
            "Requirement already satisfied: six in /usr/local/lib/python3.6/dist-packages (from cycler>=0.10->matplotlib) (1.15.0)\n"
          ],
          "name": "stdout"
        }
      ]
    },
    {
      "cell_type": "markdown",
      "metadata": {
        "id": "3OiDncKnNbw1"
      },
      "source": [
        "## Carregando o dataset videogamesales\n"
      ]
    },
    {
      "cell_type": "markdown",
      "metadata": {
        "id": "G3IZFaQ-NtpJ"
      },
      "source": [
        "Mais uma vez, importando local"
      ]
    },
    {
      "cell_type": "code",
      "metadata": {
        "id": "byWNjHFTNr7V"
      },
      "source": [
        "data_dir = \"vgsales.csv\""
      ],
      "execution_count": null,
      "outputs": []
    },
    {
      "cell_type": "markdown",
      "metadata": {
        "id": "6vJlT4C0Nxkd"
      },
      "source": [
        "Usando a opção para inferir o schema dos dados automaticamente"
      ]
    },
    {
      "cell_type": "code",
      "metadata": {
        "id": "wLzAP4wEN2Vi",
        "colab": {
          "base_uri": "https://localhost:8080/"
        },
        "outputId": "55053148-c150-456e-c9ef-660da9422d99"
      },
      "source": [
        "df = spark.read.load(data_dir, format=\"csv\", inferSchema=\"true\", header=\"true\")\n",
        "df.printSchema()"
      ],
      "execution_count": null,
      "outputs": [
        {
          "output_type": "stream",
          "text": [
            "root\n",
            " |-- Rank: integer (nullable = true)\n",
            " |-- Name: string (nullable = true)\n",
            " |-- Platform: string (nullable = true)\n",
            " |-- Year: string (nullable = true)\n",
            " |-- Genre: string (nullable = true)\n",
            " |-- Publisher: string (nullable = true)\n",
            " |-- NA_Sales: double (nullable = true)\n",
            " |-- EU_Sales: double (nullable = true)\n",
            " |-- JP_Sales: double (nullable = true)\n",
            " |-- Other_Sales: double (nullable = true)\n",
            " |-- Global_Sales: double (nullable = true)\n",
            "\n"
          ],
          "name": "stdout"
        }
      ]
    },
    {
      "cell_type": "code",
      "metadata": {
        "id": "3niB2V8TN5VI",
        "colab": {
          "base_uri": "https://localhost:8080/"
        },
        "outputId": "4d1b817e-e9f0-4730-eb53-b3b6b094b289"
      },
      "source": [
        "df.show()"
      ],
      "execution_count": null,
      "outputs": [
        {
          "output_type": "stream",
          "text": [
            "+----+--------------------+--------+----+------------+--------------------+--------+--------+--------+-----------+------------+\n",
            "|Rank|                Name|Platform|Year|       Genre|           Publisher|NA_Sales|EU_Sales|JP_Sales|Other_Sales|Global_Sales|\n",
            "+----+--------------------+--------+----+------------+--------------------+--------+--------+--------+-----------+------------+\n",
            "|   1|          Wii Sports|     Wii|2006|      Sports|            Nintendo|   41.49|   29.02|    3.77|       8.46|       82.74|\n",
            "|   2|   Super Mario Bros.|     NES|1985|    Platform|            Nintendo|   29.08|    3.58|    6.81|       0.77|       40.24|\n",
            "|   3|      Mario Kart Wii|     Wii|2008|      Racing|            Nintendo|   15.85|   12.88|    3.79|       3.31|       35.82|\n",
            "|   4|   Wii Sports Resort|     Wii|2009|      Sports|            Nintendo|   15.75|   11.01|    3.28|       2.96|        33.0|\n",
            "|   5|Pokemon Red/Pokem...|      GB|1996|Role-Playing|            Nintendo|   11.27|    8.89|   10.22|        1.0|       31.37|\n",
            "|   6|              Tetris|      GB|1989|      Puzzle|            Nintendo|    23.2|    2.26|    4.22|       0.58|       30.26|\n",
            "|   7|New Super Mario B...|      DS|2006|    Platform|            Nintendo|   11.38|    9.23|     6.5|        2.9|       30.01|\n",
            "|   8|            Wii Play|     Wii|2006|        Misc|            Nintendo|   14.03|     9.2|    2.93|       2.85|       29.02|\n",
            "|   9|New Super Mario B...|     Wii|2009|    Platform|            Nintendo|   14.59|    7.06|     4.7|       2.26|       28.62|\n",
            "|  10|           Duck Hunt|     NES|1984|     Shooter|            Nintendo|   26.93|    0.63|    0.28|       0.47|       28.31|\n",
            "|  11|          Nintendogs|      DS|2005|  Simulation|            Nintendo|    9.07|    11.0|    1.93|       2.75|       24.76|\n",
            "|  12|       Mario Kart DS|      DS|2005|      Racing|            Nintendo|    9.81|    7.57|    4.13|       1.92|       23.42|\n",
            "|  13|Pokemon Gold/Poke...|      GB|1999|Role-Playing|            Nintendo|     9.0|    6.18|     7.2|       0.71|        23.1|\n",
            "|  14|             Wii Fit|     Wii|2007|      Sports|            Nintendo|    8.94|    8.03|     3.6|       2.15|       22.72|\n",
            "|  15|        Wii Fit Plus|     Wii|2009|      Sports|            Nintendo|    9.09|    8.59|    2.53|       1.79|        22.0|\n",
            "|  16|  Kinect Adventures!|    X360|2010|        Misc|Microsoft Game St...|   14.97|    4.94|    0.24|       1.67|       21.82|\n",
            "|  17|  Grand Theft Auto V|     PS3|2013|      Action|Take-Two Interactive|    7.01|    9.27|    0.97|       4.14|        21.4|\n",
            "|  18|Grand Theft Auto:...|     PS2|2004|      Action|Take-Two Interactive|    9.43|     0.4|    0.41|      10.57|       20.81|\n",
            "|  19|   Super Mario World|    SNES|1990|    Platform|            Nintendo|   12.78|    3.75|    3.54|       0.55|       20.61|\n",
            "|  20|Brain Age: Train ...|      DS|2005|        Misc|            Nintendo|    4.75|    9.26|    4.16|       2.05|       20.22|\n",
            "+----+--------------------+--------+----+------------+--------------------+--------+--------+--------+-----------+------------+\n",
            "only showing top 20 rows\n",
            "\n"
          ],
          "name": "stdout"
        }
      ]
    },
    {
      "cell_type": "markdown",
      "metadata": {
        "id": "K4S4U-fyN-oy"
      },
      "source": [
        "Visualizar o dataset de uma forma mais amigável"
      ]
    },
    {
      "cell_type": "code",
      "metadata": {
        "id": "65uTwghjOBHf",
        "colab": {
          "base_uri": "https://localhost:8080/",
          "height": 224
        },
        "outputId": "aaa1a75e-7cec-4a27-86ae-2cbb32c7308b"
      },
      "source": [
        "df.toPandas().head()"
      ],
      "execution_count": null,
      "outputs": [
        {
          "output_type": "execute_result",
          "data": {
            "text/html": [
              "<div>\n",
              "<style scoped>\n",
              "    .dataframe tbody tr th:only-of-type {\n",
              "        vertical-align: middle;\n",
              "    }\n",
              "\n",
              "    .dataframe tbody tr th {\n",
              "        vertical-align: top;\n",
              "    }\n",
              "\n",
              "    .dataframe thead th {\n",
              "        text-align: right;\n",
              "    }\n",
              "</style>\n",
              "<table border=\"1\" class=\"dataframe\">\n",
              "  <thead>\n",
              "    <tr style=\"text-align: right;\">\n",
              "      <th></th>\n",
              "      <th>Rank</th>\n",
              "      <th>Name</th>\n",
              "      <th>Platform</th>\n",
              "      <th>Year</th>\n",
              "      <th>Genre</th>\n",
              "      <th>Publisher</th>\n",
              "      <th>NA_Sales</th>\n",
              "      <th>EU_Sales</th>\n",
              "      <th>JP_Sales</th>\n",
              "      <th>Other_Sales</th>\n",
              "      <th>Global_Sales</th>\n",
              "    </tr>\n",
              "  </thead>\n",
              "  <tbody>\n",
              "    <tr>\n",
              "      <th>0</th>\n",
              "      <td>1</td>\n",
              "      <td>Wii Sports</td>\n",
              "      <td>Wii</td>\n",
              "      <td>2006</td>\n",
              "      <td>Sports</td>\n",
              "      <td>Nintendo</td>\n",
              "      <td>41.49</td>\n",
              "      <td>29.02</td>\n",
              "      <td>3.77</td>\n",
              "      <td>8.46</td>\n",
              "      <td>82.74</td>\n",
              "    </tr>\n",
              "    <tr>\n",
              "      <th>1</th>\n",
              "      <td>2</td>\n",
              "      <td>Super Mario Bros.</td>\n",
              "      <td>NES</td>\n",
              "      <td>1985</td>\n",
              "      <td>Platform</td>\n",
              "      <td>Nintendo</td>\n",
              "      <td>29.08</td>\n",
              "      <td>3.58</td>\n",
              "      <td>6.81</td>\n",
              "      <td>0.77</td>\n",
              "      <td>40.24</td>\n",
              "    </tr>\n",
              "    <tr>\n",
              "      <th>2</th>\n",
              "      <td>3</td>\n",
              "      <td>Mario Kart Wii</td>\n",
              "      <td>Wii</td>\n",
              "      <td>2008</td>\n",
              "      <td>Racing</td>\n",
              "      <td>Nintendo</td>\n",
              "      <td>15.85</td>\n",
              "      <td>12.88</td>\n",
              "      <td>3.79</td>\n",
              "      <td>3.31</td>\n",
              "      <td>35.82</td>\n",
              "    </tr>\n",
              "    <tr>\n",
              "      <th>3</th>\n",
              "      <td>4</td>\n",
              "      <td>Wii Sports Resort</td>\n",
              "      <td>Wii</td>\n",
              "      <td>2009</td>\n",
              "      <td>Sports</td>\n",
              "      <td>Nintendo</td>\n",
              "      <td>15.75</td>\n",
              "      <td>11.01</td>\n",
              "      <td>3.28</td>\n",
              "      <td>2.96</td>\n",
              "      <td>33.00</td>\n",
              "    </tr>\n",
              "    <tr>\n",
              "      <th>4</th>\n",
              "      <td>5</td>\n",
              "      <td>Pokemon Red/Pokemon Blue</td>\n",
              "      <td>GB</td>\n",
              "      <td>1996</td>\n",
              "      <td>Role-Playing</td>\n",
              "      <td>Nintendo</td>\n",
              "      <td>11.27</td>\n",
              "      <td>8.89</td>\n",
              "      <td>10.22</td>\n",
              "      <td>1.00</td>\n",
              "      <td>31.37</td>\n",
              "    </tr>\n",
              "  </tbody>\n",
              "</table>\n",
              "</div>"
            ],
            "text/plain": [
              "   Rank                      Name Platform  ... JP_Sales Other_Sales Global_Sales\n",
              "0     1                Wii Sports      Wii  ...     3.77        8.46        82.74\n",
              "1     2         Super Mario Bros.      NES  ...     6.81        0.77        40.24\n",
              "2     3            Mario Kart Wii      Wii  ...     3.79        3.31        35.82\n",
              "3     4         Wii Sports Resort      Wii  ...     3.28        2.96        33.00\n",
              "4     5  Pokemon Red/Pokemon Blue       GB  ...    10.22        1.00        31.37\n",
              "\n",
              "[5 rows x 11 columns]"
            ]
          },
          "metadata": {
            "tags": []
          },
          "execution_count": 52
        }
      ]
    },
    {
      "cell_type": "markdown",
      "metadata": {
        "id": "ekoudG72OO7H"
      },
      "source": [
        "## Definindo um método para plotar Dataframes Spark"
      ]
    },
    {
      "cell_type": "markdown",
      "metadata": {
        "id": "L6dZT1KcOVXr"
      },
      "source": [
        "Só uma apresentação mais bonitinha"
      ]
    },
    {
      "cell_type": "code",
      "metadata": {
        "id": "waIzQPc1OTfX"
      },
      "source": [
        "def display_df(df, n=20):\n",
        "    return df.limit(n).toPandas()"
      ],
      "execution_count": null,
      "outputs": []
    },
    {
      "cell_type": "markdown",
      "metadata": {
        "id": "wrI43PUaOacA"
      },
      "source": [
        "## Descrevendo estatisticamente o Dataframe"
      ]
    },
    {
      "cell_type": "code",
      "metadata": {
        "id": "fmp-rei3OdYg",
        "colab": {
          "base_uri": "https://localhost:8080/",
          "height": 296
        },
        "outputId": "369fe2a6-5d1a-4dba-b9cf-a74dc774da52"
      },
      "source": [
        "display_df(df.describe())"
      ],
      "execution_count": null,
      "outputs": [
        {
          "output_type": "execute_result",
          "data": {
            "text/html": [
              "<div>\n",
              "<style scoped>\n",
              "    .dataframe tbody tr th:only-of-type {\n",
              "        vertical-align: middle;\n",
              "    }\n",
              "\n",
              "    .dataframe tbody tr th {\n",
              "        vertical-align: top;\n",
              "    }\n",
              "\n",
              "    .dataframe thead th {\n",
              "        text-align: right;\n",
              "    }\n",
              "</style>\n",
              "<table border=\"1\" class=\"dataframe\">\n",
              "  <thead>\n",
              "    <tr style=\"text-align: right;\">\n",
              "      <th></th>\n",
              "      <th>summary</th>\n",
              "      <th>Rank</th>\n",
              "      <th>Name</th>\n",
              "      <th>Platform</th>\n",
              "      <th>Year</th>\n",
              "      <th>Genre</th>\n",
              "      <th>Publisher</th>\n",
              "      <th>NA_Sales</th>\n",
              "      <th>EU_Sales</th>\n",
              "      <th>JP_Sales</th>\n",
              "      <th>Other_Sales</th>\n",
              "      <th>Global_Sales</th>\n",
              "    </tr>\n",
              "  </thead>\n",
              "  <tbody>\n",
              "    <tr>\n",
              "      <th>0</th>\n",
              "      <td>count</td>\n",
              "      <td>16598</td>\n",
              "      <td>16598</td>\n",
              "      <td>16598</td>\n",
              "      <td>16598</td>\n",
              "      <td>16598</td>\n",
              "      <td>16598</td>\n",
              "      <td>16598</td>\n",
              "      <td>16598</td>\n",
              "      <td>16598</td>\n",
              "      <td>16598</td>\n",
              "      <td>16598</td>\n",
              "    </tr>\n",
              "    <tr>\n",
              "      <th>1</th>\n",
              "      <td>mean</td>\n",
              "      <td>8300.605253645017</td>\n",
              "      <td>1942.0</td>\n",
              "      <td>2600.0</td>\n",
              "      <td>2006.4064433147546</td>\n",
              "      <td>None</td>\n",
              "      <td>None</td>\n",
              "      <td>0.26466742981084057</td>\n",
              "      <td>0.1466520062658483</td>\n",
              "      <td>0.07778166044101108</td>\n",
              "      <td>0.048063019640913515</td>\n",
              "      <td>0.53744065550074</td>\n",
              "    </tr>\n",
              "    <tr>\n",
              "      <th>2</th>\n",
              "      <td>stddev</td>\n",
              "      <td>4791.8539328964</td>\n",
              "      <td>NaN</td>\n",
              "      <td>0.0</td>\n",
              "      <td>5.828981114713253</td>\n",
              "      <td>None</td>\n",
              "      <td>None</td>\n",
              "      <td>0.8166830292988798</td>\n",
              "      <td>0.5053512312869136</td>\n",
              "      <td>0.3092906480822022</td>\n",
              "      <td>0.18858840291271395</td>\n",
              "      <td>1.5550279355699066</td>\n",
              "    </tr>\n",
              "    <tr>\n",
              "      <th>3</th>\n",
              "      <td>min</td>\n",
              "      <td>1</td>\n",
              "      <td>'98 Koshien</td>\n",
              "      <td>2600</td>\n",
              "      <td>1980</td>\n",
              "      <td>Action</td>\n",
              "      <td>10TACLE Studios</td>\n",
              "      <td>0.0</td>\n",
              "      <td>0.0</td>\n",
              "      <td>0.0</td>\n",
              "      <td>0.0</td>\n",
              "      <td>0.01</td>\n",
              "    </tr>\n",
              "    <tr>\n",
              "      <th>4</th>\n",
              "      <td>max</td>\n",
              "      <td>16600</td>\n",
              "      <td>¡Shin Chan Flipa en colores!</td>\n",
              "      <td>XOne</td>\n",
              "      <td>N/A</td>\n",
              "      <td>Strategy</td>\n",
              "      <td>responDESIGN</td>\n",
              "      <td>41.49</td>\n",
              "      <td>29.02</td>\n",
              "      <td>10.22</td>\n",
              "      <td>10.57</td>\n",
              "      <td>82.74</td>\n",
              "    </tr>\n",
              "  </tbody>\n",
              "</table>\n",
              "</div>"
            ],
            "text/plain": [
              "  summary               Rank  ...           Other_Sales        Global_Sales\n",
              "0   count              16598  ...                 16598               16598\n",
              "1    mean  8300.605253645017  ...  0.048063019640913515    0.53744065550074\n",
              "2  stddev    4791.8539328964  ...   0.18858840291271395  1.5550279355699066\n",
              "3     min                  1  ...                   0.0                0.01\n",
              "4     max              16600  ...                 10.57               82.74\n",
              "\n",
              "[5 rows x 12 columns]"
            ]
          },
          "metadata": {
            "tags": []
          },
          "execution_count": 54
        }
      ]
    },
    {
      "cell_type": "markdown",
      "metadata": {
        "id": "Hha-jdyvOouy"
      },
      "source": [
        "# Análise exploratória dos dados\n",
        "Vamos aqui realizar uma série de queries sobre os dados utilizando as APIs para Spark em Python (Pyspark) e o framework SparkSQL. Para isso, seguem algumas perguntas analiticas."
      ]
    },
    {
      "cell_type": "markdown",
      "metadata": {
        "id": "f_EABoU4Oxf1"
      },
      "source": [
        "Aqui, ainda é sobre coletar tudo dos Dataframes, semelhante ao SQL, que você \"perguntar\" coisas para tabela"
      ]
    },
    {
      "cell_type": "code",
      "metadata": {
        "id": "BXqEc6fkPHoV",
        "colab": {
          "base_uri": "https://localhost:8080/"
        },
        "outputId": "55f7bcde-9fe7-4555-cc72-e493caaa942e"
      },
      "source": [
        "df.columns"
      ],
      "execution_count": null,
      "outputs": [
        {
          "output_type": "execute_result",
          "data": {
            "text/plain": [
              "['Rank',\n",
              " 'Name',\n",
              " 'Platform',\n",
              " 'Year',\n",
              " 'Genre',\n",
              " 'Publisher',\n",
              " 'NA_Sales',\n",
              " 'EU_Sales',\n",
              " 'JP_Sales',\n",
              " 'Other_Sales',\n",
              " 'Global_Sales']"
            ]
          },
          "metadata": {
            "tags": []
          },
          "execution_count": 55
        }
      ]
    },
    {
      "cell_type": "markdown",
      "metadata": {
        "id": "J2xfIWG4Ou-C"
      },
      "source": [
        "### Quais foram os top 10 jogos mais vendidos até os anos 2000?\n",
        "**Pyspark API**"
      ]
    },
    {
      "cell_type": "code",
      "metadata": {
        "id": "pM2jx_XsO9lw",
        "colab": {
          "base_uri": "https://localhost:8080/",
          "height": 363
        },
        "outputId": "69141d0b-5967-44b8-910b-4181cda43c33"
      },
      "source": [
        "import pyspark.sql.functions as f  #precisa importa a função para a leitura abaixo\n",
        "\n",
        "# df -> T1 -> df2\n",
        "# df2 -> T2 -> df3\n",
        "# df3 -> T3 -> df4\n",
        "# df4 -> T4 -> df5\n",
        "# df5 -> A1\n",
        "\n",
        "#ele usa filtro e pede números descendentes\n",
        "\n",
        "sales_2000 = df.select(\"Name\", \"Global_Sales\", \"Year\") \\\n",
        "    .filter(f.col(\"Year\") <= 2000) \\\n",
        "    .orderBy(f.desc(\"Global_Sales\")) \\\n",
        "    .limit(10)\n",
        "\n",
        "display_df(sales_2000)  "
      ],
      "execution_count": null,
      "outputs": [
        {
          "output_type": "execute_result",
          "data": {
            "text/html": [
              "<div>\n",
              "<style scoped>\n",
              "    .dataframe tbody tr th:only-of-type {\n",
              "        vertical-align: middle;\n",
              "    }\n",
              "\n",
              "    .dataframe tbody tr th {\n",
              "        vertical-align: top;\n",
              "    }\n",
              "\n",
              "    .dataframe thead th {\n",
              "        text-align: right;\n",
              "    }\n",
              "</style>\n",
              "<table border=\"1\" class=\"dataframe\">\n",
              "  <thead>\n",
              "    <tr style=\"text-align: right;\">\n",
              "      <th></th>\n",
              "      <th>Name</th>\n",
              "      <th>Global_Sales</th>\n",
              "      <th>Year</th>\n",
              "    </tr>\n",
              "  </thead>\n",
              "  <tbody>\n",
              "    <tr>\n",
              "      <th>0</th>\n",
              "      <td>Super Mario Bros.</td>\n",
              "      <td>40.24</td>\n",
              "      <td>1985</td>\n",
              "    </tr>\n",
              "    <tr>\n",
              "      <th>1</th>\n",
              "      <td>Pokemon Red/Pokemon Blue</td>\n",
              "      <td>31.37</td>\n",
              "      <td>1996</td>\n",
              "    </tr>\n",
              "    <tr>\n",
              "      <th>2</th>\n",
              "      <td>Tetris</td>\n",
              "      <td>30.26</td>\n",
              "      <td>1989</td>\n",
              "    </tr>\n",
              "    <tr>\n",
              "      <th>3</th>\n",
              "      <td>Duck Hunt</td>\n",
              "      <td>28.31</td>\n",
              "      <td>1984</td>\n",
              "    </tr>\n",
              "    <tr>\n",
              "      <th>4</th>\n",
              "      <td>Pokemon Gold/Pokemon Silver</td>\n",
              "      <td>23.10</td>\n",
              "      <td>1999</td>\n",
              "    </tr>\n",
              "    <tr>\n",
              "      <th>5</th>\n",
              "      <td>Super Mario World</td>\n",
              "      <td>20.61</td>\n",
              "      <td>1990</td>\n",
              "    </tr>\n",
              "    <tr>\n",
              "      <th>6</th>\n",
              "      <td>Super Mario Land</td>\n",
              "      <td>18.14</td>\n",
              "      <td>1989</td>\n",
              "    </tr>\n",
              "    <tr>\n",
              "      <th>7</th>\n",
              "      <td>Super Mario Bros. 3</td>\n",
              "      <td>17.28</td>\n",
              "      <td>1988</td>\n",
              "    </tr>\n",
              "    <tr>\n",
              "      <th>8</th>\n",
              "      <td>Pokémon Yellow: Special Pikachu Edition</td>\n",
              "      <td>14.64</td>\n",
              "      <td>1998</td>\n",
              "    </tr>\n",
              "    <tr>\n",
              "      <th>9</th>\n",
              "      <td>Super Mario 64</td>\n",
              "      <td>11.89</td>\n",
              "      <td>1996</td>\n",
              "    </tr>\n",
              "  </tbody>\n",
              "</table>\n",
              "</div>"
            ],
            "text/plain": [
              "                                      Name  Global_Sales  Year\n",
              "0                        Super Mario Bros.         40.24  1985\n",
              "1                 Pokemon Red/Pokemon Blue         31.37  1996\n",
              "2                                   Tetris         30.26  1989\n",
              "3                                Duck Hunt         28.31  1984\n",
              "4              Pokemon Gold/Pokemon Silver         23.10  1999\n",
              "5                        Super Mario World         20.61  1990\n",
              "6                         Super Mario Land         18.14  1989\n",
              "7                      Super Mario Bros. 3         17.28  1988\n",
              "8  Pokémon Yellow: Special Pikachu Edition         14.64  1998\n",
              "9                           Super Mario 64         11.89  1996"
            ]
          },
          "metadata": {
            "tags": []
          },
          "execution_count": 56
        }
      ]
    },
    {
      "cell_type": "code",
      "metadata": {
        "id": "5p20Ecd-Prjc",
        "colab": {
          "base_uri": "https://localhost:8080/",
          "height": 363
        },
        "outputId": "462179ff-e450-4bfe-b1cc-89104e037c77"
      },
      "source": [
        "#Para funções ascendentes\n",
        "\n",
        "sales_2000 = df.select(\"Name\", \"Global_Sales\", \"Year\") \\\n",
        "    .filter(f.col(\"Year\") <= 2000) \\\n",
        "    .orderBy(f.asc(\"Global_Sales\")) \\\n",
        "    .limit(10)\n",
        "\n",
        "display_df(sales_2000)  "
      ],
      "execution_count": null,
      "outputs": [
        {
          "output_type": "execute_result",
          "data": {
            "text/html": [
              "<div>\n",
              "<style scoped>\n",
              "    .dataframe tbody tr th:only-of-type {\n",
              "        vertical-align: middle;\n",
              "    }\n",
              "\n",
              "    .dataframe tbody tr th {\n",
              "        vertical-align: top;\n",
              "    }\n",
              "\n",
              "    .dataframe thead th {\n",
              "        text-align: right;\n",
              "    }\n",
              "</style>\n",
              "<table border=\"1\" class=\"dataframe\">\n",
              "  <thead>\n",
              "    <tr style=\"text-align: right;\">\n",
              "      <th></th>\n",
              "      <th>Name</th>\n",
              "      <th>Global_Sales</th>\n",
              "      <th>Year</th>\n",
              "    </tr>\n",
              "  </thead>\n",
              "  <tbody>\n",
              "    <tr>\n",
              "      <th>0</th>\n",
              "      <td>Mortal Kombat</td>\n",
              "      <td>0.01</td>\n",
              "      <td>1994</td>\n",
              "    </tr>\n",
              "    <tr>\n",
              "      <th>1</th>\n",
              "      <td>Meru Purana</td>\n",
              "      <td>0.01</td>\n",
              "      <td>1996</td>\n",
              "    </tr>\n",
              "    <tr>\n",
              "      <th>2</th>\n",
              "      <td>Empire Deluxe</td>\n",
              "      <td>0.01</td>\n",
              "      <td>1992</td>\n",
              "    </tr>\n",
              "    <tr>\n",
              "      <th>3</th>\n",
              "      <td>Rock N' Roll Racing</td>\n",
              "      <td>0.01</td>\n",
              "      <td>1993</td>\n",
              "    </tr>\n",
              "    <tr>\n",
              "      <th>4</th>\n",
              "      <td>Vanark</td>\n",
              "      <td>0.01</td>\n",
              "      <td>1999</td>\n",
              "    </tr>\n",
              "    <tr>\n",
              "      <th>5</th>\n",
              "      <td>Deus Ex</td>\n",
              "      <td>0.01</td>\n",
              "      <td>2000</td>\n",
              "    </tr>\n",
              "    <tr>\n",
              "      <th>6</th>\n",
              "      <td>K-1 Grand Prix</td>\n",
              "      <td>0.01</td>\n",
              "      <td>1999</td>\n",
              "    </tr>\n",
              "    <tr>\n",
              "      <th>7</th>\n",
              "      <td>Legoland</td>\n",
              "      <td>0.01</td>\n",
              "      <td>1999</td>\n",
              "    </tr>\n",
              "    <tr>\n",
              "      <th>8</th>\n",
              "      <td>Victory Spike</td>\n",
              "      <td>0.01</td>\n",
              "      <td>1996</td>\n",
              "    </tr>\n",
              "    <tr>\n",
              "      <th>9</th>\n",
              "      <td>Builder's Block</td>\n",
              "      <td>0.01</td>\n",
              "      <td>1999</td>\n",
              "    </tr>\n",
              "  </tbody>\n",
              "</table>\n",
              "</div>"
            ],
            "text/plain": [
              "                  Name  Global_Sales  Year\n",
              "0        Mortal Kombat          0.01  1994\n",
              "1          Meru Purana          0.01  1996\n",
              "2        Empire Deluxe          0.01  1992\n",
              "3  Rock N' Roll Racing          0.01  1993\n",
              "4               Vanark          0.01  1999\n",
              "5              Deus Ex          0.01  2000\n",
              "6       K-1 Grand Prix          0.01  1999\n",
              "7             Legoland          0.01  1999\n",
              "8        Victory Spike          0.01  1996\n",
              "9      Builder's Block          0.01  1999"
            ]
          },
          "metadata": {
            "tags": []
          },
          "execution_count": 57
        }
      ]
    },
    {
      "cell_type": "markdown",
      "metadata": {
        "id": "lgY7OW-IP0Zs"
      },
      "source": [
        "**Spark SQL**"
      ]
    },
    {
      "cell_type": "markdown",
      "metadata": {
        "id": "our3UQxWP1S1"
      },
      "source": [
        "Aqui é a mesma pergunra, mas por formato SQL"
      ]
    },
    {
      "cell_type": "code",
      "metadata": {
        "id": "DbHBiTndOufJ",
        "colab": {
          "base_uri": "https://localhost:8080/",
          "height": 363
        },
        "outputId": "3e69397e-d89f-48a6-8637-2abf2cbef6fb"
      },
      "source": [
        "#ele cria uma view como referência para a consulta\n",
        "#Uso da classificação descendente\n",
        "\n",
        "df.createOrReplaceTempView(\"videogame_sales\")\n",
        "\n",
        "sales_2000 = spark.sql(\"\"\"\n",
        "    SELECT \n",
        "      Name, \n",
        "      Global_Sales\n",
        "    FROM videogame_sales\n",
        "    WHERE Year <= 2000\n",
        "    ORDER BY Global_Sales DESC\n",
        "    LIMIT 10\n",
        "\"\"\")\n",
        "\n",
        "display_df(sales_2000)\n"
      ],
      "execution_count": null,
      "outputs": [
        {
          "output_type": "execute_result",
          "data": {
            "text/html": [
              "<div>\n",
              "<style scoped>\n",
              "    .dataframe tbody tr th:only-of-type {\n",
              "        vertical-align: middle;\n",
              "    }\n",
              "\n",
              "    .dataframe tbody tr th {\n",
              "        vertical-align: top;\n",
              "    }\n",
              "\n",
              "    .dataframe thead th {\n",
              "        text-align: right;\n",
              "    }\n",
              "</style>\n",
              "<table border=\"1\" class=\"dataframe\">\n",
              "  <thead>\n",
              "    <tr style=\"text-align: right;\">\n",
              "      <th></th>\n",
              "      <th>Name</th>\n",
              "      <th>Global_Sales</th>\n",
              "    </tr>\n",
              "  </thead>\n",
              "  <tbody>\n",
              "    <tr>\n",
              "      <th>0</th>\n",
              "      <td>Super Mario Bros.</td>\n",
              "      <td>40.24</td>\n",
              "    </tr>\n",
              "    <tr>\n",
              "      <th>1</th>\n",
              "      <td>Pokemon Red/Pokemon Blue</td>\n",
              "      <td>31.37</td>\n",
              "    </tr>\n",
              "    <tr>\n",
              "      <th>2</th>\n",
              "      <td>Tetris</td>\n",
              "      <td>30.26</td>\n",
              "    </tr>\n",
              "    <tr>\n",
              "      <th>3</th>\n",
              "      <td>Duck Hunt</td>\n",
              "      <td>28.31</td>\n",
              "    </tr>\n",
              "    <tr>\n",
              "      <th>4</th>\n",
              "      <td>Pokemon Gold/Pokemon Silver</td>\n",
              "      <td>23.10</td>\n",
              "    </tr>\n",
              "    <tr>\n",
              "      <th>5</th>\n",
              "      <td>Super Mario World</td>\n",
              "      <td>20.61</td>\n",
              "    </tr>\n",
              "    <tr>\n",
              "      <th>6</th>\n",
              "      <td>Super Mario Land</td>\n",
              "      <td>18.14</td>\n",
              "    </tr>\n",
              "    <tr>\n",
              "      <th>7</th>\n",
              "      <td>Super Mario Bros. 3</td>\n",
              "      <td>17.28</td>\n",
              "    </tr>\n",
              "    <tr>\n",
              "      <th>8</th>\n",
              "      <td>Pokémon Yellow: Special Pikachu Edition</td>\n",
              "      <td>14.64</td>\n",
              "    </tr>\n",
              "    <tr>\n",
              "      <th>9</th>\n",
              "      <td>Super Mario 64</td>\n",
              "      <td>11.89</td>\n",
              "    </tr>\n",
              "  </tbody>\n",
              "</table>\n",
              "</div>"
            ],
            "text/plain": [
              "                                      Name  Global_Sales\n",
              "0                        Super Mario Bros.         40.24\n",
              "1                 Pokemon Red/Pokemon Blue         31.37\n",
              "2                                   Tetris         30.26\n",
              "3                                Duck Hunt         28.31\n",
              "4              Pokemon Gold/Pokemon Silver         23.10\n",
              "5                        Super Mario World         20.61\n",
              "6                         Super Mario Land         18.14\n",
              "7                      Super Mario Bros. 3         17.28\n",
              "8  Pokémon Yellow: Special Pikachu Edition         14.64\n",
              "9                           Super Mario 64         11.89"
            ]
          },
          "metadata": {
            "tags": []
          },
          "execution_count": 58
        }
      ]
    },
    {
      "cell_type": "code",
      "metadata": {
        "id": "53jAacSaQVh4",
        "colab": {
          "base_uri": "https://localhost:8080/",
          "height": 363
        },
        "outputId": "1198d971-bbb6-4bc4-8292-1b7ef04b5422"
      },
      "source": [
        "#Uso da classificação ascendente\n",
        "\n",
        "sales_2000 = spark.sql(\"\"\"\n",
        "    SELECT \n",
        "      Name, \n",
        "      Global_Sales\n",
        "    FROM videogame_sales\n",
        "    WHERE Year <= 2000\n",
        "    ORDER BY Global_Sales ASC\n",
        "    LIMIT 10\n",
        "\"\"\")\n",
        "\n",
        "display_df(sales_2000)"
      ],
      "execution_count": null,
      "outputs": [
        {
          "output_type": "execute_result",
          "data": {
            "text/html": [
              "<div>\n",
              "<style scoped>\n",
              "    .dataframe tbody tr th:only-of-type {\n",
              "        vertical-align: middle;\n",
              "    }\n",
              "\n",
              "    .dataframe tbody tr th {\n",
              "        vertical-align: top;\n",
              "    }\n",
              "\n",
              "    .dataframe thead th {\n",
              "        text-align: right;\n",
              "    }\n",
              "</style>\n",
              "<table border=\"1\" class=\"dataframe\">\n",
              "  <thead>\n",
              "    <tr style=\"text-align: right;\">\n",
              "      <th></th>\n",
              "      <th>Name</th>\n",
              "      <th>Global_Sales</th>\n",
              "    </tr>\n",
              "  </thead>\n",
              "  <tbody>\n",
              "    <tr>\n",
              "      <th>0</th>\n",
              "      <td>Mortal Kombat</td>\n",
              "      <td>0.01</td>\n",
              "    </tr>\n",
              "    <tr>\n",
              "      <th>1</th>\n",
              "      <td>Meru Purana</td>\n",
              "      <td>0.01</td>\n",
              "    </tr>\n",
              "    <tr>\n",
              "      <th>2</th>\n",
              "      <td>Empire Deluxe</td>\n",
              "      <td>0.01</td>\n",
              "    </tr>\n",
              "    <tr>\n",
              "      <th>3</th>\n",
              "      <td>Rock N' Roll Racing</td>\n",
              "      <td>0.01</td>\n",
              "    </tr>\n",
              "    <tr>\n",
              "      <th>4</th>\n",
              "      <td>Vanark</td>\n",
              "      <td>0.01</td>\n",
              "    </tr>\n",
              "    <tr>\n",
              "      <th>5</th>\n",
              "      <td>Deus Ex</td>\n",
              "      <td>0.01</td>\n",
              "    </tr>\n",
              "    <tr>\n",
              "      <th>6</th>\n",
              "      <td>K-1 Grand Prix</td>\n",
              "      <td>0.01</td>\n",
              "    </tr>\n",
              "    <tr>\n",
              "      <th>7</th>\n",
              "      <td>Legoland</td>\n",
              "      <td>0.01</td>\n",
              "    </tr>\n",
              "    <tr>\n",
              "      <th>8</th>\n",
              "      <td>Victory Spike</td>\n",
              "      <td>0.01</td>\n",
              "    </tr>\n",
              "    <tr>\n",
              "      <th>9</th>\n",
              "      <td>Builder's Block</td>\n",
              "      <td>0.01</td>\n",
              "    </tr>\n",
              "  </tbody>\n",
              "</table>\n",
              "</div>"
            ],
            "text/plain": [
              "                  Name  Global_Sales\n",
              "0        Mortal Kombat          0.01\n",
              "1          Meru Purana          0.01\n",
              "2        Empire Deluxe          0.01\n",
              "3  Rock N' Roll Racing          0.01\n",
              "4               Vanark          0.01\n",
              "5              Deus Ex          0.01\n",
              "6       K-1 Grand Prix          0.01\n",
              "7             Legoland          0.01\n",
              "8        Victory Spike          0.01\n",
              "9      Builder's Block          0.01"
            ]
          },
          "metadata": {
            "tags": []
          },
          "execution_count": 59
        }
      ]
    },
    {
      "cell_type": "markdown",
      "metadata": {
        "id": "poep7iEIQh9W"
      },
      "source": [
        "### Qual foi o total de vendas em NA e Global por Platform no ano de 2005?\n",
        "**Pyspark API**"
      ]
    },
    {
      "cell_type": "code",
      "metadata": {
        "id": "JpILny8kQnQw",
        "colab": {
          "base_uri": "https://localhost:8080/"
        },
        "outputId": "ef3f2d96-e9a1-4241-b3ec-708798c50f3a"
      },
      "source": [
        "df.select(\"Platform\", \"Global_Sales\") \\\n",
        "    .filter(f.col(\"Year\") == 2005) \\\n",
        "    .groupBy(\"Platform\") \\\n",
        "    .sum(\"Global_Sales\")"
      ],
      "execution_count": null,
      "outputs": [
        {
          "output_type": "execute_result",
          "data": {
            "text/plain": [
              "DataFrame[Platform: string, sum(Global_Sales): double]"
            ]
          },
          "metadata": {
            "tags": []
          },
          "execution_count": 60
        }
      ]
    },
    {
      "cell_type": "markdown",
      "metadata": {
        "id": "vfD1xssNQqCN"
      },
      "source": [
        "Aqui ele só mostra as etapas da Lazy evaluation, pois até um orderBy ou um show/ display, o Spark não mostra nada do resultado"
      ]
    },
    {
      "cell_type": "code",
      "metadata": {
        "id": "CzbzLaJjQ38H",
        "colab": {
          "base_uri": "https://localhost:8080/",
          "height": 300
        },
        "outputId": "c1f0b359-9645-4cb3-99df-40af6ec76dbf"
      },
      "source": [
        "import pyspark.sql.functions as f\n",
        "\n",
        "# df -> T1 -> df2\n",
        "# df2 -> T2 -> df3\n",
        "# df3 -> T3 (group by + agg) -> df4 o agg é uma função do group by\n",
        "# df4 -> T4 -> df5\n",
        "# df5 -> A1\n",
        "\n",
        "sales_publisher_2005 = df.select(\"Platform\", \"Global_Sales\", \"NA_Sales\") \\\n",
        "    .filter(f.col(\"Year\") == 2005) \\\n",
        "    .groupBy(\"Platform\") \\\n",
        "    .agg(\n",
        "        f.sum(\"Global_sales\").alias(\"Global_sales_Total\"), \n",
        "        f.sum(\"NA_Sales\").alias(\"NA_Sales_Total\")\n",
        "    ) \\\n",
        "    .orderBy(f.desc(\"Global_sales_Total\"))\n",
        "\n",
        "display_df(sales_publisher_2005)"
      ],
      "execution_count": null,
      "outputs": [
        {
          "output_type": "execute_result",
          "data": {
            "text/html": [
              "<div>\n",
              "<style scoped>\n",
              "    .dataframe tbody tr th:only-of-type {\n",
              "        vertical-align: middle;\n",
              "    }\n",
              "\n",
              "    .dataframe tbody tr th {\n",
              "        vertical-align: top;\n",
              "    }\n",
              "\n",
              "    .dataframe thead th {\n",
              "        text-align: right;\n",
              "    }\n",
              "</style>\n",
              "<table border=\"1\" class=\"dataframe\">\n",
              "  <thead>\n",
              "    <tr style=\"text-align: right;\">\n",
              "      <th></th>\n",
              "      <th>Platform</th>\n",
              "      <th>Global_sales_Total</th>\n",
              "      <th>NA_Sales_Total</th>\n",
              "    </tr>\n",
              "  </thead>\n",
              "  <tbody>\n",
              "    <tr>\n",
              "      <th>0</th>\n",
              "      <td>PS2</td>\n",
              "      <td>160.65</td>\n",
              "      <td>85.60</td>\n",
              "    </tr>\n",
              "    <tr>\n",
              "      <th>1</th>\n",
              "      <td>DS</td>\n",
              "      <td>131.40</td>\n",
              "      <td>48.47</td>\n",
              "    </tr>\n",
              "    <tr>\n",
              "      <th>2</th>\n",
              "      <td>XB</td>\n",
              "      <td>49.17</td>\n",
              "      <td>34.84</td>\n",
              "    </tr>\n",
              "    <tr>\n",
              "      <th>3</th>\n",
              "      <td>PSP</td>\n",
              "      <td>44.23</td>\n",
              "      <td>24.48</td>\n",
              "    </tr>\n",
              "    <tr>\n",
              "      <th>4</th>\n",
              "      <td>GBA</td>\n",
              "      <td>33.90</td>\n",
              "      <td>21.70</td>\n",
              "    </tr>\n",
              "    <tr>\n",
              "      <th>5</th>\n",
              "      <td>GC</td>\n",
              "      <td>27.80</td>\n",
              "      <td>19.25</td>\n",
              "    </tr>\n",
              "    <tr>\n",
              "      <th>6</th>\n",
              "      <td>X360</td>\n",
              "      <td>8.32</td>\n",
              "      <td>6.89</td>\n",
              "    </tr>\n",
              "    <tr>\n",
              "      <th>7</th>\n",
              "      <td>PC</td>\n",
              "      <td>4.47</td>\n",
              "      <td>1.38</td>\n",
              "    </tr>\n",
              "  </tbody>\n",
              "</table>\n",
              "</div>"
            ],
            "text/plain": [
              "  Platform  Global_sales_Total  NA_Sales_Total\n",
              "0      PS2              160.65           85.60\n",
              "1       DS              131.40           48.47\n",
              "2       XB               49.17           34.84\n",
              "3      PSP               44.23           24.48\n",
              "4      GBA               33.90           21.70\n",
              "5       GC               27.80           19.25\n",
              "6     X360                8.32            6.89\n",
              "7       PC                4.47            1.38"
            ]
          },
          "metadata": {
            "tags": []
          },
          "execution_count": 61
        }
      ]
    },
    {
      "cell_type": "code",
      "metadata": {
        "id": "qV4Wg4G-RDNy",
        "colab": {
          "base_uri": "https://localhost:8080/",
          "height": 300
        },
        "outputId": "adaca867-e489-4041-c86d-ba11e4c43b08"
      },
      "source": [
        "sales_publisher_2005 = df.select(\"Platform\", \"Global_Sales\", \"NA_Sales\") \\\n",
        "    .filter(f.col(\"Year\") == 2005) \\\n",
        "    .groupBy(\"Platform\") \\\n",
        "    .agg(\n",
        "        f.sum(\"NA_Sales\").alias(\"NA_Sales_Total\"),\n",
        "        f.sum(\"Global_sales\").alias(\"Global_sales_Total\")\n",
        "    ) \\\n",
        "    .orderBy(f.desc(\"Global_sales_Total\"))\n",
        "\n",
        "display_df(sales_publisher_2005)"
      ],
      "execution_count": null,
      "outputs": [
        {
          "output_type": "execute_result",
          "data": {
            "text/html": [
              "<div>\n",
              "<style scoped>\n",
              "    .dataframe tbody tr th:only-of-type {\n",
              "        vertical-align: middle;\n",
              "    }\n",
              "\n",
              "    .dataframe tbody tr th {\n",
              "        vertical-align: top;\n",
              "    }\n",
              "\n",
              "    .dataframe thead th {\n",
              "        text-align: right;\n",
              "    }\n",
              "</style>\n",
              "<table border=\"1\" class=\"dataframe\">\n",
              "  <thead>\n",
              "    <tr style=\"text-align: right;\">\n",
              "      <th></th>\n",
              "      <th>Platform</th>\n",
              "      <th>NA_Sales_Total</th>\n",
              "      <th>Global_sales_Total</th>\n",
              "    </tr>\n",
              "  </thead>\n",
              "  <tbody>\n",
              "    <tr>\n",
              "      <th>0</th>\n",
              "      <td>PS2</td>\n",
              "      <td>85.60</td>\n",
              "      <td>160.65</td>\n",
              "    </tr>\n",
              "    <tr>\n",
              "      <th>1</th>\n",
              "      <td>DS</td>\n",
              "      <td>48.47</td>\n",
              "      <td>131.40</td>\n",
              "    </tr>\n",
              "    <tr>\n",
              "      <th>2</th>\n",
              "      <td>XB</td>\n",
              "      <td>34.84</td>\n",
              "      <td>49.17</td>\n",
              "    </tr>\n",
              "    <tr>\n",
              "      <th>3</th>\n",
              "      <td>PSP</td>\n",
              "      <td>24.48</td>\n",
              "      <td>44.23</td>\n",
              "    </tr>\n",
              "    <tr>\n",
              "      <th>4</th>\n",
              "      <td>GBA</td>\n",
              "      <td>21.70</td>\n",
              "      <td>33.90</td>\n",
              "    </tr>\n",
              "    <tr>\n",
              "      <th>5</th>\n",
              "      <td>GC</td>\n",
              "      <td>19.25</td>\n",
              "      <td>27.80</td>\n",
              "    </tr>\n",
              "    <tr>\n",
              "      <th>6</th>\n",
              "      <td>X360</td>\n",
              "      <td>6.89</td>\n",
              "      <td>8.32</td>\n",
              "    </tr>\n",
              "    <tr>\n",
              "      <th>7</th>\n",
              "      <td>PC</td>\n",
              "      <td>1.38</td>\n",
              "      <td>4.47</td>\n",
              "    </tr>\n",
              "  </tbody>\n",
              "</table>\n",
              "</div>"
            ],
            "text/plain": [
              "  Platform  NA_Sales_Total  Global_sales_Total\n",
              "0      PS2           85.60              160.65\n",
              "1       DS           48.47              131.40\n",
              "2       XB           34.84               49.17\n",
              "3      PSP           24.48               44.23\n",
              "4      GBA           21.70               33.90\n",
              "5       GC           19.25               27.80\n",
              "6     X360            6.89                8.32\n",
              "7       PC            1.38                4.47"
            ]
          },
          "metadata": {
            "tags": []
          },
          "execution_count": 62
        }
      ]
    },
    {
      "cell_type": "markdown",
      "metadata": {
        "id": "WYpgb0p3RK_g"
      },
      "source": [
        "**Spark SQL**"
      ]
    },
    {
      "cell_type": "code",
      "metadata": {
        "id": "NmMQaEGMRM9s",
        "colab": {
          "base_uri": "https://localhost:8080/",
          "height": 300
        },
        "outputId": "14e147b3-c2e1-40dd-89e2-16da230eb7c8"
      },
      "source": [
        "df.createOrReplaceTempView(\"videogame_sales\")\n",
        "\n",
        "sales_publisher_2005 = spark.sql(\"\"\"\n",
        "    SELECT Platform, \n",
        "        SUM(NA_Sales) AS NA_Sales_Total,\n",
        "        SUM(Global_Sales) AS Global_sales_Total\n",
        "    FROM videogame_sales\n",
        "    WHERE Year = 2005\n",
        "    GROUP BY Platform\n",
        "    ORDER BY Global_sales_Total DESC\n",
        "\"\"\")\n",
        "\n",
        "display_df(sales_publisher_2005)"
      ],
      "execution_count": null,
      "outputs": [
        {
          "output_type": "execute_result",
          "data": {
            "text/html": [
              "<div>\n",
              "<style scoped>\n",
              "    .dataframe tbody tr th:only-of-type {\n",
              "        vertical-align: middle;\n",
              "    }\n",
              "\n",
              "    .dataframe tbody tr th {\n",
              "        vertical-align: top;\n",
              "    }\n",
              "\n",
              "    .dataframe thead th {\n",
              "        text-align: right;\n",
              "    }\n",
              "</style>\n",
              "<table border=\"1\" class=\"dataframe\">\n",
              "  <thead>\n",
              "    <tr style=\"text-align: right;\">\n",
              "      <th></th>\n",
              "      <th>Platform</th>\n",
              "      <th>NA_Sales_Total</th>\n",
              "      <th>Global_sales_Total</th>\n",
              "    </tr>\n",
              "  </thead>\n",
              "  <tbody>\n",
              "    <tr>\n",
              "      <th>0</th>\n",
              "      <td>PS2</td>\n",
              "      <td>85.60</td>\n",
              "      <td>160.65</td>\n",
              "    </tr>\n",
              "    <tr>\n",
              "      <th>1</th>\n",
              "      <td>DS</td>\n",
              "      <td>48.47</td>\n",
              "      <td>131.40</td>\n",
              "    </tr>\n",
              "    <tr>\n",
              "      <th>2</th>\n",
              "      <td>XB</td>\n",
              "      <td>34.84</td>\n",
              "      <td>49.17</td>\n",
              "    </tr>\n",
              "    <tr>\n",
              "      <th>3</th>\n",
              "      <td>PSP</td>\n",
              "      <td>24.48</td>\n",
              "      <td>44.23</td>\n",
              "    </tr>\n",
              "    <tr>\n",
              "      <th>4</th>\n",
              "      <td>GBA</td>\n",
              "      <td>21.70</td>\n",
              "      <td>33.90</td>\n",
              "    </tr>\n",
              "    <tr>\n",
              "      <th>5</th>\n",
              "      <td>GC</td>\n",
              "      <td>19.25</td>\n",
              "      <td>27.80</td>\n",
              "    </tr>\n",
              "    <tr>\n",
              "      <th>6</th>\n",
              "      <td>X360</td>\n",
              "      <td>6.89</td>\n",
              "      <td>8.32</td>\n",
              "    </tr>\n",
              "    <tr>\n",
              "      <th>7</th>\n",
              "      <td>PC</td>\n",
              "      <td>1.38</td>\n",
              "      <td>4.47</td>\n",
              "    </tr>\n",
              "  </tbody>\n",
              "</table>\n",
              "</div>"
            ],
            "text/plain": [
              "  Platform  NA_Sales_Total  Global_sales_Total\n",
              "0      PS2           85.60              160.65\n",
              "1       DS           48.47              131.40\n",
              "2       XB           34.84               49.17\n",
              "3      PSP           24.48               44.23\n",
              "4      GBA           21.70               33.90\n",
              "5       GC           19.25               27.80\n",
              "6     X360            6.89                8.32\n",
              "7       PC            1.38                4.47"
            ]
          },
          "metadata": {
            "tags": []
          },
          "execution_count": 63
        }
      ]
    },
    {
      "cell_type": "markdown",
      "metadata": {
        "id": "EbHSG8pyRdIT"
      },
      "source": [
        "### Qual foi a evolução das arrecadações globais das plataformas PS2, PS3 e X360 ao longo dos anos?\n",
        "\n",
        "O objetivo aqui é exibir um gráfico de linha com a evolução das arrecadações nas plataformas ao longo do tempo. Utilizaremos a API Pyspark para realizar essa plotagem\n"
      ]
    },
    {
      "cell_type": "code",
      "metadata": {
        "id": "31ZE0U8vRhe3",
        "colab": {
          "base_uri": "https://localhost:8080/",
          "height": 677
        },
        "outputId": "efe5b829-6574-4fcc-9342-77e39eec6577"
      },
      "source": [
        "import pyspark.sql.functions as f\n",
        "\n",
        "timeline_sales = df.select(\"Platform\", \"Global_Sales\", \"Year\") \\\n",
        "    .where(\"Platform in ('PS2', 'PS3', 'X360')\") \\\n",
        "    .groupBy(\"Year\", \"Platform\") \\\n",
        "    .agg(\n",
        "        f.sum(\"Global_sales\").alias(\"Global_sales_Total\")\n",
        "    ) \\\n",
        "    .orderBy(f.asc(\"Year\"))\n",
        "\n",
        "display_df(timeline_sales)"
      ],
      "execution_count": null,
      "outputs": [
        {
          "output_type": "execute_result",
          "data": {
            "text/html": [
              "<div>\n",
              "<style scoped>\n",
              "    .dataframe tbody tr th:only-of-type {\n",
              "        vertical-align: middle;\n",
              "    }\n",
              "\n",
              "    .dataframe tbody tr th {\n",
              "        vertical-align: top;\n",
              "    }\n",
              "\n",
              "    .dataframe thead th {\n",
              "        text-align: right;\n",
              "    }\n",
              "</style>\n",
              "<table border=\"1\" class=\"dataframe\">\n",
              "  <thead>\n",
              "    <tr style=\"text-align: right;\">\n",
              "      <th></th>\n",
              "      <th>Year</th>\n",
              "      <th>Platform</th>\n",
              "      <th>Global_sales_Total</th>\n",
              "    </tr>\n",
              "  </thead>\n",
              "  <tbody>\n",
              "    <tr>\n",
              "      <th>0</th>\n",
              "      <td>2000</td>\n",
              "      <td>PS2</td>\n",
              "      <td>39.11</td>\n",
              "    </tr>\n",
              "    <tr>\n",
              "      <th>1</th>\n",
              "      <td>2001</td>\n",
              "      <td>PS2</td>\n",
              "      <td>166.43</td>\n",
              "    </tr>\n",
              "    <tr>\n",
              "      <th>2</th>\n",
              "      <td>2002</td>\n",
              "      <td>PS2</td>\n",
              "      <td>205.40</td>\n",
              "    </tr>\n",
              "    <tr>\n",
              "      <th>3</th>\n",
              "      <td>2003</td>\n",
              "      <td>PS2</td>\n",
              "      <td>184.29</td>\n",
              "    </tr>\n",
              "    <tr>\n",
              "      <th>4</th>\n",
              "      <td>2004</td>\n",
              "      <td>PS2</td>\n",
              "      <td>211.78</td>\n",
              "    </tr>\n",
              "    <tr>\n",
              "      <th>5</th>\n",
              "      <td>2005</td>\n",
              "      <td>X360</td>\n",
              "      <td>8.32</td>\n",
              "    </tr>\n",
              "    <tr>\n",
              "      <th>6</th>\n",
              "      <td>2005</td>\n",
              "      <td>PS2</td>\n",
              "      <td>160.65</td>\n",
              "    </tr>\n",
              "    <tr>\n",
              "      <th>7</th>\n",
              "      <td>2006</td>\n",
              "      <td>PS2</td>\n",
              "      <td>103.42</td>\n",
              "    </tr>\n",
              "    <tr>\n",
              "      <th>8</th>\n",
              "      <td>2006</td>\n",
              "      <td>PS3</td>\n",
              "      <td>21.07</td>\n",
              "    </tr>\n",
              "    <tr>\n",
              "      <th>9</th>\n",
              "      <td>2006</td>\n",
              "      <td>X360</td>\n",
              "      <td>51.88</td>\n",
              "    </tr>\n",
              "    <tr>\n",
              "      <th>10</th>\n",
              "      <td>2007</td>\n",
              "      <td>X360</td>\n",
              "      <td>95.84</td>\n",
              "    </tr>\n",
              "    <tr>\n",
              "      <th>11</th>\n",
              "      <td>2007</td>\n",
              "      <td>PS2</td>\n",
              "      <td>76.00</td>\n",
              "    </tr>\n",
              "    <tr>\n",
              "      <th>12</th>\n",
              "      <td>2007</td>\n",
              "      <td>PS3</td>\n",
              "      <td>73.81</td>\n",
              "    </tr>\n",
              "    <tr>\n",
              "      <th>13</th>\n",
              "      <td>2008</td>\n",
              "      <td>PS3</td>\n",
              "      <td>119.69</td>\n",
              "    </tr>\n",
              "    <tr>\n",
              "      <th>14</th>\n",
              "      <td>2008</td>\n",
              "      <td>PS2</td>\n",
              "      <td>53.83</td>\n",
              "    </tr>\n",
              "    <tr>\n",
              "      <th>15</th>\n",
              "      <td>2008</td>\n",
              "      <td>X360</td>\n",
              "      <td>135.76</td>\n",
              "    </tr>\n",
              "    <tr>\n",
              "      <th>16</th>\n",
              "      <td>2009</td>\n",
              "      <td>X360</td>\n",
              "      <td>120.85</td>\n",
              "    </tr>\n",
              "    <tr>\n",
              "      <th>17</th>\n",
              "      <td>2009</td>\n",
              "      <td>PS2</td>\n",
              "      <td>26.45</td>\n",
              "    </tr>\n",
              "    <tr>\n",
              "      <th>18</th>\n",
              "      <td>2009</td>\n",
              "      <td>PS3</td>\n",
              "      <td>132.34</td>\n",
              "    </tr>\n",
              "    <tr>\n",
              "      <th>19</th>\n",
              "      <td>2010</td>\n",
              "      <td>PS2</td>\n",
              "      <td>5.63</td>\n",
              "    </tr>\n",
              "  </tbody>\n",
              "</table>\n",
              "</div>"
            ],
            "text/plain": [
              "    Year Platform  Global_sales_Total\n",
              "0   2000      PS2               39.11\n",
              "1   2001      PS2              166.43\n",
              "2   2002      PS2              205.40\n",
              "3   2003      PS2              184.29\n",
              "4   2004      PS2              211.78\n",
              "5   2005     X360                8.32\n",
              "6   2005      PS2              160.65\n",
              "7   2006      PS2              103.42\n",
              "8   2006      PS3               21.07\n",
              "9   2006     X360               51.88\n",
              "10  2007     X360               95.84\n",
              "11  2007      PS2               76.00\n",
              "12  2007      PS3               73.81\n",
              "13  2008      PS3              119.69\n",
              "14  2008      PS2               53.83\n",
              "15  2008     X360              135.76\n",
              "16  2009     X360              120.85\n",
              "17  2009      PS2               26.45\n",
              "18  2009      PS3              132.34\n",
              "19  2010      PS2                5.63"
            ]
          },
          "metadata": {
            "tags": []
          },
          "execution_count": 64
        }
      ]
    },
    {
      "cell_type": "markdown",
      "metadata": {
        "id": "nTvBSB3VRkzO"
      },
      "source": [
        "Plotando a série temporal das vendas das plataformas (pivoteamento necessário)"
      ]
    },
    {
      "cell_type": "code",
      "metadata": {
        "id": "cGjJCrYWRmta",
        "colab": {
          "base_uri": "https://localhost:8080/",
          "height": 297
        },
        "outputId": "9b43b23c-25ea-4aef-b8e8-b928886e4f65"
      },
      "source": [
        "import pyspark.sql.functions as f\n",
        "import matplotlib.pyplot as plt\n",
        "\n",
        "%matplotlib inline\n",
        "\n",
        "timeline_sales_pivot = timeline_sales \\\n",
        "    .groupBy(\"Year\")\\\n",
        "    .pivot(\"Platform\")\\\n",
        "    .agg(f.sum(\"Global_sales_Total\"))\n",
        "\n",
        "#display_df(timeline_sales_pivot)\n",
        "\n",
        "timeline_sales_pivot.toPandas()\\\n",
        "    .set_index(\"Year\").plot()"
      ],
      "execution_count": null,
      "outputs": [
        {
          "output_type": "execute_result",
          "data": {
            "text/plain": [
              "<matplotlib.axes._subplots.AxesSubplot at 0x7fa860c03630>"
            ]
          },
          "metadata": {
            "tags": []
          },
          "execution_count": 65
        },
        {
          "output_type": "display_data",
          "data": {
            "image/png": "[encoded data removed]",
            "text/plain": [
              "<Figure size 432x288 with 1 Axes>"
            ]
          },
          "metadata": {
            "tags": [],
            "needs_background": "light"
          }
        }
      ]
    },
    {
      "cell_type": "code",
      "metadata": {
        "id": "cIP6Is-DRsaL",
        "colab": {
          "base_uri": "https://localhost:8080/",
          "height": 297
        },
        "outputId": "95cdc873-acc6-4181-d3d6-d511cd168536"
      },
      "source": [
        "import pyspark.sql.functions as f\n",
        "import matplotlib.pyplot as plt\n",
        "\n",
        "#precisa ter o matplotlib\n",
        "%matplotlib inline\n",
        "\n",
        "timeline_sales_pivot = timeline_sales \\\n",
        "    .groupBy(\"Year\")\\\n",
        "    .pivot(\"Platform\")\\\n",
        "    .agg(f.sum(\"Global_sales_Total\"))\n",
        "\n",
        "#display_df(timeline_sales_pivot)\n",
        "\n",
        "timeline_sales_pivot.toPandas()\\\n",
        "    .set_index(\"Year\").plot()\n",
        "\n",
        "#como plotar um gráfico de barras aqui?"
      ],
      "execution_count": null,
      "outputs": [
        {
          "output_type": "execute_result",
          "data": {
            "text/plain": [
              "<matplotlib.axes._subplots.AxesSubplot at 0x7fa860655b70>"
            ]
          },
          "metadata": {
            "tags": []
          },
          "execution_count": 66
        },
        {
          "output_type": "display_data",
          "data": {
            "image/png": "[encoded data removed]",
            "text/plain": [
              "<Figure size 432x288 with 1 Axes>"
            ]
          },
          "metadata": {
            "tags": [],
            "needs_background": "light"
          }
        }
      ]
    },
    {
      "cell_type": "markdown",
      "metadata": {
        "id": "5nxabWgb65nS"
      },
      "source": [
        "# Exercícios - pt1\n",
        "\n",
        "1)  Utilizando a API em Python do Spark (PySpark) retorne um novo dataframe contendo duas colunas: o nome do console (coluna Platform) e a contagem de jogos em cada plataforma no ano de 2010, ordenado pela contagem decrescentemente:"
      ]
    },
    {
      "cell_type": "code",
      "metadata": {
        "id": "hIGXs64X7SEa",
        "colab": {
          "base_uri": "https://localhost:8080/"
        },
        "outputId": "e360347a-7184-4b1d-ef20-a3ef443993dd"
      },
      "source": [
        "!pip install pandas\n",
        "!pip install matplotlib"
      ],
      "execution_count": null,
      "outputs": [
        {
          "output_type": "stream",
          "text": [
            "Requirement already satisfied: pandas in /usr/local/lib/python3.6/dist-packages (1.1.4)\n",
            "Requirement already satisfied: python-dateutil>=2.7.3 in /usr/local/lib/python3.6/dist-packages (from pandas) (2.8.1)\n",
            "Requirement already satisfied: pytz>=2017.2 in /usr/local/lib/python3.6/dist-packages (from pandas) (2018.9)\n",
            "Requirement already satisfied: numpy>=1.15.4 in /usr/local/lib/python3.6/dist-packages (from pandas) (1.18.5)\n",
            "Requirement already satisfied: six>=1.5 in /usr/local/lib/python3.6/dist-packages (from python-dateutil>=2.7.3->pandas) (1.15.0)\n",
            "Requirement already satisfied: matplotlib in /usr/local/lib/python3.6/dist-packages (3.2.2)\n",
            "Requirement already satisfied: python-dateutil>=2.1 in /usr/local/lib/python3.6/dist-packages (from matplotlib) (2.8.1)\n",
            "Requirement already satisfied: numpy>=1.11 in /usr/local/lib/python3.6/dist-packages (from matplotlib) (1.18.5)\n",
            "Requirement already satisfied: cycler>=0.10 in /usr/local/lib/python3.6/dist-packages (from matplotlib) (0.10.0)\n",
            "Requirement already satisfied: pyparsing!=2.0.4,!=2.1.2,!=2.1.6,>=2.0.1 in /usr/local/lib/python3.6/dist-packages (from matplotlib) (2.4.7)\n",
            "Requirement already satisfied: kiwisolver>=1.0.1 in /usr/local/lib/python3.6/dist-packages (from matplotlib) (1.3.1)\n",
            "Requirement already satisfied: six>=1.5 in /usr/local/lib/python3.6/dist-packages (from python-dateutil>=2.1->matplotlib) (1.15.0)\n"
          ],
          "name": "stdout"
        }
      ]
    },
    {
      "cell_type": "code",
      "metadata": {
        "id": "823D-YMP9HO0"
      },
      "source": [
        "data_dir = '/content/drive/My Drive/Big Data/vgsales.csv'"
      ],
      "execution_count": null,
      "outputs": []
    },
    {
      "cell_type": "code",
      "metadata": {
        "id": "ilbsuqoV9MEV"
      },
      "source": [
        "df = spark.read.load(data_dir, format=\"csv\", header=\"true\")"
      ],
      "execution_count": null,
      "outputs": []
    },
    {
      "cell_type": "code",
      "metadata": {
        "id": "YCjHp7OR7cDZ"
      },
      "source": [
        "import pyspark.sql.functions as f"
      ],
      "execution_count": null,
      "outputs": []
    },
    {
      "cell_type": "code",
      "metadata": {
        "id": "BxQg033L7lR-",
        "colab": {
          "base_uri": "https://localhost:8080/",
          "height": 269
        },
        "outputId": "8fe98c21-dd51-4d32-bfa6-32285aee0f52"
      },
      "source": [
        "sales_count_2010 = df.select(\"Platform\", \"Global_Sales\") \\\n",
        "    .filter(f.col(\"Year\") == 2010) \\\n",
        "    .groupBy('Platform')\\\n",
        "    .agg(\n",
        "        f.count(\"Global_sales\").alias(\"Global_sales_TotalQuantity\")\n",
        "        )\\\n",
        "    .orderBy(f.desc('Global_sales_TotalQuantity'))\n",
        "\n",
        "display_df(sales_count_2010)\n",
        "\n"
      ],
      "execution_count": null,
      "outputs": [
        {
          "output_type": "execute_result",
          "data": {
            "text/html": [
              "<div>\n",
              "<style scoped>\n",
              "    .dataframe tbody tr th:only-of-type {\n",
              "        vertical-align: middle;\n",
              "    }\n",
              "\n",
              "    .dataframe tbody tr th {\n",
              "        vertical-align: top;\n",
              "    }\n",
              "\n",
              "    .dataframe thead th {\n",
              "        text-align: right;\n",
              "    }\n",
              "</style>\n",
              "<table border=\"1\" class=\"dataframe\">\n",
              "  <thead>\n",
              "    <tr style=\"text-align: right;\">\n",
              "      <th></th>\n",
              "      <th>Platform</th>\n",
              "      <th>Global_sales_TotalQuantity</th>\n",
              "    </tr>\n",
              "  </thead>\n",
              "  <tbody>\n",
              "    <tr>\n",
              "      <th>0</th>\n",
              "      <td>DS</td>\n",
              "      <td>326</td>\n",
              "    </tr>\n",
              "    <tr>\n",
              "      <th>1</th>\n",
              "      <td>Wii</td>\n",
              "      <td>254</td>\n",
              "    </tr>\n",
              "    <tr>\n",
              "      <th>2</th>\n",
              "      <td>PSP</td>\n",
              "      <td>188</td>\n",
              "    </tr>\n",
              "    <tr>\n",
              "      <th>3</th>\n",
              "      <td>X360</td>\n",
              "      <td>182</td>\n",
              "    </tr>\n",
              "    <tr>\n",
              "      <th>4</th>\n",
              "      <td>PS3</td>\n",
              "      <td>181</td>\n",
              "    </tr>\n",
              "    <tr>\n",
              "      <th>5</th>\n",
              "      <td>PC</td>\n",
              "      <td>90</td>\n",
              "    </tr>\n",
              "    <tr>\n",
              "      <th>6</th>\n",
              "      <td>PS2</td>\n",
              "      <td>38</td>\n",
              "    </tr>\n",
              "  </tbody>\n",
              "</table>\n",
              "</div>"
            ],
            "text/plain": [
              "  Platform  Global_sales_TotalQuantity\n",
              "0       DS                         326\n",
              "1      Wii                         254\n",
              "2      PSP                         188\n",
              "3     X360                         182\n",
              "4      PS3                         181\n",
              "5       PC                          90\n",
              "6      PS2                          38"
            ]
          },
          "metadata": {
            "tags": []
          },
          "execution_count": 71
        }
      ]
    },
    {
      "cell_type": "markdown",
      "metadata": {
        "id": "1BH6lysw9-kN"
      },
      "source": [
        "2) Utilizando SQL, retorne o total arrecadado (coluna Global_Sales) por produtora (coluna Publisher) entre os anos 2000 e 2010 ordenado decrescentemente pelo total arrecadado"
      ]
    },
    {
      "cell_type": "code",
      "metadata": {
        "id": "vWBhbwD8_8Z_",
        "colab": {
          "base_uri": "https://localhost:8080/",
          "height": 677
        },
        "outputId": "df806959-b5f0-484b-d7fb-64de9e4e623e"
      },
      "source": [
        "#como filtrar em intervalos\n",
        "\n",
        "df.createOrReplaceTempView(\"videogame_sales\")\n",
        "\n",
        "sales_publisher_upto2010 = spark.sql(\"\"\"\n",
        "    SELECT Publisher, \n",
        "        SUM(Global_Sales) AS Global_sales_Total\n",
        "    FROM videogame_sales\n",
        "    WHERE Year >= 2000 AND Year <=2010\n",
        "    GROUP BY Publisher\n",
        "    ORDER BY Global_sales_Total DESC\n",
        "\"\"\")\n",
        "\n",
        "display_df(sales_publisher_upto2010)\n"
      ],
      "execution_count": null,
      "outputs": [
        {
          "output_type": "execute_result",
          "data": {
            "text/html": [
              "<div>\n",
              "<style scoped>\n",
              "    .dataframe tbody tr th:only-of-type {\n",
              "        vertical-align: middle;\n",
              "    }\n",
              "\n",
              "    .dataframe tbody tr th {\n",
              "        vertical-align: top;\n",
              "    }\n",
              "\n",
              "    .dataframe thead th {\n",
              "        text-align: right;\n",
              "    }\n",
              "</style>\n",
              "<table border=\"1\" class=\"dataframe\">\n",
              "  <thead>\n",
              "    <tr style=\"text-align: right;\">\n",
              "      <th></th>\n",
              "      <th>Publisher</th>\n",
              "      <th>Global_sales_Total</th>\n",
              "    </tr>\n",
              "  </thead>\n",
              "  <tbody>\n",
              "    <tr>\n",
              "      <th>0</th>\n",
              "      <td>Nintendo</td>\n",
              "      <td>944.96</td>\n",
              "    </tr>\n",
              "    <tr>\n",
              "      <th>1</th>\n",
              "      <td>Electronic Arts</td>\n",
              "      <td>728.87</td>\n",
              "    </tr>\n",
              "    <tr>\n",
              "      <th>2</th>\n",
              "      <td>Activision</td>\n",
              "      <td>444.84</td>\n",
              "    </tr>\n",
              "    <tr>\n",
              "      <th>3</th>\n",
              "      <td>Sony Computer Entertainment</td>\n",
              "      <td>346.10</td>\n",
              "    </tr>\n",
              "    <tr>\n",
              "      <th>4</th>\n",
              "      <td>Ubisoft</td>\n",
              "      <td>287.67</td>\n",
              "    </tr>\n",
              "    <tr>\n",
              "      <th>5</th>\n",
              "      <td>THQ</td>\n",
              "      <td>286.91</td>\n",
              "    </tr>\n",
              "    <tr>\n",
              "      <th>6</th>\n",
              "      <td>Take-Two Interactive</td>\n",
              "      <td>249.25</td>\n",
              "    </tr>\n",
              "    <tr>\n",
              "      <th>7</th>\n",
              "      <td>Konami Digital Entertainment</td>\n",
              "      <td>186.14</td>\n",
              "    </tr>\n",
              "    <tr>\n",
              "      <th>8</th>\n",
              "      <td>Sega</td>\n",
              "      <td>183.33</td>\n",
              "    </tr>\n",
              "    <tr>\n",
              "      <th>9</th>\n",
              "      <td>Microsoft Game Studios</td>\n",
              "      <td>165.89</td>\n",
              "    </tr>\n",
              "    <tr>\n",
              "      <th>10</th>\n",
              "      <td>Namco Bandai Games</td>\n",
              "      <td>124.67</td>\n",
              "    </tr>\n",
              "    <tr>\n",
              "      <th>11</th>\n",
              "      <td>Capcom</td>\n",
              "      <td>117.57</td>\n",
              "    </tr>\n",
              "    <tr>\n",
              "      <th>12</th>\n",
              "      <td>Atari</td>\n",
              "      <td>101.41</td>\n",
              "    </tr>\n",
              "    <tr>\n",
              "      <th>13</th>\n",
              "      <td>Disney Interactive Studios</td>\n",
              "      <td>87.10</td>\n",
              "    </tr>\n",
              "    <tr>\n",
              "      <th>14</th>\n",
              "      <td>Square Enix</td>\n",
              "      <td>85.30</td>\n",
              "    </tr>\n",
              "    <tr>\n",
              "      <th>15</th>\n",
              "      <td>LucasArts</td>\n",
              "      <td>71.09</td>\n",
              "    </tr>\n",
              "    <tr>\n",
              "      <th>16</th>\n",
              "      <td>Midway Games</td>\n",
              "      <td>58.52</td>\n",
              "    </tr>\n",
              "    <tr>\n",
              "      <th>17</th>\n",
              "      <td>Eidos Interactive</td>\n",
              "      <td>57.99</td>\n",
              "    </tr>\n",
              "    <tr>\n",
              "      <th>18</th>\n",
              "      <td>Vivendi Games</td>\n",
              "      <td>52.30</td>\n",
              "    </tr>\n",
              "    <tr>\n",
              "      <th>19</th>\n",
              "      <td>505 Games</td>\n",
              "      <td>45.07</td>\n",
              "    </tr>\n",
              "  </tbody>\n",
              "</table>\n",
              "</div>"
            ],
            "text/plain": [
              "                       Publisher  Global_sales_Total\n",
              "0                       Nintendo              944.96\n",
              "1                Electronic Arts              728.87\n",
              "2                     Activision              444.84\n",
              "3    Sony Computer Entertainment              346.10\n",
              "4                        Ubisoft              287.67\n",
              "5                            THQ              286.91\n",
              "6           Take-Two Interactive              249.25\n",
              "7   Konami Digital Entertainment              186.14\n",
              "8                           Sega              183.33\n",
              "9         Microsoft Game Studios              165.89\n",
              "10            Namco Bandai Games              124.67\n",
              "11                        Capcom              117.57\n",
              "12                         Atari              101.41\n",
              "13    Disney Interactive Studios               87.10\n",
              "14                   Square Enix               85.30\n",
              "15                     LucasArts               71.09\n",
              "16                  Midway Games               58.52\n",
              "17             Eidos Interactive               57.99\n",
              "18                 Vivendi Games               52.30\n",
              "19                     505 Games               45.07"
            ]
          },
          "metadata": {
            "tags": []
          },
          "execution_count": 72
        }
      ]
    },
    {
      "cell_type": "markdown",
      "metadata": {
        "id": "pSsHnriF_RS6"
      },
      "source": [
        "3) Utilizando a API em Python do Spark (PySpark), escreva uma sequência de transformações que retorne um dataframe contendo o total das vendas Global_Sales por Publisher em cada ano compreendido entre 2000 e 2010:"
      ]
    },
    {
      "cell_type": "code",
      "metadata": {
        "id": "SeteA_74Cs72",
        "colab": {
          "base_uri": "https://localhost:8080/",
          "height": 677
        },
        "outputId": "670fd7e6-eb33-4372-b554-81dce9286d5c"
      },
      "source": [
        "#como filtrar em intervalos\n",
        "\n",
        "sales_total_upto2010 = df.select(\"Publisher\", \"Global_Sales\",'Year')\\\n",
        "  .filter((f.col('Year')>=2000)&(f.col('Year')<=2010))\\\n",
        "  .groupBy('Publisher')\\\n",
        "  .pivot('Year')\\\n",
        "  .agg(f.sum('Global_Sales'))\\\n",
        "  .na.fill(0)\n",
        "\n",
        "display_df(sales_total_upto2010)"
      ],
      "execution_count": null,
      "outputs": [
        {
          "output_type": "execute_result",
          "data": {
            "text/html": [
              "<div>\n",
              "<style scoped>\n",
              "    .dataframe tbody tr th:only-of-type {\n",
              "        vertical-align: middle;\n",
              "    }\n",
              "\n",
              "    .dataframe tbody tr th {\n",
              "        vertical-align: top;\n",
              "    }\n",
              "\n",
              "    .dataframe thead th {\n",
              "        text-align: right;\n",
              "    }\n",
              "</style>\n",
              "<table border=\"1\" class=\"dataframe\">\n",
              "  <thead>\n",
              "    <tr style=\"text-align: right;\">\n",
              "      <th></th>\n",
              "      <th>Publisher</th>\n",
              "      <th>2000</th>\n",
              "      <th>2001</th>\n",
              "      <th>2002</th>\n",
              "      <th>2003</th>\n",
              "      <th>2004</th>\n",
              "      <th>2005</th>\n",
              "      <th>2006</th>\n",
              "      <th>2007</th>\n",
              "      <th>2008</th>\n",
              "      <th>2009</th>\n",
              "      <th>2010</th>\n",
              "    </tr>\n",
              "  </thead>\n",
              "  <tbody>\n",
              "    <tr>\n",
              "      <th>0</th>\n",
              "      <td>Media Rings</td>\n",
              "      <td>0.00</td>\n",
              "      <td>0.00</td>\n",
              "      <td>0.19</td>\n",
              "      <td>0.00</td>\n",
              "      <td>0.00</td>\n",
              "      <td>0.00</td>\n",
              "      <td>0.00</td>\n",
              "      <td>0.00</td>\n",
              "      <td>0.00</td>\n",
              "      <td>0.00</td>\n",
              "      <td>0.00</td>\n",
              "    </tr>\n",
              "    <tr>\n",
              "      <th>1</th>\n",
              "      <td>bitComposer Games</td>\n",
              "      <td>0.00</td>\n",
              "      <td>0.00</td>\n",
              "      <td>0.00</td>\n",
              "      <td>0.00</td>\n",
              "      <td>0.00</td>\n",
              "      <td>0.00</td>\n",
              "      <td>0.00</td>\n",
              "      <td>0.00</td>\n",
              "      <td>0.00</td>\n",
              "      <td>0.03</td>\n",
              "      <td>0.00</td>\n",
              "    </tr>\n",
              "    <tr>\n",
              "      <th>2</th>\n",
              "      <td>Telegames</td>\n",
              "      <td>0.00</td>\n",
              "      <td>0.00</td>\n",
              "      <td>0.00</td>\n",
              "      <td>0.20</td>\n",
              "      <td>0.00</td>\n",
              "      <td>0.02</td>\n",
              "      <td>0.00</td>\n",
              "      <td>0.54</td>\n",
              "      <td>0.08</td>\n",
              "      <td>0.00</td>\n",
              "      <td>0.17</td>\n",
              "    </tr>\n",
              "    <tr>\n",
              "      <th>3</th>\n",
              "      <td>3DO</td>\n",
              "      <td>3.08</td>\n",
              "      <td>1.45</td>\n",
              "      <td>0.60</td>\n",
              "      <td>0.45</td>\n",
              "      <td>0.00</td>\n",
              "      <td>0.00</td>\n",
              "      <td>0.00</td>\n",
              "      <td>0.00</td>\n",
              "      <td>0.00</td>\n",
              "      <td>0.00</td>\n",
              "      <td>0.00</td>\n",
              "    </tr>\n",
              "    <tr>\n",
              "      <th>4</th>\n",
              "      <td>Sting</td>\n",
              "      <td>0.00</td>\n",
              "      <td>0.00</td>\n",
              "      <td>0.00</td>\n",
              "      <td>0.00</td>\n",
              "      <td>0.10</td>\n",
              "      <td>0.00</td>\n",
              "      <td>0.03</td>\n",
              "      <td>0.11</td>\n",
              "      <td>0.38</td>\n",
              "      <td>0.00</td>\n",
              "      <td>0.03</td>\n",
              "    </tr>\n",
              "    <tr>\n",
              "      <th>5</th>\n",
              "      <td>Jack of All Games</td>\n",
              "      <td>0.00</td>\n",
              "      <td>0.00</td>\n",
              "      <td>0.00</td>\n",
              "      <td>0.00</td>\n",
              "      <td>0.00</td>\n",
              "      <td>0.38</td>\n",
              "      <td>0.00</td>\n",
              "      <td>0.00</td>\n",
              "      <td>0.00</td>\n",
              "      <td>0.00</td>\n",
              "      <td>0.00</td>\n",
              "    </tr>\n",
              "    <tr>\n",
              "      <th>6</th>\n",
              "      <td>Game Life</td>\n",
              "      <td>0.00</td>\n",
              "      <td>0.00</td>\n",
              "      <td>0.00</td>\n",
              "      <td>0.00</td>\n",
              "      <td>0.00</td>\n",
              "      <td>0.00</td>\n",
              "      <td>0.00</td>\n",
              "      <td>0.13</td>\n",
              "      <td>0.00</td>\n",
              "      <td>0.17</td>\n",
              "      <td>0.00</td>\n",
              "    </tr>\n",
              "    <tr>\n",
              "      <th>7</th>\n",
              "      <td>IE Institute</td>\n",
              "      <td>0.00</td>\n",
              "      <td>0.00</td>\n",
              "      <td>0.00</td>\n",
              "      <td>0.00</td>\n",
              "      <td>0.00</td>\n",
              "      <td>0.00</td>\n",
              "      <td>0.73</td>\n",
              "      <td>0.17</td>\n",
              "      <td>0.04</td>\n",
              "      <td>0.00</td>\n",
              "      <td>0.00</td>\n",
              "    </tr>\n",
              "    <tr>\n",
              "      <th>8</th>\n",
              "      <td>Karin Entertainment</td>\n",
              "      <td>0.00</td>\n",
              "      <td>0.00</td>\n",
              "      <td>0.00</td>\n",
              "      <td>0.00</td>\n",
              "      <td>0.00</td>\n",
              "      <td>0.00</td>\n",
              "      <td>0.00</td>\n",
              "      <td>0.00</td>\n",
              "      <td>0.00</td>\n",
              "      <td>0.00</td>\n",
              "      <td>0.02</td>\n",
              "    </tr>\n",
              "    <tr>\n",
              "      <th>9</th>\n",
              "      <td>Infogrames</td>\n",
              "      <td>1.66</td>\n",
              "      <td>2.12</td>\n",
              "      <td>8.46</td>\n",
              "      <td>0.14</td>\n",
              "      <td>0.00</td>\n",
              "      <td>0.00</td>\n",
              "      <td>0.00</td>\n",
              "      <td>0.00</td>\n",
              "      <td>0.00</td>\n",
              "      <td>0.00</td>\n",
              "      <td>0.00</td>\n",
              "    </tr>\n",
              "    <tr>\n",
              "      <th>10</th>\n",
              "      <td>Enterbrain</td>\n",
              "      <td>0.00</td>\n",
              "      <td>0.43</td>\n",
              "      <td>0.33</td>\n",
              "      <td>0.00</td>\n",
              "      <td>0.61</td>\n",
              "      <td>0.00</td>\n",
              "      <td>0.16</td>\n",
              "      <td>0.01</td>\n",
              "      <td>0.38</td>\n",
              "      <td>0.13</td>\n",
              "      <td>0.18</td>\n",
              "    </tr>\n",
              "    <tr>\n",
              "      <th>11</th>\n",
              "      <td>Illusion Softworks</td>\n",
              "      <td>0.00</td>\n",
              "      <td>0.00</td>\n",
              "      <td>0.00</td>\n",
              "      <td>0.00</td>\n",
              "      <td>0.70</td>\n",
              "      <td>0.00</td>\n",
              "      <td>0.00</td>\n",
              "      <td>0.00</td>\n",
              "      <td>0.00</td>\n",
              "      <td>0.00</td>\n",
              "      <td>0.00</td>\n",
              "    </tr>\n",
              "    <tr>\n",
              "      <th>12</th>\n",
              "      <td>Pioneer LDC</td>\n",
              "      <td>0.00</td>\n",
              "      <td>0.05</td>\n",
              "      <td>0.00</td>\n",
              "      <td>0.00</td>\n",
              "      <td>0.00</td>\n",
              "      <td>0.00</td>\n",
              "      <td>0.00</td>\n",
              "      <td>0.00</td>\n",
              "      <td>0.00</td>\n",
              "      <td>0.00</td>\n",
              "      <td>0.00</td>\n",
              "    </tr>\n",
              "    <tr>\n",
              "      <th>13</th>\n",
              "      <td>Gust</td>\n",
              "      <td>0.00</td>\n",
              "      <td>0.09</td>\n",
              "      <td>0.07</td>\n",
              "      <td>0.00</td>\n",
              "      <td>0.00</td>\n",
              "      <td>0.00</td>\n",
              "      <td>0.00</td>\n",
              "      <td>0.04</td>\n",
              "      <td>0.20</td>\n",
              "      <td>0.14</td>\n",
              "      <td>0.03</td>\n",
              "    </tr>\n",
              "    <tr>\n",
              "      <th>14</th>\n",
              "      <td>Storm City Games</td>\n",
              "      <td>0.00</td>\n",
              "      <td>0.00</td>\n",
              "      <td>0.00</td>\n",
              "      <td>0.00</td>\n",
              "      <td>0.00</td>\n",
              "      <td>0.00</td>\n",
              "      <td>0.00</td>\n",
              "      <td>0.00</td>\n",
              "      <td>0.00</td>\n",
              "      <td>0.36</td>\n",
              "      <td>1.11</td>\n",
              "    </tr>\n",
              "    <tr>\n",
              "      <th>15</th>\n",
              "      <td>Vatical Entertainment</td>\n",
              "      <td>0.22</td>\n",
              "      <td>0.00</td>\n",
              "      <td>0.00</td>\n",
              "      <td>0.00</td>\n",
              "      <td>0.00</td>\n",
              "      <td>0.00</td>\n",
              "      <td>0.00</td>\n",
              "      <td>0.00</td>\n",
              "      <td>0.00</td>\n",
              "      <td>0.00</td>\n",
              "      <td>0.00</td>\n",
              "    </tr>\n",
              "    <tr>\n",
              "      <th>16</th>\n",
              "      <td>Jorudan</td>\n",
              "      <td>0.00</td>\n",
              "      <td>0.00</td>\n",
              "      <td>0.36</td>\n",
              "      <td>0.29</td>\n",
              "      <td>0.00</td>\n",
              "      <td>0.00</td>\n",
              "      <td>0.00</td>\n",
              "      <td>0.00</td>\n",
              "      <td>0.00</td>\n",
              "      <td>0.00</td>\n",
              "      <td>0.00</td>\n",
              "    </tr>\n",
              "    <tr>\n",
              "      <th>17</th>\n",
              "      <td>Navarre Corp</td>\n",
              "      <td>0.00</td>\n",
              "      <td>0.00</td>\n",
              "      <td>0.00</td>\n",
              "      <td>0.00</td>\n",
              "      <td>0.00</td>\n",
              "      <td>0.00</td>\n",
              "      <td>0.00</td>\n",
              "      <td>0.00</td>\n",
              "      <td>0.05</td>\n",
              "      <td>0.00</td>\n",
              "      <td>0.00</td>\n",
              "    </tr>\n",
              "    <tr>\n",
              "      <th>18</th>\n",
              "      <td>Naxat Soft</td>\n",
              "      <td>0.00</td>\n",
              "      <td>0.00</td>\n",
              "      <td>0.00</td>\n",
              "      <td>0.00</td>\n",
              "      <td>0.00</td>\n",
              "      <td>0.00</td>\n",
              "      <td>0.00</td>\n",
              "      <td>0.00</td>\n",
              "      <td>0.01</td>\n",
              "      <td>0.00</td>\n",
              "      <td>0.00</td>\n",
              "    </tr>\n",
              "    <tr>\n",
              "      <th>19</th>\n",
              "      <td>DHM Interactive</td>\n",
              "      <td>0.00</td>\n",
              "      <td>0.00</td>\n",
              "      <td>0.00</td>\n",
              "      <td>0.00</td>\n",
              "      <td>0.00</td>\n",
              "      <td>0.00</td>\n",
              "      <td>0.00</td>\n",
              "      <td>0.14</td>\n",
              "      <td>0.00</td>\n",
              "      <td>0.04</td>\n",
              "      <td>0.00</td>\n",
              "    </tr>\n",
              "  </tbody>\n",
              "</table>\n",
              "</div>"
            ],
            "text/plain": [
              "                Publisher  2000  2001  2002  2003  ...  2006  2007  2008  2009  2010\n",
              "0             Media Rings  0.00  0.00  0.19  0.00  ...  0.00  0.00  0.00  0.00  0.00\n",
              "1       bitComposer Games  0.00  0.00  0.00  0.00  ...  0.00  0.00  0.00  0.03  0.00\n",
              "2               Telegames  0.00  0.00  0.00  0.20  ...  0.00  0.54  0.08  0.00  0.17\n",
              "3                     3DO  3.08  1.45  0.60  0.45  ...  0.00  0.00  0.00  0.00  0.00\n",
              "4                   Sting  0.00  0.00  0.00  0.00  ...  0.03  0.11  0.38  0.00  0.03\n",
              "5       Jack of All Games  0.00  0.00  0.00  0.00  ...  0.00  0.00  0.00  0.00  0.00\n",
              "6               Game Life  0.00  0.00  0.00  0.00  ...  0.00  0.13  0.00  0.17  0.00\n",
              "7            IE Institute  0.00  0.00  0.00  0.00  ...  0.73  0.17  0.04  0.00  0.00\n",
              "8     Karin Entertainment  0.00  0.00  0.00  0.00  ...  0.00  0.00  0.00  0.00  0.02\n",
              "9              Infogrames  1.66  2.12  8.46  0.14  ...  0.00  0.00  0.00  0.00  0.00\n",
              "10             Enterbrain  0.00  0.43  0.33  0.00  ...  0.16  0.01  0.38  0.13  0.18\n",
              "11     Illusion Softworks  0.00  0.00  0.00  0.00  ...  0.00  0.00  0.00  0.00  0.00\n",
              "12            Pioneer LDC  0.00  0.05  0.00  0.00  ...  0.00  0.00  0.00  0.00  0.00\n",
              "13                   Gust  0.00  0.09  0.07  0.00  ...  0.00  0.04  0.20  0.14  0.03\n",
              "14       Storm City Games  0.00  0.00  0.00  0.00  ...  0.00  0.00  0.00  0.36  1.11\n",
              "15  Vatical Entertainment  0.22  0.00  0.00  0.00  ...  0.00  0.00  0.00  0.00  0.00\n",
              "16                Jorudan  0.00  0.00  0.36  0.29  ...  0.00  0.00  0.00  0.00  0.00\n",
              "17           Navarre Corp  0.00  0.00  0.00  0.00  ...  0.00  0.00  0.05  0.00  0.00\n",
              "18             Naxat Soft  0.00  0.00  0.00  0.00  ...  0.00  0.00  0.01  0.00  0.00\n",
              "19        DHM Interactive  0.00  0.00  0.00  0.00  ...  0.00  0.14  0.00  0.04  0.00\n",
              "\n",
              "[20 rows x 12 columns]"
            ]
          },
          "metadata": {
            "tags": []
          },
          "execution_count": 73
        }
      ]
    },
    {
      "cell_type": "code",
      "metadata": {
        "id": "gDoLHgkAE_-d",
        "colab": {
          "base_uri": "https://localhost:8080/",
          "height": 677
        },
        "outputId": "38fd040a-894d-4954-d772-898cad5c5d60"
      },
      "source": [
        "#correção do professor\n",
        "\n",
        "#o pivot criar colunas com o item que você está avaliando\n",
        "\n",
        "import pyspark.sql.functions as f\n",
        " \n",
        "df4 = df.select(\"Publisher\", \"Year\", \"Global_Sales\") \\\n",
        "    .filter((f.col(\"Year\") >= 2000) & (f.col(\"Year\") <= 2010)) \\\n",
        "    .groupBy(\"Publisher\") \\\n",
        "    .pivot(\"Year\") \\\n",
        "    .agg(f.sum(\"Global_Sales\")) \\\n",
        "    .na.fill(0)\n",
        " \n",
        "display_df(df4)\n",
        "\n"
      ],
      "execution_count": null,
      "outputs": [
        {
          "output_type": "execute_result",
          "data": {
            "text/html": [
              "<div>\n",
              "<style scoped>\n",
              "    .dataframe tbody tr th:only-of-type {\n",
              "        vertical-align: middle;\n",
              "    }\n",
              "\n",
              "    .dataframe tbody tr th {\n",
              "        vertical-align: top;\n",
              "    }\n",
              "\n",
              "    .dataframe thead th {\n",
              "        text-align: right;\n",
              "    }\n",
              "</style>\n",
              "<table border=\"1\" class=\"dataframe\">\n",
              "  <thead>\n",
              "    <tr style=\"text-align: right;\">\n",
              "      <th></th>\n",
              "      <th>Publisher</th>\n",
              "      <th>2000</th>\n",
              "      <th>2001</th>\n",
              "      <th>2002</th>\n",
              "      <th>2003</th>\n",
              "      <th>2004</th>\n",
              "      <th>2005</th>\n",
              "      <th>2006</th>\n",
              "      <th>2007</th>\n",
              "      <th>2008</th>\n",
              "      <th>2009</th>\n",
              "      <th>2010</th>\n",
              "    </tr>\n",
              "  </thead>\n",
              "  <tbody>\n",
              "    <tr>\n",
              "      <th>0</th>\n",
              "      <td>Media Rings</td>\n",
              "      <td>0.00</td>\n",
              "      <td>0.00</td>\n",
              "      <td>0.19</td>\n",
              "      <td>0.00</td>\n",
              "      <td>0.00</td>\n",
              "      <td>0.00</td>\n",
              "      <td>0.00</td>\n",
              "      <td>0.00</td>\n",
              "      <td>0.00</td>\n",
              "      <td>0.00</td>\n",
              "      <td>0.00</td>\n",
              "    </tr>\n",
              "    <tr>\n",
              "      <th>1</th>\n",
              "      <td>bitComposer Games</td>\n",
              "      <td>0.00</td>\n",
              "      <td>0.00</td>\n",
              "      <td>0.00</td>\n",
              "      <td>0.00</td>\n",
              "      <td>0.00</td>\n",
              "      <td>0.00</td>\n",
              "      <td>0.00</td>\n",
              "      <td>0.00</td>\n",
              "      <td>0.00</td>\n",
              "      <td>0.03</td>\n",
              "      <td>0.00</td>\n",
              "    </tr>\n",
              "    <tr>\n",
              "      <th>2</th>\n",
              "      <td>Telegames</td>\n",
              "      <td>0.00</td>\n",
              "      <td>0.00</td>\n",
              "      <td>0.00</td>\n",
              "      <td>0.20</td>\n",
              "      <td>0.00</td>\n",
              "      <td>0.02</td>\n",
              "      <td>0.00</td>\n",
              "      <td>0.54</td>\n",
              "      <td>0.08</td>\n",
              "      <td>0.00</td>\n",
              "      <td>0.17</td>\n",
              "    </tr>\n",
              "    <tr>\n",
              "      <th>3</th>\n",
              "      <td>3DO</td>\n",
              "      <td>3.08</td>\n",
              "      <td>1.45</td>\n",
              "      <td>0.60</td>\n",
              "      <td>0.45</td>\n",
              "      <td>0.00</td>\n",
              "      <td>0.00</td>\n",
              "      <td>0.00</td>\n",
              "      <td>0.00</td>\n",
              "      <td>0.00</td>\n",
              "      <td>0.00</td>\n",
              "      <td>0.00</td>\n",
              "    </tr>\n",
              "    <tr>\n",
              "      <th>4</th>\n",
              "      <td>Sting</td>\n",
              "      <td>0.00</td>\n",
              "      <td>0.00</td>\n",
              "      <td>0.00</td>\n",
              "      <td>0.00</td>\n",
              "      <td>0.10</td>\n",
              "      <td>0.00</td>\n",
              "      <td>0.03</td>\n",
              "      <td>0.11</td>\n",
              "      <td>0.38</td>\n",
              "      <td>0.00</td>\n",
              "      <td>0.03</td>\n",
              "    </tr>\n",
              "    <tr>\n",
              "      <th>5</th>\n",
              "      <td>Jack of All Games</td>\n",
              "      <td>0.00</td>\n",
              "      <td>0.00</td>\n",
              "      <td>0.00</td>\n",
              "      <td>0.00</td>\n",
              "      <td>0.00</td>\n",
              "      <td>0.38</td>\n",
              "      <td>0.00</td>\n",
              "      <td>0.00</td>\n",
              "      <td>0.00</td>\n",
              "      <td>0.00</td>\n",
              "      <td>0.00</td>\n",
              "    </tr>\n",
              "    <tr>\n",
              "      <th>6</th>\n",
              "      <td>Game Life</td>\n",
              "      <td>0.00</td>\n",
              "      <td>0.00</td>\n",
              "      <td>0.00</td>\n",
              "      <td>0.00</td>\n",
              "      <td>0.00</td>\n",
              "      <td>0.00</td>\n",
              "      <td>0.00</td>\n",
              "      <td>0.13</td>\n",
              "      <td>0.00</td>\n",
              "      <td>0.17</td>\n",
              "      <td>0.00</td>\n",
              "    </tr>\n",
              "    <tr>\n",
              "      <th>7</th>\n",
              "      <td>IE Institute</td>\n",
              "      <td>0.00</td>\n",
              "      <td>0.00</td>\n",
              "      <td>0.00</td>\n",
              "      <td>0.00</td>\n",
              "      <td>0.00</td>\n",
              "      <td>0.00</td>\n",
              "      <td>0.73</td>\n",
              "      <td>0.17</td>\n",
              "      <td>0.04</td>\n",
              "      <td>0.00</td>\n",
              "      <td>0.00</td>\n",
              "    </tr>\n",
              "    <tr>\n",
              "      <th>8</th>\n",
              "      <td>Karin Entertainment</td>\n",
              "      <td>0.00</td>\n",
              "      <td>0.00</td>\n",
              "      <td>0.00</td>\n",
              "      <td>0.00</td>\n",
              "      <td>0.00</td>\n",
              "      <td>0.00</td>\n",
              "      <td>0.00</td>\n",
              "      <td>0.00</td>\n",
              "      <td>0.00</td>\n",
              "      <td>0.00</td>\n",
              "      <td>0.02</td>\n",
              "    </tr>\n",
              "    <tr>\n",
              "      <th>9</th>\n",
              "      <td>Infogrames</td>\n",
              "      <td>1.66</td>\n",
              "      <td>2.12</td>\n",
              "      <td>8.46</td>\n",
              "      <td>0.14</td>\n",
              "      <td>0.00</td>\n",
              "      <td>0.00</td>\n",
              "      <td>0.00</td>\n",
              "      <td>0.00</td>\n",
              "      <td>0.00</td>\n",
              "      <td>0.00</td>\n",
              "      <td>0.00</td>\n",
              "    </tr>\n",
              "    <tr>\n",
              "      <th>10</th>\n",
              "      <td>Enterbrain</td>\n",
              "      <td>0.00</td>\n",
              "      <td>0.43</td>\n",
              "      <td>0.33</td>\n",
              "      <td>0.00</td>\n",
              "      <td>0.61</td>\n",
              "      <td>0.00</td>\n",
              "      <td>0.16</td>\n",
              "      <td>0.01</td>\n",
              "      <td>0.38</td>\n",
              "      <td>0.13</td>\n",
              "      <td>0.18</td>\n",
              "    </tr>\n",
              "    <tr>\n",
              "      <th>11</th>\n",
              "      <td>Illusion Softworks</td>\n",
              "      <td>0.00</td>\n",
              "      <td>0.00</td>\n",
              "      <td>0.00</td>\n",
              "      <td>0.00</td>\n",
              "      <td>0.70</td>\n",
              "      <td>0.00</td>\n",
              "      <td>0.00</td>\n",
              "      <td>0.00</td>\n",
              "      <td>0.00</td>\n",
              "      <td>0.00</td>\n",
              "      <td>0.00</td>\n",
              "    </tr>\n",
              "    <tr>\n",
              "      <th>12</th>\n",
              "      <td>Pioneer LDC</td>\n",
              "      <td>0.00</td>\n",
              "      <td>0.05</td>\n",
              "      <td>0.00</td>\n",
              "      <td>0.00</td>\n",
              "      <td>0.00</td>\n",
              "      <td>0.00</td>\n",
              "      <td>0.00</td>\n",
              "      <td>0.00</td>\n",
              "      <td>0.00</td>\n",
              "      <td>0.00</td>\n",
              "      <td>0.00</td>\n",
              "    </tr>\n",
              "    <tr>\n",
              "      <th>13</th>\n",
              "      <td>Gust</td>\n",
              "      <td>0.00</td>\n",
              "      <td>0.09</td>\n",
              "      <td>0.07</td>\n",
              "      <td>0.00</td>\n",
              "      <td>0.00</td>\n",
              "      <td>0.00</td>\n",
              "      <td>0.00</td>\n",
              "      <td>0.04</td>\n",
              "      <td>0.20</td>\n",
              "      <td>0.14</td>\n",
              "      <td>0.03</td>\n",
              "    </tr>\n",
              "    <tr>\n",
              "      <th>14</th>\n",
              "      <td>Storm City Games</td>\n",
              "      <td>0.00</td>\n",
              "      <td>0.00</td>\n",
              "      <td>0.00</td>\n",
              "      <td>0.00</td>\n",
              "      <td>0.00</td>\n",
              "      <td>0.00</td>\n",
              "      <td>0.00</td>\n",
              "      <td>0.00</td>\n",
              "      <td>0.00</td>\n",
              "      <td>0.36</td>\n",
              "      <td>1.11</td>\n",
              "    </tr>\n",
              "    <tr>\n",
              "      <th>15</th>\n",
              "      <td>Vatical Entertainment</td>\n",
              "      <td>0.22</td>\n",
              "      <td>0.00</td>\n",
              "      <td>0.00</td>\n",
              "      <td>0.00</td>\n",
              "      <td>0.00</td>\n",
              "      <td>0.00</td>\n",
              "      <td>0.00</td>\n",
              "      <td>0.00</td>\n",
              "      <td>0.00</td>\n",
              "      <td>0.00</td>\n",
              "      <td>0.00</td>\n",
              "    </tr>\n",
              "    <tr>\n",
              "      <th>16</th>\n",
              "      <td>Jorudan</td>\n",
              "      <td>0.00</td>\n",
              "      <td>0.00</td>\n",
              "      <td>0.36</td>\n",
              "      <td>0.29</td>\n",
              "      <td>0.00</td>\n",
              "      <td>0.00</td>\n",
              "      <td>0.00</td>\n",
              "      <td>0.00</td>\n",
              "      <td>0.00</td>\n",
              "      <td>0.00</td>\n",
              "      <td>0.00</td>\n",
              "    </tr>\n",
              "    <tr>\n",
              "      <th>17</th>\n",
              "      <td>Navarre Corp</td>\n",
              "      <td>0.00</td>\n",
              "      <td>0.00</td>\n",
              "      <td>0.00</td>\n",
              "      <td>0.00</td>\n",
              "      <td>0.00</td>\n",
              "      <td>0.00</td>\n",
              "      <td>0.00</td>\n",
              "      <td>0.00</td>\n",
              "      <td>0.05</td>\n",
              "      <td>0.00</td>\n",
              "      <td>0.00</td>\n",
              "    </tr>\n",
              "    <tr>\n",
              "      <th>18</th>\n",
              "      <td>Naxat Soft</td>\n",
              "      <td>0.00</td>\n",
              "      <td>0.00</td>\n",
              "      <td>0.00</td>\n",
              "      <td>0.00</td>\n",
              "      <td>0.00</td>\n",
              "      <td>0.00</td>\n",
              "      <td>0.00</td>\n",
              "      <td>0.00</td>\n",
              "      <td>0.01</td>\n",
              "      <td>0.00</td>\n",
              "      <td>0.00</td>\n",
              "    </tr>\n",
              "    <tr>\n",
              "      <th>19</th>\n",
              "      <td>DHM Interactive</td>\n",
              "      <td>0.00</td>\n",
              "      <td>0.00</td>\n",
              "      <td>0.00</td>\n",
              "      <td>0.00</td>\n",
              "      <td>0.00</td>\n",
              "      <td>0.00</td>\n",
              "      <td>0.00</td>\n",
              "      <td>0.14</td>\n",
              "      <td>0.00</td>\n",
              "      <td>0.04</td>\n",
              "      <td>0.00</td>\n",
              "    </tr>\n",
              "  </tbody>\n",
              "</table>\n",
              "</div>"
            ],
            "text/plain": [
              "                Publisher  2000  2001  2002  2003  ...  2006  2007  2008  2009  2010\n",
              "0             Media Rings  0.00  0.00  0.19  0.00  ...  0.00  0.00  0.00  0.00  0.00\n",
              "1       bitComposer Games  0.00  0.00  0.00  0.00  ...  0.00  0.00  0.00  0.03  0.00\n",
              "2               Telegames  0.00  0.00  0.00  0.20  ...  0.00  0.54  0.08  0.00  0.17\n",
              "3                     3DO  3.08  1.45  0.60  0.45  ...  0.00  0.00  0.00  0.00  0.00\n",
              "4                   Sting  0.00  0.00  0.00  0.00  ...  0.03  0.11  0.38  0.00  0.03\n",
              "5       Jack of All Games  0.00  0.00  0.00  0.00  ...  0.00  0.00  0.00  0.00  0.00\n",
              "6               Game Life  0.00  0.00  0.00  0.00  ...  0.00  0.13  0.00  0.17  0.00\n",
              "7            IE Institute  0.00  0.00  0.00  0.00  ...  0.73  0.17  0.04  0.00  0.00\n",
              "8     Karin Entertainment  0.00  0.00  0.00  0.00  ...  0.00  0.00  0.00  0.00  0.02\n",
              "9              Infogrames  1.66  2.12  8.46  0.14  ...  0.00  0.00  0.00  0.00  0.00\n",
              "10             Enterbrain  0.00  0.43  0.33  0.00  ...  0.16  0.01  0.38  0.13  0.18\n",
              "11     Illusion Softworks  0.00  0.00  0.00  0.00  ...  0.00  0.00  0.00  0.00  0.00\n",
              "12            Pioneer LDC  0.00  0.05  0.00  0.00  ...  0.00  0.00  0.00  0.00  0.00\n",
              "13                   Gust  0.00  0.09  0.07  0.00  ...  0.00  0.04  0.20  0.14  0.03\n",
              "14       Storm City Games  0.00  0.00  0.00  0.00  ...  0.00  0.00  0.00  0.36  1.11\n",
              "15  Vatical Entertainment  0.22  0.00  0.00  0.00  ...  0.00  0.00  0.00  0.00  0.00\n",
              "16                Jorudan  0.00  0.00  0.36  0.29  ...  0.00  0.00  0.00  0.00  0.00\n",
              "17           Navarre Corp  0.00  0.00  0.00  0.00  ...  0.00  0.00  0.05  0.00  0.00\n",
              "18             Naxat Soft  0.00  0.00  0.00  0.00  ...  0.00  0.00  0.01  0.00  0.00\n",
              "19        DHM Interactive  0.00  0.00  0.00  0.00  ...  0.00  0.14  0.00  0.04  0.00\n",
              "\n",
              "[20 rows x 12 columns]"
            ]
          },
          "metadata": {
            "tags": []
          },
          "execution_count": 74
        }
      ]
    },
    {
      "cell_type": "code",
      "metadata": {
        "id": "2tvMjX94GRZT"
      },
      "source": [
        ""
      ],
      "execution_count": null,
      "outputs": []
    },
    {
      "cell_type": "markdown",
      "metadata": {
        "id": "51nIZdLXWw0A"
      },
      "source": [
        "# Spark UDFs\n",
        "\n",
        "UDF ou User Defined Functions são funções específicas definidas pelo usuário e disponíveis para uso em tempo de execução. Nelas, o usuário pode definir um comportamento aplicável a todo parâmetro passado a ela"
      ]
    },
    {
      "cell_type": "markdown",
      "metadata": {
        "id": "-9pg7QwcW2KN"
      },
      "source": [
        "## UDF simples\n",
        "Aqui faremos a definição das nossas UDFs de dois modos. O primeiro é para ser utilizado com a API do Spark para Python. Já a segunda estará disponível para uso dentro do SparkSQL"
      ]
    },
    {
      "cell_type": "code",
      "metadata": {
        "id": "kLO-0ByUW1bX",
        "colab": {
          "base_uri": "https://localhost:8080/"
        },
        "outputId": "106385b7-d76e-4dce-cc58-20b1f717d19d"
      },
      "source": [
        "from pyspark.sql.types import DoubleType\n",
        "from pyspark.sql.functions import udf\n",
        "\n",
        "# Função Python para ser utilizada nos dataframes\n",
        "def tax_collected(value):\n",
        "    return float(value)*0.1\n",
        "\n",
        "# Conversão da função em  UDF para uso em Pyspark API\n",
        "tax_collected_udf = udf(tax_collected, DoubleType())\n",
        "\n",
        "# Conversão da função em  UDF para uso em SparkSQL\n",
        "spark.udf.register(\"tax_collected_udf_sql\", tax_collected, DoubleType())"
      ],
      "execution_count": null,
      "outputs": [
        {
          "output_type": "execute_result",
          "data": {
            "text/plain": [
              "<function __main__.tax_collected>"
            ]
          },
          "metadata": {
            "tags": []
          },
          "execution_count": 75
        }
      ]
    },
    {
      "cell_type": "markdown",
      "metadata": {
        "id": "yadgWv1iXM72"
      },
      "source": [
        "**Pyspark API**"
      ]
    },
    {
      "cell_type": "code",
      "metadata": {
        "id": "VnXukvPQXOmT",
        "colab": {
          "base_uri": "https://localhost:8080/",
          "height": 363
        },
        "outputId": "68c1b42d-0579-426d-8ea0-95fed2afb825"
      },
      "source": [
        "display_df(\n",
        "    df.select(\"Platform\", \"NA_Sales\", tax_collected_udf(\"NA_Sales\").alias(\"tax_collected\"))\\\n",
        "    .limit(10)\n",
        ")\n"
      ],
      "execution_count": null,
      "outputs": [
        {
          "output_type": "execute_result",
          "data": {
            "text/html": [
              "<div>\n",
              "<style scoped>\n",
              "    .dataframe tbody tr th:only-of-type {\n",
              "        vertical-align: middle;\n",
              "    }\n",
              "\n",
              "    .dataframe tbody tr th {\n",
              "        vertical-align: top;\n",
              "    }\n",
              "\n",
              "    .dataframe thead th {\n",
              "        text-align: right;\n",
              "    }\n",
              "</style>\n",
              "<table border=\"1\" class=\"dataframe\">\n",
              "  <thead>\n",
              "    <tr style=\"text-align: right;\">\n",
              "      <th></th>\n",
              "      <th>Platform</th>\n",
              "      <th>NA_Sales</th>\n",
              "      <th>tax_collected</th>\n",
              "    </tr>\n",
              "  </thead>\n",
              "  <tbody>\n",
              "    <tr>\n",
              "      <th>0</th>\n",
              "      <td>Wii</td>\n",
              "      <td>41.49</td>\n",
              "      <td>4.149</td>\n",
              "    </tr>\n",
              "    <tr>\n",
              "      <th>1</th>\n",
              "      <td>NES</td>\n",
              "      <td>29.08</td>\n",
              "      <td>2.908</td>\n",
              "    </tr>\n",
              "    <tr>\n",
              "      <th>2</th>\n",
              "      <td>Wii</td>\n",
              "      <td>15.85</td>\n",
              "      <td>1.585</td>\n",
              "    </tr>\n",
              "    <tr>\n",
              "      <th>3</th>\n",
              "      <td>Wii</td>\n",
              "      <td>15.75</td>\n",
              "      <td>1.575</td>\n",
              "    </tr>\n",
              "    <tr>\n",
              "      <th>4</th>\n",
              "      <td>GB</td>\n",
              "      <td>11.27</td>\n",
              "      <td>1.127</td>\n",
              "    </tr>\n",
              "    <tr>\n",
              "      <th>5</th>\n",
              "      <td>GB</td>\n",
              "      <td>23.2</td>\n",
              "      <td>2.320</td>\n",
              "    </tr>\n",
              "    <tr>\n",
              "      <th>6</th>\n",
              "      <td>DS</td>\n",
              "      <td>11.38</td>\n",
              "      <td>1.138</td>\n",
              "    </tr>\n",
              "    <tr>\n",
              "      <th>7</th>\n",
              "      <td>Wii</td>\n",
              "      <td>14.03</td>\n",
              "      <td>1.403</td>\n",
              "    </tr>\n",
              "    <tr>\n",
              "      <th>8</th>\n",
              "      <td>Wii</td>\n",
              "      <td>14.59</td>\n",
              "      <td>1.459</td>\n",
              "    </tr>\n",
              "    <tr>\n",
              "      <th>9</th>\n",
              "      <td>NES</td>\n",
              "      <td>26.93</td>\n",
              "      <td>2.693</td>\n",
              "    </tr>\n",
              "  </tbody>\n",
              "</table>\n",
              "</div>"
            ],
            "text/plain": [
              "  Platform NA_Sales  tax_collected\n",
              "0      Wii    41.49          4.149\n",
              "1      NES    29.08          2.908\n",
              "2      Wii    15.85          1.585\n",
              "3      Wii    15.75          1.575\n",
              "4       GB    11.27          1.127\n",
              "5       GB     23.2          2.320\n",
              "6       DS    11.38          1.138\n",
              "7      Wii    14.03          1.403\n",
              "8      Wii    14.59          1.459\n",
              "9      NES    26.93          2.693"
            ]
          },
          "metadata": {
            "tags": []
          },
          "execution_count": 76
        }
      ]
    },
    {
      "cell_type": "markdown",
      "metadata": {
        "id": "woJyXvClXE9J"
      },
      "source": [
        "**Spark SQL**"
      ]
    },
    {
      "cell_type": "code",
      "metadata": {
        "id": "R4PPxCEWXICU",
        "colab": {
          "base_uri": "https://localhost:8080/",
          "height": 363
        },
        "outputId": "880ce489-c72f-4639-9a65-01e52620175b"
      },
      "source": [
        "display_df(spark.sql(\"\"\"\n",
        "    SELECT Platform, \n",
        "    NA_Sales,\n",
        "    tax_collected_udf_sql(NA_Sales) as tax_collected\n",
        "    FROM videogame_sales\n",
        "    LIMIT 10    \n",
        "\"\"\"))"
      ],
      "execution_count": null,
      "outputs": [
        {
          "output_type": "execute_result",
          "data": {
            "text/html": [
              "<div>\n",
              "<style scoped>\n",
              "    .dataframe tbody tr th:only-of-type {\n",
              "        vertical-align: middle;\n",
              "    }\n",
              "\n",
              "    .dataframe tbody tr th {\n",
              "        vertical-align: top;\n",
              "    }\n",
              "\n",
              "    .dataframe thead th {\n",
              "        text-align: right;\n",
              "    }\n",
              "</style>\n",
              "<table border=\"1\" class=\"dataframe\">\n",
              "  <thead>\n",
              "    <tr style=\"text-align: right;\">\n",
              "      <th></th>\n",
              "      <th>Platform</th>\n",
              "      <th>NA_Sales</th>\n",
              "      <th>tax_collected</th>\n",
              "    </tr>\n",
              "  </thead>\n",
              "  <tbody>\n",
              "    <tr>\n",
              "      <th>0</th>\n",
              "      <td>Wii</td>\n",
              "      <td>41.49</td>\n",
              "      <td>4.149</td>\n",
              "    </tr>\n",
              "    <tr>\n",
              "      <th>1</th>\n",
              "      <td>NES</td>\n",
              "      <td>29.08</td>\n",
              "      <td>2.908</td>\n",
              "    </tr>\n",
              "    <tr>\n",
              "      <th>2</th>\n",
              "      <td>Wii</td>\n",
              "      <td>15.85</td>\n",
              "      <td>1.585</td>\n",
              "    </tr>\n",
              "    <tr>\n",
              "      <th>3</th>\n",
              "      <td>Wii</td>\n",
              "      <td>15.75</td>\n",
              "      <td>1.575</td>\n",
              "    </tr>\n",
              "    <tr>\n",
              "      <th>4</th>\n",
              "      <td>GB</td>\n",
              "      <td>11.27</td>\n",
              "      <td>1.127</td>\n",
              "    </tr>\n",
              "    <tr>\n",
              "      <th>5</th>\n",
              "      <td>GB</td>\n",
              "      <td>23.2</td>\n",
              "      <td>2.320</td>\n",
              "    </tr>\n",
              "    <tr>\n",
              "      <th>6</th>\n",
              "      <td>DS</td>\n",
              "      <td>11.38</td>\n",
              "      <td>1.138</td>\n",
              "    </tr>\n",
              "    <tr>\n",
              "      <th>7</th>\n",
              "      <td>Wii</td>\n",
              "      <td>14.03</td>\n",
              "      <td>1.403</td>\n",
              "    </tr>\n",
              "    <tr>\n",
              "      <th>8</th>\n",
              "      <td>Wii</td>\n",
              "      <td>14.59</td>\n",
              "      <td>1.459</td>\n",
              "    </tr>\n",
              "    <tr>\n",
              "      <th>9</th>\n",
              "      <td>NES</td>\n",
              "      <td>26.93</td>\n",
              "      <td>2.693</td>\n",
              "    </tr>\n",
              "  </tbody>\n",
              "</table>\n",
              "</div>"
            ],
            "text/plain": [
              "  Platform NA_Sales  tax_collected\n",
              "0      Wii    41.49          4.149\n",
              "1      NES    29.08          2.908\n",
              "2      Wii    15.85          1.585\n",
              "3      Wii    15.75          1.575\n",
              "4       GB    11.27          1.127\n",
              "5       GB     23.2          2.320\n",
              "6       DS    11.38          1.138\n",
              "7      Wii    14.03          1.403\n",
              "8      Wii    14.59          1.459\n",
              "9      NES    26.93          2.693"
            ]
          },
          "metadata": {
            "tags": []
          },
          "execution_count": 77
        }
      ]
    },
    {
      "cell_type": "markdown",
      "metadata": {
        "id": "Bqg2C1sJZ4ox"
      },
      "source": [
        "## UDF com objetos externos\n",
        "É possível criar UDFs com objetos Python, de modo que possam ser usados de forma paralela pelo cluster de Spark"
      ]
    },
    {
      "cell_type": "code",
      "metadata": {
        "id": "vttfb5L1Z8oC",
        "colab": {
          "base_uri": "https://localhost:8080/"
        },
        "outputId": "dd046fe3-95da-4cd1-cc44-889c4cbdc6ba"
      },
      "source": [
        "import hashlib\n",
        "from pyspark.sql.types import StringType\n",
        "\n",
        "def generate_hash(value):\n",
        "    hash_object = hashlib.md5(bytes(value, 'utf8'))\n",
        "    return hash_object.hexdigest()\n",
        "\n",
        "# Uso em SparkSQL\n",
        "spark.udf.register(\"generate_hash_sql\", generate_hash, StringType())"
      ],
      "execution_count": null,
      "outputs": [
        {
          "output_type": "execute_result",
          "data": {
            "text/plain": [
              "<function __main__.generate_hash>"
            ]
          },
          "metadata": {
            "tags": []
          },
          "execution_count": 78
        }
      ]
    },
    {
      "cell_type": "code",
      "metadata": {
        "id": "pKfIEqH7Z-mV",
        "colab": {
          "base_uri": "https://localhost:8080/",
          "height": 363
        },
        "outputId": "5c25fa6e-7c2a-40f1-c245-1154ce4b0fc5"
      },
      "source": [
        "display_df(spark.sql(\"\"\"\n",
        "    SELECT Platform, \n",
        "    generate_hash_sql(Platform) as Platform_handle\n",
        "    FROM videogame_sales\n",
        "    LIMIT 10\n",
        "\"\"\"))\n",
        "\n",
        "#a função hash é codificar"
      ],
      "execution_count": null,
      "outputs": [
        {
          "output_type": "execute_result",
          "data": {
            "text/html": [
              "<div>\n",
              "<style scoped>\n",
              "    .dataframe tbody tr th:only-of-type {\n",
              "        vertical-align: middle;\n",
              "    }\n",
              "\n",
              "    .dataframe tbody tr th {\n",
              "        vertical-align: top;\n",
              "    }\n",
              "\n",
              "    .dataframe thead th {\n",
              "        text-align: right;\n",
              "    }\n",
              "</style>\n",
              "<table border=\"1\" class=\"dataframe\">\n",
              "  <thead>\n",
              "    <tr style=\"text-align: right;\">\n",
              "      <th></th>\n",
              "      <th>Platform</th>\n",
              "      <th>Platform_handle</th>\n",
              "    </tr>\n",
              "  </thead>\n",
              "  <tbody>\n",
              "    <tr>\n",
              "      <th>0</th>\n",
              "      <td>Wii</td>\n",
              "      <td>43ff8bb2e8b00bf31fbb6df52df6b328</td>\n",
              "    </tr>\n",
              "    <tr>\n",
              "      <th>1</th>\n",
              "      <td>NES</td>\n",
              "      <td>8d93d9819942f8e443fdde4fc2d67bc2</td>\n",
              "    </tr>\n",
              "    <tr>\n",
              "      <th>2</th>\n",
              "      <td>Wii</td>\n",
              "      <td>43ff8bb2e8b00bf31fbb6df52df6b328</td>\n",
              "    </tr>\n",
              "    <tr>\n",
              "      <th>3</th>\n",
              "      <td>Wii</td>\n",
              "      <td>43ff8bb2e8b00bf31fbb6df52df6b328</td>\n",
              "    </tr>\n",
              "    <tr>\n",
              "      <th>4</th>\n",
              "      <td>GB</td>\n",
              "      <td>79cba1185463850dedba31f172f1dc5b</td>\n",
              "    </tr>\n",
              "    <tr>\n",
              "      <th>5</th>\n",
              "      <td>GB</td>\n",
              "      <td>79cba1185463850dedba31f172f1dc5b</td>\n",
              "    </tr>\n",
              "    <tr>\n",
              "      <th>6</th>\n",
              "      <td>DS</td>\n",
              "      <td>47b79bd259e22596ffc4be2ffbbe5c5a</td>\n",
              "    </tr>\n",
              "    <tr>\n",
              "      <th>7</th>\n",
              "      <td>Wii</td>\n",
              "      <td>43ff8bb2e8b00bf31fbb6df52df6b328</td>\n",
              "    </tr>\n",
              "    <tr>\n",
              "      <th>8</th>\n",
              "      <td>Wii</td>\n",
              "      <td>43ff8bb2e8b00bf31fbb6df52df6b328</td>\n",
              "    </tr>\n",
              "    <tr>\n",
              "      <th>9</th>\n",
              "      <td>NES</td>\n",
              "      <td>8d93d9819942f8e443fdde4fc2d67bc2</td>\n",
              "    </tr>\n",
              "  </tbody>\n",
              "</table>\n",
              "</div>"
            ],
            "text/plain": [
              "  Platform                   Platform_handle\n",
              "0      Wii  43ff8bb2e8b00bf31fbb6df52df6b328\n",
              "1      NES  8d93d9819942f8e443fdde4fc2d67bc2\n",
              "2      Wii  43ff8bb2e8b00bf31fbb6df52df6b328\n",
              "3      Wii  43ff8bb2e8b00bf31fbb6df52df6b328\n",
              "4       GB  79cba1185463850dedba31f172f1dc5b\n",
              "5       GB  79cba1185463850dedba31f172f1dc5b\n",
              "6       DS  47b79bd259e22596ffc4be2ffbbe5c5a\n",
              "7      Wii  43ff8bb2e8b00bf31fbb6df52df6b328\n",
              "8      Wii  43ff8bb2e8b00bf31fbb6df52df6b328\n",
              "9      NES  8d93d9819942f8e443fdde4fc2d67bc2"
            ]
          },
          "metadata": {
            "tags": []
          },
          "execution_count": 79
        }
      ]
    },
    {
      "cell_type": "markdown",
      "metadata": {
        "id": "FlVP3xdIaLcB"
      },
      "source": [
        "# Joins entre Dataframes Spark\n",
        "Frequentemente, ao lidar com analise de dados utilizando o Spark ou na criação de pipelines de transformação de dados, é comum realizar a junção de diferentes bases de dados de forma a ter o dado o mais completo o possível disponível para o cientista de dados. Esse conceito é contrário ao conceito de \"Normalização\" nos tradicionais bancos de dados, conhecido como \"Desnormalização\".\n",
        "\n",
        "**Preparando os datasets**"
      ]
    },
    {
      "cell_type": "code",
      "metadata": {
        "id": "f1aqHLaFaOfa",
        "colab": {
          "base_uri": "https://localhost:8080/",
          "height": 175
        },
        "outputId": "f779e2e3-b8f4-4c47-acf6-a273e9906a33"
      },
      "source": [
        "values_a = [('Pirate',1),('Monkey',2),('Ninja',3),('Spaghetti',4)]\n",
        "table_a = spark.createDataFrame(values_a,['name','id'])\n",
        " \n",
        "values_b = [('Rutabaga',1),('Pirate',2),('Ninja',3),('Darth Vader',4)]\n",
        "table_b = spark.createDataFrame(values_b,['name','id'])\n",
        "\n",
        "display_df(table_a)\n",
        "#display_df(table_b)"
      ],
      "execution_count": null,
      "outputs": [
        {
          "output_type": "execute_result",
          "data": {
            "text/html": [
              "<div>\n",
              "<style scoped>\n",
              "    .dataframe tbody tr th:only-of-type {\n",
              "        vertical-align: middle;\n",
              "    }\n",
              "\n",
              "    .dataframe tbody tr th {\n",
              "        vertical-align: top;\n",
              "    }\n",
              "\n",
              "    .dataframe thead th {\n",
              "        text-align: right;\n",
              "    }\n",
              "</style>\n",
              "<table border=\"1\" class=\"dataframe\">\n",
              "  <thead>\n",
              "    <tr style=\"text-align: right;\">\n",
              "      <th></th>\n",
              "      <th>name</th>\n",
              "      <th>id</th>\n",
              "    </tr>\n",
              "  </thead>\n",
              "  <tbody>\n",
              "    <tr>\n",
              "      <th>0</th>\n",
              "      <td>Pirate</td>\n",
              "      <td>1</td>\n",
              "    </tr>\n",
              "    <tr>\n",
              "      <th>1</th>\n",
              "      <td>Monkey</td>\n",
              "      <td>2</td>\n",
              "    </tr>\n",
              "    <tr>\n",
              "      <th>2</th>\n",
              "      <td>Ninja</td>\n",
              "      <td>3</td>\n",
              "    </tr>\n",
              "    <tr>\n",
              "      <th>3</th>\n",
              "      <td>Spaghetti</td>\n",
              "      <td>4</td>\n",
              "    </tr>\n",
              "  </tbody>\n",
              "</table>\n",
              "</div>"
            ],
            "text/plain": [
              "        name  id\n",
              "0     Pirate   1\n",
              "1     Monkey   2\n",
              "2      Ninja   3\n",
              "3  Spaghetti   4"
            ]
          },
          "metadata": {
            "tags": []
          },
          "execution_count": 80
        }
      ]
    },
    {
      "cell_type": "markdown",
      "metadata": {
        "id": "UpYaB5y2aSIC"
      },
      "source": [
        "**Inner Join**"
      ]
    },
    {
      "cell_type": "code",
      "metadata": {
        "id": "EgEU4xjtaRlg",
        "colab": {
          "base_uri": "https://localhost:8080/",
          "height": 112
        },
        "outputId": "4f45c0e5-42dd-44d4-a1c0-4135d3e12825"
      },
      "source": [
        "inner_join = table_a.join(table_b, table_a.name == table_b.name)\n",
        "display_df(inner_join)"
      ],
      "execution_count": null,
      "outputs": [
        {
          "output_type": "execute_result",
          "data": {
            "text/html": [
              "<div>\n",
              "<style scoped>\n",
              "    .dataframe tbody tr th:only-of-type {\n",
              "        vertical-align: middle;\n",
              "    }\n",
              "\n",
              "    .dataframe tbody tr th {\n",
              "        vertical-align: top;\n",
              "    }\n",
              "\n",
              "    .dataframe thead th {\n",
              "        text-align: right;\n",
              "    }\n",
              "</style>\n",
              "<table border=\"1\" class=\"dataframe\">\n",
              "  <thead>\n",
              "    <tr style=\"text-align: right;\">\n",
              "      <th></th>\n",
              "      <th>name</th>\n",
              "      <th>id</th>\n",
              "      <th>name</th>\n",
              "      <th>id</th>\n",
              "    </tr>\n",
              "  </thead>\n",
              "  <tbody>\n",
              "    <tr>\n",
              "      <th>0</th>\n",
              "      <td>Ninja</td>\n",
              "      <td>3</td>\n",
              "      <td>Ninja</td>\n",
              "      <td>3</td>\n",
              "    </tr>\n",
              "    <tr>\n",
              "      <th>1</th>\n",
              "      <td>Pirate</td>\n",
              "      <td>1</td>\n",
              "      <td>Pirate</td>\n",
              "      <td>2</td>\n",
              "    </tr>\n",
              "  </tbody>\n",
              "</table>\n",
              "</div>"
            ],
            "text/plain": [
              "     name  id    name  id\n",
              "0   Ninja   3   Ninja   3\n",
              "1  Pirate   1  Pirate   2"
            ]
          },
          "metadata": {
            "tags": []
          },
          "execution_count": 81
        }
      ]
    },
    {
      "cell_type": "markdown",
      "metadata": {
        "id": "fP8aY3lhaYCm"
      },
      "source": [
        "**Left Join**"
      ]
    },
    {
      "cell_type": "code",
      "metadata": {
        "id": "jX4gYkr5abEW",
        "colab": {
          "base_uri": "https://localhost:8080/",
          "height": 175
        },
        "outputId": "07ff846e-5aab-4f3a-87fa-b6a41ef482b1"
      },
      "source": [
        "left_join = table_a.join(table_b, table_a.name == table_b.name, how=\"left\") # também pode ser usado o 'left_outer'\n",
        "display_df(left_join)"
      ],
      "execution_count": null,
      "outputs": [
        {
          "output_type": "execute_result",
          "data": {
            "text/html": [
              "<div>\n",
              "<style scoped>\n",
              "    .dataframe tbody tr th:only-of-type {\n",
              "        vertical-align: middle;\n",
              "    }\n",
              "\n",
              "    .dataframe tbody tr th {\n",
              "        vertical-align: top;\n",
              "    }\n",
              "\n",
              "    .dataframe thead th {\n",
              "        text-align: right;\n",
              "    }\n",
              "</style>\n",
              "<table border=\"1\" class=\"dataframe\">\n",
              "  <thead>\n",
              "    <tr style=\"text-align: right;\">\n",
              "      <th></th>\n",
              "      <th>name</th>\n",
              "      <th>id</th>\n",
              "      <th>name</th>\n",
              "      <th>id</th>\n",
              "    </tr>\n",
              "  </thead>\n",
              "  <tbody>\n",
              "    <tr>\n",
              "      <th>0</th>\n",
              "      <td>Spaghetti</td>\n",
              "      <td>4</td>\n",
              "      <td>None</td>\n",
              "      <td>NaN</td>\n",
              "    </tr>\n",
              "    <tr>\n",
              "      <th>1</th>\n",
              "      <td>Ninja</td>\n",
              "      <td>3</td>\n",
              "      <td>Ninja</td>\n",
              "      <td>3.0</td>\n",
              "    </tr>\n",
              "    <tr>\n",
              "      <th>2</th>\n",
              "      <td>Pirate</td>\n",
              "      <td>1</td>\n",
              "      <td>Pirate</td>\n",
              "      <td>2.0</td>\n",
              "    </tr>\n",
              "    <tr>\n",
              "      <th>3</th>\n",
              "      <td>Monkey</td>\n",
              "      <td>2</td>\n",
              "      <td>None</td>\n",
              "      <td>NaN</td>\n",
              "    </tr>\n",
              "  </tbody>\n",
              "</table>\n",
              "</div>"
            ],
            "text/plain": [
              "        name  id    name   id\n",
              "0  Spaghetti   4    None  NaN\n",
              "1      Ninja   3   Ninja  3.0\n",
              "2     Pirate   1  Pirate  2.0\n",
              "3     Monkey   2    None  NaN"
            ]
          },
          "metadata": {
            "tags": []
          },
          "execution_count": 82
        }
      ]
    },
    {
      "cell_type": "markdown",
      "metadata": {
        "id": "bvlqpjBradYq"
      },
      "source": [
        "**Right Join**"
      ]
    },
    {
      "cell_type": "code",
      "metadata": {
        "id": "Prcz3ogTafS4",
        "colab": {
          "base_uri": "https://localhost:8080/",
          "height": 175
        },
        "outputId": "ecd396fc-4584-4a7a-8263-19c8be218408"
      },
      "source": [
        "right_join = table_a.join(table_b, table_a.name == table_b.name, how=\"right\") # também pode ser usado o 'right_outer'\n",
        "display_df(right_join)"
      ],
      "execution_count": null,
      "outputs": [
        {
          "output_type": "execute_result",
          "data": {
            "text/html": [
              "<div>\n",
              "<style scoped>\n",
              "    .dataframe tbody tr th:only-of-type {\n",
              "        vertical-align: middle;\n",
              "    }\n",
              "\n",
              "    .dataframe tbody tr th {\n",
              "        vertical-align: top;\n",
              "    }\n",
              "\n",
              "    .dataframe thead th {\n",
              "        text-align: right;\n",
              "    }\n",
              "</style>\n",
              "<table border=\"1\" class=\"dataframe\">\n",
              "  <thead>\n",
              "    <tr style=\"text-align: right;\">\n",
              "      <th></th>\n",
              "      <th>name</th>\n",
              "      <th>id</th>\n",
              "      <th>name</th>\n",
              "      <th>id</th>\n",
              "    </tr>\n",
              "  </thead>\n",
              "  <tbody>\n",
              "    <tr>\n",
              "      <th>0</th>\n",
              "      <td>None</td>\n",
              "      <td>NaN</td>\n",
              "      <td>Rutabaga</td>\n",
              "      <td>1</td>\n",
              "    </tr>\n",
              "    <tr>\n",
              "      <th>1</th>\n",
              "      <td>Ninja</td>\n",
              "      <td>3.0</td>\n",
              "      <td>Ninja</td>\n",
              "      <td>3</td>\n",
              "    </tr>\n",
              "    <tr>\n",
              "      <th>2</th>\n",
              "      <td>Pirate</td>\n",
              "      <td>1.0</td>\n",
              "      <td>Pirate</td>\n",
              "      <td>2</td>\n",
              "    </tr>\n",
              "    <tr>\n",
              "      <th>3</th>\n",
              "      <td>None</td>\n",
              "      <td>NaN</td>\n",
              "      <td>Darth Vader</td>\n",
              "      <td>4</td>\n",
              "    </tr>\n",
              "  </tbody>\n",
              "</table>\n",
              "</div>"
            ],
            "text/plain": [
              "     name   id         name  id\n",
              "0    None  NaN     Rutabaga   1\n",
              "1   Ninja  3.0        Ninja   3\n",
              "2  Pirate  1.0       Pirate   2\n",
              "3    None  NaN  Darth Vader   4"
            ]
          },
          "metadata": {
            "tags": []
          },
          "execution_count": 83
        }
      ]
    },
    {
      "cell_type": "markdown",
      "metadata": {
        "id": "KH5I406NaiAX"
      },
      "source": [
        "**Cross join ou produto cartesiano**"
      ]
    },
    {
      "cell_type": "code",
      "metadata": {
        "id": "ELFXn7rEambt",
        "colab": {
          "base_uri": "https://localhost:8080/",
          "height": 551
        },
        "outputId": "d04b0269-0609-4d20-8829-17131d15f16b"
      },
      "source": [
        "cross_join = table_a.crossJoin(table_b.select(\"name\"))\n",
        "display_df(cross_join)"
      ],
      "execution_count": null,
      "outputs": [
        {
          "output_type": "execute_result",
          "data": {
            "text/html": [
              "<div>\n",
              "<style scoped>\n",
              "    .dataframe tbody tr th:only-of-type {\n",
              "        vertical-align: middle;\n",
              "    }\n",
              "\n",
              "    .dataframe tbody tr th {\n",
              "        vertical-align: top;\n",
              "    }\n",
              "\n",
              "    .dataframe thead th {\n",
              "        text-align: right;\n",
              "    }\n",
              "</style>\n",
              "<table border=\"1\" class=\"dataframe\">\n",
              "  <thead>\n",
              "    <tr style=\"text-align: right;\">\n",
              "      <th></th>\n",
              "      <th>name</th>\n",
              "      <th>id</th>\n",
              "      <th>name</th>\n",
              "    </tr>\n",
              "  </thead>\n",
              "  <tbody>\n",
              "    <tr>\n",
              "      <th>0</th>\n",
              "      <td>Pirate</td>\n",
              "      <td>1</td>\n",
              "      <td>Rutabaga</td>\n",
              "    </tr>\n",
              "    <tr>\n",
              "      <th>1</th>\n",
              "      <td>Pirate</td>\n",
              "      <td>1</td>\n",
              "      <td>Pirate</td>\n",
              "    </tr>\n",
              "    <tr>\n",
              "      <th>2</th>\n",
              "      <td>Monkey</td>\n",
              "      <td>2</td>\n",
              "      <td>Rutabaga</td>\n",
              "    </tr>\n",
              "    <tr>\n",
              "      <th>3</th>\n",
              "      <td>Monkey</td>\n",
              "      <td>2</td>\n",
              "      <td>Pirate</td>\n",
              "    </tr>\n",
              "    <tr>\n",
              "      <th>4</th>\n",
              "      <td>Pirate</td>\n",
              "      <td>1</td>\n",
              "      <td>Ninja</td>\n",
              "    </tr>\n",
              "    <tr>\n",
              "      <th>5</th>\n",
              "      <td>Pirate</td>\n",
              "      <td>1</td>\n",
              "      <td>Darth Vader</td>\n",
              "    </tr>\n",
              "    <tr>\n",
              "      <th>6</th>\n",
              "      <td>Monkey</td>\n",
              "      <td>2</td>\n",
              "      <td>Ninja</td>\n",
              "    </tr>\n",
              "    <tr>\n",
              "      <th>7</th>\n",
              "      <td>Monkey</td>\n",
              "      <td>2</td>\n",
              "      <td>Darth Vader</td>\n",
              "    </tr>\n",
              "    <tr>\n",
              "      <th>8</th>\n",
              "      <td>Ninja</td>\n",
              "      <td>3</td>\n",
              "      <td>Rutabaga</td>\n",
              "    </tr>\n",
              "    <tr>\n",
              "      <th>9</th>\n",
              "      <td>Ninja</td>\n",
              "      <td>3</td>\n",
              "      <td>Pirate</td>\n",
              "    </tr>\n",
              "    <tr>\n",
              "      <th>10</th>\n",
              "      <td>Spaghetti</td>\n",
              "      <td>4</td>\n",
              "      <td>Rutabaga</td>\n",
              "    </tr>\n",
              "    <tr>\n",
              "      <th>11</th>\n",
              "      <td>Spaghetti</td>\n",
              "      <td>4</td>\n",
              "      <td>Pirate</td>\n",
              "    </tr>\n",
              "    <tr>\n",
              "      <th>12</th>\n",
              "      <td>Ninja</td>\n",
              "      <td>3</td>\n",
              "      <td>Ninja</td>\n",
              "    </tr>\n",
              "    <tr>\n",
              "      <th>13</th>\n",
              "      <td>Ninja</td>\n",
              "      <td>3</td>\n",
              "      <td>Darth Vader</td>\n",
              "    </tr>\n",
              "    <tr>\n",
              "      <th>14</th>\n",
              "      <td>Spaghetti</td>\n",
              "      <td>4</td>\n",
              "      <td>Ninja</td>\n",
              "    </tr>\n",
              "    <tr>\n",
              "      <th>15</th>\n",
              "      <td>Spaghetti</td>\n",
              "      <td>4</td>\n",
              "      <td>Darth Vader</td>\n",
              "    </tr>\n",
              "  </tbody>\n",
              "</table>\n",
              "</div>"
            ],
            "text/plain": [
              "         name  id         name\n",
              "0      Pirate   1     Rutabaga\n",
              "1      Pirate   1       Pirate\n",
              "2      Monkey   2     Rutabaga\n",
              "3      Monkey   2       Pirate\n",
              "4      Pirate   1        Ninja\n",
              "5      Pirate   1  Darth Vader\n",
              "6      Monkey   2        Ninja\n",
              "7      Monkey   2  Darth Vader\n",
              "8       Ninja   3     Rutabaga\n",
              "9       Ninja   3       Pirate\n",
              "10  Spaghetti   4     Rutabaga\n",
              "11  Spaghetti   4       Pirate\n",
              "12      Ninja   3        Ninja\n",
              "13      Ninja   3  Darth Vader\n",
              "14  Spaghetti   4        Ninja\n",
              "15  Spaghetti   4  Darth Vader"
            ]
          },
          "metadata": {
            "tags": []
          },
          "execution_count": 84
        }
      ]
    },
    {
      "cell_type": "markdown",
      "metadata": {
        "id": "EbsjdkK8YvaS"
      },
      "source": [
        "# Exercícios - pt2\n",
        "\n",
        "4) Utilizando o dataset vgsales, crie uma UDF que cálcule o século em que o jogo foi lançado:"
      ]
    },
    {
      "cell_type": "code",
      "metadata": {
        "id": "awg2w12oYx25"
      },
      "source": [
        "from pyspark.sql.types import IntegerType\n",
        "from pyspark.sql.functions import udf"
      ],
      "execution_count": null,
      "outputs": []
    },
    {
      "cell_type": "code",
      "metadata": {
        "id": "F5fxtGm4et-u"
      },
      "source": [
        "# testando a formula\n",
        "\n",
        "def calcula_seculo(value):\n",
        "  last_first_two_digits = value[0:2]\n",
        "\n",
        "  if value[2:4] == '00':\n",
        "    return int(last_first_two_digits)\n",
        "  else:\n",
        "    return int(last_first_two_digits)+1\n",
        "\n",
        "\n",
        "# Conversão da função em  UDF para uso em Pyspark API\n",
        "calcula_seculo_udf = udf(calcula_seculo, IntegerType())"
      ],
      "execution_count": null,
      "outputs": []
    },
    {
      "cell_type": "code",
      "metadata": {
        "id": "nL-S6nd_fihw",
        "colab": {
          "base_uri": "https://localhost:8080/"
        },
        "outputId": "43852908-750b-4638-efb0-5e078595702a"
      },
      "source": [
        "df.select(calcula_seculo_udf('Year').alias('Século de lançamento'),'Name','Year').show()"
      ],
      "execution_count": null,
      "outputs": [
        {
          "output_type": "stream",
          "text": [
            "+--------------------+--------------------+----+\n",
            "|Século de lançamento|                Name|Year|\n",
            "+--------------------+--------------------+----+\n",
            "|                  21|          Wii Sports|2006|\n",
            "|                  20|   Super Mario Bros.|1985|\n",
            "|                  21|      Mario Kart Wii|2008|\n",
            "|                  21|   Wii Sports Resort|2009|\n",
            "|                  20|Pokemon Red/Pokem...|1996|\n",
            "|                  20|              Tetris|1989|\n",
            "|                  21|New Super Mario B...|2006|\n",
            "|                  21|            Wii Play|2006|\n",
            "|                  21|New Super Mario B...|2009|\n",
            "|                  20|           Duck Hunt|1984|\n",
            "|                  21|          Nintendogs|2005|\n",
            "|                  21|       Mario Kart DS|2005|\n",
            "|                  20|Pokemon Gold/Poke...|1999|\n",
            "|                  21|             Wii Fit|2007|\n",
            "|                  21|        Wii Fit Plus|2009|\n",
            "|                  21|  Kinect Adventures!|2010|\n",
            "|                  21|  Grand Theft Auto V|2013|\n",
            "|                  21|Grand Theft Auto:...|2004|\n",
            "|                  20|   Super Mario World|1990|\n",
            "|                  21|Brain Age: Train ...|2005|\n",
            "+--------------------+--------------------+----+\n",
            "only showing top 20 rows\n",
            "\n"
          ],
          "name": "stdout"
        }
      ]
    },
    {
      "cell_type": "code",
      "metadata": {
        "id": "dUayPNmqY2dG"
      },
      "source": [
        "# Função Python para ser utilizada nos dataframes\n",
        "\n",
        "def calcula_seculo(value):\n",
        "  last_first_two_digits = value[0:2]\n",
        "  return int(last_first_two_digits)+1\n",
        "\n",
        "\n",
        "# Conversão da função em  UDF para uso em Pyspark API\n",
        "calcula_seculo_udf = udf(calcula_seculo, IntegerType())\n",
        "\n"
      ],
      "execution_count": null,
      "outputs": []
    },
    {
      "cell_type": "code",
      "metadata": {
        "id": "bd5MrYqnZgW7",
        "colab": {
          "base_uri": "https://localhost:8080/",
          "height": 363
        },
        "outputId": "9cfa2c8f-43c0-4004-c418-f3ac26c72d8a"
      },
      "source": [
        "\n",
        "display_df(\n",
        "    df.select(\"Name\", \"Year\", calcula_seculo_udf(\"Year\").alias(\"Século_Lançamento\")) \\\n",
        "    .limit(10)\n",
        ")\n"
      ],
      "execution_count": null,
      "outputs": [
        {
          "output_type": "execute_result",
          "data": {
            "text/html": [
              "<div>\n",
              "<style scoped>\n",
              "    .dataframe tbody tr th:only-of-type {\n",
              "        vertical-align: middle;\n",
              "    }\n",
              "\n",
              "    .dataframe tbody tr th {\n",
              "        vertical-align: top;\n",
              "    }\n",
              "\n",
              "    .dataframe thead th {\n",
              "        text-align: right;\n",
              "    }\n",
              "</style>\n",
              "<table border=\"1\" class=\"dataframe\">\n",
              "  <thead>\n",
              "    <tr style=\"text-align: right;\">\n",
              "      <th></th>\n",
              "      <th>Name</th>\n",
              "      <th>Year</th>\n",
              "      <th>Século_Lançamento</th>\n",
              "    </tr>\n",
              "  </thead>\n",
              "  <tbody>\n",
              "    <tr>\n",
              "      <th>0</th>\n",
              "      <td>Wii Sports</td>\n",
              "      <td>2006</td>\n",
              "      <td>21</td>\n",
              "    </tr>\n",
              "    <tr>\n",
              "      <th>1</th>\n",
              "      <td>Super Mario Bros.</td>\n",
              "      <td>1985</td>\n",
              "      <td>20</td>\n",
              "    </tr>\n",
              "    <tr>\n",
              "      <th>2</th>\n",
              "      <td>Mario Kart Wii</td>\n",
              "      <td>2008</td>\n",
              "      <td>21</td>\n",
              "    </tr>\n",
              "    <tr>\n",
              "      <th>3</th>\n",
              "      <td>Wii Sports Resort</td>\n",
              "      <td>2009</td>\n",
              "      <td>21</td>\n",
              "    </tr>\n",
              "    <tr>\n",
              "      <th>4</th>\n",
              "      <td>Pokemon Red/Pokemon Blue</td>\n",
              "      <td>1996</td>\n",
              "      <td>20</td>\n",
              "    </tr>\n",
              "    <tr>\n",
              "      <th>5</th>\n",
              "      <td>Tetris</td>\n",
              "      <td>1989</td>\n",
              "      <td>20</td>\n",
              "    </tr>\n",
              "    <tr>\n",
              "      <th>6</th>\n",
              "      <td>New Super Mario Bros.</td>\n",
              "      <td>2006</td>\n",
              "      <td>21</td>\n",
              "    </tr>\n",
              "    <tr>\n",
              "      <th>7</th>\n",
              "      <td>Wii Play</td>\n",
              "      <td>2006</td>\n",
              "      <td>21</td>\n",
              "    </tr>\n",
              "    <tr>\n",
              "      <th>8</th>\n",
              "      <td>New Super Mario Bros. Wii</td>\n",
              "      <td>2009</td>\n",
              "      <td>21</td>\n",
              "    </tr>\n",
              "    <tr>\n",
              "      <th>9</th>\n",
              "      <td>Duck Hunt</td>\n",
              "      <td>1984</td>\n",
              "      <td>20</td>\n",
              "    </tr>\n",
              "  </tbody>\n",
              "</table>\n",
              "</div>"
            ],
            "text/plain": [
              "                        Name  Year  Século_Lançamento\n",
              "0                 Wii Sports  2006                 21\n",
              "1          Super Mario Bros.  1985                 20\n",
              "2             Mario Kart Wii  2008                 21\n",
              "3          Wii Sports Resort  2009                 21\n",
              "4   Pokemon Red/Pokemon Blue  1996                 20\n",
              "5                     Tetris  1989                 20\n",
              "6      New Super Mario Bros.  2006                 21\n",
              "7                   Wii Play  2006                 21\n",
              "8  New Super Mario Bros. Wii  2009                 21\n",
              "9                  Duck Hunt  1984                 20"
            ]
          },
          "metadata": {
            "tags": []
          },
          "execution_count": 89
        }
      ]
    },
    {
      "cell_type": "markdown",
      "metadata": {
        "id": "tQ2xRVC0bv_N"
      },
      "source": [
        "5) Utilizando os datasets do código abaixo:"
      ]
    },
    {
      "cell_type": "code",
      "metadata": {
        "id": "85b-lWkabwp_",
        "colab": {
          "base_uri": "https://localhost:8080/",
          "height": 238
        },
        "outputId": "4b5c8e8d-48b7-4ca9-b7cb-7a2ab897a4d3"
      },
      "source": [
        "employees = [('Joao',1),('Marcos',2),('Tiago',3),('Pedro',4), ('Maria',5), ('Marta',6)]\n",
        "employees_df = spark.createDataFrame(employees,['name','id'])\n",
        " \n",
        "deptos = [('Administrativo',1),('Financeiro',2),('Financeiro',3),('Financeiro',5),('TI',5),('TI',6)]\n",
        "deptos_df = spark.createDataFrame(deptos,['dep_name','emp_id'])\n",
        "\n",
        "\n",
        "display_df(employees_df)"
      ],
      "execution_count": null,
      "outputs": [
        {
          "output_type": "execute_result",
          "data": {
            "text/html": [
              "<div>\n",
              "<style scoped>\n",
              "    .dataframe tbody tr th:only-of-type {\n",
              "        vertical-align: middle;\n",
              "    }\n",
              "\n",
              "    .dataframe tbody tr th {\n",
              "        vertical-align: top;\n",
              "    }\n",
              "\n",
              "    .dataframe thead th {\n",
              "        text-align: right;\n",
              "    }\n",
              "</style>\n",
              "<table border=\"1\" class=\"dataframe\">\n",
              "  <thead>\n",
              "    <tr style=\"text-align: right;\">\n",
              "      <th></th>\n",
              "      <th>name</th>\n",
              "      <th>id</th>\n",
              "    </tr>\n",
              "  </thead>\n",
              "  <tbody>\n",
              "    <tr>\n",
              "      <th>0</th>\n",
              "      <td>Joao</td>\n",
              "      <td>1</td>\n",
              "    </tr>\n",
              "    <tr>\n",
              "      <th>1</th>\n",
              "      <td>Marcos</td>\n",
              "      <td>2</td>\n",
              "    </tr>\n",
              "    <tr>\n",
              "      <th>2</th>\n",
              "      <td>Tiago</td>\n",
              "      <td>3</td>\n",
              "    </tr>\n",
              "    <tr>\n",
              "      <th>3</th>\n",
              "      <td>Pedro</td>\n",
              "      <td>4</td>\n",
              "    </tr>\n",
              "    <tr>\n",
              "      <th>4</th>\n",
              "      <td>Maria</td>\n",
              "      <td>5</td>\n",
              "    </tr>\n",
              "    <tr>\n",
              "      <th>5</th>\n",
              "      <td>Marta</td>\n",
              "      <td>6</td>\n",
              "    </tr>\n",
              "  </tbody>\n",
              "</table>\n",
              "</div>"
            ],
            "text/plain": [
              "     name  id\n",
              "0    Joao   1\n",
              "1  Marcos   2\n",
              "2   Tiago   3\n",
              "3   Pedro   4\n",
              "4   Maria   5\n",
              "5   Marta   6"
            ]
          },
          "metadata": {
            "tags": []
          },
          "execution_count": 90
        }
      ]
    },
    {
      "cell_type": "code",
      "metadata": {
        "id": "MeEA4v8xcZJ1",
        "colab": {
          "base_uri": "https://localhost:8080/",
          "height": 238
        },
        "outputId": "cc0b99d7-a961-4b21-9d3a-e33d3d5d1f05"
      },
      "source": [
        "display_df(deptos_df)"
      ],
      "execution_count": null,
      "outputs": [
        {
          "output_type": "execute_result",
          "data": {
            "text/html": [
              "<div>\n",
              "<style scoped>\n",
              "    .dataframe tbody tr th:only-of-type {\n",
              "        vertical-align: middle;\n",
              "    }\n",
              "\n",
              "    .dataframe tbody tr th {\n",
              "        vertical-align: top;\n",
              "    }\n",
              "\n",
              "    .dataframe thead th {\n",
              "        text-align: right;\n",
              "    }\n",
              "</style>\n",
              "<table border=\"1\" class=\"dataframe\">\n",
              "  <thead>\n",
              "    <tr style=\"text-align: right;\">\n",
              "      <th></th>\n",
              "      <th>dep_name</th>\n",
              "      <th>emp_id</th>\n",
              "    </tr>\n",
              "  </thead>\n",
              "  <tbody>\n",
              "    <tr>\n",
              "      <th>0</th>\n",
              "      <td>Administrativo</td>\n",
              "      <td>1</td>\n",
              "    </tr>\n",
              "    <tr>\n",
              "      <th>1</th>\n",
              "      <td>Financeiro</td>\n",
              "      <td>2</td>\n",
              "    </tr>\n",
              "    <tr>\n",
              "      <th>2</th>\n",
              "      <td>Financeiro</td>\n",
              "      <td>3</td>\n",
              "    </tr>\n",
              "    <tr>\n",
              "      <th>3</th>\n",
              "      <td>Financeiro</td>\n",
              "      <td>5</td>\n",
              "    </tr>\n",
              "    <tr>\n",
              "      <th>4</th>\n",
              "      <td>TI</td>\n",
              "      <td>5</td>\n",
              "    </tr>\n",
              "    <tr>\n",
              "      <th>5</th>\n",
              "      <td>TI</td>\n",
              "      <td>6</td>\n",
              "    </tr>\n",
              "  </tbody>\n",
              "</table>\n",
              "</div>"
            ],
            "text/plain": [
              "         dep_name  emp_id\n",
              "0  Administrativo       1\n",
              "1      Financeiro       2\n",
              "2      Financeiro       3\n",
              "3      Financeiro       5\n",
              "4              TI       5\n",
              "5              TI       6"
            ]
          },
          "metadata": {
            "tags": []
          },
          "execution_count": 91
        }
      ]
    },
    {
      "cell_type": "markdown",
      "metadata": {
        "id": "fGURp34ob9iX"
      },
      "source": [
        "Retorne a lista de empregados (employees) e a lista de departamentos (deptos), retorne uma lista de todos os empregados que estão em um departamento:"
      ]
    },
    {
      "cell_type": "code",
      "metadata": {
        "id": "2lTAbfK_byin",
        "colab": {
          "base_uri": "https://localhost:8080/",
          "height": 238
        },
        "outputId": "a8a93fbf-ba77-424a-a8ef-8fd23241d469"
      },
      "source": [
        "inner_join = employees_df.join(deptos_df,employees_df.id==deptos_df.emp_id)\n",
        "display_df(inner_join)"
      ],
      "execution_count": null,
      "outputs": [
        {
          "output_type": "execute_result",
          "data": {
            "text/html": [
              "<div>\n",
              "<style scoped>\n",
              "    .dataframe tbody tr th:only-of-type {\n",
              "        vertical-align: middle;\n",
              "    }\n",
              "\n",
              "    .dataframe tbody tr th {\n",
              "        vertical-align: top;\n",
              "    }\n",
              "\n",
              "    .dataframe thead th {\n",
              "        text-align: right;\n",
              "    }\n",
              "</style>\n",
              "<table border=\"1\" class=\"dataframe\">\n",
              "  <thead>\n",
              "    <tr style=\"text-align: right;\">\n",
              "      <th></th>\n",
              "      <th>name</th>\n",
              "      <th>id</th>\n",
              "      <th>dep_name</th>\n",
              "      <th>emp_id</th>\n",
              "    </tr>\n",
              "  </thead>\n",
              "  <tbody>\n",
              "    <tr>\n",
              "      <th>0</th>\n",
              "      <td>Marta</td>\n",
              "      <td>6</td>\n",
              "      <td>TI</td>\n",
              "      <td>6</td>\n",
              "    </tr>\n",
              "    <tr>\n",
              "      <th>1</th>\n",
              "      <td>Maria</td>\n",
              "      <td>5</td>\n",
              "      <td>Financeiro</td>\n",
              "      <td>5</td>\n",
              "    </tr>\n",
              "    <tr>\n",
              "      <th>2</th>\n",
              "      <td>Maria</td>\n",
              "      <td>5</td>\n",
              "      <td>TI</td>\n",
              "      <td>5</td>\n",
              "    </tr>\n",
              "    <tr>\n",
              "      <th>3</th>\n",
              "      <td>Joao</td>\n",
              "      <td>1</td>\n",
              "      <td>Administrativo</td>\n",
              "      <td>1</td>\n",
              "    </tr>\n",
              "    <tr>\n",
              "      <th>4</th>\n",
              "      <td>Tiago</td>\n",
              "      <td>3</td>\n",
              "      <td>Financeiro</td>\n",
              "      <td>3</td>\n",
              "    </tr>\n",
              "    <tr>\n",
              "      <th>5</th>\n",
              "      <td>Marcos</td>\n",
              "      <td>2</td>\n",
              "      <td>Financeiro</td>\n",
              "      <td>2</td>\n",
              "    </tr>\n",
              "  </tbody>\n",
              "</table>\n",
              "</div>"
            ],
            "text/plain": [
              "     name  id        dep_name  emp_id\n",
              "0   Marta   6              TI       6\n",
              "1   Maria   5      Financeiro       5\n",
              "2   Maria   5              TI       5\n",
              "3    Joao   1  Administrativo       1\n",
              "4   Tiago   3      Financeiro       3\n",
              "5  Marcos   2      Financeiro       2"
            ]
          },
          "metadata": {
            "tags": []
          },
          "execution_count": 92
        }
      ]
    },
    {
      "cell_type": "code",
      "metadata": {
        "id": "GVXo_lbGdAuk",
        "colab": {
          "base_uri": "https://localhost:8080/",
          "height": 238
        },
        "outputId": "ca7e3afb-895f-4c5c-f5db-8205b51b82bf"
      },
      "source": [
        "inner_join = deptos_df.join(employees_df,employees_df.id==deptos_df.emp_id)\n",
        "display_df(inner_join)"
      ],
      "execution_count": null,
      "outputs": [
        {
          "output_type": "execute_result",
          "data": {
            "text/html": [
              "<div>\n",
              "<style scoped>\n",
              "    .dataframe tbody tr th:only-of-type {\n",
              "        vertical-align: middle;\n",
              "    }\n",
              "\n",
              "    .dataframe tbody tr th {\n",
              "        vertical-align: top;\n",
              "    }\n",
              "\n",
              "    .dataframe thead th {\n",
              "        text-align: right;\n",
              "    }\n",
              "</style>\n",
              "<table border=\"1\" class=\"dataframe\">\n",
              "  <thead>\n",
              "    <tr style=\"text-align: right;\">\n",
              "      <th></th>\n",
              "      <th>dep_name</th>\n",
              "      <th>emp_id</th>\n",
              "      <th>name</th>\n",
              "      <th>id</th>\n",
              "    </tr>\n",
              "  </thead>\n",
              "  <tbody>\n",
              "    <tr>\n",
              "      <th>0</th>\n",
              "      <td>TI</td>\n",
              "      <td>6</td>\n",
              "      <td>Marta</td>\n",
              "      <td>6</td>\n",
              "    </tr>\n",
              "    <tr>\n",
              "      <th>1</th>\n",
              "      <td>Financeiro</td>\n",
              "      <td>5</td>\n",
              "      <td>Maria</td>\n",
              "      <td>5</td>\n",
              "    </tr>\n",
              "    <tr>\n",
              "      <th>2</th>\n",
              "      <td>TI</td>\n",
              "      <td>5</td>\n",
              "      <td>Maria</td>\n",
              "      <td>5</td>\n",
              "    </tr>\n",
              "    <tr>\n",
              "      <th>3</th>\n",
              "      <td>Administrativo</td>\n",
              "      <td>1</td>\n",
              "      <td>Joao</td>\n",
              "      <td>1</td>\n",
              "    </tr>\n",
              "    <tr>\n",
              "      <th>4</th>\n",
              "      <td>Financeiro</td>\n",
              "      <td>3</td>\n",
              "      <td>Tiago</td>\n",
              "      <td>3</td>\n",
              "    </tr>\n",
              "    <tr>\n",
              "      <th>5</th>\n",
              "      <td>Financeiro</td>\n",
              "      <td>2</td>\n",
              "      <td>Marcos</td>\n",
              "      <td>2</td>\n",
              "    </tr>\n",
              "  </tbody>\n",
              "</table>\n",
              "</div>"
            ],
            "text/plain": [
              "         dep_name  emp_id    name  id\n",
              "0              TI       6   Marta   6\n",
              "1      Financeiro       5   Maria   5\n",
              "2              TI       5   Maria   5\n",
              "3  Administrativo       1    Joao   1\n",
              "4      Financeiro       3   Tiago   3\n",
              "5      Financeiro       2  Marcos   2"
            ]
          },
          "metadata": {
            "tags": []
          },
          "execution_count": 93
        }
      ]
    },
    {
      "cell_type": "markdown",
      "metadata": {
        "id": "YqtlueEScdo9"
      },
      "source": [
        "# Aula 3 - Output e Persistência dos Dataframes"
      ]
    },
    {
      "cell_type": "markdown",
      "metadata": {
        "id": "POUggOcmcnYN"
      },
      "source": [
        "# Output e Persistência dos Dataframes\n",
        "Nessa aula, estaremos cobrindo as mais populares formas de se realizar output e persistência nos Dataframes do Spark bem como os modos de inserção suportados pelo mesmo"
      ]
    },
    {
      "cell_type": "markdown",
      "metadata": {
        "id": "Sv9hHaaicswI"
      },
      "source": [
        "### Carregando o dataset videogamesales\n",
        "Dataset a ser utilizado: https://www.kaggle.com/gregorut/videogamesales/data"
      ]
    },
    {
      "cell_type": "code",
      "metadata": {
        "id": "tcnPNbChcvOL"
      },
      "source": [
        "data_dir = \"vgsales.csv\""
      ],
      "execution_count": null,
      "outputs": []
    },
    {
      "cell_type": "markdown",
      "metadata": {
        "id": "Is3R0DY7cyI6"
      },
      "source": [
        "#### Lendo os dados"
      ]
    },
    {
      "cell_type": "code",
      "metadata": {
        "id": "-vzUdiI0c1RO"
      },
      "source": [
        "df = spark.read.load(data_dir, format=\"csv\", inferSchema=\"true\", header=\"true\")"
      ],
      "execution_count": null,
      "outputs": []
    },
    {
      "cell_type": "code",
      "metadata": {
        "id": "FlzXt9vxc3Lg",
        "colab": {
          "base_uri": "https://localhost:8080/"
        },
        "outputId": "10bb8fd1-ef1f-416e-d4a5-3bc6653574ed"
      },
      "source": [
        "df.printSchema()"
      ],
      "execution_count": null,
      "outputs": [
        {
          "output_type": "stream",
          "text": [
            "root\n",
            " |-- Rank: integer (nullable = true)\n",
            " |-- Name: string (nullable = true)\n",
            " |-- Platform: string (nullable = true)\n",
            " |-- Year: string (nullable = true)\n",
            " |-- Genre: string (nullable = true)\n",
            " |-- Publisher: string (nullable = true)\n",
            " |-- NA_Sales: double (nullable = true)\n",
            " |-- EU_Sales: double (nullable = true)\n",
            " |-- JP_Sales: double (nullable = true)\n",
            " |-- Other_Sales: double (nullable = true)\n",
            " |-- Global_Sales: double (nullable = true)\n",
            "\n"
          ],
          "name": "stdout"
        }
      ]
    },
    {
      "cell_type": "markdown",
      "metadata": {
        "id": "UiymeJTGc8F0"
      },
      "source": [
        "# Output / Ações\n",
        "Output ou ações são o que delimitam um Job, que por sua vez, consiste em um conjunto de transformações em um Dataframe encadeadas e tendo sempre na ponta uma ação final. **Algumas ações são passíveis de serem realizadas de forma distribuída nos executores, mas outras, em decorrência de sua natureza, exige a centralização dos dados na entidade coordenadora chamada driver**. Basicamente:\n",
        "1. Toda ação realizada para persistir o Dataframe **pode** ser realizada de forma distribuída direto pelos executores\n",
        "2. Toda ação realizada para trazer Dataframes Spark para estruturas de dados em Python **exigirá a concentração dos dados no driver**"
      ]
    },
    {
      "cell_type": "markdown",
      "metadata": {
        "id": "f6DuYQBCr0F4"
      },
      "source": [
        "# Lazy evaluation\n",
        "Em conjunto com o conceito das **Ações**, temos também o conceito adotado pelo Spark e outras ferramentas de Big Data: **Lazy Evaluation**. É um conceito que define que **todas as transformações encadeadas só serão executadas quando houver uma ação**. Por exemplo, veja o trecho abaixo:\n",
        "```python\n",
        "df2 = df.select(\"col1\", \"col2\") \\\n",
        "    .filter(f.col(\"col2\") < 10) \\\n",
        "    .groupBy(\"col1\") \\\n",
        "    .agg(f.sum(\"col2\"))\n",
        "```\n",
        "\n",
        "Podemos notar 3 transformações: (1) *select*, (2) *filter* e (3) *groupBy + agg*. Nesse momento, é possível notar que nenhuma das transformações até então foram executadas devido ao conceito da *Lazy Evaluation* (outras ferramentas de Big Data também utilizam essa metodologia), ou seja, as transformações só serão de fato executadas quando houver uma ação. Como ainda não executamos nenhuma, as computações ainda não ocorrem de imediato, conforme visto na [Spark UI](192.168.1.7:8080).\n",
        "\n",
        "A computação somente ocorrerá ao executarmos os trechos abaixo:\n",
        "```python\n",
        "df2.show()\n",
        "df2.collect()\n",
        "```\n",
        "\n",
        "Lazy evaluation é interessante porque permite ao Spark, escolher em tempo de execução o melhor plano a ser seguido, com as otimizações passíveis de serem aplicadas em cada caso, dado as transformações utilizadas pelo programador"
      ]
    },
    {
      "cell_type": "markdown",
      "metadata": {
        "id": "e2soDPl5r5Qt"
      },
      "source": [
        "### Output simples"
      ]
    },
    {
      "cell_type": "markdown",
      "metadata": {
        "id": "HVpStKytr7pb"
      },
      "source": [
        "##### Printando Dataframes"
      ]
    },
    {
      "cell_type": "code",
      "metadata": {
        "id": "bsZqVa5Yr9y9",
        "colab": {
          "base_uri": "https://localhost:8080/"
        },
        "outputId": "553cc5b0-0158-4732-d0b4-a5632cacdc82"
      },
      "source": [
        "df.show(5)"
      ],
      "execution_count": null,
      "outputs": [
        {
          "output_type": "stream",
          "text": [
            "+----+--------------------+--------+----+------------+---------+--------+--------+--------+-----------+------------+\n",
            "|Rank|                Name|Platform|Year|       Genre|Publisher|NA_Sales|EU_Sales|JP_Sales|Other_Sales|Global_Sales|\n",
            "+----+--------------------+--------+----+------------+---------+--------+--------+--------+-----------+------------+\n",
            "|   1|          Wii Sports|     Wii|2006|      Sports| Nintendo|   41.49|   29.02|    3.77|       8.46|       82.74|\n",
            "|   2|   Super Mario Bros.|     NES|1985|    Platform| Nintendo|   29.08|    3.58|    6.81|       0.77|       40.24|\n",
            "|   3|      Mario Kart Wii|     Wii|2008|      Racing| Nintendo|   15.85|   12.88|    3.79|       3.31|       35.82|\n",
            "|   4|   Wii Sports Resort|     Wii|2009|      Sports| Nintendo|   15.75|   11.01|    3.28|       2.96|        33.0|\n",
            "|   5|Pokemon Red/Pokem...|      GB|1996|Role-Playing| Nintendo|   11.27|    8.89|   10.22|        1.0|       31.37|\n",
            "+----+--------------------+--------+----+------------+---------+--------+--------+--------+-----------+------------+\n",
            "only showing top 5 rows\n",
            "\n"
          ],
          "name": "stdout"
        }
      ]
    },
    {
      "cell_type": "markdown",
      "metadata": {
        "id": "gMttUYT_sGm0"
      },
      "source": [
        "##### Convertendo todo o Dataframe Spark para estruturas em Python puro\n",
        "Obs.: Cuidado!! Esses comandos podem resultar em falta de memoria no processo driver caso o Dataframe seja muito grande. É recomendado utilizá-lo apenas com Dataframes pequenos"
      ]
    },
    {
      "cell_type": "code",
      "metadata": {
        "id": "pVWqwyDssOkQ"
      },
      "source": [
        "#df.limit(10).collect() # converte o dataframe para uma lista em Python\n",
        "#df.limit(10).toPandas() # converte o dataframe Spark para um dataframe Pandas\n",
        "#df.limit(10).first() # retorna a primeira linha do Dataframe Spark como uma lista em Python"
      ],
      "execution_count": null,
      "outputs": []
    },
    {
      "cell_type": "markdown",
      "metadata": {
        "id": "DSsxH3JxsZ6i"
      },
      "source": [
        "##### Contando o número de linhas"
      ]
    },
    {
      "cell_type": "code",
      "metadata": {
        "id": "9hpI44jUsbun",
        "colab": {
          "base_uri": "https://localhost:8080/"
        },
        "outputId": "db3dc7e4-5246-44db-d5b1-f605bcd6ebe1"
      },
      "source": [
        "df.count()"
      ],
      "execution_count": null,
      "outputs": [
        {
          "output_type": "execute_result",
          "data": {
            "text/plain": [
              "16598"
            ]
          },
          "metadata": {
            "tags": []
          },
          "execution_count": 99
        }
      ]
    },
    {
      "cell_type": "markdown",
      "metadata": {
        "id": "g5PsT9PDsggf"
      },
      "source": [
        "### Output no formato de persistência como uma tabela relacional\n",
        "O Spark, além de ser uma engine de processamento paralelo, possui também um catálogo de dados onde é possível persistir informações de tabelas e utilizar a API do Spark SQL para consultá-las. Para interagir com esse catálogo de dados do Spark, temos duas formas:\n",
        "- Criando tabelas temporárias: `createOrReplaceTempView()`\n",
        "- Criando tabelas definitivas: `df.write.saveAsTable()`"
      ]
    },
    {
      "cell_type": "code",
      "metadata": {
        "id": "XYveoAAZtA9G"
      },
      "source": [
        "df.createOrReplaceTempView(\"temp_vgsales\")\n",
        "df.write.saveAsTable(\"stored_vgsales_1\")"
      ],
      "execution_count": null,
      "outputs": []
    },
    {
      "cell_type": "markdown",
      "metadata": {
        "id": "FblZajUatFjl"
      },
      "source": [
        "#### Visualizando as tabelas criadas"
      ]
    },
    {
      "cell_type": "code",
      "metadata": {
        "id": "eKvjp3LytIJN",
        "colab": {
          "base_uri": "https://localhost:8080/"
        },
        "outputId": "1d01a5a3-cf02-4f83-b8ed-493fc0458c24"
      },
      "source": [
        "spark.sql(\"SHOW TABLES\").show()"
      ],
      "execution_count": null,
      "outputs": [
        {
          "output_type": "stream",
          "text": [
            "+--------+----------------+-----------+\n",
            "|database|       tableName|isTemporary|\n",
            "+--------+----------------+-----------+\n",
            "| default|stored_vgsales_1|      false|\n",
            "|        |    temp_vgsales|       true|\n",
            "|        | videogame_sales|       true|\n",
            "+--------+----------------+-----------+\n",
            "\n"
          ],
          "name": "stdout"
        }
      ]
    },
    {
      "cell_type": "code",
      "metadata": {
        "id": "eOPoBK2mtONw",
        "colab": {
          "base_uri": "https://localhost:8080/"
        },
        "outputId": "f96aa34d-305e-434e-b3e0-fb53f5dc9882"
      },
      "source": [
        "spark.sql(\"\"\"\n",
        "SELECT * FROM stored_vgsales_1 LIMIT 10\n",
        "\"\"\").show()"
      ],
      "execution_count": null,
      "outputs": [
        {
          "output_type": "stream",
          "text": [
            "+----+--------------------+--------+----+------------+---------+--------+--------+--------+-----------+------------+\n",
            "|Rank|                Name|Platform|Year|       Genre|Publisher|NA_Sales|EU_Sales|JP_Sales|Other_Sales|Global_Sales|\n",
            "+----+--------------------+--------+----+------------+---------+--------+--------+--------+-----------+------------+\n",
            "|   1|          Wii Sports|     Wii|2006|      Sports| Nintendo|   41.49|   29.02|    3.77|       8.46|       82.74|\n",
            "|   2|   Super Mario Bros.|     NES|1985|    Platform| Nintendo|   29.08|    3.58|    6.81|       0.77|       40.24|\n",
            "|   3|      Mario Kart Wii|     Wii|2008|      Racing| Nintendo|   15.85|   12.88|    3.79|       3.31|       35.82|\n",
            "|   4|   Wii Sports Resort|     Wii|2009|      Sports| Nintendo|   15.75|   11.01|    3.28|       2.96|        33.0|\n",
            "|   5|Pokemon Red/Pokem...|      GB|1996|Role-Playing| Nintendo|   11.27|    8.89|   10.22|        1.0|       31.37|\n",
            "|   6|              Tetris|      GB|1989|      Puzzle| Nintendo|    23.2|    2.26|    4.22|       0.58|       30.26|\n",
            "|   7|New Super Mario B...|      DS|2006|    Platform| Nintendo|   11.38|    9.23|     6.5|        2.9|       30.01|\n",
            "|   8|            Wii Play|     Wii|2006|        Misc| Nintendo|   14.03|     9.2|    2.93|       2.85|       29.02|\n",
            "|   9|New Super Mario B...|     Wii|2009|    Platform| Nintendo|   14.59|    7.06|     4.7|       2.26|       28.62|\n",
            "|  10|           Duck Hunt|     NES|1984|     Shooter| Nintendo|   26.93|    0.63|    0.28|       0.47|       28.31|\n",
            "+----+--------------------+--------+----+------------+---------+--------+--------+--------+-----------+------------+\n",
            "\n"
          ],
          "name": "stdout"
        }
      ]
    },
    {
      "cell_type": "markdown",
      "metadata": {
        "id": "h0dofA6ZtSZB"
      },
      "source": [
        "### Output no formato de persistência em arquivos\n",
        "Ao persistir dataframes em arquivos, o Spark oferece uma gama de possíveis arquivos de saída. Entretando, é necessário ficar atento a alguns pontos sobre os arquivos gerados.\n",
        "\n",
        "1. Para todo output de arquivo gerado, será criado um diretório com o nome escolhido e dentro dele, haverá um ou mais arquivos `part-0000...` contendo os dados propriamente ditos, bem como um arquivo `_SUCCESS` (flag indicando a finalização do processo de persistência do dado)\n",
        "2. É possível controlar a quantidade de partições do arquivo final com o comando `df.coalesce()` ou `df.repartition()`\n",
        "3. Existem 2 modos de realizar o processo de persistência do dado `overwrite` e `append`"
      ]
    },
    {
      "cell_type": "markdown",
      "metadata": {
        "id": "hLFPVQUxtxPQ"
      },
      "source": [
        "#### Persistência em arquivo CSV - 1 partição"
      ]
    },
    {
      "cell_type": "code",
      "metadata": {
        "id": "mU_zTPJjt0GG"
      },
      "source": [
        "# .coalesce(1) - move os dados internamente para UMA partição apenas\n",
        "# .mode(\"overwrite\") - substitui o diretório inteiro caso seja executado novamente\n",
        "# .option(\"header\", \"true\") - incluir o cabeçalho no CSV (específica do formato CSV)\n",
        "\n",
        "df.coalesce(1)\\\n",
        "    .write\\\n",
        "    .mode(\"overwrite\")\\\n",
        "    .option(\"header\", \"true\")\\\n",
        "    .csv(\"./output/vgsales_csv\")"
      ],
      "execution_count": null,
      "outputs": []
    },
    {
      "cell_type": "code",
      "metadata": {
        "id": "P49TLSl9t1kg",
        "colab": {
          "base_uri": "https://localhost:8080/"
        },
        "outputId": "3b53c459-ef93-4e66-e637-a2a7d6cc23b1"
      },
      "source": [
        "!ls output/vgsales_csv"
      ],
      "execution_count": null,
      "outputs": [
        {
          "output_type": "stream",
          "text": [
            "part-00000-a59c25fe-86e5-4e25-a15a-e193e139d686-c000.csv  _SUCCESS\n"
          ],
          "name": "stdout"
        }
      ]
    },
    {
      "cell_type": "code",
      "metadata": {
        "id": "ncTu_aEut3xX",
        "colab": {
          "base_uri": "https://localhost:8080/"
        },
        "outputId": "1a5efe9f-c455-4935-aff5-eed6ec48d4b0"
      },
      "source": [
        "!head -n 5 output/vgsales_csv/part-00000-9c3a12b7-372c-423a-ac8a-b79ff389d4f2-c000.csv"
      ],
      "execution_count": null,
      "outputs": [
        {
          "output_type": "stream",
          "text": [
            "head: cannot open 'output/vgsales_csv/part-00000-9c3a12b7-372c-423a-ac8a-b79ff389d4f2-c000.csv' for reading: No such file or directory\n"
          ],
          "name": "stdout"
        }
      ]
    },
    {
      "cell_type": "markdown",
      "metadata": {
        "id": "GJcVRuowt6fq"
      },
      "source": [
        "#### Persistência em arquivo CSV - 2 partições"
      ]
    },
    {
      "cell_type": "code",
      "metadata": {
        "id": "_IStEe4zt8fa"
      },
      "source": [
        "# .repartition(2) - salva o dataframe utilizando 2 partições\n",
        "\n",
        "df.repartition(2)\\\n",
        "    .write\\\n",
        "    .mode(\"overwrite\")\\\n",
        "    .option(\"header\", \"true\")\\\n",
        "    .csv(\"./output/vgsales_csv\")"
      ],
      "execution_count": null,
      "outputs": []
    },
    {
      "cell_type": "code",
      "metadata": {
        "id": "5JQFFXuCt-36",
        "colab": {
          "base_uri": "https://localhost:8080/"
        },
        "outputId": "f879aff3-5c25-4262-f451-9e07692e30ee"
      },
      "source": [
        "!ls output/vgsales_csv"
      ],
      "execution_count": null,
      "outputs": [
        {
          "output_type": "stream",
          "text": [
            "part-00000-8f90ee08-5108-433e-b156-61e9a4686c0d-c000.csv  _SUCCESS\n",
            "part-00001-8f90ee08-5108-433e-b156-61e9a4686c0d-c000.csv\n"
          ],
          "name": "stdout"
        }
      ]
    },
    {
      "cell_type": "markdown",
      "metadata": {
        "id": "JPRE3by2uEPI"
      },
      "source": [
        "#### Persistência em arquivo CSV - 2 partições e modo 'append'"
      ]
    },
    {
      "cell_type": "code",
      "metadata": {
        "id": "4_WAWw2duH2p"
      },
      "source": [
        "# .mode(\"append\") - realiza a operação de append ao salvar no mesmo diretório\n",
        "\n",
        "df.repartition(2)\\\n",
        "    .write\\\n",
        "    .mode(\"append\")\\\n",
        "    .option(\"header\", \"true\")\\\n",
        "    .csv(\"./output/vgsales_csv\")"
      ],
      "execution_count": null,
      "outputs": []
    },
    {
      "cell_type": "code",
      "metadata": {
        "id": "2gQaw8WruJmy",
        "colab": {
          "base_uri": "https://localhost:8080/"
        },
        "outputId": "8ac8375f-f16a-45ee-c564-b273c1fb7a45"
      },
      "source": [
        "!ls output/vgsales_csv"
      ],
      "execution_count": null,
      "outputs": [
        {
          "output_type": "stream",
          "text": [
            "part-00000-45ea6161-8d31-42cb-bdc7-8f49cef2a04d-c000.csv\n",
            "part-00000-8f90ee08-5108-433e-b156-61e9a4686c0d-c000.csv\n",
            "part-00001-45ea6161-8d31-42cb-bdc7-8f49cef2a04d-c000.csv\n",
            "part-00001-8f90ee08-5108-433e-b156-61e9a4686c0d-c000.csv\n",
            "_SUCCESS\n"
          ],
          "name": "stdout"
        }
      ]
    },
    {
      "cell_type": "markdown",
      "metadata": {
        "id": "cvJeTvzQuSf5"
      },
      "source": [
        "Lendo o dataset particionado"
      ]
    },
    {
      "cell_type": "code",
      "metadata": {
        "id": "fHUqn98-uUbh",
        "colab": {
          "base_uri": "https://localhost:8080/"
        },
        "outputId": "41145b72-f1b9-4c1c-b649-fd5d0fbff268"
      },
      "source": [
        "spark.read.load(\"output/vgsales_csv\", format=\"csv\", inferSchema=\"true\", header=\"true\") \\\n",
        "  .show()"
      ],
      "execution_count": null,
      "outputs": [
        {
          "output_type": "stream",
          "text": [
            "+-----+--------------------+--------+----+------------+--------------------+--------+--------+--------+-----------+------------+\n",
            "| Rank|                Name|Platform|Year|       Genre|           Publisher|NA_Sales|EU_Sales|JP_Sales|Other_Sales|Global_Sales|\n",
            "+-----+--------------------+--------+----+------------+--------------------+--------+--------+--------+-----------+------------+\n",
            "|12862|   Murder, She Wrote|      PC|2009|   Adventure|Focus Home Intera...|     0.0|    0.04|     0.0|       0.01|        0.05|\n",
            "| 4507|       Trials Fusion|     PS4|2014|      Racing|             Ubisoft|    0.13|    0.21|    0.01|       0.08|        0.43|\n",
            "|10480|Corvette Evolutio...|      DS|2008|      Racing|    Black Bean Games|     0.1|     0.0|     0.0|       0.01|         0.1|\n",
            "| 7644|          The BIGS 2|     PS2|2009|      Sports|Take-Two Interactive|     0.1|    0.08|     0.0|       0.03|         0.2|\n",
            "|11122|Data East Arcade ...|     Wii|2010|        Misc|Majesco Entertain...|    0.08|     0.0|     0.0|       0.01|        0.09|\n",
            "|13972|Rugby World Cup 2015|     PSV|2015|      Sports|             Ubisoft|     0.0|    0.03|     0.0|       0.01|        0.04|\n",
            "| 7825|Jikkyou Powerful ...|    SNES|1996|      Sports|Konami Digital En...|     0.0|     0.0|    0.19|        0.0|        0.19|\n",
            "|12681|            Yomawari|     PSV|2015|   Adventure|Nippon Ichi Software|     0.0|     0.0|    0.06|        0.0|        0.06|\n",
            "|12620|Archer Maclean Pr...|     PS2|2004|      Sports|Ignition Entertai...|    0.03|    0.02|     0.0|       0.01|        0.06|\n",
            "| 9060|Front Mission Alt...|      PS|1997|    Strategy|          SquareSoft|     0.0|     0.0|    0.13|       0.01|        0.14|\n",
            "| 2213|            MLB 2000|      PS|1999|      Sports|Sony Computer Ent...|    0.52|    0.35|     0.0|       0.06|        0.94|\n",
            "| 9015|      Sakura Wars GB|      GB|2000|   Adventure|       Media Factory|     0.0|     0.0|    0.14|        0.0|        0.14|\n",
            "|13979|Super Hero Genera...|     PSV|2014|Role-Playing|  Namco Bandai Games|     0.0|     0.0|    0.04|        0.0|        0.04|\n",
            "| 6066|     Trivial Pursuit|     PS3|2009|        Misc|     Electronic Arts|    0.12|    0.12|     0.0|       0.05|        0.29|\n",
            "|14430|Summon Night 6: L...|     PS4|2016|      Action|  Namco Bandai Games|     0.0|     0.0|    0.03|        0.0|        0.03|\n",
            "| 6904|   XS Airboat Racing|      PS|2002|      Racing|            XS Games|    0.13|    0.09|     0.0|       0.02|        0.24|\n",
            "| 3390|           Jeopardy!|     Wii|2010|        Misc|                 THQ|    0.56|     0.0|     0.0|       0.03|        0.59|\n",
            "| 2696|Street Fighter Al...|      PS|1995|    Fighting|  Virgin Interactive|    0.17|    0.11|    0.43|       0.05|        0.76|\n",
            "|10803|Who Wants to Be A...|    X360|2011|        Misc|             Ubisoft|    0.09|     0.0|     0.0|       0.01|         0.1|\n",
            "| 4331|Dead or Alive: Di...|     3DS|2011|    Fighting|      Ubisoft Annecy|    0.13|    0.21|    0.07|       0.03|        0.45|\n",
            "+-----+--------------------+--------+----+------------+--------------------+--------+--------+--------+-----------+------------+\n",
            "only showing top 20 rows\n",
            "\n"
          ],
          "name": "stdout"
        }
      ]
    },
    {
      "cell_type": "markdown",
      "metadata": {
        "id": "oUQQesEAuXIK"
      },
      "source": [
        "#### Persistência em arquivo JSON"
      ]
    },
    {
      "cell_type": "code",
      "metadata": {
        "id": "i5-VH3GPuYr2"
      },
      "source": [
        "df.repartition(2)\\\n",
        "    .write\\\n",
        "    .mode(\"overwrite\")\\\n",
        "    .json(\"./output/vgsales_json\")"
      ],
      "execution_count": null,
      "outputs": []
    },
    {
      "cell_type": "code",
      "metadata": {
        "id": "sracPzwduay5",
        "colab": {
          "base_uri": "https://localhost:8080/"
        },
        "outputId": "e690a747-7cbf-452c-c50a-f05f5f430332"
      },
      "source": [
        "!ls output/vgsales_json"
      ],
      "execution_count": null,
      "outputs": [
        {
          "output_type": "stream",
          "text": [
            "part-00000-d95b8c1c-2a08-48b2-a6c5-d8d5adcdead9-c000.json  _SUCCESS\n",
            "part-00001-d95b8c1c-2a08-48b2-a6c5-d8d5adcdead9-c000.json\n"
          ],
          "name": "stdout"
        }
      ]
    },
    {
      "cell_type": "code",
      "metadata": {
        "id": "H63k_Kl1udjW",
        "colab": {
          "base_uri": "https://localhost:8080/"
        },
        "outputId": "795e73b6-52a3-4d8e-d018-c36297fb332a"
      },
      "source": [
        "!head -n 5 output/vgsales_json/part-00000-0f205f75-4b8b-4b0d-b6d0-4558bb531a5f-c000.json"
      ],
      "execution_count": null,
      "outputs": [
        {
          "output_type": "stream",
          "text": [
            "head: cannot open 'output/vgsales_json/part-00000-0f205f75-4b8b-4b0d-b6d0-4558bb531a5f-c000.json' for reading: No such file or directory\n"
          ],
          "name": "stdout"
        }
      ]
    },
    {
      "cell_type": "markdown",
      "metadata": {
        "id": "xnvAsA2Qufjc"
      },
      "source": [
        "#### Persistência em arquivo Parquet"
      ]
    },
    {
      "cell_type": "code",
      "metadata": {
        "id": "aYOk_5rjumYb"
      },
      "source": [
        "df.coalesce(1)\\\n",
        "    .write\\\n",
        "    .mode(\"overwrite\")\\\n",
        "    .parquet(\"./output/vgsales_parquet\")"
      ],
      "execution_count": null,
      "outputs": []
    },
    {
      "cell_type": "code",
      "metadata": {
        "id": "zoGVnAUTunmA",
        "colab": {
          "base_uri": "https://localhost:8080/"
        },
        "outputId": "1b4021b2-9c8a-4416-f8cd-277427635a1e"
      },
      "source": [
        "!ls output/vgsales_parquet"
      ],
      "execution_count": null,
      "outputs": [
        {
          "output_type": "stream",
          "text": [
            "part-00000-e77df995-b223-411f-91c0-d6a6a4888b41-c000.snappy.parquet  _SUCCESS\n"
          ],
          "name": "stdout"
        }
      ]
    },
    {
      "cell_type": "code",
      "metadata": {
        "id": "dMOrX1uxupZl"
      },
      "source": [
        "file://output/vgsales/\n",
        "s3://output/vgsales/\n",
        "hdfs://output/vgsales/"
      ],
      "execution_count": null,
      "outputs": []
    },
    {
      "cell_type": "markdown",
      "metadata": {
        "id": "Ykpfd8_HuroZ"
      },
      "source": [
        "### Observações\n",
        "Além de possuir uma gama de formatos de entrada e saída de dados, o Spark também consegue ler e salvar esses dados das mais variadas fontes. Podemos citar algumas tais quais:\n",
        "- Brokers como Kafka, MQTT, AWS Kinesis, etc\n",
        "- Bancos de dados relacionais: MySQL, SQL Server, etc\n",
        "- Cloud storages como S3, ADLS, Blob Storage\n",
        "- Hadoop Distributed File System (HDFS)\n",
        "- Bancos de dados NoSQL: Redis, HBase, Cassandra, MongoDB, Elasticsearch, timeseries DB, etc"
      ]
    },
    {
      "cell_type": "markdown",
      "metadata": {
        "id": "f_ybfrF5T_2y"
      },
      "source": [
        "# Exercícios\n",
        "\n",
        "1) Exporte o dataframe vgsales em formato JSON, com 4 partições em modo overwrite ativado no caminho ./output/vgsales_json:\n"
      ]
    },
    {
      "cell_type": "markdown",
      "metadata": {
        "id": "mxGcHKDhsY8K"
      },
      "source": [
        ""
      ]
    },
    {
      "cell_type": "code",
      "metadata": {
        "id": "499glypXUoES",
        "colab": {
          "base_uri": "https://localhost:8080/"
        },
        "outputId": "e68f28b1-3e97-4daf-b5b5-24120566c8fb"
      },
      "source": [
        "df.show()"
      ],
      "execution_count": null,
      "outputs": [
        {
          "output_type": "stream",
          "text": [
            "+----+--------------------+--------+----+------------+--------------------+--------+--------+--------+-----------+------------+\n",
            "|Rank|                Name|Platform|Year|       Genre|           Publisher|NA_Sales|EU_Sales|JP_Sales|Other_Sales|Global_Sales|\n",
            "+----+--------------------+--------+----+------------+--------------------+--------+--------+--------+-----------+------------+\n",
            "|   1|          Wii Sports|     Wii|2006|      Sports|            Nintendo|   41.49|   29.02|    3.77|       8.46|       82.74|\n",
            "|   2|   Super Mario Bros.|     NES|1985|    Platform|            Nintendo|   29.08|    3.58|    6.81|       0.77|       40.24|\n",
            "|   3|      Mario Kart Wii|     Wii|2008|      Racing|            Nintendo|   15.85|   12.88|    3.79|       3.31|       35.82|\n",
            "|   4|   Wii Sports Resort|     Wii|2009|      Sports|            Nintendo|   15.75|   11.01|    3.28|       2.96|        33.0|\n",
            "|   5|Pokemon Red/Pokem...|      GB|1996|Role-Playing|            Nintendo|   11.27|    8.89|   10.22|        1.0|       31.37|\n",
            "|   6|              Tetris|      GB|1989|      Puzzle|            Nintendo|    23.2|    2.26|    4.22|       0.58|       30.26|\n",
            "|   7|New Super Mario B...|      DS|2006|    Platform|            Nintendo|   11.38|    9.23|     6.5|        2.9|       30.01|\n",
            "|   8|            Wii Play|     Wii|2006|        Misc|            Nintendo|   14.03|     9.2|    2.93|       2.85|       29.02|\n",
            "|   9|New Super Mario B...|     Wii|2009|    Platform|            Nintendo|   14.59|    7.06|     4.7|       2.26|       28.62|\n",
            "|  10|           Duck Hunt|     NES|1984|     Shooter|            Nintendo|   26.93|    0.63|    0.28|       0.47|       28.31|\n",
            "|  11|          Nintendogs|      DS|2005|  Simulation|            Nintendo|    9.07|    11.0|    1.93|       2.75|       24.76|\n",
            "|  12|       Mario Kart DS|      DS|2005|      Racing|            Nintendo|    9.81|    7.57|    4.13|       1.92|       23.42|\n",
            "|  13|Pokemon Gold/Poke...|      GB|1999|Role-Playing|            Nintendo|     9.0|    6.18|     7.2|       0.71|        23.1|\n",
            "|  14|             Wii Fit|     Wii|2007|      Sports|            Nintendo|    8.94|    8.03|     3.6|       2.15|       22.72|\n",
            "|  15|        Wii Fit Plus|     Wii|2009|      Sports|            Nintendo|    9.09|    8.59|    2.53|       1.79|        22.0|\n",
            "|  16|  Kinect Adventures!|    X360|2010|        Misc|Microsoft Game St...|   14.97|    4.94|    0.24|       1.67|       21.82|\n",
            "|  17|  Grand Theft Auto V|     PS3|2013|      Action|Take-Two Interactive|    7.01|    9.27|    0.97|       4.14|        21.4|\n",
            "|  18|Grand Theft Auto:...|     PS2|2004|      Action|Take-Two Interactive|    9.43|     0.4|    0.41|      10.57|       20.81|\n",
            "|  19|   Super Mario World|    SNES|1990|    Platform|            Nintendo|   12.78|    3.75|    3.54|       0.55|       20.61|\n",
            "|  20|Brain Age: Train ...|      DS|2005|        Misc|            Nintendo|    4.75|    9.26|    4.16|       2.05|       20.22|\n",
            "+----+--------------------+--------+----+------------+--------------------+--------+--------+--------+-----------+------------+\n",
            "only showing top 20 rows\n",
            "\n"
          ],
          "name": "stdout"
        }
      ]
    },
    {
      "cell_type": "code",
      "metadata": {
        "id": "Qdr_T-uEUrNd",
        "colab": {
          "base_uri": "https://localhost:8080/"
        },
        "outputId": "3590333a-46a7-4a97-ac32-b1e77fa0a140"
      },
      "source": [
        "df.count()"
      ],
      "execution_count": null,
      "outputs": [
        {
          "output_type": "execute_result",
          "data": {
            "text/plain": [
              "16598"
            ]
          },
          "metadata": {
            "tags": []
          },
          "execution_count": 118
        }
      ]
    },
    {
      "cell_type": "code",
      "metadata": {
        "id": "AaPhknT2UDm4"
      },
      "source": [
        "df.createOrReplaceTempView(\"temp_vgsales\")\n",
        "df.write.saveAsTable(\"stored_vgsales\")"
      ],
      "execution_count": null,
      "outputs": []
    },
    {
      "cell_type": "code",
      "metadata": {
        "id": "3CoAQ2MLUUhZ"
      },
      "source": [
        "df.repartition(4)\\\n",
        "    .write\\\n",
        "    .mode(\"overwrite\")\\\n",
        "    .option(\"header\", \"true\")\\\n",
        "    .json(\"./output/vgsales_json\")"
      ],
      "execution_count": null,
      "outputs": []
    },
    {
      "cell_type": "markdown",
      "metadata": {
        "id": "bOBTK82sU_Jc"
      },
      "source": [
        "2) Exporte o dataframe vgsales em formato CSV, com 2 partições tradicionais, e uma partição por coluna no campo Year."
      ]
    },
    {
      "cell_type": "code",
      "metadata": {
        "id": "xwId-UTuU_pk"
      },
      "source": [
        "df.selectExpr('Year as launched_year', '*').repartition(2)\\\n",
        "    .write\\\n",
        "    .partitionBy(\"launched_year\") \\\n",
        "    .mode(\"overwrite\")\\\n",
        "    .option(\"header\", \"true\")\\\n",
        "    .csv(\"./output/vgsales_csv\")"
      ],
      "execution_count": null,
      "outputs": []
    },
    {
      "cell_type": "code",
      "metadata": {
        "id": "_9FSUWJgu0QZ"
      },
      "source": [
        "#versão do professor\n",
        "\n",
        "df.selectExpr(\"replace(Year, '/', '') as year_partition\", \"*\") \\\n",
        "    .repartition(2)\\\n",
        "    .write\\\n",
        "    .partitionBy(\"year_partition\") \\\n",
        "    .mode(\"overwrite\")\\\n",
        "    .option(\"header\", \"true\")\\\n",
        "    .csv(\"./output/vgsales_csv\")"
      ],
      "execution_count": null,
      "outputs": []
    },
    {
      "cell_type": "markdown",
      "metadata": {
        "id": "CwSjRFJ7vd6q"
      },
      "source": [
        "# Aula 4 - Introdução aos RDDs"
      ]
    },
    {
      "cell_type": "markdown",
      "metadata": {
        "id": "SHJq-Rk1vrAB"
      },
      "source": [
        "### RDD\n",
        "RDD ou Resilient Distributed Datasets são estruturas distribuídas e imutáveis de objetos Python, Scala, Java ou qualquer que seja a linguagem que o usuário esteja operando os RDDs. Ao contrário dos Dataframes que são estruturados no conceito de Row com um schema conhecido, os RDDs são genéricos deixando a cargo do programador o seu uso e a sua estruturação\n",
        "\n",
        "### Low-level APIs\n",
        "São APIs baixo nível fornecidas pelo Spark para manipular as estruturas elementares do Spark: os **RDDs**, **Shared Variables** e **Accumulators**. Normalmente o usuário opta por usar as Low-level APIs em 3 situações:\n",
        "- Quando é necessário ter o controle explícito de como o dado é distribuído ao longo do cluster\n",
        "- Manter código legado escrito usando RDDs\n",
        "- Acessar variáveis compartilhadas no cluster como um todo\n",
        "\n",
        "Mesmo que você seja avançado em programação com RDDs, é recomendado que você siga utilizando as APIs High-level, a menos que se depare com uma das 3 situações acima. Ao utilizar os RDDs, assume-se que todo o controle está na mão do usuário e este pode não saber ao certo o que está fazendo e danificar a performance da aplicação.\n",
        "\n",
        "É importante ressaltar que a API High-level Dataframe é inteiramente baseada nos RDDs, ou seja, toda transformação realizada em cima dos Dataframes, se torna uma transformação primitiva em RDD e entender como funciona essas APIs pode fazer a diferença na construção de aplicações com mais performance e robustez.\n",
        "\n",
        "### Spark Context\n",
        "É o ponto de entrada para se trabalhar com as Low-level APIs. Está para os RDDs assim como o Spark Session está para os Dataframes"
      ]
    },
    {
      "cell_type": "markdown",
      "metadata": {
        "id": "a3dv-q9VvoEM"
      },
      "source": [
        "# Introdução aos RDDs\n",
        "Nessa aula veremos o que são os RDDs ou Resilient Distributed Datasets e como interagir com algumas operações básicas sobre os mesmos"
      ]
    },
    {
      "cell_type": "code",
      "metadata": {
        "id": "LUO0gkbLvvJG",
        "colab": {
          "base_uri": "https://localhost:8080/",
          "height": 199
        },
        "outputId": "5252e8b5-eed1-4bb4-f74d-10f0ddd4417d"
      },
      "source": [
        "sc = spark.sparkContext\n",
        "sc"
      ],
      "execution_count": null,
      "outputs": [
        {
          "output_type": "execute_result",
          "data": {
            "text/html": [
              "\n",
              "        <div>\n",
              "            <p><b>SparkContext</b></p>\n",
              "\n",
              "            <p><a href=\"http://17a452e27a2b:4040\">Spark UI</a></p>\n",
              "\n",
              "            <dl>\n",
              "              <dt>Version</dt>\n",
              "                <dd><code>v3.0.1</code></dd>\n",
              "              <dt>Master</dt>\n",
              "                <dd><code>local[*]</code></dd>\n",
              "              <dt>AppName</dt>\n",
              "                <dd><code>pyspark-shell</code></dd>\n",
              "            </dl>\n",
              "        </div>\n",
              "        "
            ],
            "text/plain": [
              "<SparkContext master=local[*] appName=pyspark-shell>"
            ]
          },
          "metadata": {
            "tags": []
          },
          "execution_count": 123
        }
      ]
    },
    {
      "cell_type": "markdown",
      "metadata": {
        "id": "4zTcsHa8vuvn"
      },
      "source": [
        "### Criando RDDs\n",
        "Ao criar um RDD, é possível criá-lo de 3 formas: \n",
        "- a partir de coleções locais em Python\n",
        "- a partir de data sources primitivas\n",
        "- a partir de Dataframes\n",
        "\n",
        "##### Utilizando coleções locais\n",
        "Ao utilizar coleções locais, temos o comando `sc.parallelize()` que recebe como parâmetro a **coleção** e o número de **partições**"
      ]
    },
    {
      "cell_type": "markdown",
      "metadata": {
        "id": "mKcRAsgMwA0M"
      },
      "source": [
        "Criando a partir de locais"
      ]
    },
    {
      "cell_type": "code",
      "metadata": {
        "id": "Po-jkTk_v2nE"
      },
      "source": [
        "text = \"Spark The Definitive Guide : Big Data Processing Made Simple\"\n",
        "collection = text.split(\" \")"
      ],
      "execution_count": null,
      "outputs": []
    },
    {
      "cell_type": "code",
      "metadata": {
        "id": "F8cgUgxmv4qa",
        "colab": {
          "base_uri": "https://localhost:8080/"
        },
        "outputId": "f6a1b04a-1b35-4622-991d-64a8a212c6cf"
      },
      "source": [
        "type(collection)"
      ],
      "execution_count": null,
      "outputs": [
        {
          "output_type": "execute_result",
          "data": {
            "text/plain": [
              "list"
            ]
          },
          "metadata": {
            "tags": []
          },
          "execution_count": 125
        }
      ]
    },
    {
      "cell_type": "code",
      "metadata": {
        "id": "XowNUJV4v8di"
      },
      "source": [
        "rdd_words = sc.parallelize(collection, 2)\n",
        "rdd_words.setName(\"myWords\")\n",
        "rdd_words"
      ],
      "execution_count": null,
      "outputs": []
    },
    {
      "cell_type": "code",
      "metadata": {
        "id": "CTA5PNLQwHC1",
        "colab": {
          "base_uri": "https://localhost:8080/",
          "height": 172
        },
        "outputId": "1046e7c9-d35c-45fa-b607-0237e33319af"
      },
      "source": [
        "rdd_words.collect()"
      ],
      "execution_count": null,
      "outputs": [
        {
          "output_type": "error",
          "ename": "NameError",
          "evalue": "ignored",
          "traceback": [
            "\u001b[0;31m---------------------------------------------------------------------------\u001b[0m",
            "\u001b[0;31mNameError\u001b[0m                                 Traceback (most recent call last)",
            "\u001b[0;32m<ipython-input-126-4e3cbc35b288>\u001b[0m in \u001b[0;36m<module>\u001b[0;34m()\u001b[0m\n\u001b[0;32m----> 1\u001b[0;31m \u001b[0mrdd_words\u001b[0m\u001b[0;34m.\u001b[0m\u001b[0mcollect\u001b[0m\u001b[0;34m(\u001b[0m\u001b[0;34m)\u001b[0m\u001b[0;34m\u001b[0m\u001b[0;34m\u001b[0m\u001b[0m\n\u001b[0m",
            "\u001b[0;31mNameError\u001b[0m: name 'rdd_words' is not defined"
          ]
        }
      ]
    },
    {
      "cell_type": "markdown",
      "metadata": {
        "id": "oxrZjgwywLxD"
      },
      "source": [
        "Outro Exemplo"
      ]
    },
    {
      "cell_type": "code",
      "metadata": {
        "id": "Q5wKX-_VwLMo",
        "colab": {
          "base_uri": "https://localhost:8080/"
        },
        "outputId": "ba7fcbba-a6d3-478f-f9ac-9e6823dfb5bc"
      },
      "source": [
        "data_dict = [{\n",
        "    \"nome\":\"Jose\",\n",
        "    \"idade\": 52,\n",
        "    \"profissao\": \"Advogado\"\n",
        "},{\n",
        "    \"nome\":\"Maria\",\n",
        "    \"idade\": 35,\n",
        "    \"profissao\": \"Médico\",\n",
        "    \"sexo\": \"feminino\"\n",
        "},{\n",
        "    \"nome\":\"Pedro\",\n",
        "    \"idade\": 25,\n",
        "    \"profissao\": \"Estudante\"\n",
        "},\n",
        "print,\n",
        "True]\n",
        "\n",
        "data_dict"
      ],
      "execution_count": null,
      "outputs": [
        {
          "output_type": "execute_result",
          "data": {
            "text/plain": [
              "[{'idade': 52, 'nome': 'Jose', 'profissao': 'Advogado'},\n",
              " {'idade': 35, 'nome': 'Maria', 'profissao': 'Médico', 'sexo': 'feminino'},\n",
              " {'idade': 25, 'nome': 'Pedro', 'profissao': 'Estudante'},\n",
              " <function print>,\n",
              " True]"
            ]
          },
          "metadata": {
            "tags": []
          },
          "execution_count": 127
        }
      ]
    },
    {
      "cell_type": "code",
      "metadata": {
        "id": "I9chi6QbwSIv",
        "colab": {
          "base_uri": "https://localhost:8080/"
        },
        "outputId": "fc57fb43-0e8e-4ee2-a0d3-10184de81ec6"
      },
      "source": [
        "rdd_dict = sc.parallelize(data_dict, 2)\n",
        "rdd_dict.collect()"
      ],
      "execution_count": null,
      "outputs": [
        {
          "output_type": "execute_result",
          "data": {
            "text/plain": [
              "[{'idade': 52, 'nome': 'Jose', 'profissao': 'Advogado'},\n",
              " {'idade': 35, 'nome': 'Maria', 'profissao': 'Médico', 'sexo': 'feminino'},\n",
              " {'idade': 25, 'nome': 'Pedro', 'profissao': 'Estudante'},\n",
              " <function print>,\n",
              " True]"
            ]
          },
          "metadata": {
            "tags": []
          },
          "execution_count": 128
        }
      ]
    },
    {
      "cell_type": "markdown",
      "metadata": {
        "id": "Zr1K_AX5wX4x"
      },
      "source": [
        "##### Utilizando arquivos como data source\n",
        "Ao utilizar arquivos de texto, cada linha do arquivo será uma linha do RDD."
      ]
    },
    {
      "cell_type": "code",
      "metadata": {
        "id": "qUzfyt9YwabZ",
        "colab": {
          "base_uri": "https://localhost:8080/"
        },
        "outputId": "3cb8ec36-2f2c-4826-b707-f6a0713d810b"
      },
      "source": [
        "data_dir = \"vgsales.csv\"\n",
        "\n",
        "rdd = sc.textFile(data_dir)\n",
        "rdd.setName(\"vgsales_csv\")"
      ],
      "execution_count": null,
      "outputs": [
        {
          "output_type": "execute_result",
          "data": {
            "text/plain": [
              "vgsales_csv MapPartitionsRDD[521] at textFile at NativeMethodAccessorImpl.java:0"
            ]
          },
          "metadata": {
            "tags": []
          },
          "execution_count": 129
        }
      ]
    },
    {
      "cell_type": "code",
      "metadata": {
        "id": "E77V5aiCwe5U",
        "colab": {
          "base_uri": "https://localhost:8080/"
        },
        "outputId": "26ad93e1-a5b2-4061-973b-637c738d9847"
      },
      "source": [
        "rdd.take(10)"
      ],
      "execution_count": null,
      "outputs": [
        {
          "output_type": "execute_result",
          "data": {
            "text/plain": [
              "['Rank,Name,Platform,Year,Genre,Publisher,NA_Sales,EU_Sales,JP_Sales,Other_Sales,Global_Sales',\n",
              " '1,Wii Sports,Wii,2006,Sports,Nintendo,41.49,29.02,3.77,8.46,82.74',\n",
              " '2,Super Mario Bros.,NES,1985,Platform,Nintendo,29.08,3.58,6.81,0.77,40.24',\n",
              " '3,Mario Kart Wii,Wii,2008,Racing,Nintendo,15.85,12.88,3.79,3.31,35.82',\n",
              " '4,Wii Sports Resort,Wii,2009,Sports,Nintendo,15.75,11.01,3.28,2.96,33',\n",
              " '5,Pokemon Red/Pokemon Blue,GB,1996,Role-Playing,Nintendo,11.27,8.89,10.22,1,31.37',\n",
              " '6,Tetris,GB,1989,Puzzle,Nintendo,23.2,2.26,4.22,0.58,30.26',\n",
              " '7,New Super Mario Bros.,DS,2006,Platform,Nintendo,11.38,9.23,6.5,2.9,30.01',\n",
              " '8,Wii Play,Wii,2006,Misc,Nintendo,14.03,9.2,2.93,2.85,29.02',\n",
              " '9,New Super Mario Bros. Wii,Wii,2009,Platform,Nintendo,14.59,7.06,4.7,2.26,28.62']"
            ]
          },
          "metadata": {
            "tags": []
          },
          "execution_count": 130
        }
      ]
    },
    {
      "cell_type": "markdown",
      "metadata": {
        "id": "QCpNW9Oiwiu7"
      },
      "source": [
        "### Interoperabilidade entre Dataframes e RDDs\n",
        "As APIs do Spark fornecem métodos para realizar a conversão de Dataframes em RDDs e vice versa. Para isso, temos dois métodos importantes: `rdd` e `toDF()`\n",
        "\n",
        "##### Convertendo um Dataframe para um RDD"
      ]
    },
    {
      "cell_type": "code",
      "metadata": {
        "id": "X9nKGH4WwnNs"
      },
      "source": [
        "df = spark.read.load(data_dir, format=\"csv\", inferSchema=\"true\", header=\"true\")"
      ],
      "execution_count": null,
      "outputs": []
    },
    {
      "cell_type": "code",
      "metadata": {
        "id": "zWkqLRUDwqvL",
        "colab": {
          "base_uri": "https://localhost:8080/"
        },
        "outputId": "20bb3a39-ea2c-42bd-e503-53f8905725cc"
      },
      "source": [
        "df.rdd.take(5)"
      ],
      "execution_count": null,
      "outputs": [
        {
          "output_type": "execute_result",
          "data": {
            "text/plain": [
              "[Row(Rank=1, Name='Wii Sports', Platform='Wii', Year='2006', Genre='Sports', Publisher='Nintendo', NA_Sales=41.49, EU_Sales=29.02, JP_Sales=3.77, Other_Sales=8.46, Global_Sales=82.74),\n",
              " Row(Rank=2, Name='Super Mario Bros.', Platform='NES', Year='1985', Genre='Platform', Publisher='Nintendo', NA_Sales=29.08, EU_Sales=3.58, JP_Sales=6.81, Other_Sales=0.77, Global_Sales=40.24),\n",
              " Row(Rank=3, Name='Mario Kart Wii', Platform='Wii', Year='2008', Genre='Racing', Publisher='Nintendo', NA_Sales=15.85, EU_Sales=12.88, JP_Sales=3.79, Other_Sales=3.31, Global_Sales=35.82),\n",
              " Row(Rank=4, Name='Wii Sports Resort', Platform='Wii', Year='2009', Genre='Sports', Publisher='Nintendo', NA_Sales=15.75, EU_Sales=11.01, JP_Sales=3.28, Other_Sales=2.96, Global_Sales=33.0),\n",
              " Row(Rank=5, Name='Pokemon Red/Pokemon Blue', Platform='GB', Year='1996', Genre='Role-Playing', Publisher='Nintendo', NA_Sales=11.27, EU_Sales=8.89, JP_Sales=10.22, Other_Sales=1.0, Global_Sales=31.37)]"
            ]
          },
          "metadata": {
            "tags": []
          },
          "execution_count": 132
        }
      ]
    },
    {
      "cell_type": "markdown",
      "metadata": {
        "id": "UDC-a6xpwtUC"
      },
      "source": [
        "##### Convertendo um RDD para um Dataframe"
      ]
    },
    {
      "cell_type": "code",
      "metadata": {
        "id": "8jdGaCzswvVS",
        "colab": {
          "base_uri": "https://localhost:8080/"
        },
        "outputId": "8afb2cf9-adf8-428f-b97d-a9adf149ff9b"
      },
      "source": [
        "rdd = sc.textFile(data_dir)\n",
        "rdd"
      ],
      "execution_count": null,
      "outputs": [
        {
          "output_type": "execute_result",
          "data": {
            "text/plain": [
              "vgsales.csv MapPartitionsRDD[540] at textFile at NativeMethodAccessorImpl.java:0"
            ]
          },
          "metadata": {
            "tags": []
          },
          "execution_count": 133
        }
      ]
    },
    {
      "cell_type": "code",
      "metadata": {
        "id": "-zf4ArJDwx0f",
        "colab": {
          "base_uri": "https://localhost:8080/"
        },
        "outputId": "cbe38b5d-246c-4f8c-8368-f1d728c7a645"
      },
      "source": [
        "rdd \\\n",
        "    .map(lambda x: (x,)) \\\n",
        "    .toDF() \\\n",
        "    .show()"
      ],
      "execution_count": null,
      "outputs": [
        {
          "output_type": "stream",
          "text": [
            "+--------------------+\n",
            "|                  _1|\n",
            "+--------------------+\n",
            "|Rank,Name,Platfor...|\n",
            "|1,Wii Sports,Wii,...|\n",
            "|2,Super Mario Bro...|\n",
            "|3,Mario Kart Wii,...|\n",
            "|4,Wii Sports Reso...|\n",
            "|5,Pokemon Red/Pok...|\n",
            "|6,Tetris,GB,1989,...|\n",
            "|7,New Super Mario...|\n",
            "|8,Wii Play,Wii,20...|\n",
            "|9,New Super Mario...|\n",
            "|10,Duck Hunt,NES,...|\n",
            "|11,Nintendogs,DS,...|\n",
            "|12,Mario Kart DS,...|\n",
            "|13,Pokemon Gold/P...|\n",
            "|14,Wii Fit,Wii,20...|\n",
            "|15,Wii Fit Plus,W...|\n",
            "|16,Kinect Adventu...|\n",
            "|17,Grand Theft Au...|\n",
            "|18,Grand Theft Au...|\n",
            "|19,Super Mario Wo...|\n",
            "+--------------------+\n",
            "only showing top 20 rows\n",
            "\n"
          ],
          "name": "stdout"
        }
      ]
    },
    {
      "cell_type": "markdown",
      "metadata": {
        "id": "q2IfsreMwvAP"
      },
      "source": [
        "Outro exemplo"
      ]
    },
    {
      "cell_type": "code",
      "metadata": {
        "id": "78AXWRmjw5tF",
        "colab": {
          "base_uri": "https://localhost:8080/"
        },
        "outputId": "0209351e-9971-4f2f-9f43-6c261b6b824d"
      },
      "source": [
        "data_dict = [{\n",
        "    \"nome\":\"Jose\",\n",
        "    \"idade\": 52,\n",
        "    \"profissao\": \"Advogado\",\n",
        "    \"sexo\": 1\n",
        "},{\n",
        "    \"nome\":\"Maria\",\n",
        "    \"idade\": 35,\n",
        "    \"profissao\": \"Médico\",\n",
        "    \"sexo\": \"feminino\"\n",
        "},{\n",
        "    \"nome\":\"Pedro\",\n",
        "    \"idade\": 25,\n",
        "    \"profissao\": \"Estudante\"\n",
        "}]\n",
        "\n",
        "data_dict"
      ],
      "execution_count": null,
      "outputs": [
        {
          "output_type": "execute_result",
          "data": {
            "text/plain": [
              "[{'idade': 52, 'nome': 'Jose', 'profissao': 'Advogado', 'sexo': 1},\n",
              " {'idade': 35, 'nome': 'Maria', 'profissao': 'Médico', 'sexo': 'feminino'},\n",
              " {'idade': 25, 'nome': 'Pedro', 'profissao': 'Estudante'}]"
            ]
          },
          "metadata": {
            "tags": []
          },
          "execution_count": 135
        }
      ]
    },
    {
      "cell_type": "code",
      "metadata": {
        "id": "RuRslTp2xDWT",
        "colab": {
          "base_uri": "https://localhost:8080/"
        },
        "outputId": "8adfb70a-81d6-45e6-8132-0f7cdb3a4d7d"
      },
      "source": [
        "rdd = sc.parallelize(data_dict)\n",
        "rdd.collect()"
      ],
      "execution_count": null,
      "outputs": [
        {
          "output_type": "execute_result",
          "data": {
            "text/plain": [
              "[{'idade': 52, 'nome': 'Jose', 'profissao': 'Advogado', 'sexo': 1},\n",
              " {'idade': 35, 'nome': 'Maria', 'profissao': 'Médico', 'sexo': 'feminino'},\n",
              " {'idade': 25, 'nome': 'Pedro', 'profissao': 'Estudante'}]"
            ]
          },
          "metadata": {
            "tags": []
          },
          "execution_count": 136
        }
      ]
    },
    {
      "cell_type": "code",
      "metadata": {
        "id": "wqV-dcEvxMvL",
        "colab": {
          "base_uri": "https://localhost:8080/"
        },
        "outputId": "49f952a7-8d83-420f-d0e8-710f91904661"
      },
      "source": [
        "rdd.toDF().show()"
      ],
      "execution_count": null,
      "outputs": [
        {
          "output_type": "stream",
          "text": [
            "/usr/local/lib/python3.6/dist-packages/pyspark/sql/session.py:401: UserWarning: Using RDD of dict to inferSchema is deprecated. Use pyspark.sql.Row instead\n",
            "  warnings.warn(\"Using RDD of dict to inferSchema is deprecated. \"\n"
          ],
          "name": "stderr"
        },
        {
          "output_type": "stream",
          "text": [
            "+-----+-----+---------+----+\n",
            "|idade| nome|profissao|sexo|\n",
            "+-----+-----+---------+----+\n",
            "|   52| Jose| Advogado|   1|\n",
            "|   35|Maria|   Médico|null|\n",
            "|   25|Pedro|Estudante|null|\n",
            "+-----+-----+---------+----+\n",
            "\n"
          ],
          "name": "stdout"
        }
      ]
    },
    {
      "cell_type": "markdown",
      "metadata": {
        "id": "p4EnMuP9x54o"
      },
      "source": [
        "# Aula 5 - Transformações com RDDs"
      ]
    },
    {
      "cell_type": "markdown",
      "metadata": {
        "id": "7xhQSLv2yAYh"
      },
      "source": [
        "# Transformações com RDDs\n",
        "Nessa aula veremos algumas das mais comuns transformações utilizanod RDDs. Lembrando que todas as transformações High-level realizadas em dataframes são convertidas em transformações low-level utilizando os RDDs."
      ]
    },
    {
      "cell_type": "code",
      "metadata": {
        "id": "MbDYdqD1yCrj"
      },
      "source": [
        "sc = spark.sparkContext"
      ],
      "execution_count": null,
      "outputs": []
    },
    {
      "cell_type": "markdown",
      "metadata": {
        "id": "l1te8kyWyGfH"
      },
      "source": [
        "### Coleção a ser utilizada\n",
        "Durante essa parte do curso, veremos como aplicar os comandos utilizando a seguinte coleção em Python (texto extraído da seção Overwiew em http://spark.apache.org/docs/latest/rdd-programming-guide.html#overview"
      ]
    },
    {
      "cell_type": "code",
      "metadata": {
        "id": "LMn2A3V4yIep"
      },
      "source": [
        "text = \"At a high level, every Spark application consists of a driver program that runs the user’s main function and executes various parallel operations on a cluster. The main abstraction Spark provides is a resilient distributed dataset (RDD), which is a collection of elements partitioned across the nodes of the cluster that can be operated on in parallel. RDDs are created by starting with a file in the Hadoop file system (or any other Hadoop-supported file system), or an existing Scala collection in the driver program, and transforming it. Users may also ask Spark to persist an RDD in memory, allowing it to be reused efficiently across parallel operations. Finally, RDDs automatically recover from node failures. A second abstraction in Spark is shared variables that can be used in parallel operations. By default, when Spark runs a function in parallel as a set of tasks on different nodes, it ships a copy of each variable used in the function to each task. Sometimes, a variable needs to be shared across tasks, or between tasks and the driver program. Spark supports two types of shared variables: broadcast variables, which can be used to cache a value in memory on all nodes, and accumulators, which are variables that are only added to, such as counters and sums\"\n",
        "words = text.split(\" \")"
      ],
      "execution_count": null,
      "outputs": []
    },
    {
      "cell_type": "markdown",
      "metadata": {
        "id": "uCVFyrhwyZHz"
      },
      "source": [
        "### Criando o RDD"
      ]
    },
    {
      "cell_type": "code",
      "metadata": {
        "id": "VHRywhpgyGBW",
        "colab": {
          "base_uri": "https://localhost:8080/"
        },
        "outputId": "058c8461-2fd2-44e4-a4d3-4fc82848555f"
      },
      "source": [
        "# Look for the core number\n",
        "#o número é em quantos cores vc está dividindo\n",
        "rdd = sc.parallelize(words, 4)\n",
        "rdd.setName(\"myWords\")"
      ],
      "execution_count": null,
      "outputs": [
        {
          "output_type": "execute_result",
          "data": {
            "text/plain": [
              "myWords ParallelCollectionRDD[556] at readRDDFromFile at PythonRDD.scala:262"
            ]
          },
          "metadata": {
            "tags": []
          },
          "execution_count": 140
        }
      ]
    },
    {
      "cell_type": "code",
      "metadata": {
        "id": "XLBBpUDGyhWx",
        "colab": {
          "base_uri": "https://localhost:8080/"
        },
        "outputId": "a484147e-843c-4338-e147-dbce31fb05dd"
      },
      "source": [
        "rdd.take(10)"
      ],
      "execution_count": null,
      "outputs": [
        {
          "output_type": "execute_result",
          "data": {
            "text/plain": [
              "['At',\n",
              " 'a',\n",
              " 'high',\n",
              " 'level,',\n",
              " 'every',\n",
              " 'Spark',\n",
              " 'application',\n",
              " 'consists',\n",
              " 'of',\n",
              " 'a']"
            ]
          },
          "metadata": {
            "tags": []
          },
          "execution_count": 141
        }
      ]
    },
    {
      "cell_type": "markdown",
      "metadata": {
        "id": "5ga8F4Sdyo9C"
      },
      "source": [
        "### Transformações\n",
        "##### rdd.map()\n",
        "Assumindo que temos:\n",
        "```python\n",
        "rdd2 = rdd1.map(<FUNCAO>)\n",
        "```\n",
        "A transformação `map()` irá mapear cada linha de `rdd1` em uma linha em `rdd2`"
      ]
    },
    {
      "cell_type": "code",
      "metadata": {
        "id": "IVvrgUcgyuvg"
      },
      "source": [
        "''''\n",
        "Cada linha do rdd irá ser mapeada para uma nova linha contendo \n",
        "a palavra, o tamanho da palavra e se começa com a letra 'S'\n",
        "'''\n",
        "def starts_with_S(word):\n",
        "    return word.startswith(\"S\")\n",
        "\n",
        "new_rdd = rdd.map(lambda word: (word, len(word), starts_with_S(word)))"
      ],
      "execution_count": null,
      "outputs": []
    },
    {
      "cell_type": "code",
      "metadata": {
        "id": "DHna4toXywjE",
        "colab": {
          "base_uri": "https://localhost:8080/"
        },
        "outputId": "e4eac6fd-05db-421c-801c-b55b933a9a2b"
      },
      "source": [
        "new_rdd.take(20)"
      ],
      "execution_count": null,
      "outputs": [
        {
          "output_type": "execute_result",
          "data": {
            "text/plain": [
              "[('At', 2, False),\n",
              " ('a', 1, False),\n",
              " ('high', 4, False),\n",
              " ('level,', 6, False),\n",
              " ('every', 5, False),\n",
              " ('Spark', 5, True),\n",
              " ('application', 11, False),\n",
              " ('consists', 8, False),\n",
              " ('of', 2, False),\n",
              " ('a', 1, False),\n",
              " ('driver', 6, False),\n",
              " ('program', 7, False),\n",
              " ('that', 4, False),\n",
              " ('runs', 4, False),\n",
              " ('the', 3, False),\n",
              " ('user’s', 6, False),\n",
              " ('main', 4, False),\n",
              " ('function', 8, False),\n",
              " ('and', 3, False),\n",
              " ('executes', 8, False)]"
            ]
          },
          "metadata": {
            "tags": []
          },
          "execution_count": 143
        }
      ]
    },
    {
      "cell_type": "markdown",
      "metadata": {
        "id": "72bwJIESy65C"
      },
      "source": [
        "##### rdd.filter()\n",
        "Assumindo que temos:\n",
        "```python\n",
        "rdd2 = rdd1.filter(<FUNCAO>)\n",
        "```\n",
        "A transformação `filter()` irá remover linhas que resultem em `False` quando aplicadas à `<FUNCAO>`"
      ]
    },
    {
      "cell_type": "code",
      "metadata": {
        "id": "A13hejAXy9am"
      },
      "source": [
        "''''\n",
        "Todas as linhas cuja posição 2 seja False serão removidas\n",
        "'''\n",
        "filtered_rdd = new_rdd.filter(lambda row: row[2]) # ou row[2] == True"
      ],
      "execution_count": null,
      "outputs": []
    },
    {
      "cell_type": "code",
      "metadata": {
        "id": "y5eUe-j_y_YC",
        "colab": {
          "base_uri": "https://localhost:8080/"
        },
        "outputId": "bd7c0f4c-5c98-4e62-fe7e-f4e16050f42d"
      },
      "source": [
        "filtered_rdd.take(10)"
      ],
      "execution_count": null,
      "outputs": [
        {
          "output_type": "execute_result",
          "data": {
            "text/plain": [
              "[('Spark', 5, True),\n",
              " ('Spark', 5, True),\n",
              " ('Scala', 5, True),\n",
              " ('Spark', 5, True),\n",
              " ('Spark', 5, True),\n",
              " ('Spark', 5, True),\n",
              " ('Sometimes,', 10, True),\n",
              " ('Spark', 5, True)]"
            ]
          },
          "metadata": {
            "tags": []
          },
          "execution_count": 145
        }
      ]
    },
    {
      "cell_type": "markdown",
      "metadata": {
        "id": "h3hYAk6ZzCBt"
      },
      "source": [
        "##### rdd.flatMap()\n",
        "Assumindo que temos:\n",
        "```python\n",
        "rdd2 = rdd1.flatMap(<FUNCAO>)\n",
        "```\n",
        "A transformação `flatMap()` irá mapear cada linha de `rdd1` em uma ou mais linhas em `rdd2`"
      ]
    },
    {
      "cell_type": "code",
      "metadata": {
        "id": "LyVgJ-FYzD54",
        "colab": {
          "base_uri": "https://localhost:8080/"
        },
        "outputId": "5d98c0be-26cc-45cd-ea3f-61019d0af0ee"
      },
      "source": [
        "list(\"igor\")"
      ],
      "execution_count": null,
      "outputs": [
        {
          "output_type": "execute_result",
          "data": {
            "text/plain": [
              "['i', 'g', 'o', 'r']"
            ]
          },
          "metadata": {
            "tags": []
          },
          "execution_count": 146
        }
      ]
    },
    {
      "cell_type": "code",
      "metadata": {
        "id": "aXxB5G4jzFfI"
      },
      "source": [
        "''''\n",
        "Todas as palavras do rdd filtrado serão convertidas em um RDD contendo apenas\n",
        "letras\n",
        "'''\n",
        "\n",
        "flatted_rdd = filtered_rdd.flatMap(lambda row: list(row[0]))"
      ],
      "execution_count": null,
      "outputs": []
    },
    {
      "cell_type": "code",
      "metadata": {
        "id": "FKi_grXTzHFr",
        "colab": {
          "base_uri": "https://localhost:8080/"
        },
        "outputId": "7c8b5975-d5d0-4d91-ef6d-db3a329b724b"
      },
      "source": [
        "flatted_rdd.take(20)"
      ],
      "execution_count": null,
      "outputs": [
        {
          "output_type": "execute_result",
          "data": {
            "text/plain": [
              "['S',\n",
              " 'p',\n",
              " 'a',\n",
              " 'r',\n",
              " 'k',\n",
              " 'S',\n",
              " 'p',\n",
              " 'a',\n",
              " 'r',\n",
              " 'k',\n",
              " 'S',\n",
              " 'c',\n",
              " 'a',\n",
              " 'l',\n",
              " 'a',\n",
              " 'S',\n",
              " 'p',\n",
              " 'a',\n",
              " 'r',\n",
              " 'k']"
            ]
          },
          "metadata": {
            "tags": []
          },
          "execution_count": 148
        }
      ]
    },
    {
      "cell_type": "markdown",
      "metadata": {
        "id": "--nhtLI6zJ11"
      },
      "source": [
        "##### rdd.distinct()\n",
        "Assumindo que temos:\n",
        "```python\n",
        "rdd2 = rdd1.distinct()\n",
        "```\n",
        "A transformação `distinct()` irá gerar um novo rdd com apenas objetos distintos"
      ]
    },
    {
      "cell_type": "code",
      "metadata": {
        "id": "PALGF7JWzMDo"
      },
      "source": [
        "''''\n",
        "Obteremos a lista de palavras únicas na frase\n",
        "'''\n",
        "\n",
        "distinct_rdd = rdd.distinct()"
      ],
      "execution_count": null,
      "outputs": []
    },
    {
      "cell_type": "code",
      "metadata": {
        "id": "KehbAl-PzNsf",
        "colab": {
          "base_uri": "https://localhost:8080/"
        },
        "outputId": "de40ce7a-a96b-4e6d-9392-5265d4754385"
      },
      "source": [
        "distinct_rdd.take(10)"
      ],
      "execution_count": null,
      "outputs": [
        {
          "output_type": "execute_result",
          "data": {
            "text/plain": [
              "['At',\n",
              " 'of',\n",
              " 'operations',\n",
              " 'provides',\n",
              " 'in',\n",
              " 'are',\n",
              " 'other',\n",
              " 'Hadoop-supported',\n",
              " 'an',\n",
              " 'may']"
            ]
          },
          "metadata": {
            "tags": []
          },
          "execution_count": 150
        }
      ]
    },
    {
      "cell_type": "code",
      "metadata": {
        "id": "Icw9mm6xzP_f",
        "colab": {
          "base_uri": "https://localhost:8080/"
        },
        "outputId": "f841f828-3f22-494d-bec5-f2d12aa1bbdc"
      },
      "source": [
        "distinct_rdd.count()\n",
        "#rdd.count()"
      ],
      "execution_count": null,
      "outputs": [
        {
          "output_type": "execute_result",
          "data": {
            "text/plain": [
              "124"
            ]
          },
          "metadata": {
            "tags": []
          },
          "execution_count": 151
        }
      ]
    },
    {
      "cell_type": "markdown",
      "metadata": {
        "id": "evvsww05zUxF"
      },
      "source": [
        "##### rdd.sortBy()\n",
        "Assumindo que temos:\n",
        "```python\n",
        "rdd2 = rdd1.sortBy(<FUNCAO>)\n",
        "```\n",
        "A transformação `sortBy()` irá ordenar as linhas do rdd1 conforme critério definido na `<FUNCAO>`"
      ]
    },
    {
      "cell_type": "code",
      "metadata": {
        "id": "mN2OKkg4zYoE"
      },
      "source": [
        "''''\n",
        "Todas as palavras do rdd serão ordenadas conforme o tamanho da palavra\n",
        "'''\n",
        "\n",
        "sorted_distinct_rdd = distinct_rdd.sortBy(lambda word: len(word) * -1) # -1 significa order reversa"
      ],
      "execution_count": null,
      "outputs": []
    },
    {
      "cell_type": "code",
      "metadata": {
        "id": "V6O0cTqmzaGG",
        "colab": {
          "base_uri": "https://localhost:8080/"
        },
        "outputId": "7e77346b-58e4-4853-ebbc-990a7aa5b746"
      },
      "source": [
        "sorted_distinct_rdd.take(20)"
      ],
      "execution_count": null,
      "outputs": [
        {
          "output_type": "execute_result",
          "data": {
            "text/plain": [
              "['Hadoop-supported',\n",
              " 'accumulators,',\n",
              " 'automatically',\n",
              " 'transforming',\n",
              " 'operations.',\n",
              " 'partitioned',\n",
              " 'application',\n",
              " 'abstraction',\n",
              " 'distributed',\n",
              " 'efficiently',\n",
              " 'operations',\n",
              " 'variables,',\n",
              " 'Sometimes,',\n",
              " 'variables:',\n",
              " 'collection',\n",
              " 'failures.',\n",
              " 'different',\n",
              " 'broadcast',\n",
              " 'resilient',\n",
              " 'parallel.']"
            ]
          },
          "metadata": {
            "tags": []
          },
          "execution_count": 153
        }
      ]
    },
    {
      "cell_type": "markdown",
      "metadata": {
        "id": "wXdz1hLwzdyv"
      },
      "source": [
        "### Pair RDDs\n",
        "Alguns RDDs específicos no Spark permitem a aplicação de transformações de modo mais eficiente. Estes são chamados de PairRDDs porque se apresentam na forma de um rdd key-value, ou seja, (K,V). As transformações disponíveis para serem aplicadas nos PairRDDs normalmente segue o padrão `<some-operation>ByKey`"
      ]
    },
    {
      "cell_type": "markdown",
      "metadata": {
        "id": "6aiAvIhqzgFh"
      },
      "source": [
        "##### Criando um PairRDD"
      ]
    },
    {
      "cell_type": "code",
      "metadata": {
        "id": "v_mFkH59zhjv",
        "colab": {
          "base_uri": "https://localhost:8080/"
        },
        "outputId": "a9f22067-5a0b-4a28-94ad-d1729893647c"
      },
      "source": [
        "rdd\n"
      ],
      "execution_count": null,
      "outputs": [
        {
          "output_type": "execute_result",
          "data": {
            "text/plain": [
              "myWords ParallelCollectionRDD[556] at readRDDFromFile at PythonRDD.scala:262"
            ]
          },
          "metadata": {
            "tags": []
          },
          "execution_count": 156
        }
      ]
    },
    {
      "cell_type": "code",
      "metadata": {
        "id": "vpsojkqezjf_",
        "colab": {
          "base_uri": "https://localhost:8080/"
        },
        "outputId": "916ebaf0-d2e8-4929-c757-5255c3912879"
      },
      "source": [
        "pair_rdd = rdd.map(lambda x: (x, 1))\n",
        "pair_rdd.take(10)"
      ],
      "execution_count": null,
      "outputs": [
        {
          "output_type": "execute_result",
          "data": {
            "text/plain": [
              "[('At', 1),\n",
              " ('a', 1),\n",
              " ('high', 1),\n",
              " ('level,', 1),\n",
              " ('every', 1),\n",
              " ('Spark', 1),\n",
              " ('application', 1),\n",
              " ('consists', 1),\n",
              " ('of', 1),\n",
              " ('a', 1)]"
            ]
          },
          "metadata": {
            "tags": []
          },
          "execution_count": 157
        }
      ]
    },
    {
      "cell_type": "markdown",
      "metadata": {
        "id": "PJ-PqIjBzmT3"
      },
      "source": [
        "##### Criando um PairRDD utilizanod o keyBy\n",
        "É uma transformação que cria um PairRDD passando-se uma função para retornar qual será a key"
      ]
    },
    {
      "cell_type": "code",
      "metadata": {
        "id": "4yPdsgsfzoJZ",
        "colab": {
          "base_uri": "https://localhost:8080/"
        },
        "outputId": "47b1450b-e909-4a9f-fe00-f29cbd64a956"
      },
      "source": [
        "rdd.take(5)"
      ],
      "execution_count": null,
      "outputs": [
        {
          "output_type": "execute_result",
          "data": {
            "text/plain": [
              "['At', 'a', 'high', 'level,', 'every']"
            ]
          },
          "metadata": {
            "tags": []
          },
          "execution_count": 158
        }
      ]
    },
    {
      "cell_type": "code",
      "metadata": {
        "id": "UwHc_9q6zpbK"
      },
      "source": [
        "key_by_pair_rdd = rdd.keyBy(lambda x: x[0].lower())"
      ],
      "execution_count": null,
      "outputs": []
    },
    {
      "cell_type": "code",
      "metadata": {
        "id": "7DAI41wwzqp1",
        "colab": {
          "base_uri": "https://localhost:8080/"
        },
        "outputId": "c7790880-aa6f-4508-a4b3-5ecf1c18b880"
      },
      "source": [
        "key_by_pair_rdd.take(10)"
      ],
      "execution_count": null,
      "outputs": [
        {
          "output_type": "execute_result",
          "data": {
            "text/plain": [
              "[('a', 'At'),\n",
              " ('a', 'a'),\n",
              " ('h', 'high'),\n",
              " ('l', 'level,'),\n",
              " ('e', 'every'),\n",
              " ('s', 'Spark'),\n",
              " ('a', 'application'),\n",
              " ('c', 'consists'),\n",
              " ('o', 'of'),\n",
              " ('a', 'a')]"
            ]
          },
          "metadata": {
            "tags": []
          },
          "execution_count": 160
        }
      ]
    },
    {
      "cell_type": "markdown",
      "metadata": {
        "id": "Sab4N8eazs2C"
      },
      "source": [
        "##### rdd.mapValues()\n",
        "Assumindo que temos:\n",
        "```python\n",
        "rdd2 = rdd1.mapValues(<FUNCAO>)\n",
        "```\n",
        "Transformação aplicada somente no valor de um PairRDD, aplicando uma `<FUNCAO>` e transformando cada linha do rdd1 em outra linha no rdd2"
      ]
    },
    {
      "cell_type": "code",
      "metadata": {
        "id": "XVTChVRXzvwa",
        "colab": {
          "base_uri": "https://localhost:8080/"
        },
        "outputId": "8ccbd5ca-7d0f-4203-f378-01f44bf12fe8"
      },
      "source": [
        "letters = key_by_pair_rdd.mapValues(lambda x: 1)\n",
        "letters.take(5)"
      ],
      "execution_count": null,
      "outputs": [
        {
          "output_type": "execute_result",
          "data": {
            "text/plain": [
              "[('a', 1), ('a', 1), ('h', 1), ('l', 1), ('e', 1)]"
            ]
          },
          "metadata": {
            "tags": []
          },
          "execution_count": 161
        }
      ]
    },
    {
      "cell_type": "markdown",
      "metadata": {
        "id": "phzi3rBuzy02"
      },
      "source": [
        "##### rdd.reduceByKey\n",
        "Realiza uma operação de reduce em um PairRDD baseado em seus valores agrupando por key"
      ]
    },
    {
      "cell_type": "code",
      "metadata": {
        "id": "OXujF1zMz3oM",
        "colab": {
          "base_uri": "https://localhost:8080/"
        },
        "outputId": "56e09394-fcfa-4f9f-87f4-d468f689905c"
      },
      "source": [
        "#'At'\n",
        "#(1, 1, 1, 1, 1, 1, 1)\n",
        "#(2, 1, 1, 1, 1, 1)\n",
        "#(3, 1, 1, 1, 1)\n",
        "#(4, 1, 1, 1)\n",
        "\n",
        "\n",
        "# Realizando a contagem das palavras\n",
        "reduced_pair_rdd = pair_rdd.reduceByKey(lambda a, b: a + b)\n",
        "reduced_pair_rdd.take(10)"
      ],
      "execution_count": null,
      "outputs": [
        {
          "output_type": "execute_result",
          "data": {
            "text/plain": [
              "[('At', 1),\n",
              " ('of', 6),\n",
              " ('operations', 1),\n",
              " ('provides', 1),\n",
              " ('in', 9),\n",
              " ('are', 3),\n",
              " ('other', 1),\n",
              " ('Hadoop-supported', 1),\n",
              " ('an', 2),\n",
              " ('may', 1)]"
            ]
          },
          "metadata": {
            "tags": []
          },
          "execution_count": 162
        }
      ]
    },
    {
      "cell_type": "code",
      "metadata": {
        "id": "rbanf2LK0AI3",
        "colab": {
          "base_uri": "https://localhost:8080/"
        },
        "outputId": "ff448753-0767-4db7-9941-dc594a8da94a"
      },
      "source": [
        "# Realizando a contagem que palavras que começam com as letras do alfabeto\n",
        "reduced_letters = letters.reduceByKey(lambda a, b: a + b)\n",
        "reduced_letters.take(10)"
      ],
      "execution_count": null,
      "outputs": [
        {
          "output_type": "execute_result",
          "data": {
            "text/plain": [
              "[('l', 1),\n",
              " ('s', 20),\n",
              " ('c', 12),\n",
              " ('p', 11),\n",
              " ('r', 8),\n",
              " ('i', 15),\n",
              " ('b', 9),\n",
              " ('a', 39),\n",
              " ('e', 7),\n",
              " ('m', 5)]"
            ]
          },
          "metadata": {
            "tags": []
          },
          "execution_count": 163
        }
      ]
    },
    {
      "cell_type": "code",
      "metadata": {
        "id": "cSXAa1Zg0Cbb",
        "colab": {
          "base_uri": "https://localhost:8080/"
        },
        "outputId": "8cffb97b-7744-4f39-bccc-d6bee090c28e"
      },
      "source": [
        "letters \\\n",
        "  .mapValues(lambda x: \"S\") \\\n",
        "  .reduceByKey(lambda a, b: a + b) \\\n",
        "  .take(5)"
      ],
      "execution_count": null,
      "outputs": [
        {
          "output_type": "execute_result",
          "data": {
            "text/plain": [
              "[('l', 'S'),\n",
              " ('s', 'SSSSSSSSSSSSSSSSSSSS'),\n",
              " ('c', 'SSSSSSSSSSSS'),\n",
              " ('p', 'SSSSSSSSSSS'),\n",
              " ('r', 'SSSSSSSS')]"
            ]
          },
          "metadata": {
            "tags": []
          },
          "execution_count": 164
        }
      ]
    },
    {
      "cell_type": "markdown",
      "metadata": {
        "id": "veuE4lmj0E0w"
      },
      "source": [
        "##### rdd.sortByKey\n",
        "Realiza uma operação de sort em um PairRDD baseado em sua key"
      ]
    },
    {
      "cell_type": "code",
      "metadata": {
        "id": "OaD_os7p0Hv-",
        "colab": {
          "base_uri": "https://localhost:8080/"
        },
        "outputId": "dd1a7184-8880-43e0-d170-7553209ad69a"
      },
      "source": [
        "sorted_reduced_rdd = reduced_pair_rdd.sortByKey(ascending=False)\n",
        "sorted_reduced_rdd.take(10)"
      ],
      "execution_count": null,
      "outputs": [
        {
          "output_type": "execute_result",
          "data": {
            "text/plain": [
              "[('with', 1),\n",
              " ('which', 3),\n",
              " ('when', 1),\n",
              " ('various', 1),\n",
              " ('variables:', 1),\n",
              " ('variables,', 1),\n",
              " ('variables', 2),\n",
              " ('variable', 2),\n",
              " ('value', 1),\n",
              " ('user’s', 1)]"
            ]
          },
          "metadata": {
            "tags": []
          },
          "execution_count": 165
        }
      ]
    },
    {
      "cell_type": "code",
      "metadata": {
        "id": "rf69ufXI0JTQ",
        "colab": {
          "base_uri": "https://localhost:8080/"
        },
        "outputId": "9a95b057-d211-45af-badc-5f311d5ec0d3"
      },
      "source": [
        "sorted_reduced_letters = reduced_letters.sortByKey(ascending=False)\n",
        "sorted_reduced_letters.take(10)"
      ],
      "execution_count": null,
      "outputs": [
        {
          "output_type": "execute_result",
          "data": {
            "text/plain": [
              "[('w', 5),\n",
              " ('v', 8),\n",
              " ('u', 5),\n",
              " ('t', 25),\n",
              " ('s', 20),\n",
              " ('r', 8),\n",
              " ('p', 11),\n",
              " ('o', 18),\n",
              " ('n', 5),\n",
              " ('m', 5)]"
            ]
          },
          "metadata": {
            "tags": []
          },
          "execution_count": 166
        }
      ]
    },
    {
      "cell_type": "markdown",
      "metadata": {
        "id": "TxxuMCzS0MCn"
      },
      "source": [
        "##### rdd.join()\n",
        "Transformação responsável por realizar a junção entre dois dataframes. Estando ambos os rdds na forma de um PairRDD, para executar o `.join()`, basta rodar o código abaixo:\n",
        "```python\n",
        "joinned_rdd = rdd1.join(rdd2)\n",
        "```\n",
        "\n",
        "O comando `.join()`por si só executa o conceito do `innerJoin`. Existem também os demais tipos: `fullOuterJoin`, `leftOuterJoin`, `rightOuterJoin` e `cartesian`."
      ]
    },
    {
      "cell_type": "markdown",
      "metadata": {
        "id": "RyWxBivZ0PQ_"
      },
      "source": [
        "Veja mais\n",
        "\n",
        "É possível encontrar uma lista de todas as transformações disponíveis para uso nos RDDs na API do Spark: http://spark.apache.org/docs/latest/rdd-programming-guide.html#transformations"
      ]
    },
    {
      "cell_type": "markdown",
      "metadata": {
        "id": "tweX3ah7ryhs"
      },
      "source": [
        "# Exercícios\n",
        "Para iniciar os exercícios, execute o paragrafo abaixo para que o nosso dataset words esteja disponível para ser utilizado:"
      ]
    },
    {
      "cell_type": "code",
      "metadata": {
        "id": "JsFG0qLgr01_"
      },
      "source": [
        "text = \"At a high level, every Spark application consists of a driver program that runs the user’s main function and executes various parallel operations on a cluster. The main abstraction Spark provides is a resilient distributed dataset (RDD), which is a collection of elements partitioned across the nodes of the cluster that can be operated on in parallel. RDDs are created by starting with a file in the Hadoop file system (or any other Hadoop-supported file system), or an existing Scala collection in the driver program, and transforming it. Users may also ask Spark to persist an RDD in memory, allowing it to be reused efficiently across parallel operations. Finally, RDDs automatically recover from node failures. A second abstraction in Spark is shared variables that can be used in parallel operations. By default, when Spark runs a function in parallel as a set of tasks on different nodes, it ships a copy of each variable used in the function to each task. Sometimes, a variable needs to be shared across tasks, or between tasks and the driver program. Spark supports two types of shared variables: broadcast variables, which can be used to cache a value in memory on all nodes, and accumulators, which are variables that are only added to, such as counters and sums\"\n",
        "words = text.split(\" \")"
      ],
      "execution_count": null,
      "outputs": []
    },
    {
      "cell_type": "markdown",
      "metadata": {
        "id": "oA0d67eBr5Mg"
      },
      "source": [
        "Para auxiliar na visualização dos resultados, execute o paragrafo abaixo para definir a função display_df():"
      ]
    },
    {
      "cell_type": "code",
      "metadata": {
        "id": "2Ytp0TUqr5zh"
      },
      "source": [
        "def display_rdd(rdd, n=100):\n",
        "    return rdd.toDF().limit(n).toPandas()"
      ],
      "execution_count": null,
      "outputs": []
    },
    {
      "cell_type": "markdown",
      "metadata": {
        "id": "IyjxHqiXr_YL"
      },
      "source": [
        "1) Retorne a lista de palavras distintas:"
      ]
    },
    {
      "cell_type": "code",
      "metadata": {
        "id": "llKQxDj2sTfU"
      },
      "source": [
        "sc = spark.sparkContext"
      ],
      "execution_count": null,
      "outputs": []
    },
    {
      "cell_type": "code",
      "metadata": {
        "id": "lRnUXdI3r_3F",
        "colab": {
          "base_uri": "https://localhost:8080/"
        },
        "outputId": "d97a361a-98d6-465e-a51c-8c5cf7734752"
      },
      "source": [
        "rdd = sc.parallelize(words, 4)\n",
        "rdd.setName(\"Palavras\")"
      ],
      "execution_count": null,
      "outputs": [
        {
          "output_type": "execute_result",
          "data": {
            "text/plain": [
              "Palavras ParallelCollectionRDD[612] at readRDDFromFile at PythonRDD.scala:262"
            ]
          },
          "metadata": {
            "tags": []
          },
          "execution_count": 170
        }
      ]
    },
    {
      "cell_type": "code",
      "metadata": {
        "id": "8KMY0_D1sXKA",
        "colab": {
          "base_uri": "https://localhost:8080/"
        },
        "outputId": "637b1e1d-7c86-4691-95ca-f40f32ad69c6"
      },
      "source": [
        "rdd.take(10)"
      ],
      "execution_count": null,
      "outputs": [
        {
          "output_type": "execute_result",
          "data": {
            "text/plain": [
              "['At',\n",
              " 'a',\n",
              " 'high',\n",
              " 'level,',\n",
              " 'every',\n",
              " 'Spark',\n",
              " 'application',\n",
              " 'consists',\n",
              " 'of',\n",
              " 'a']"
            ]
          },
          "metadata": {
            "tags": []
          },
          "execution_count": 171
        }
      ]
    },
    {
      "cell_type": "code",
      "metadata": {
        "id": "DmEYaBNM2FV9",
        "colab": {
          "base_uri": "https://localhost:8080/",
          "height": 424
        },
        "outputId": "3b7825a8-c7ac-4dfd-986c-757aa925dd70"
      },
      "source": [
        "#solução do professor\n",
        "\n",
        "rdd2 = rdd.distinct()\\\n",
        "  .map(lambda x: (x,))\n",
        "display_rdd(rdd2)"
      ],
      "execution_count": null,
      "outputs": [
        {
          "output_type": "execute_result",
          "data": {
            "text/html": [
              "<div>\n",
              "<style scoped>\n",
              "    .dataframe tbody tr th:only-of-type {\n",
              "        vertical-align: middle;\n",
              "    }\n",
              "\n",
              "    .dataframe tbody tr th {\n",
              "        vertical-align: top;\n",
              "    }\n",
              "\n",
              "    .dataframe thead th {\n",
              "        text-align: right;\n",
              "    }\n",
              "</style>\n",
              "<table border=\"1\" class=\"dataframe\">\n",
              "  <thead>\n",
              "    <tr style=\"text-align: right;\">\n",
              "      <th></th>\n",
              "      <th>_1</th>\n",
              "    </tr>\n",
              "  </thead>\n",
              "  <tbody>\n",
              "    <tr>\n",
              "      <th>0</th>\n",
              "      <td>At</td>\n",
              "    </tr>\n",
              "    <tr>\n",
              "      <th>1</th>\n",
              "      <td>of</td>\n",
              "    </tr>\n",
              "    <tr>\n",
              "      <th>2</th>\n",
              "      <td>operations</td>\n",
              "    </tr>\n",
              "    <tr>\n",
              "      <th>3</th>\n",
              "      <td>provides</td>\n",
              "    </tr>\n",
              "    <tr>\n",
              "      <th>4</th>\n",
              "      <td>in</td>\n",
              "    </tr>\n",
              "    <tr>\n",
              "      <th>...</th>\n",
              "      <td>...</td>\n",
              "    </tr>\n",
              "    <tr>\n",
              "      <th>95</th>\n",
              "      <td>resilient</td>\n",
              "    </tr>\n",
              "    <tr>\n",
              "      <th>96</th>\n",
              "      <td>distributed</td>\n",
              "    </tr>\n",
              "    <tr>\n",
              "      <th>97</th>\n",
              "      <td>(RDD),</td>\n",
              "    </tr>\n",
              "    <tr>\n",
              "      <th>98</th>\n",
              "      <td>across</td>\n",
              "    </tr>\n",
              "    <tr>\n",
              "      <th>99</th>\n",
              "      <td>cluster</td>\n",
              "    </tr>\n",
              "  </tbody>\n",
              "</table>\n",
              "<p>100 rows × 1 columns</p>\n",
              "</div>"
            ],
            "text/plain": [
              "             _1\n",
              "0            At\n",
              "1            of\n",
              "2    operations\n",
              "3      provides\n",
              "4            in\n",
              "..          ...\n",
              "95    resilient\n",
              "96  distributed\n",
              "97       (RDD),\n",
              "98       across\n",
              "99      cluster\n",
              "\n",
              "[100 rows x 1 columns]"
            ]
          },
          "metadata": {
            "tags": []
          },
          "execution_count": 172
        }
      ]
    },
    {
      "cell_type": "markdown",
      "metadata": {
        "id": "Ub80QmlkspuS"
      },
      "source": [
        "2) Implemente um contador de palavras em lower case:"
      ]
    },
    {
      "cell_type": "code",
      "metadata": {
        "id": "0vKSo6jksZ3i"
      },
      "source": [
        "key_by_pair_rdd = rdd.keyBy(lambda x: x[0].lower())\n",
        "key_by_pair_rdd = pair_rdd.reduceByKey(lambda a, b: a + b).sortBy(lambda x: x[1]*-1) #-1 é descendente"
      ],
      "execution_count": null,
      "outputs": []
    },
    {
      "cell_type": "code",
      "metadata": {
        "id": "64jP5qTNs1wE",
        "colab": {
          "base_uri": "https://localhost:8080/"
        },
        "outputId": "2b7298f8-b830-4b66-b55a-f83fbf5c62b9"
      },
      "source": [
        "key_by_pair_rdd.take(20)"
      ],
      "execution_count": null,
      "outputs": [
        {
          "output_type": "execute_result",
          "data": {
            "text/plain": [
              "[('a', 11),\n",
              " ('in', 9),\n",
              " ('the', 7),\n",
              " ('of', 6),\n",
              " ('Spark', 6),\n",
              " ('and', 5),\n",
              " ('be', 5),\n",
              " ('to', 5),\n",
              " ('that', 4),\n",
              " ('parallel', 4),\n",
              " ('on', 4),\n",
              " ('are', 3),\n",
              " ('used', 3),\n",
              " ('which', 3),\n",
              " ('shared', 3),\n",
              " ('driver', 3),\n",
              " ('is', 3),\n",
              " ('function', 3),\n",
              " ('across', 3),\n",
              " ('can', 3)]"
            ]
          },
          "metadata": {
            "tags": []
          },
          "execution_count": 174
        }
      ]
    },
    {
      "cell_type": "code",
      "metadata": {
        "id": "btV1QQGE2-Rt",
        "colab": {
          "base_uri": "https://localhost:8080/",
          "height": 424
        },
        "outputId": "d23e48a9-8cae-48d4-ca1c-4091eb3608d3"
      },
      "source": [
        "#versão do prof\n",
        "\n",
        "#PairRDD = (K,V)\n",
        "rdd3 = rdd.map(lambda x: (x.lower(),1))\\\n",
        "  .reduceByKey(lambda a, b: a+b)\\\n",
        "  .sortBy(lambda x: x[1]*-1)\n",
        "\n",
        "display_rdd(rdd3)"
      ],
      "execution_count": null,
      "outputs": [
        {
          "output_type": "execute_result",
          "data": {
            "text/html": [
              "<div>\n",
              "<style scoped>\n",
              "    .dataframe tbody tr th:only-of-type {\n",
              "        vertical-align: middle;\n",
              "    }\n",
              "\n",
              "    .dataframe tbody tr th {\n",
              "        vertical-align: top;\n",
              "    }\n",
              "\n",
              "    .dataframe thead th {\n",
              "        text-align: right;\n",
              "    }\n",
              "</style>\n",
              "<table border=\"1\" class=\"dataframe\">\n",
              "  <thead>\n",
              "    <tr style=\"text-align: right;\">\n",
              "      <th></th>\n",
              "      <th>_1</th>\n",
              "      <th>_2</th>\n",
              "    </tr>\n",
              "  </thead>\n",
              "  <tbody>\n",
              "    <tr>\n",
              "      <th>0</th>\n",
              "      <td>a</td>\n",
              "      <td>12</td>\n",
              "    </tr>\n",
              "    <tr>\n",
              "      <th>1</th>\n",
              "      <td>in</td>\n",
              "      <td>9</td>\n",
              "    </tr>\n",
              "    <tr>\n",
              "      <th>2</th>\n",
              "      <td>the</td>\n",
              "      <td>8</td>\n",
              "    </tr>\n",
              "    <tr>\n",
              "      <th>3</th>\n",
              "      <td>of</td>\n",
              "      <td>6</td>\n",
              "    </tr>\n",
              "    <tr>\n",
              "      <th>4</th>\n",
              "      <td>spark</td>\n",
              "      <td>6</td>\n",
              "    </tr>\n",
              "    <tr>\n",
              "      <th>...</th>\n",
              "      <td>...</td>\n",
              "      <td>...</td>\n",
              "    </tr>\n",
              "    <tr>\n",
              "      <th>95</th>\n",
              "      <td>application</td>\n",
              "      <td>1</td>\n",
              "    </tr>\n",
              "    <tr>\n",
              "      <th>96</th>\n",
              "      <td>consists</td>\n",
              "      <td>1</td>\n",
              "    </tr>\n",
              "    <tr>\n",
              "      <th>97</th>\n",
              "      <td>executes</td>\n",
              "      <td>1</td>\n",
              "    </tr>\n",
              "    <tr>\n",
              "      <th>98</th>\n",
              "      <td>cluster.</td>\n",
              "      <td>1</td>\n",
              "    </tr>\n",
              "    <tr>\n",
              "      <th>99</th>\n",
              "      <td>resilient</td>\n",
              "      <td>1</td>\n",
              "    </tr>\n",
              "  </tbody>\n",
              "</table>\n",
              "<p>100 rows × 2 columns</p>\n",
              "</div>"
            ],
            "text/plain": [
              "             _1  _2\n",
              "0             a  12\n",
              "1            in   9\n",
              "2           the   8\n",
              "3            of   6\n",
              "4         spark   6\n",
              "..          ...  ..\n",
              "95  application   1\n",
              "96     consists   1\n",
              "97     executes   1\n",
              "98     cluster.   1\n",
              "99    resilient   1\n",
              "\n",
              "[100 rows x 2 columns]"
            ]
          },
          "metadata": {
            "tags": []
          },
          "execution_count": 175
        }
      ]
    },
    {
      "cell_type": "markdown",
      "metadata": {
        "id": "N10vwWdSs9x1"
      },
      "source": [
        "3) Realize um inner join do rdd obtido no exercício anterior com o array abaixo utilizando como chave, a palavra em si:"
      ]
    },
    {
      "cell_type": "code",
      "metadata": {
        "id": "6Pv8-7piuU1d",
        "colab": {
          "base_uri": "https://localhost:8080/"
        },
        "outputId": "65f1cfee-dd8f-4326-dcd6-6d12c1c51ab0"
      },
      "source": [
        "pair_rdd = pair_rdd.reduceByKey(lambda a, b: a + b)\n",
        "pair_rdd.take(20)"
      ],
      "execution_count": null,
      "outputs": [
        {
          "output_type": "execute_result",
          "data": {
            "text/plain": [
              "[('At', 1),\n",
              " ('of', 6),\n",
              " ('operations', 1),\n",
              " ('provides', 1),\n",
              " ('in', 9),\n",
              " ('are', 3),\n",
              " ('other', 1),\n",
              " ('Hadoop-supported', 1),\n",
              " ('an', 2),\n",
              " ('may', 1),\n",
              " ('operations.', 2),\n",
              " ('failures.', 1),\n",
              " ('used', 3),\n",
              " ('default,', 1),\n",
              " ('when', 1),\n",
              " ('set', 1),\n",
              " ('tasks', 2),\n",
              " ('different', 1),\n",
              " ('ships', 1),\n",
              " ('variable', 2)]"
            ]
          },
          "metadata": {
            "tags": []
          },
          "execution_count": 176
        }
      ]
    },
    {
      "cell_type": "code",
      "metadata": {
        "id": "XvTF5tkks4bf"
      },
      "source": [
        "weights_words = [\n",
        "    (\"spark\", 1000),\n",
        "    (\"parallel\", 500),\n",
        "    (\"function\", 300),\n",
        "    (\"driver\", 400)\n",
        "]"
      ],
      "execution_count": null,
      "outputs": []
    },
    {
      "cell_type": "code",
      "metadata": {
        "id": "M9M2tBo-t1oO"
      },
      "source": [
        "rdd = sc.parallelize(words, 4)\n",
        "rdd2 = sc.parallelize(weights_words,4)"
      ],
      "execution_count": null,
      "outputs": []
    },
    {
      "cell_type": "code",
      "metadata": {
        "id": "VjOtLR8ct_Ng",
        "colab": {
          "base_uri": "https://localhost:8080/"
        },
        "outputId": "8780bfc6-0efa-46d9-a9b8-44aef491a670"
      },
      "source": [
        "rdd2.take(10)"
      ],
      "execution_count": null,
      "outputs": [
        {
          "output_type": "execute_result",
          "data": {
            "text/plain": [
              "[('spark', 1000), ('parallel', 500), ('function', 300), ('driver', 400)]"
            ]
          },
          "metadata": {
            "tags": []
          },
          "execution_count": 180
        }
      ]
    },
    {
      "cell_type": "code",
      "metadata": {
        "id": "VU6L3sDhuF-S",
        "colab": {
          "base_uri": "https://localhost:8080/"
        },
        "outputId": "db15cccf-6330-4b68-d312-7276d4215d17"
      },
      "source": [
        "type(rdd2)"
      ],
      "execution_count": null,
      "outputs": [
        {
          "output_type": "execute_result",
          "data": {
            "text/plain": [
              "pyspark.rdd.RDD"
            ]
          },
          "metadata": {
            "tags": []
          },
          "execution_count": 181
        }
      ]
    },
    {
      "cell_type": "code",
      "metadata": {
        "id": "bDpN0V2VtBJ8",
        "colab": {
          "base_uri": "https://localhost:8080/",
          "height": 191
        },
        "outputId": "261585be-7924-4151-c1b0-0d14053bbf0c"
      },
      "source": [
        "joinned_rdd = pair_rdd.take.cartesian(rdd2)\n",
        "joinned_rdd.take(10)"
      ],
      "execution_count": null,
      "outputs": [
        {
          "output_type": "error",
          "ename": "AttributeError",
          "evalue": "ignored",
          "traceback": [
            "\u001b[0;31m---------------------------------------------------------------------------\u001b[0m",
            "\u001b[0;31mAttributeError\u001b[0m                            Traceback (most recent call last)",
            "\u001b[0;32m<ipython-input-182-519fdf095bdc>\u001b[0m in \u001b[0;36m<module>\u001b[0;34m()\u001b[0m\n\u001b[0;32m----> 1\u001b[0;31m \u001b[0mjoinned_rdd\u001b[0m \u001b[0;34m=\u001b[0m \u001b[0mpair_rdd\u001b[0m\u001b[0;34m.\u001b[0m\u001b[0mtake\u001b[0m\u001b[0;34m.\u001b[0m\u001b[0mcartesian\u001b[0m\u001b[0;34m(\u001b[0m\u001b[0mrdd2\u001b[0m\u001b[0;34m)\u001b[0m\u001b[0;34m\u001b[0m\u001b[0;34m\u001b[0m\u001b[0m\n\u001b[0m\u001b[1;32m      2\u001b[0m \u001b[0mjoinned_rdd\u001b[0m\u001b[0;34m.\u001b[0m\u001b[0mtake\u001b[0m\u001b[0;34m(\u001b[0m\u001b[0;36m10\u001b[0m\u001b[0;34m)\u001b[0m\u001b[0;34m\u001b[0m\u001b[0;34m\u001b[0m\u001b[0m\n",
            "\u001b[0;31mAttributeError\u001b[0m: 'function' object has no attribute 'cartesian'"
          ]
        }
      ]
    },
    {
      "cell_type": "code",
      "metadata": {
        "id": "GkEYzERBxxy_",
        "colab": {
          "base_uri": "https://localhost:8080/"
        },
        "outputId": "9820fedc-e2c1-4c1f-e502-ef8a34f5383b"
      },
      "source": [
        "joinned_rdd = rdd2.fullOuterJoin(pair_rdd)\n",
        "joinned_rdd.take(10)"
      ],
      "execution_count": null,
      "outputs": [
        {
          "output_type": "execute_result",
          "data": {
            "text/plain": [
              "[('of', (None, 6)),\n",
              " ('are', (None, 3)),\n",
              " ('other', (None, 1)),\n",
              " ('an', (None, 2)),\n",
              " ('failures.', (None, 1)),\n",
              " ('default,', (None, 1)),\n",
              " ('when', (None, 1)),\n",
              " ('set', (None, 1)),\n",
              " ('ships', (None, 1)),\n",
              " ('variable', (None, 2))]"
            ]
          },
          "metadata": {
            "tags": []
          },
          "execution_count": 183
        }
      ]
    },
    {
      "cell_type": "code",
      "metadata": {
        "id": "B3nbXy-jxbNa",
        "colab": {
          "base_uri": "https://localhost:8080/"
        },
        "outputId": "a6169c38-9719-4170-9fb3-14237545ab28"
      },
      "source": [
        "joinned_rdd = pair_rdd.fullOuterJoin(rdd2)\n",
        "joinned_rdd.take(10)"
      ],
      "execution_count": null,
      "outputs": [
        {
          "output_type": "execute_result",
          "data": {
            "text/plain": [
              "[('of', (6, None)),\n",
              " ('are', (3, None)),\n",
              " ('other', (1, None)),\n",
              " ('an', (2, None)),\n",
              " ('failures.', (1, None)),\n",
              " ('default,', (1, None)),\n",
              " ('when', (1, None)),\n",
              " ('set', (1, None)),\n",
              " ('ships', (1, None)),\n",
              " ('variable', (2, None))]"
            ]
          },
          "metadata": {
            "tags": []
          },
          "execution_count": 184
        }
      ]
    },
    {
      "cell_type": "code",
      "metadata": {
        "id": "gyCPbQFmxlMx",
        "colab": {
          "base_uri": "https://localhost:8080/"
        },
        "outputId": "f1e59e04-316b-4dca-de5a-565f5cfd23d1"
      },
      "source": [
        "joinned_rdd = pair_rdd.leftOuterJoin(rdd2)\n",
        "joinned_rdd.take(10)"
      ],
      "execution_count": null,
      "outputs": [
        {
          "output_type": "execute_result",
          "data": {
            "text/plain": [
              "[('of', (6, None)),\n",
              " ('are', (3, None)),\n",
              " ('other', (1, None)),\n",
              " ('an', (2, None)),\n",
              " ('failures.', (1, None)),\n",
              " ('default,', (1, None)),\n",
              " ('when', (1, None)),\n",
              " ('set', (1, None)),\n",
              " ('ships', (1, None)),\n",
              " ('variable', (2, None))]"
            ]
          },
          "metadata": {
            "tags": []
          },
          "execution_count": 185
        }
      ]
    },
    {
      "cell_type": "code",
      "metadata": {
        "id": "Ay2I-nRCxplM"
      },
      "source": [
        "joinned_rdd = pair_rdd.rightOuterJoin(rdd2)\n",
        "joinned_rdd.take(10)"
      ],
      "execution_count": null,
      "outputs": []
    },
    {
      "cell_type": "code",
      "metadata": {
        "id": "Zv1_9-Iq43d1",
        "colab": {
          "base_uri": "https://localhost:8080/",
          "height": 175
        },
        "outputId": "fe093ba3-5063-41b1-f2b2-9a55ef8eee33"
      },
      "source": [
        "#versão professor\n",
        "\n",
        "weights_words = [\n",
        "    (\"spark\", 1000),\n",
        "    (\"parallel\", 500),\n",
        "    (\"function\", 300),\n",
        "    (\"driver\", 400)\n",
        "]\n",
        "\n",
        "weight_rdd = sc.parallelize(weights_words)\n",
        "\n",
        "rdd4 = rdd3.join(weight_rdd)\n",
        "\n",
        "display_rdd(rdd4)\n",
        "\n",
        "#só trouxe os 4, pq são os que tem os match"
      ],
      "execution_count": null,
      "outputs": [
        {
          "output_type": "execute_result",
          "data": {
            "text/html": [
              "<div>\n",
              "<style scoped>\n",
              "    .dataframe tbody tr th:only-of-type {\n",
              "        vertical-align: middle;\n",
              "    }\n",
              "\n",
              "    .dataframe tbody tr th {\n",
              "        vertical-align: top;\n",
              "    }\n",
              "\n",
              "    .dataframe thead th {\n",
              "        text-align: right;\n",
              "    }\n",
              "</style>\n",
              "<table border=\"1\" class=\"dataframe\">\n",
              "  <thead>\n",
              "    <tr style=\"text-align: right;\">\n",
              "      <th></th>\n",
              "      <th>_1</th>\n",
              "      <th>_2</th>\n",
              "    </tr>\n",
              "  </thead>\n",
              "  <tbody>\n",
              "    <tr>\n",
              "      <th>0</th>\n",
              "      <td>parallel</td>\n",
              "      <td>(4, 500)</td>\n",
              "    </tr>\n",
              "    <tr>\n",
              "      <th>1</th>\n",
              "      <td>driver</td>\n",
              "      <td>(3, 400)</td>\n",
              "    </tr>\n",
              "    <tr>\n",
              "      <th>2</th>\n",
              "      <td>function</td>\n",
              "      <td>(3, 300)</td>\n",
              "    </tr>\n",
              "    <tr>\n",
              "      <th>3</th>\n",
              "      <td>spark</td>\n",
              "      <td>(6, 1000)</td>\n",
              "    </tr>\n",
              "  </tbody>\n",
              "</table>\n",
              "</div>"
            ],
            "text/plain": [
              "         _1         _2\n",
              "0  parallel   (4, 500)\n",
              "1    driver   (3, 400)\n",
              "2  function   (3, 300)\n",
              "3     spark  (6, 1000)"
            ]
          },
          "metadata": {
            "tags": []
          },
          "execution_count": 186
        }
      ]
    },
    {
      "cell_type": "code",
      "metadata": {
        "id": "wiFOyJMI5U_X",
        "colab": {
          "base_uri": "https://localhost:8080/",
          "height": 232
        },
        "outputId": "4052d642-c95b-4030-df9e-dc1a836a0b7c"
      },
      "source": [
        "#versão professor\n",
        "\n",
        "weights_words = [\n",
        "    (\"spark\", 1000),\n",
        "    (\"parallel\", 500),\n",
        "    (\"function\", 300),\n",
        "    (\"driver\", 400)\n",
        "]\n",
        "\n",
        "weight_rdd = sc.parallelize(weights_words)\n",
        "\n",
        "rdd4 = rdd3.join(weight_rdd)\\\n",
        "  .map(lambda x:{'word': x[0], 'count':x[1][0], 'weight': x[1][1]})\n",
        "\n",
        "display_rdd(rdd4)"
      ],
      "execution_count": null,
      "outputs": [
        {
          "output_type": "stream",
          "text": [
            "/usr/local/lib/python3.6/dist-packages/pyspark/sql/session.py:401: UserWarning: Using RDD of dict to inferSchema is deprecated. Use pyspark.sql.Row instead\n",
            "  warnings.warn(\"Using RDD of dict to inferSchema is deprecated. \"\n"
          ],
          "name": "stderr"
        },
        {
          "output_type": "execute_result",
          "data": {
            "text/html": [
              "<div>\n",
              "<style scoped>\n",
              "    .dataframe tbody tr th:only-of-type {\n",
              "        vertical-align: middle;\n",
              "    }\n",
              "\n",
              "    .dataframe tbody tr th {\n",
              "        vertical-align: top;\n",
              "    }\n",
              "\n",
              "    .dataframe thead th {\n",
              "        text-align: right;\n",
              "    }\n",
              "</style>\n",
              "<table border=\"1\" class=\"dataframe\">\n",
              "  <thead>\n",
              "    <tr style=\"text-align: right;\">\n",
              "      <th></th>\n",
              "      <th>count</th>\n",
              "      <th>weight</th>\n",
              "      <th>word</th>\n",
              "    </tr>\n",
              "  </thead>\n",
              "  <tbody>\n",
              "    <tr>\n",
              "      <th>0</th>\n",
              "      <td>4</td>\n",
              "      <td>500</td>\n",
              "      <td>parallel</td>\n",
              "    </tr>\n",
              "    <tr>\n",
              "      <th>1</th>\n",
              "      <td>3</td>\n",
              "      <td>400</td>\n",
              "      <td>driver</td>\n",
              "    </tr>\n",
              "    <tr>\n",
              "      <th>2</th>\n",
              "      <td>3</td>\n",
              "      <td>300</td>\n",
              "      <td>function</td>\n",
              "    </tr>\n",
              "    <tr>\n",
              "      <th>3</th>\n",
              "      <td>6</td>\n",
              "      <td>1000</td>\n",
              "      <td>spark</td>\n",
              "    </tr>\n",
              "  </tbody>\n",
              "</table>\n",
              "</div>"
            ],
            "text/plain": [
              "   count  weight      word\n",
              "0      4     500  parallel\n",
              "1      3     400    driver\n",
              "2      3     300  function\n",
              "3      6    1000     spark"
            ]
          },
          "metadata": {
            "tags": []
          },
          "execution_count": 187
        }
      ]
    },
    {
      "cell_type": "markdown",
      "metadata": {
        "id": "_-4_vva318RX"
      },
      "source": [
        "# Aula 6 - Outputs em RDDs"
      ]
    },
    {
      "cell_type": "markdown",
      "metadata": {
        "id": "lLXme5-32CRi"
      },
      "source": [
        "# Outputs em RDDs\n",
        "Como visto nas aulas anteriores, uma output é uma **ação** que delimita um **job** e dá origem de fato a execução das **transformações** previamente encadeadas. Essa operação pode ser realizada de duas formas:\n",
        "1. Trazendo dados para o driver da aplicação\n",
        "2. Salvando dados em uma fonte externa"
      ]
    },
    {
      "cell_type": "code",
      "metadata": {
        "id": "tk7V-iDE1_A_"
      },
      "source": [
        "sc = spark.sparkContext"
      ],
      "execution_count": null,
      "outputs": []
    },
    {
      "cell_type": "markdown",
      "metadata": {
        "id": "E-vohIky2IDI"
      },
      "source": [
        "### Coleção a ser utilizada\n",
        "Durante essa parte do curso, veremos como aplicar os comandos utilizando a seguinte coleção em Python (texto extraído da seção Overwiew em http://spark.apache.org/docs/latest/rdd-programming-guide.html#overview"
      ]
    },
    {
      "cell_type": "code",
      "metadata": {
        "id": "2I3kxnsI2Ik2"
      },
      "source": [
        "text = \"At a high level, every Spark application consists of a driver program that runs the user’s main function and executes various parallel operations on a cluster. The main abstraction Spark provides is a resilient distributed dataset (RDD), which is a collection of elements partitioned across the nodes of the cluster that can be operated on in parallel. RDDs are created by starting with a file in the Hadoop file system (or any other Hadoop-supported file system), or an existing Scala collection in the driver program, and transforming it. Users may also ask Spark to persist an RDD in memory, allowing it to be reused efficiently across parallel operations. Finally, RDDs automatically recover from node failures. A second abstraction in Spark is shared variables that can be used in parallel operations. By default, when Spark runs a function in parallel as a set of tasks on different nodes, it ships a copy of each variable used in the function to each task. Sometimes, a variable needs to be shared across tasks, or between tasks and the driver program. Spark supports two types of shared variables: broadcast variables, which can be used to cache a value in memory on all nodes, and accumulators, which are variables that are only added to, such as counters and sums\"\n",
        "words = text.split(\" \")"
      ],
      "execution_count": null,
      "outputs": []
    },
    {
      "cell_type": "code",
      "metadata": {
        "id": "XSkXJ14T2P2M"
      },
      "source": [
        "words_rdd = sc.parallelize(words)"
      ],
      "execution_count": null,
      "outputs": []
    },
    {
      "cell_type": "markdown",
      "metadata": {
        "id": "0h2V44_h2OVc"
      },
      "source": [
        "### Outputs/ações como estruturas em Python\n",
        "##### rdd.reduce()\n",
        "Reduz um RDD de qualquer tipo a um único número. Por exemplo, uma soma de números"
      ]
    },
    {
      "cell_type": "code",
      "metadata": {
        "id": "8hXs8qnx2LBP",
        "colab": {
          "base_uri": "https://localhost:8080/"
        },
        "outputId": "1fd80a51-e79f-49e0-839f-ce5142f6c79d"
      },
      "source": [
        "array = range(1, 21)\n",
        "\n",
        "sc.parallelize(array) \\\n",
        "    .reduce(lambda x, y: x + y)"
      ],
      "execution_count": null,
      "outputs": [
        {
          "output_type": "execute_result",
          "data": {
            "text/plain": [
              "210"
            ]
          },
          "metadata": {
            "tags": []
          },
          "execution_count": 191
        }
      ]
    },
    {
      "cell_type": "markdown",
      "metadata": {
        "id": "JzUyASSS2V9B"
      },
      "source": [
        "Ou retornar a maior palavra no nosso RDD de words"
      ]
    },
    {
      "cell_type": "code",
      "metadata": {
        "id": "FXx1Fq4C2T5d",
        "colab": {
          "base_uri": "https://localhost:8080/",
          "height": 36
        },
        "outputId": "77f8cc93-0231-4237-ac0d-5df09c4f13f1"
      },
      "source": [
        "(\"spark\", \"hadoop\", \"elasticsearch\")\n",
        "(\"hadoop\", \"elasticsearch\")\n",
        "(\"elasticsearch\")\n",
        "\n",
        "\n",
        "def word_leght_reducer(left_word, right_word):\n",
        "  if len(left_word) > len(right_word):\n",
        "    return left_word\n",
        "  else:\n",
        "    return right_word\n",
        "\n",
        "words_rdd.reduce(word_leght_reducer)\n",
        "\n",
        "words_rdd.reduce(lambda x, y: word_leght_reducer(x, y))"
      ],
      "execution_count": null,
      "outputs": [
        {
          "output_type": "execute_result",
          "data": {
            "application/vnd.google.colaboratory.intrinsic+json": {
              "type": "string"
            },
            "text/plain": [
              "'Hadoop-supported'"
            ]
          },
          "metadata": {
            "tags": []
          },
          "execution_count": 192
        }
      ]
    },
    {
      "cell_type": "markdown",
      "metadata": {
        "id": "EHDGgXNr2bRy"
      },
      "source": [
        "##### rdd.count()\n",
        "Conta a quantidade de linhas. Além do `.count()`, também há `.max()` e `.min()`."
      ]
    },
    {
      "cell_type": "code",
      "metadata": {
        "id": "gs6A-eQo2Y2i",
        "colab": {
          "base_uri": "https://localhost:8080/"
        },
        "outputId": "469fed55-90cf-4a3e-92c1-21424275982b"
      },
      "source": [
        "words_rdd.count()"
      ],
      "execution_count": null,
      "outputs": [
        {
          "output_type": "execute_result",
          "data": {
            "text/plain": [
              "214"
            ]
          },
          "metadata": {
            "tags": []
          },
          "execution_count": 193
        }
      ]
    },
    {
      "cell_type": "markdown",
      "metadata": {
        "id": "-2H0hoat2f_3"
      },
      "source": [
        "rdd.take()\n",
        "\n",
        "Retorna uma quantidade N de linhas do RDD em uma lista em Python no driver. Variações são .takeOrdered(), .takeSample() e .top()."
      ]
    },
    {
      "cell_type": "code",
      "metadata": {
        "id": "m2XEWhMg2d7B",
        "colab": {
          "base_uri": "https://localhost:8080/"
        },
        "outputId": "010ad4da-54ff-4f06-afb4-dc3a42141fb6"
      },
      "source": [
        "words_rdd.take(10)"
      ],
      "execution_count": null,
      "outputs": [
        {
          "output_type": "execute_result",
          "data": {
            "text/plain": [
              "['At',\n",
              " 'a',\n",
              " 'high',\n",
              " 'level,',\n",
              " 'every',\n",
              " 'Spark',\n",
              " 'application',\n",
              " 'consists',\n",
              " 'of',\n",
              " 'a']"
            ]
          },
          "metadata": {
            "tags": []
          },
          "execution_count": 194
        }
      ]
    },
    {
      "cell_type": "markdown",
      "metadata": {
        "id": "FvWiwqCC2jhn"
      },
      "source": [
        "### Outputs/ações em Arquivos\n",
        "##### rdd.saveAsTextFile()\n",
        "O comando `.saveAsTextFile()` é uma ação que visa persistir o RDD em formato de um arquivo de texto simples (plain-text). Não é possível, utilizando esse método, salvar nos formatos que vimos nas aulas de Dataframes tais como JSON, CSV, Parquet. Tal feito, requer um recurso que veremos em breve"
      ]
    },
    {
      "cell_type": "code",
      "metadata": {
        "id": "uLS4OI9E2hs2"
      },
      "source": [
        "words_rdd \\\n",
        "    .repartition(2) \\\n",
        "    .saveAsTextFile(\"./output/words_txt_2\")"
      ],
      "execution_count": null,
      "outputs": []
    },
    {
      "cell_type": "code",
      "metadata": {
        "id": "azBJnKBk2mMm",
        "colab": {
          "base_uri": "https://localhost:8080/"
        },
        "outputId": "2e057b99-35e8-40b9-d5bc-9c2301d737f4"
      },
      "source": [
        "!ls ./output/words_txt_2"
      ],
      "execution_count": null,
      "outputs": [
        {
          "output_type": "stream",
          "text": [
            "part-00000  part-00001\t_SUCCESS\n"
          ],
          "name": "stdout"
        }
      ]
    },
    {
      "cell_type": "code",
      "metadata": {
        "id": "61tsE4TX2nXJ",
        "colab": {
          "base_uri": "https://localhost:8080/"
        },
        "outputId": "c735971e-71be-427b-efde-ba357d48830e"
      },
      "source": [
        "!head -n 5 ./output/words_txt_2/part-00000"
      ],
      "execution_count": null,
      "outputs": [
        {
          "output_type": "stream",
          "text": [
            "At\n",
            "a\n",
            "high\n",
            "level,\n",
            "every\n"
          ],
          "name": "stdout"
        }
      ]
    },
    {
      "cell_type": "markdown",
      "metadata": {
        "id": "fctdb-ie2wbw"
      },
      "source": [
        "### Output/Ação utilizando o foreach\n",
        "O comando `.foreach()` basicamente tem a função de iterar sobre as linhas de um RDD. Como é uma ação, e não uma transformação, o comando `.foreach()` **não retorna nenhum valor**. É útil quando se está trabalhando com **Accumulators** ou deseja-se escrever o dado em uma fonte externa. Grande parte dos outputs em formatos de arquivos distintos ou bancos de dados utilizados na API high-level dos Dataframes utiliza essa ação como base para construir a API.\n",
        "\n",
        "Como se usar essa ação. Basta definir uma função passá-la como parâmetro para o método foreach():\n",
        "```python\n",
        "def my_funct(row):\n",
        "    # TODO\n",
        "    ...\n",
        "\n",
        "rdd.foreach(my_funct)\n",
        "```\n",
        "\n",
        "CUIDADO: Erros comuns ao utilizar o comando `.foreach()`:\n",
        "\n",
        "1. Atualização de variáveis globais convencionais. Cada executor tem a sua JVM e a variável global definida no driver não estará disponível para os executores, gerando valores inconsistentes:\n",
        "\n",
        "```python\n",
        "counter = 0\n",
        "rdd = sc.parallelize(data)\n",
        "\n",
        "# Wrong: Don't do this!!\n",
        "def increment_counter(x):\n",
        "    global counter\n",
        "    counter += x\n",
        "\n",
        "rdd.foreach(increment_counter)\n",
        "print(\"Counter value: \", counter)\n",
        "```\n",
        "\n",
        "2. Printando elementos usando o `foreach`. Assumindo que a execução está ocorrendo em modo cluster, cada executor pode estar em uma máquina distinta e a execução da função print gerará uma escrita em stdout que ocorrerá dentro do executor e não do driver\n",
        "\n",
        "```python\n",
        "rdd.foreach(print)\n",
        "```"
      ]
    },
    {
      "cell_type": "markdown",
      "metadata": {
        "id": "_K32J25321Wj"
      },
      "source": [
        "### Veja mais\n",
        "É possível encontrar uma lista de todas as ações disponíveis para uso nos RDDs na API do Spark: http://spark.apache.org/docs/latest/rdd-programming-guide.html#actions"
      ]
    },
    {
      "cell_type": "code",
      "metadata": {
        "id": "xCOPb2Tg2xDd"
      },
      "source": [
        "words_rdd.foreach(print)"
      ],
      "execution_count": null,
      "outputs": []
    },
    {
      "cell_type": "code",
      "metadata": {
        "id": "WoYqtVhY24AM",
        "colab": {
          "base_uri": "https://localhost:8080/"
        },
        "outputId": "ed47dd98-355c-422f-e7ba-cce51a1b4e51"
      },
      "source": [
        "counter = 0\n",
        " \n",
        "# Wrong: Don't do this!!\n",
        "def increment_counter(x):\n",
        "    global counter\n",
        "    counter += 1\n",
        " \n",
        "words_rdd.foreach(increment_counter)\n",
        "print(\"Counter value: \", counter)"
      ],
      "execution_count": null,
      "outputs": [
        {
          "output_type": "stream",
          "text": [
            "Counter value:  0\n"
          ],
          "name": "stdout"
        }
      ]
    },
    {
      "cell_type": "markdown",
      "metadata": {
        "id": "v44nD6Ul3Ai0"
      },
      "source": [
        "# Aula 7 - Distributed Shared Variables"
      ]
    },
    {
      "cell_type": "markdown",
      "metadata": {
        "id": "im_5sf3q3bbe"
      },
      "source": [
        "# Distributed Shared Variables\n",
        "Além dos RDDs, as APIs low-level do Spark fornecem operações para trabalhar com variáveis distribuídas e compartilhadas ao longo do cluster. São elas\n",
        "1. Broadcast variables\n",
        "2. Accumulators\n",
        "\n",
        "### Broadcast variables\n",
        "As Broadcast variables podem ser entendidas da seguinte forma:\n",
        "\n",
        "![bv.png](data:image/png;base64,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)\n",
        "\n",
        "Basicamente, uma varíavel de broadcast é criada no Driver da aplicação e depois armazenada em cada executor. Esse recurso é útil quando se tem a necessidade de passar um parâmetro grande (um grande dicionário em Python ou um modelo de Machine Learning) dentro de funções utilizadas em `UDFs` ou operações do tipo `map`. A principal vantagem é:\n",
        "\n",
        "- Utilizando as Broadcast variables, não é necessário reenviar a mesma estrutura de dados a cada job para os executores porque isso implica em **serializar/deserializar** aquela estrutura repetidamente\n",
        "\n",
        "Obs.: As Broadcast Variables só são de fato distribuídas ao longo dos executores quando ocorre uma ação devido ao conceito de *Lazy Evaluation*\n",
        "\n",
        "##### Criando um RDD simples"
      ]
    },
    {
      "cell_type": "code",
      "metadata": {
        "id": "GHGfraxY27fn"
      },
      "source": [
        "sc = spark.sparkContext"
      ],
      "execution_count": null,
      "outputs": []
    },
    {
      "cell_type": "code",
      "metadata": {
        "id": "RCK2ugy33evH"
      },
      "source": [
        "my_collection = \"Spark The Definitive Guide : Big Data Processing Made Simple\".split(\" \")\n",
        "words = spark.sparkContext.parallelize(my_collection, 2)"
      ],
      "execution_count": null,
      "outputs": []
    },
    {
      "cell_type": "code",
      "metadata": {
        "id": "egiK0O9b3gcG",
        "colab": {
          "base_uri": "https://localhost:8080/"
        },
        "outputId": "fef43dbd-6e38-46b1-e088-ab6d8642e5c8"
      },
      "source": [
        "words.take(10)"
      ],
      "execution_count": null,
      "outputs": [
        {
          "output_type": "execute_result",
          "data": {
            "text/plain": [
              "['Spark',\n",
              " 'The',\n",
              " 'Definitive',\n",
              " 'Guide',\n",
              " ':',\n",
              " 'Big',\n",
              " 'Data',\n",
              " 'Processing',\n",
              " 'Made',\n",
              " 'Simple']"
            ]
          },
          "metadata": {
            "tags": []
          },
          "execution_count": 202
        }
      ]
    },
    {
      "cell_type": "markdown",
      "metadata": {
        "id": "PHecW_-43j1j"
      },
      "source": [
        "##### Definindo a estrutura a ser mantida como Broadcast Variable"
      ]
    },
    {
      "cell_type": "code",
      "metadata": {
        "id": "PrVjhMOj3hoS"
      },
      "source": [
        "supplemental_data = {\"Spark\":1000, \"Definitive\":200, \"Big\":-300, \"Simple\":100}"
      ],
      "execution_count": null,
      "outputs": []
    },
    {
      "cell_type": "code",
      "metadata": {
        "id": "d96T_vj13lzS",
        "colab": {
          "base_uri": "https://localhost:8080/"
        },
        "outputId": "5ccf6ac9-c94e-4384-c4ca-d8bcc5c034e3"
      },
      "source": [
        "supplemental_data.get(\"Igor\", 0)"
      ],
      "execution_count": null,
      "outputs": [
        {
          "output_type": "execute_result",
          "data": {
            "text/plain": [
              "0"
            ]
          },
          "metadata": {
            "tags": []
          },
          "execution_count": 204
        }
      ]
    },
    {
      "cell_type": "markdown",
      "metadata": {
        "id": "slsHEbAr3qMJ"
      },
      "source": [
        "##### Criando a Broadcast Variable"
      ]
    },
    {
      "cell_type": "code",
      "metadata": {
        "id": "a-qGrBOk3nUY"
      },
      "source": [
        "supp_broadcast = sc.broadcast(supplemental_data)"
      ],
      "execution_count": null,
      "outputs": []
    },
    {
      "cell_type": "code",
      "metadata": {
        "id": "cP4V84Gs3sqH",
        "colab": {
          "base_uri": "https://localhost:8080/"
        },
        "outputId": "28cf6482-8f3e-4ba4-f9f3-1f5af4f64c26"
      },
      "source": [
        "supp_broadcast.value"
      ],
      "execution_count": null,
      "outputs": [
        {
          "output_type": "execute_result",
          "data": {
            "text/plain": [
              "{'Big': -300, 'Definitive': 200, 'Simple': 100, 'Spark': 1000}"
            ]
          },
          "metadata": {
            "tags": []
          },
          "execution_count": 206
        }
      ]
    },
    {
      "cell_type": "markdown",
      "metadata": {
        "id": "FPUw3Ia73xv3"
      },
      "source": [
        "##### Usando a Broadcast Variable"
      ]
    },
    {
      "cell_type": "code",
      "metadata": {
        "id": "sY73Afm93txf",
        "colab": {
          "base_uri": "https://localhost:8080/"
        },
        "outputId": "37c0a7d6-3fa5-4d71-dd8c-3b82b32a1e63"
      },
      "source": [
        "words \\\n",
        "    .map(lambda word: (word, supp_broadcast.value.get(word, 0)))\\\n",
        "    .sortBy(lambda wordPair: wordPair[1])\\\n",
        "    .collect()"
      ],
      "execution_count": null,
      "outputs": [
        {
          "output_type": "execute_result",
          "data": {
            "text/plain": [
              "[('Big', -300),\n",
              " ('The', 0),\n",
              " ('Guide', 0),\n",
              " (':', 0),\n",
              " ('Data', 0),\n",
              " ('Processing', 0),\n",
              " ('Made', 0),\n",
              " ('Simple', 100),\n",
              " ('Definitive', 200),\n",
              " ('Spark', 1000)]"
            ]
          },
          "metadata": {
            "tags": []
          },
          "execution_count": 207
        }
      ]
    },
    {
      "cell_type": "markdown",
      "metadata": {
        "id": "ASqF9Q7i38yo"
      },
      "source": [
        "### Accumulators\n",
        "Os Accumlators podem ser entendidos da seguinte forma:\n",
        "\n",
        "![av.png](data:image/png;base64,iVBORw0KGgoAAAANSUhEUgAAAa8AAADJCAYAAACUsb3yAAAGYHRFWHRteGZpbGUAJTNDbXhmaWxlJTIwaG9zdCUzRCUyMmFwcC5kaWFncmFtcy5uZXQlMjIlMjBtb2RpZmllZCUzRCUyMjIwMjAtMDQtMTFUMTIlM0EzNyUzQTQ2LjgzMlolMjIlMjBhZ2VudCUzRCUyMk1vemlsbGElMkY1LjAlMjAoTWFjaW50b3NoJTNCJTIwSW50ZWwlMjBNYWMlMjBPUyUyMFglMjAxMF8xNV8zKSUyMEFwcGxlV2ViS2l0JTJGNTM3LjM2JTIwKEtIVE1MJTJDJTIwbGlrZSUyMEdlY2tvKSUyMENocm9tZSUyRjgwLjAuMzk4Ny4xNDklMjBTYWZhcmklMkY1MzcuMzYlMjIlMjBldGFnJTNEJTIyVXVud1BCeXNyRk1XRjFtb3B6el8lMjIlMjB2ZXJzaW9uJTNEJTIyMTIuOC44JTIyJTIwdHlwZSUzRCUyMmRldmljZSUyMiUzRSUzQ2RpYWdyYW0lMjBpZCUzRCUyMjdES0dicWpvUmY5ZHNQQnNhd2F6JTIyJTIwbmFtZSUzRCUyMlBhZ2UtMSUyMiUzRTVWbGJVJTJCSXdHUDAxUE9yMFJpbVBDTzc2c280enpxajdHTm9Vc3JZTnBxbVUlMkZmWDdwVTE2U1l1d0xnak0lMkJ1RGtPN21mYzVKODFZRTlqZlB2REsyV1AyaUFvNEZsQlBuQW5nMHN5eHRaOEZzQW14SndqSEVKTEJnSlNzaXNnVWZ5RzB2UWtHaEdBcHkyR25KS0kwNVdiZENuU1lKOTNzSVFZM1RkYmhiU3FEM3JDaTF3QjNqMFVkUkZuMG5BbDNKYjFxakc3ekJaTE5YTXBpdjNGeVBWV080a1hhS0FyaHVRZlR1d3A0eFNYcGJpZklvandaM2lwZXozYlV0dHRUQ0dFNzVQaDd2Tnk2dWQlMkZMTGUzdjM3NTNsOFl6N2RqNiUyQmtPdThveXVTR0I1WWJ3WGczY3lnc1JFRUJJWVY1Qk5FUlpVVlQ5eTJqWlFNN0RBMzRhVUpsMzRudlolMkZFMTlIcENqS0E1a0NvSGcyV1c0N1huQUxneGI4RWEzeWdwR00yU0FJdmRHRkM5WGhLT0gxZklGN1ZyOEI1Z1N4NUhFSmxpdFNTS3B0VlM3UUJoTCUyRlFCVHptanI3aFI0JTJGb2Vub2ZWZk8lMkJZY1p4dnBkaXNoQVBEWXhwanpqYlFSSFZRcnBWbU4wY3lYdGZXTVpVZmxnM2J1QkpEMHEyTGF1aGFVQ2hJVGY5Q1gzdXJ2bExPbWwlMkJsbmFpNFNvdURPSUVHcHJmS3U4TE9HQUdtdHFxcEtRZU04clk4YlJrU21tQk5Nd21oaUN3U0NIMVFBT2F6YjRRJTJCQkk3blJGYkVKQWpFTkwxJTJCYUR2bUVBSVBOWUdkcnNCT2o3N1dzZlIxZXZUVnlOOXhVRkM2S3UlMkZOa09TQ3FrUFFaRnNhVFdhWEp2Y3JqOEh3SW1pcWJISXFtdHl6cE1reE5EZTVKNlpwZEo0MGVXZDI2THlMb09ua2gyNThwQ2Y2TnNkJTJCeGlsTHE0eU85YVJiJTJGOGU3N1poT1MzVHZ4TSUyQjIxWmVYYWVUakpKaUlEeGpCWW9UU2xQaHRLWEJPJTJCSXVrU0pSJTJGaXZMMVVFYXp2RkUxMjZnZ2dkVyUyRnFBRkVVUGF5aGlxdSUyQnhYUnBxVUJEam9mUzVvQ3NBT2FNUiUyRnZUbGs0WWd2TVAlMkJLb1g5R0daTU1leVJUR2NJUTQ1S2l0dGZYcEtHZDRvS1E0Yk9wcEhtdTNoS05ab2R5bTdOWDg2dElHY2h6dFZoNXJBNVU4ZEFZcWJGVnQlMkJ4JTJCY3RrZnFjd3luSGRBdzdrbU5ZR3Y2RFQ5cEJFc2J5REslMkIyQWg3SkhkbmJvVGhKZHdjanJsRDU3ME5ZJTJCeTRnbzV0bUQzUzNPTyUyQlVkZUdiYmZmS2JjR3RqeFVSZlNBR1lIdGk4VGowQjcwTHNHRCUyQnFYVlNWNzM5cUQyZWxXWDJGZDVjSTl2aURPJTJGdEVZbnZZejBOT2JUUnRDZndZT2xNUkRXZndNdm05ZiUyRlNMQnYlMkZ3QSUzRCUzQyUyRmRpYWdyYW0lM0UlM0MlMkZteGZpbGUlM0U0YGmzAAAgAElEQVR4Xu2dC5xO1frHf8aM2zDDuI5p3CVJkRT+ROJUdMr9lkRIF/eIEacSRUc4SElOETpyLXSTo4QSUSKiXIYxxn1cZozLzP/zLO0574z9zryXvd9Z+32e/fnMJ5m9137Wb/3e52ut9ez95svIyMiAHKKAKCAKiAKigIMUyCfwctBoSaiigCggCogCSgGBlxhBFBAFRAFRwHEKCLwcN2QSsCggCogCooDASzwgCogCAVXgjTfewIgRI3K8Z9GiRXH+/PmAxuXtzU6fPg36qVKlCkJCQry9XM73UwGBl58CyuWigCjgnQIGvJ544glUrFjR9OICBQrgxRdf9K7hAJ9N8b322ms4efIkSpYsGeC7y+0EXuIBUUAUCKgCBry+/fZb3HvvvQG9t5U3E3hZqab3bQm8vNdMrhAFRAE/FPAGXgsWLMD8+fPRsWNHPPnkk5l3nTVrFlavXo1hw4ZlApBmQGPGjMGmTZtw7do1NGvWTP2+UqVKWaLdsmULRo8eDfpvoUKF1Hk0gzLO69mzJ8qVK4cJEyZkuY5mipUrV8bLL7+MgQMHqvvv378fzZs3R/v27fHss8+q83fs2IFRo0Zh69atajmxYcOGmDhxIqpVq5bZHl1fokQJPP744+p3iYmJWLVqFVJTU/H6669j8eLFOH78OG6++WZ0794dzz33nB+KB+elAq/gHFfplSigrQLewIv2vWrXrq2W5nbt2qWWGfft24fbb78dd9xxBzZu3Ij8+fPjwIEDaNq0KS5cuIDOnTvj6tWrWLlyJfLly4cvvvhCnUvHV199hUceeUTBqU2bNvjtt9+wdu1aVK9eHdu2bUORIkUUoGgfi/7e9aB7032p3bFjx2Lp0qUKVN26dUOrVq3w2GOP4b///S8efvhhxMbGKqBdvHhRnXfmzBls2LABdevWVU3Wr18fYWFhClrx8fHo2rWrgjTBbMmSJejUqRPKly+PZcuWYe/evQpoI0eO1HZM8yIwgVdeqC73FAUYK2DAq2XLlihTpoypEv369UOTJk3U79asWYO//e1vChA0O6GZzg8//ICff/4ZNWrUUOfQzGz58uXYs2dP5gyHgEaQuOeee9QsKT09XcHn1KlT2L59uwIYHTNnzlQzG4JMu3btPIIXXZd92ZDar1OnDs6dO6dAGBUVpdqnOO6++24V1/fff58JL5qZEaQITARLAl1ERAR69+6Nd999N1OXtm3bqn7t3r2bsWtu7LrAS+wgCogCAVXAgBcldyrMMDumTZumgGQcTz31FGbPnq3gQrORN998E0OHDlW/PnbsGKKjo9G6dWsFN9eDlgBp6fHEiRMq+Tdq1AjDhw8HxWAcBA1abiRAPvjggz7Di4BKS4S0fPjWW29liYNmZQsXLsws7iCo/vTTTzh06JCapdFBszMq/KhQoYKaUcbExKi/T0lJUWArXbp0QMdJ95sJvHQfIYlPFAgyBbxZNjS6TrOZ2267DYcPH0bjxo1BxR5Gefr69evVkiEBoVatWlnUoqVG2tuimdbOnTvVstzcuXPRo0cPt6p6smxIF2efeRnLfh999BG6dOmSpf1JkyYpaNJ+HAGOYr18+TJ++eWXLOcNGjQIBG5aCiXQ0uyUljdp6VSOrAoIvMQRooAoEFAFfIEXzT5oye/PP/9UM6Qvv/wyM2Za7uvQoQPq1avntvSeii9or+r5559Xe1m09OjucAevyMhIVRxC7ZjBa8qUKWo2uHnzZrVM6HrQ/ePi4tSyYYMGDRS8CL50bvaDlhP//e9/4/PPP8fBgwfVr3v16oU5c+aoPTw5risg8BIniAKiQEAV8AVexoyEKgO/+eYbtYTYp08fFTctv911112gc6ZOnZqlL1R1SMUbBQsWVHtaBDmq7nvhhRcyz6MZELVH8COwELyo8nDdunWZ51DlX9myZVUxhjt4Ge0TxAYPHpwlDlrupD05WuKkdszg5RqrcTHNzPr376+KPX788Ud1nRwCL/GAKCAK5IEC3sKLlgUJWrQH9v7772dWH9IyIO0X0X4Q7XlRdR4VNrgeLVq0UFWKCQkJOHLkCKpWrapmblTAYRw0oyEQUpUfVQjSEiQVWVAVoHF88MEHavaTE7zoGirKoHM++eSTzGsJnrSPRXtWxjKhGbxWrFgBKs6gAhWK2zhoz47K5WkmRntycgi8xAOigCiQBwoY8KJZkFGUYBbGuHHj1NIaLRdSqTwVXBCkaNmPkrvr8qHRJu0rUaUizWJmzJiB6dOnY/LkyRgyZIi6xdNPP60q+V599VUFCppdjR8/Xj3vRWXv9FoqWlqka+gVVnSO8VwYXU8VkMbM65133sEzzzyjnhEjsBK46Fk0Ah39HRVp0F4dtU/7YIsWLVLVhXSYwYuqIAmuVEFJM0F6xosqKqk/VNhBz5QZFYx5MGza3VKWDbUbEglIFAhuBTx5tyEpQEt1BDAqYKBydgKFcVA5Oe0LGcuHBCt69opAQX+mgx4Cpn0melDZ2CtKS0tTZfF0rfFVhlTeTsAxngWjqj+qXDTK2mvWrKnaoAejqbTfgBcBhZ4ZI+hRmwRLes6M4qTiDeMgMNLvKGbjcLfnRUuLffv2VeX8xkEl/TQ7pEcF5PifAgIvcYMoIAoEjQL0olyqLCRY0R4WFVmYHcnJyeoBZdp/oj0us0KIo0ePqpnTLbfckqM+tBxZqlQpNXszDlqm/PXXX9VSIVVAuv4uN7HpnrQkSg8w01IozTzDw8Nzu4zd7wVe7IZcOiwKiAKigPMVEHg5fwylB6KAKCAKsFNA4MVuyKXDooAoIAo4XwGBl/PHUHogCogCogA7BQRe7IZcOiwKiAKigPMVEHg5fwylB6KAKCAKsFNA4MVuyKXDooAoIAo4XwGBl/PHUHogCogCogA7BQRe7IZcOiwKiAKigPMVEHg5fwylB6KAKCAKsFNA4MVuyKXDooAoIAo4XwGBl/PHUHogCogCogA7BQRe7IZcOmyHAhy/4dZ4K7sdekqb3inA0X8CL+88ImeLAqYKUPLglMy59Vd323MbD+qvwEt3V0p8jlCAY/LgBGvdTcjRfwIv3V0p8TlCAY7JQ+CljzU5+k/gpY//JBIHK8AxeQi89DEsR/8JvPTxn0TiYAU4Jg+Blz6G5eg/gZc+/pNIHKwAx+Qh8NLHsBz9J/DSx38SiYMV4Jg8BF76GJaj/wRe+vhPInGwAhyTh8BLH8Ny9J/ASx//SSQOVoBj8hB46WNYjv4TeOnjP4nEwQpwTB4CL30My9F/Ai99/CeROFgBjslD4KWPYTn6T+Clj/8kEgcrwDF5CLz0MSxH/wm89PGfROJgBTgmD4GXPobl6D+Blz7+k0gcrADH5CHw0sewHP0n8NLHfxKJgxXgmDwEXvoYlqP/BF76+E8icbACHJOHwEsfw3L0n8BLH/9JJA5WgGPyEHjpY1iO/hN46eM/icTBCnBMHgIvfQzL0X8CL338J5E4WAGOyUPgpY9hOfpP4KWP/yQSByvAMXkIvPQxLEf/Cbz08Z9E4mAFOCYPgZc+huXoP4GXPv6TSBysAMfkIfDSx7Ac/Sfw0sd/EomDFeCYPARe+hiWo/8EXvr4TyJxsAIck4fASx/DcvSfwEsf/0kkDlaAY/IQeOljWI7+E3jp4z+JxMEKcEweAi99DMvRfwIvffwnkThYAY7JQ+Clj2E5+k/gpY//JBIHK8AxeQi89DEsR/8JvPTxn0TiYAU4Jg+Blz6G5eg/gZc+/pNIHKhAQkICJk+erH44JXNuyVIna165cgXbtm274Yeb/wReOrlSYnGMAq7QGjp0qMDLMSPnrEDdgerOO++E60+DBg3Y/eNJ4OUsL0u0eaxAdmgRuGJiYsBtJsKtv4GwnaegImiFhYVlCYnbeFB/BV6BcKXcw/EKuIOW0TGOyYPTMpXVBvYHVGaxcPSflvAaNmwY3nzzzSxjFBISgurVq6Nu3boYMGAAGjVq5JGfbr31VkRFRWHDhg0enS8niQKuCuQGLYGX+CU3BawGlcALaqVDa3jRkkyFChXUWKWkpGDPnj344osvcObMGfzzn//EoEGDcvMNnnvuORQtWhQTJ07M9Vw5QRQwFPAUWgIv8YyrAoEAlcDLAfD68ccfUb9+/SxjlZSUhDZt2mDz5s2q2qZOnTry6REFLFPAW2gJvCyT3nEN5RWoBF4OhRcNHC0BNmnSBG3btsWyZcvUWA4cOBAlSpTA448/rmZZiYmJWLVqFQYPHqxmXuPGjQPN5Gj2tmTJEhQpUiTTAzSr69ixIxo2bIjRo0ervz958iTGjBmDTZs24dq1a2jWrBloObNSpUqZ17m7p+M+hRIwfIWWwIuHeXQClcDLwfCiwaPlRDIUQYoOmqFRBQ79f3x8PLp27Yr58+fDdc+LoDZy5EgFPAKfcRDMCF4ffvghunfvjgMHDqBp06a4cOECOnfujKtXr2LlypVqnZWWLe+4444c78nj4xwcvfQXWgKv4PCBDkt//igpBRv+qGfhtUbBhtmyoXGbxo0bY+PGjWovrHDhwgpeW7duRadOnfD666+jSpUq6lRXeBHUaOZEgJo3b15mxF26dMHq1atx7NgxhIeHK5AtX75czdKqVaumziOg0T3uueceda4BTLN7WiiFNGWTAlZBS+Bl0wAFqFndZ1SeyiDw8lQpm8/zBF607/Xpp58iOTkZxYoVU2D56aefcOjQIcTGxmZGmL3akJb/duzYAdo7o5laamoqSpcujfbt22Pu3LkKYNHR0WjdurVadnQ9evbsiQULFuDEiRMoXry423vaLI8074cCVkNL4OXHYAT40mABlZlsAq8Am8nd7TyBF828aF+KZkfGLOjy5cv45ZdfsjSbHV6zZ8/GU089ha+++gotW7ZUS4gErq+//hr3338/1q9fr5YMCYa1atXK0tauXbuwZcsWbN++XRWK0Dlm99RERgnDRQG7oCXw0tNmwQwqgZeD97xotlW2bFkFHZoJGfCiZ8GoCtH1yA4vKrMvV64cevfujZkzZ6q9MSoAoRkbXb906VJ06NAB9erVQ8WKFU0/mRMmTFDPnBG8zO6p58eZZ1R2Q0vglfe+4gYqgZeD4fXee++hb9++6n1yQ4YM8QpedHK7du0U5Pbt26cgSM+CEZDooKXHu+66Sz1DNnXq1Cw+oapDKt4oWLBgjvfM+4+zRBAoaAm8Aus1AZW53rJsGFgfur1bTsuGVPX32GOPKehQQQeVx3sz86JzjdnViBEjVFn9zp07M5cIL168qPa8ypcvn7kkaQTaokUL0NIhJUaaccnMSxPDBHB50F2POSYPu18PJaDy/PPF0X9av2GjV69eCiR0pKWl4Y8//lBFGlSg8cMPP6BmzZqZo+sOJGavh6K2CH5UCk9l7zTbcj3eeOMNENiGDx+Ofv36qee8ZsyYgenTp3s02/PccnKmVQoEeqaVPW6OycNKeAmo/PskcPSf1vByHc78+fPj7rvvBs1+qJS9du3aWUbbG3jRhX369MGcOXMwZcoU9SCz60GwGjt2LMaPH6/ARQfN8OLi4tSDymSUnGZ7/tlQrvZGgbyGlhErx+ThK7wEVN443LNzOfpPS3h5Nlz2n3X69GlVWUjGoAKOyMhI+28qd/BIAV2gJfDKebgEVB7Z2e+TBF5+SygNiAL2KqAbtARe/xtvAZW93s+pdYFX3mkvdxYFclRAV2hxhhftO2f/Ovrs3/Br9sWJYnXrFRB4Wa+ptCgK+KWA7tDiAK9AzKiMfWS/zOKwi33dMzTrpsDLYYMv4QavAk6BVrDBy1NQNWjQAJJ8ff/8WQ0bq9vzvWeBuVLbL6MMTPflLjoq4DRoORlenoLKbOnP6mRpdXs6ets1Jqv7a3V7TtBPqg11HyUm8TkVWk6Blz+gCsQyFcfkKzNX35ObzLx8106utEgBp0NLR3hZDSqBl0Vmd2nGalhb3Z71Pba2RYGXtXpKa14oECzQymt4BQJUAi8vjO3hqVbDxur2POxGnp0m8Moz6fneONigFUh45RWoBF7Wf16tho3V7VnfY2tbFHhZq6e0loMCwQotu+ClE6gEXtZ/tK2GjdXtWd9ja1sUeFmrp7RmokCwQ8sKeOkOKoGX9R9tq2FjdXvW99jaFgVe1uoprbkowAVa3sLLiaASeFn/0bYaNla3Z32PrW1Rwav/5HUZ1jYrremmwPQhzQIWEjdoucIrYCJrciMp9fZ9IKyGDcc3lCh4DezWxPdRkCu1VmDawu8QCHhxhZYx+LnNqOhbCerWrQt515/5x8XqZK71hxLXv8beSvjr3l874hN42aGqRm3aDS+O0BJQWW9wbsmcW3+tdwyuLxvKzMsOafVo0y54cYGWgCowPuaWzLn11w4XCbzsUFWjNq2GVzBDyxNQ0bIfLf+FhYVpNMrOD4VbMufWXzscKvCyQ1WN2rQKXsEGLQGVRiZluAck8PLffwIv/zXUugV/4RUM0BJQaW1RFRy3ZM6tv3Y4UOBlh6oatekrvJwKLU9BRct/oaGhGo0U71C4JXNu/bXD3QIvO1TVqE0zeI0fPx5lypRB3759b4jUSdASUGlkND9D4ZbMufXXT3uYXi7wskNVjdrMDq/ExERUr14dsbGx2L17d2akukNLQKWRqWwIhVsy59ZfGywjpfJ2iKpTm9nh1axZM3z//fegh2Y3bdoEHaEloNLJQYGJhVsy59ZfO1wkMy87VNWoTVd4xcXFYebMmTh37pyCV9OmTTF58mQMHTpU/cTExAQ8cgFVwCXX8obckjm3/tphOoGXHapq1KYBr1WrVqFTp05ITU1V0VGxQu/evTFmzJiAQUtApZExNAuFWzLn1l877CbwskNVjdokeMV1vhm1atXC2bNnMyMrWLAgChcujHnz5uHvf/+75RELqCyXNKgb5JbMufXXDvMKvOxQVaM2CV4r/9VT7W1dvXr1hshoBkbwWrZsmc9RC6h8lk4u/EsBbsmcW3/tMLrAyw5VNWqT4FUwYRWKFSuWJar4+HgsWrQIDzzwAB599FH06NHDo6hzAhXto9HzU8aPPEflkaRykjykLB7wQQGBlw+iOekSs+e83n77bQwYMADp6elqD4yWEM0OAZWTRtrZsXKbiXDrrx3uFHjZoapGbWaHV58+ffDxxx/j/PnzaNCggSqbp0NApdGgMQyFWzLn1l87LC3wskNVjdo04LV371506dIFu3btwuXLl9Vb0Vu3bo1SpUph27Zt6oeW+2TpT6PBYxQKt2TOrb92WFngZYeqGrVJ8KpwdQteeumlzDJ5Co8qDaOjozF8+HDZo9JovLiGwi2Zc+uvHb4WeNmhqkZtErzObpuDhQsXIjw8XC0XGkdERASmTp2KXr16aRSxhOJEBZKTk+HrDz3CQQ/OZ2RkOLHrPsUs8PJJtiwXCbz811DrFoxlQ0osa9euxWeffYbVq1criBkFG/R3Dz30kNb9kODsU8BX6LheR/8QioyMzPwpXrx4lv93/Z3Zn+l8gZd9YxyMLQu8gnFUXfrk7itRaA+MYDZ9+nTMmDEDzZs3D3IlgrN7doAnN9CYQcpfdbnNRLj1119/mF0v8LJDVY3a9PX7vDTqQtCGktfgMSBEiTSvD27JnFt/7fCXwMsOVTVqU+Blz2AIeKzVlVsy59Zfa91yvTWBlz+qpqcjJDUFGQUKICOsgD8t2XatwOtGaQU8ttnN54a5JXNu/fXZGDlc6De8QpLPospt5ZHvymUce2cBzrfpbEeclrVZ9PNPEN2rPZKf6IfjE9+63m5GBqrUjlH/3b/jCJA/v0f3K/jrdlRoWR+nhr+E08+PcXtNkW/WIKZbayRNfhfnuvS84byqNUrh0h31kPDxlx7d15uT3MErLS0N/fr1U4UbS5cu9abJPD3XV/BQNZtxLb0qy5t9HbNzdVhqy9OBsPjm3JI5t/5abBdrZl4Ri+ai7KDeqrELDz2KxPf1ToT50i6hSs2yuFa6LA5u3qviNiCU3L0Pjk96x2Od859IQsTH85B6d2Ncqt/QPbzWfYWYrq2QNGU2znW9sSw90PCaPXs2RowYgQsXLqBnz5549913Pe6zPyd6Ch5X0GS/RsDjzwjoey23ZM6tv3Y4z++ZFyXlQlt/UMm78IZvsH9XItKLRahYKbmXeXGw+n3arbVxvn03nG/bRf2u0M9bUeqVFxB2+BBSGt2L5CeexqV69yBy3rsgICZNex+Xq96MYisWofjsaTg+4fosqfSLA3G+XVeEr/0CYYcO4Ez/YWrJLupfryO9cBEkTXkPl2+plaNW0X27oOjKJTj4w++4UqkqSkyfiFLjX0TCfz5HaqN71Z/D16xGRmgYUhs2wamRY3GtREnE/r0JLrZohfynTiL/mVM4PTgOZQc+ieTHeuNctydR+MdNKDk+DmHxB3G55m041/kJnH+0E4r8Ba/Tg+JQ6OctKm76+1MjXgFCQpAFXunpiJrxBiI++kDNBC+0aouTL473eDaYveOuMy+qLhwyZAgOHjyoZlwFChTA7t27UaVKlVy95Q48OYFGwJOrrHLCXwpwS+bc+muH0f2CV/7TJ1H59ptwoXU7pDZpjjLDnsax6R/gfMfuKtabHrkXhbf+oBJwoS2bEJqUiMMrv8OVajejUv1q1+HQpPl1UBQshAPbD6LEtImImvoa4tdsRVrtOig+aypKvzQMR5b/93qbbZurcy/d1QCFv1+v2sgoXBhpNW5V8Ej9v2Y4svTrHLUq9snHKNevG45PmI7kns/gpnb3o+CuHdi/8ygiPnofZV54FhcffATpRYuh2JIFONvrWZx4fRqqxxREenhRhJxLVgA988zQ/y0bDh2NynUrXgfOo50Q/uVKhMUfwP5fE1Dw15/VzCsjNFT1t8DePQhNiEfie4tw4eH2WeAV+cHbKDNyAFIbNFH/CCBtzjw3HCfHvO7T+BO8+reKxqhRo7BmzZosDynXqFFDPaDsyYxIZjw+yS8XeagAt2TOrb8e2sCr0/yCF82SKNEfe3s+Uhveq5L3xfsfwtH5n6LAvt2o2KQ2znXqgaRp/0bB335F1ORxKunnP34MZUb2R9K/5qjZSbHl/0HR1ctxKu5VFFs8P1d40QyGzqU2Ij94R82YUpq1RKWGtyBfagoO/ByfowghFy+gyq3lkHLf33DsrXmocktpnG/XTcVT5NuvUWD/XiR36algGNPlIXVewsLV1+FVNAJH31+C1EZNM5cbac/r7FOD1Izx0p334Gp0eZQeNQi0v3b4s02gfUGCV3LPp3F8wgyEJiagcr3Kqu+0lOg686rQoh5CE4/i4Kbd9HXHiH2ggZrlEVjhQ0kzwevUlnexYsWKLK+HojfJR0VFqa9C8WT/R/Z4vPpcycleKsAtmXPrr5d28Oh0v+BFM5bCm77F6WH/wLWISERNeQ0hF86pRFv4p80o3+1hnHzpDTVDcT1KvRqHEm/9E/Ff/Yi02+/M8ruSE/6RBV4l3pmCUi8PzzLzOvHKJJztNxjGuYe++xWXq9dEhZZ3qcSvEn0uR/kn2qrYk6bOQXTvjgq4tCRY4I89KD1yAApv3oCMIuEIuXAeKffej4SPPlPwSml4LxKWrFGtZy/YIDhHzp+D0KOHca14FPKfPY3DqzeqmZra85r6XmbBRuU7KyO9SDgObdiZBV4EMoJd9uPPP86omaC3h7Fs+OGHH2LSpEk4dOiQmmnRUbRoUQW1+++/39tm5XxRwFIFuCVzbv211Cx/NeYzvGgJUC2TpaffEBfNJlIb36eWBk8PHqX2jEKPHUXRz5YjtX4jFPxthyryoOo6AgPtfxXathnnH+mIyPnvKSgdXrVBLQ2WGjcKJWa84Tm8jiWqpbrcjoiPP0TZgb2Qdtsdao+K9upo7+ym9i1QaMv3SPhoNdJq10WVWuVUXwx4EeCOzl1+A7xoufKmNvepmSXBtfictxSEXeF1euBInBo1DiEpF1GlRim1nHps1sIs8KrUoAbyXUrFkRXr1H6YcVy5qWKW/8+tf8bvs1cbbtiwAVOmTMEnn3wC+gBVrlwZ9LYNOUSBvFSAWzLn1l87vOUzvIq/Nx2lRw9RZeIX2nRSsYXGH1IzDFrCo6U8WjakmRiVpEcsnq+KJA5/uRlXomNQ5Y5YpDS+Ty23lXztRYQdTcD+nQkIp1L2p7oipfkDapajZnMpF72GV+TcWYicNwvHJ85UEMx+XC/xj0a+K1dwvsNjODZjrjol9qGGCDsSj8Ofb0LEf+YiatLYzP7QzMsdvNLq1lczTQL1xQceQXSPNgg7fFBBOOT8OaXLtZKlcWr4P1B480a1VHr8zVmq2MN12bDM8/0QuWCO2uO6XLUGysQNxOXqNXwuo3dXKp+QkACqOiSQbdy4Ebfddpsd/pI2RQGPFOCWzLn11yMTeHmSz/CKfbgxCv20GQe2HcTV6JjM29JsKzTxCA7sOILCG9ah3KDeah+K9mtU4cHo19S5VGlY4u3J6s+0fJY0Yy4utGpzfYmt84MotH0L0iOLI6VpSxT9dLHn8Eo6pp7VIuiUnDQ2cz/MTBcCClUCUnk/lfnTUWzZR6rwhIB5sfmDKLh3tyq0OPTdTlSrVNQtvM4MisNNpMnPW5EeEanOo7ZoFnq1XIyC18WWrVFkwzqlR+o9/4ej8z5RfXSFF+1vlXr5BRRdvUwtWV6pWAWJcxarGaIvhzyk7Itqck2gFeCWzLn11w4/+QwvT4OhJbCwg/txNSY2s4TeuDYk+Yzao7pStfoNb6jIf+qEgkBevLmC4EKzpWtlynnazczz1H5XmWgFPLODHubOf/oUrpaNzrFtioGWZq9UqOzTcqHRuLfwoi+qpBJ6OUSBQCrALZlz668dXrIdXnYELW16roAn8Dpz5oz6qpTFixerr0uhh5blO74811jO9F8BbsmcW3/9d8iNLQi87FBVozbdwev3339XwFq0aBG2bt2qKg+pCrFq1ar4448/NBPkpyUAAApjSURBVOqBhMJBAW7JnFt/7fCwwMsOVTVq0wxerVq1wrp169SXUdIyoXHQB2rLli2oV6+eRj2QUDgowC2Zc+uvHR4WeNmhqkZtmsFr6tSpePXVV3Hx4kXQC3rpoDdo0F5Xy5YtUatWrcyfm2++WaPeSCjBqgC3ZM6tv3b4VuBlh6oatelu2fDkyZPq7RrfffedekEvHV26dEHr1q2xa9cu/Pbbb+q/VFLvCjPjz5UqVdKolxKK0xXglsy59dcOfwq87FBVozZzK9igt27Qew+vXLmC2NhYxMdnfbUWvcDXABnBzAAb7Y+ZQa18+fIa9V5CcYoC3JI5t/7a4UOBlx2qatRmbvCiUNevX4/u3bsjKSkJ27dvx6233pprD06dOpVlhmaALSMjwxRqJUuWzLVNOYGvAtySObf+2uFsgZcdqmrUpifwonBp7+u+++7DggUL1CujfD0SExMV1FyXHunP4eHhplCjvTY5RAFuyZxbf+1wuMDLDlU1atNTeNkdMr0Q2AxqZcuWNYUavfVeDj4KcEvm3Pprh5MFXnaoqlGbusDLnST79u3LhJrrbI2eNzPbU6MPvRzBpwC3ZM6tv3Y4VuBlh6oatak7vMykon2z7MuO9P8EOjOgVa9eXSPFJRRfFOCWzLn11xdP5HaNwCs3hRz+eyfCy53ktC9ntvRI+2xmUKtYsaLDR49P+NySObf+2uFkgZcdqmrUZjDBy52sVM5vQM11xkZ/bwa16OicX4qs0fCxCYVbMufWXzuMLPCyQ1WN2swOLypxp3cXGj9r167Fo48+iueff16jqK0JxSjnzw42Kee3Rl8rW+GWzLn110qvGG0JvOxQVaM2CV6nt85W7yw8evQorl27hrCwMISGhoLeJh8SEoJXXnkFo0eP1ihqe0MhHbI/eE2Ao5cT00yNvpjTdcZGf5/bwbGQhP4RYNUh+vmnJEf9BF7+eUb7qwle8d9MwZdffpn5HkMjaALYwoUL0bFjR+37EYgADx48aFooQsuMZsuPrt97xu1f0tz6Gwj/+XMPbuNB/RV4+eMYB1xrLBvGxcVh2rRpSElJUVHTQ8O33HILBgwYgLZt2yIiIsIBvcmbEPfu3WtaKEJVjgbUxo4di507d6r/53BwS5a6jym38RB46e5IC+Jz3fNyBRjBi/5/27ZtWL58udr3atOmjYDMQ82Ncn5jP43e0k//GOBSzs8tWXpoizw7jdt4CLzyzGqBu3H2go2RI0di+vTpKFSoEGbNmoUOHTqot8oTwOhnxYoVAjIfhsdIHpcuXTLdTzt27FhQlfNzS5Y+WCKgl3AbD4FXQO2VNzczK5UngE2ePBn0X1rucj0EZL6NU27J49y5c6b7afSdamb7aeXKlfMtkABdlVt/AxSG3OYvBbiNh8CLgfXdPef14IMP4uGHH0b//v3dqiAg89wgviYP+l41swevqT0zqEVFRXkelI1n+tpfG0Ni3TS38RB4MbC7VQ8pC8hyNovVyYPK+c0evKa38JtBzZNyfivtbnV/rYyNY1vcxkPgxcDlVsErt6VFqlikgg+uVYuBSh5GOX92sHlSzm+l3QPVXytjDua2uI2HwCuY3fxX3+yAl4DsRuPkdfL4/fffTQtFatSoccNMzZMvG83to5HX/c0tPm6/5zYemfDiNtDc+jt9SLOAdNlsaZHLjEzH5JGenm66n/bnn3+aLj1Wq1bNY5/o2F+Pgw/CE7mNh4JXhpXveAlCU0iXfFOAG8iclDyonN9sPy0pKckUahUqVLjBBE7qr28OdtZV3MZD4OUsfzo2Wnq7Oz0/ZjxLZjwMHUx7ZMGQPIxy/uxgMyvnb9GiBeTfvfp8JIPBf96oKfDyRi051xIFghVkwZw8Tpw4ccN+2rfffouyZcuaztRKlChhiVekEc8VCGb/makg8PLcG3KmDQq4Axntk1FJuJMOjsnjyJEjpg9eR0ZGmkKNXkkmhz0KcPSf7HnZ4yVp1UsFnA4yjsnD3bLhgQMHTAtFYmJiTKFGX9Ejh38KcPSfwMs/z8jVNijgRJBxTB7e7nlROb9ZoYhd5fw2WFPbJjn6T+ClrR0lMFLAKSDjmDy8hZeZo+nLUc2+GHT//v2ZXwxKz6UZbxXxppyf0yeIo/8EXpwc7vC+6gwyjsnDCni5s2RqaqrpfhoVj5i9His2Ntbh7vYvfI7+E3j55xm5Oo8U0A1kHJOHnfByZ6vk5GTT/TSCnRnUqCKSw8HRfwIvDs4O8j7qADKOySMv4OXOyjQjM9tPy58/P4tyfo7+E3gFeWLn1j0CmfGlmvRf4/VUdpffc0weOsHLnc8TEhKyQI0AR3tswVbOz9F/Ai9u2Z1RfwMJMo7Jwwnwcmd3KggxKxShvTOz5cfQ0FCtPzkc/Sfw0tqSEpxVCtgNMo7Jw8nwcuerPXv2mBaK1KxZ8wao0d/pcnD0n8BLF/dJHAFTwA6QcUwewQgvd+X8Zvtp9DC22SytatWqAfOycSOO/hN4BdxmckOdFLAKZByTBxd4ufOrUc6fHWx5Uc7P0X8CL50yqcSSpwqYgcwo+MjtXYsckwd3eLkz69mzZ03309LS0kxnamXKlPHb9xz9J/Dy2zbSQDAq4C3IOCYPgZd3zj9+/Ljpfhq929Fs+bF48eIe34Cj/wReHttDTuSqgCcg45g8BF7WfCKMt/MbZfzGMiR9tYwZ1IoUKXLDjTn6T+Bljf+kFSYKuANZjx49WH05I7dkmRf2pnJ+s0IRs3L+OnXqsPOfwCsvXCn3DAoFDJAZD0VzmokIvPLOwkY5vyvY6M/c/CfwyjsPyp2DSAFuyZxbf3W3KrfxoP4KvHR3pcTnCAU4Jg9O/9LX3YQc/Sfw0t2VEp8jFOCYPARe+liTo/8EXvr4TyJxsAIck4fASx/DcvSfwEsf/0kkDlaAY/IQeOljWI7+E3jp4z+JxMEKcEweAi99DMvRfwIvffwnkThYAY7JQ+Clj2E5+k/gpY//JBIHK8AxeQi89DEsR/8JvPTxn0TiYAU4Jg+Blz6G5eg/gZc+/pNIHKwAx+Qh8NLHsBz9J/DSx38SiYMV4Jg8BF76GJaj/wRe+vhPInGwAhyTh8BLH8Ny9J/ASx//SSQOVoBj8hB46WNYjv4TeOnjP4nEwQpwTB4CL30My9F/Ai99/CeROFgBjslD4KWPYTn6T+Clj/8kEgcrwDF5CLz0MSxH/wm89PGfROJgBTgmD4GXPobl6D+Blz7+k0gcrADH5CHw0sewHP0n8NLHfxKJgxXgmDwEXvoYlqP/BF76+E8icbACHJOHwEsfw3L0n8BLH/9JJA5WgGPyEHjpY1iO/hN46eM/icTBCnBMHgIvfQzL0X8CL338J5E4WAGOyUPgpY9hOfpP4KWP/yQSByvAMXkIvPQxLEf/Cbz08Z9E4mAFOCYPgZc+huXoP4GXPv6TSBysAMfkIfDSx7Ac/Sfw0sd/EomDFeCYPARe+hiWo/8EXvr4TyJxsAIck4fASx/DcvSfwEsf/0kkDlaAY/IQeOljWI7+E3jp4z+JxMEKUPLgdgi89Blxjv77f5WyGuWwDJguAAAAAElFTkSuQmCC)\n",
        "\n",
        "Os Accumulators são uma forma segura e eficiente de atualizar uma um valor ao longo de transformações e propagar esse valor para o Driver da aplicação. O Spark suporta nativamente acumuladores numéricos em que é possível contar ou somar valores\n",
        "\n",
        "Obs.: Os Accumulators só são de fato executados quando ocorre uma ação devido ao conceito de *Lazy Evaluation*.\n",
        "\n",
        "##### Criando o Accumulator\n",
        "O acumulador irá contar a quantidade de linhas que contém a Platform \"Wii\" "
      ]
    },
    {
      "cell_type": "code",
      "metadata": {
        "id": "sKuOdzIM46NR",
        "colab": {
          "base_uri": "https://localhost:8080/"
        },
        "outputId": "e98036c7-42f7-487f-c6a6-6879259ad1f7"
      },
      "source": [
        "acc_wii = sc.accumulator(0)\n",
        "acc_wii"
      ],
      "execution_count": null,
      "outputs": [
        {
          "output_type": "execute_result",
          "data": {
            "text/plain": [
              "Accumulator<id=0, value=0>"
            ]
          },
          "metadata": {
            "tags": []
          },
          "execution_count": 208
        }
      ]
    },
    {
      "cell_type": "markdown",
      "metadata": {
        "id": "zrcNLhE24ArK"
      },
      "source": [
        "##### Carregando o dataset em um Dataframe"
      ]
    },
    {
      "cell_type": "code",
      "metadata": {
        "id": "qaZiUWx230RK"
      },
      "source": [
        "data_dir = \"vgsales.csv\"\n",
        "\n",
        "df = spark.read.load(data_dir, format=\"csv\", inferSchema=\"true\", header=\"true\")"
      ],
      "execution_count": null,
      "outputs": []
    },
    {
      "cell_type": "code",
      "metadata": {
        "id": "vXCBlPyT4DDN",
        "colab": {
          "base_uri": "https://localhost:8080/"
        },
        "outputId": "77a357fa-3cbd-4333-d919-f8e5a7f3f54c"
      },
      "source": [
        "df.show()"
      ],
      "execution_count": null,
      "outputs": [
        {
          "output_type": "stream",
          "text": [
            "+----+--------------------+--------+----+------------+--------------------+--------+--------+--------+-----------+------------+\n",
            "|Rank|                Name|Platform|Year|       Genre|           Publisher|NA_Sales|EU_Sales|JP_Sales|Other_Sales|Global_Sales|\n",
            "+----+--------------------+--------+----+------------+--------------------+--------+--------+--------+-----------+------------+\n",
            "|   1|          Wii Sports|     Wii|2006|      Sports|            Nintendo|   41.49|   29.02|    3.77|       8.46|       82.74|\n",
            "|   2|   Super Mario Bros.|     NES|1985|    Platform|            Nintendo|   29.08|    3.58|    6.81|       0.77|       40.24|\n",
            "|   3|      Mario Kart Wii|     Wii|2008|      Racing|            Nintendo|   15.85|   12.88|    3.79|       3.31|       35.82|\n",
            "|   4|   Wii Sports Resort|     Wii|2009|      Sports|            Nintendo|   15.75|   11.01|    3.28|       2.96|        33.0|\n",
            "|   5|Pokemon Red/Pokem...|      GB|1996|Role-Playing|            Nintendo|   11.27|    8.89|   10.22|        1.0|       31.37|\n",
            "|   6|              Tetris|      GB|1989|      Puzzle|            Nintendo|    23.2|    2.26|    4.22|       0.58|       30.26|\n",
            "|   7|New Super Mario B...|      DS|2006|    Platform|            Nintendo|   11.38|    9.23|     6.5|        2.9|       30.01|\n",
            "|   8|            Wii Play|     Wii|2006|        Misc|            Nintendo|   14.03|     9.2|    2.93|       2.85|       29.02|\n",
            "|   9|New Super Mario B...|     Wii|2009|    Platform|            Nintendo|   14.59|    7.06|     4.7|       2.26|       28.62|\n",
            "|  10|           Duck Hunt|     NES|1984|     Shooter|            Nintendo|   26.93|    0.63|    0.28|       0.47|       28.31|\n",
            "|  11|          Nintendogs|      DS|2005|  Simulation|            Nintendo|    9.07|    11.0|    1.93|       2.75|       24.76|\n",
            "|  12|       Mario Kart DS|      DS|2005|      Racing|            Nintendo|    9.81|    7.57|    4.13|       1.92|       23.42|\n",
            "|  13|Pokemon Gold/Poke...|      GB|1999|Role-Playing|            Nintendo|     9.0|    6.18|     7.2|       0.71|        23.1|\n",
            "|  14|             Wii Fit|     Wii|2007|      Sports|            Nintendo|    8.94|    8.03|     3.6|       2.15|       22.72|\n",
            "|  15|        Wii Fit Plus|     Wii|2009|      Sports|            Nintendo|    9.09|    8.59|    2.53|       1.79|        22.0|\n",
            "|  16|  Kinect Adventures!|    X360|2010|        Misc|Microsoft Game St...|   14.97|    4.94|    0.24|       1.67|       21.82|\n",
            "|  17|  Grand Theft Auto V|     PS3|2013|      Action|Take-Two Interactive|    7.01|    9.27|    0.97|       4.14|        21.4|\n",
            "|  18|Grand Theft Auto:...|     PS2|2004|      Action|Take-Two Interactive|    9.43|     0.4|    0.41|      10.57|       20.81|\n",
            "|  19|   Super Mario World|    SNES|1990|    Platform|            Nintendo|   12.78|    3.75|    3.54|       0.55|       20.61|\n",
            "|  20|Brain Age: Train ...|      DS|2005|        Misc|            Nintendo|    4.75|    9.26|    4.16|       2.05|       20.22|\n",
            "+----+--------------------+--------+----+------------+--------------------+--------+--------+--------+-----------+------------+\n",
            "only showing top 20 rows\n",
            "\n"
          ],
          "name": "stdout"
        }
      ]
    },
    {
      "cell_type": "markdown",
      "metadata": {
        "id": "huQMfKGa4HVI"
      },
      "source": [
        "##### Definindo a função para incrementar o acumulador"
      ]
    },
    {
      "cell_type": "code",
      "metadata": {
        "id": "DnSyASHS4Fdr"
      },
      "source": [
        "#não rodar\n",
        "def acc_wii_platform(row):\n",
        "  platform = row[\"Platform\"]\n",
        "  if platform == \"Wii\":\n",
        "    acc_wii.add(1)"
      ],
      "execution_count": null,
      "outputs": []
    },
    {
      "cell_type": "markdown",
      "metadata": {
        "id": "8m8Sj2ot4KkA"
      },
      "source": [
        "##### Usando o acumulador"
      ]
    },
    {
      "cell_type": "code",
      "metadata": {
        "id": "UbpksB214JGZ"
      },
      "source": [
        "rdd2 = df.rdd.map(lambda row: acc_wii_platform(row))\n",
        "a = rdd2.collect()"
      ],
      "execution_count": null,
      "outputs": []
    },
    {
      "cell_type": "code",
      "metadata": {
        "id": "DasUZdjz4Ozb"
      },
      "source": [
        "df.foreach(lambda row: acc_wii_platform(row))"
      ],
      "execution_count": null,
      "outputs": []
    },
    {
      "cell_type": "code",
      "metadata": {
        "id": "8wFZorfq4eim",
        "colab": {
          "base_uri": "https://localhost:8080/"
        },
        "outputId": "8b2f2ea2-b776-4b2a-bbff-9cb38d2dc00c"
      },
      "source": [
        "acc_wii.value"
      ],
      "execution_count": null,
      "outputs": [
        {
          "output_type": "execute_result",
          "data": {
            "text/plain": [
              "2650"
            ]
          },
          "metadata": {
            "tags": []
          },
          "execution_count": 214
        }
      ]
    },
    {
      "cell_type": "markdown",
      "metadata": {
        "id": "KSWvIetP5B6t"
      },
      "source": [
        "# Exercícios \n",
        "\n",
        "Utilize o RDD abaixo para realizar as questões\n",
        "\n",
        "1) Realize o output do RDD em uma partição no formato de texto."
      ]
    },
    {
      "cell_type": "code",
      "metadata": {
        "id": "CSQR9I-y5Caf"
      },
      "source": [
        "text = \"At a high level, every Spark application consists of a driver program that runs the user’s main function and executes various parallel operations on a cluster. The main abstraction Spark provides is a resilient distributed dataset (RDD), which is a collection of elements partitioned across the nodes of the cluster that can be operated on in parallel. RDDs are created by starting with a file in the Hadoop file system (or any other Hadoop-supported file system), or an existing Scala collection in the driver program, and transforming it. Users may also ask Spark to persist an RDD in memory, allowing it to be reused efficiently across parallel operations. Finally, RDDs automatically recover from node failures. A second abstraction in Spark is shared variables that can be used in parallel operations. By default, when Spark runs a function in parallel as a set of tasks on different nodes, it ships a copy of each variable used in the function to each task. Sometimes, a variable needs to be shared across tasks, or between tasks and the driver program. Spark supports two types of shared variables: broadcast variables, which can be used to cache a value in memory on all nodes, and accumulators, which are variables that are only added to, such as counters and sums\"\n",
        "words = text.split(\" \")"
      ],
      "execution_count": null,
      "outputs": []
    },
    {
      "cell_type": "code",
      "metadata": {
        "id": "QoeI79AD5ibL"
      },
      "source": [
        "words_rdd = sc.parallelize(words)"
      ],
      "execution_count": null,
      "outputs": []
    },
    {
      "cell_type": "code",
      "metadata": {
        "id": "keWIG0fY5kPm"
      },
      "source": [
        "words_rdd.collect()"
      ],
      "execution_count": null,
      "outputs": []
    },
    {
      "cell_type": "code",
      "metadata": {
        "id": "7Z0l79Lh5qy2"
      },
      "source": [
        "words_rdd \\\n",
        "    .repartition(2) \\\n",
        "    .saveAsTextFile(\"./output/words_txt_ex\")"
      ],
      "execution_count": null,
      "outputs": []
    },
    {
      "cell_type": "code",
      "metadata": {
        "id": "pG9oi6hF50Fc",
        "colab": {
          "base_uri": "https://localhost:8080/"
        },
        "outputId": "edc9f49a-6e4f-4260-e473-9fe40e491806"
      },
      "source": [
        "!ls ./output/words_txt_ex"
      ],
      "execution_count": null,
      "outputs": [
        {
          "output_type": "stream",
          "text": [
            "part-00000  part-00001\t_SUCCESS\n"
          ],
          "name": "stdout"
        }
      ]
    },
    {
      "cell_type": "code",
      "metadata": {
        "id": "0LWoXaI652fW",
        "colab": {
          "base_uri": "https://localhost:8080/"
        },
        "outputId": "ae2ea3a0-eed1-4244-cd23-a163eebc2caa"
      },
      "source": [
        "!head -n 5 ./output/words_txt_ex/part-00000"
      ],
      "execution_count": null,
      "outputs": [
        {
          "output_type": "stream",
          "text": [
            "At\n",
            "a\n",
            "high\n",
            "level,\n",
            "every\n"
          ],
          "name": "stdout"
        }
      ]
    },
    {
      "cell_type": "code",
      "metadata": {
        "id": "S9f1AhXD-HWc"
      },
      "source": [
        "#versão do professor\n",
        "\n",
        "rdd = sc.parallelize(words)\n",
        "\n",
        "rdd.coalesce(1)\\\n",
        "  .saveAsTextFile('./output/words')"
      ],
      "execution_count": null,
      "outputs": []
    },
    {
      "cell_type": "markdown",
      "metadata": {
        "id": "MZE8UBjX6CBG"
      },
      "source": [
        "2) Utilizando o dicionário de pesos abaixo:"
      ]
    },
    {
      "cell_type": "code",
      "metadata": {
        "id": "L8SrRqDD6ClG"
      },
      "source": [
        "weights_words = {\n",
        "    \"spark\": 1000,\n",
        "    \"parallel\": 500,\n",
        "    \"function\": 300,\n",
        "    \"driver\": 400\n",
        "}\n",
        "\n",
        "rdd = sc.parallelize(weights_words)"
      ],
      "execution_count": null,
      "outputs": []
    },
    {
      "cell_type": "markdown",
      "metadata": {
        "id": "CH5KrNbP6GKj"
      },
      "source": [
        "Escreva um RDD que mostre a palavra, a quantidade de vezes que aquela palavra se repete e o peso dela, dado o RDD de pesos acima:"
      ]
    },
    {
      "cell_type": "code",
      "metadata": {
        "id": "HDuWH_3M7w5w"
      },
      "source": [
        "text = \"At a high level, every Spark application consists of a driver program that runs the user’s main function and executes various parallel operations on a cluster. The main abstraction Spark provides is a resilient distributed dataset (RDD), which is a collection of elements partitioned across the nodes of the cluster that can be operated on in parallel. RDDs are created by starting with a file in the Hadoop file system (or any other Hadoop-supported file system), or an existing Scala collection in the driver program, and transforming it. Users may also ask Spark to persist an RDD in memory, allowing it to be reused efficiently across parallel operations. Finally, RDDs automatically recover from node failures. A second abstraction in Spark is shared variables that can be used in parallel operations. By default, when Spark runs a function in parallel as a set of tasks on different nodes, it ships a copy of each variable used in the function to each task. Sometimes, a variable needs to be shared across tasks, or between tasks and the driver program. Spark supports two types of shared variables: broadcast variables, which can be used to cache a value in memory on all nodes, and accumulators, which are variables that are only added to, such as counters and sums\"\n",
        "words = text.split(\" \")"
      ],
      "execution_count": null,
      "outputs": []
    },
    {
      "cell_type": "code",
      "metadata": {
        "id": "pfJf3R4T7zsU"
      },
      "source": [
        "words_rdd = sc.parallelize(words)"
      ],
      "execution_count": null,
      "outputs": []
    },
    {
      "cell_type": "code",
      "metadata": {
        "id": "gz2apI2w84Ep",
        "colab": {
          "base_uri": "https://localhost:8080/"
        },
        "outputId": "d3376a19-fa51-4a1a-f84c-849c9c49dd3b"
      },
      "source": [
        "#verificar a versão do professor\n",
        "word_count = words_rdd \\\n",
        "  .map(lambda x: (x, 1)) \\\n",
        "  .reduceByKey(lambda x, y: x + y)\\\n",
        "  .sortBy(lambda x: x[1]* -1)\n",
        "\n",
        "word_count.take(10)\n",
        "\n"
      ],
      "execution_count": null,
      "outputs": [
        {
          "output_type": "execute_result",
          "data": {
            "text/plain": [
              "[('a', 11),\n",
              " ('in', 9),\n",
              " ('the', 7),\n",
              " ('Spark', 6),\n",
              " ('of', 6),\n",
              " ('and', 5),\n",
              " ('be', 5),\n",
              " ('to', 5),\n",
              " ('parallel', 4),\n",
              " ('that', 4)]"
            ]
          },
          "metadata": {
            "tags": []
          },
          "execution_count": 226
        }
      ]
    },
    {
      "cell_type": "code",
      "metadata": {
        "id": "mugX-UCU6ZE1"
      },
      "source": [
        "weights_broadcast.value"
      ],
      "execution_count": null,
      "outputs": []
    },
    {
      "cell_type": "code",
      "metadata": {
        "id": "hWjFTzEm6QkO"
      },
      "source": [
        "#definindo a variável de broadcast\n",
        "weights_broadcast = sc.broadcast(weights_words)"
      ],
      "execution_count": null,
      "outputs": []
    },
    {
      "cell_type": "code",
      "metadata": {
        "id": "jvUY8CjVCLy3",
        "colab": {
          "base_uri": "https://localhost:8080/"
        },
        "outputId": "6da6e078-c3b3-4047-cc35-89d5891e35bb"
      },
      "source": [
        "word_count.map(lambda line: (line[0], line[1],weights_broadcast.value.get(line[0],-1))).take(10)"
      ],
      "execution_count": null,
      "outputs": [
        {
          "output_type": "execute_result",
          "data": {
            "text/plain": [
              "[('a', 11, -1),\n",
              " ('in', 9, -1),\n",
              " ('the', 7, -1),\n",
              " ('Spark', 6, -1),\n",
              " ('of', 6, -1),\n",
              " ('and', 5, -1),\n",
              " ('be', 5, -1),\n",
              " ('to', 5, -1),\n",
              " ('parallel', 4, 500),\n",
              " ('that', 4, -1)]"
            ]
          },
          "metadata": {
            "tags": []
          },
          "execution_count": 229
        }
      ]
    },
    {
      "cell_type": "markdown",
      "metadata": {
        "id": "5nx4Q-1n7O5y"
      },
      "source": [
        "3) Escreva um código que conte a quantidade de linhas totais no RDD utilizando os accumulators"
      ]
    },
    {
      "cell_type": "code",
      "metadata": {
        "id": "Y_UIfYVf6nxQ",
        "colab": {
          "base_uri": "https://localhost:8080/"
        },
        "outputId": "693d15be-f61c-4aaa-cc4a-6b97e7e63dd3"
      },
      "source": [
        "#versão do professor\n",
        "acc_counter = sc.accumulator(0)\n",
        "\n",
        "words_rdd.foreach(lambda row: acc_counter.add(1))\n",
        "\n",
        "acc_counter.value"
      ],
      "execution_count": null,
      "outputs": [
        {
          "output_type": "execute_result",
          "data": {
            "text/plain": [
              "214"
            ]
          },
          "metadata": {
            "tags": []
          },
          "execution_count": 230
        }
      ]
    },
    {
      "cell_type": "code",
      "metadata": {
        "id": "ETjaExBrEeWn",
        "colab": {
          "base_uri": "https://localhost:8080/"
        },
        "outputId": "d5d2525c-a369-4303-9b1b-39fa21f9634e"
      },
      "source": [
        "words_rdd.count()"
      ],
      "execution_count": null,
      "outputs": [
        {
          "output_type": "execute_result",
          "data": {
            "text/plain": [
              "214"
            ]
          },
          "metadata": {
            "tags": []
          },
          "execution_count": 231
        }
      ]
    },
    {
      "cell_type": "markdown",
      "metadata": {
        "id": "C2W-9FqQmjK2"
      },
      "source": [
        "# Questões de revisão"
      ]
    },
    {
      "cell_type": "markdown",
      "metadata": {
        "id": "af-oAwUOmrku"
      },
      "source": [
        "# Questão 1\n",
        "Utilizando o dataset vgsales:\n",
        "\n",
        "https://www.kaggle.com/gregorut/videogamesales/data.\n",
        "\n",
        "Recupere a quantidade de vendas globais (Global_Sales) da plataforma PS4, agrupado por gênero (Genre) entre os anos 2013 a 2019:\n",
        "\n",
        "Obs.: realizar duas transformações. A primeira utilizando SparkSQL e a segunda utilizando PySpark."
      ]
    },
    {
      "cell_type": "code",
      "metadata": {
        "id": "wEI4Ym3FEglK"
      },
      "source": [
        "data_vgsales = \"vgsales1.csv\""
      ],
      "execution_count": null,
      "outputs": []
    },
    {
      "cell_type": "code",
      "metadata": {
        "id": "IMns9MpwpnoS"
      },
      "source": [
        "df_vgsales = spark.read.load(data_vgsales, format=\"csv\", inferSchema=\"true\", header=\"true\")"
      ],
      "execution_count": null,
      "outputs": []
    },
    {
      "cell_type": "code",
      "metadata": {
        "id": "BjZ55CjOqesP",
        "colab": {
          "base_uri": "https://localhost:8080/"
        },
        "outputId": "b0b4cf53-1c11-4596-b380-1b21a6a807ce"
      },
      "source": [
        "df_vgsales.printSchema()"
      ],
      "execution_count": null,
      "outputs": [
        {
          "output_type": "stream",
          "text": [
            "root\n",
            " |-- Rank: integer (nullable = true)\n",
            " |-- Name: string (nullable = true)\n",
            " |-- Platform: string (nullable = true)\n",
            " |-- Year: string (nullable = true)\n",
            " |-- Genre: string (nullable = true)\n",
            " |-- Publisher: string (nullable = true)\n",
            " |-- NA_Sales: double (nullable = true)\n",
            " |-- EU_Sales: double (nullable = true)\n",
            " |-- JP_Sales: double (nullable = true)\n",
            " |-- Other_Sales: double (nullable = true)\n",
            " |-- Global_Sales: double (nullable = true)\n",
            "\n"
          ],
          "name": "stdout"
        }
      ]
    },
    {
      "cell_type": "code",
      "metadata": {
        "id": "1VQqPrWSqrTd",
        "colab": {
          "base_uri": "https://localhost:8080/"
        },
        "outputId": "3ab4fcda-c22b-4911-fb2b-c8035d5a3114"
      },
      "source": [
        "df_vgsales.show(10)"
      ],
      "execution_count": null,
      "outputs": [
        {
          "output_type": "stream",
          "text": [
            "+----+--------------------+--------+----+------------+---------+--------+--------+--------+-----------+------------+\n",
            "|Rank|                Name|Platform|Year|       Genre|Publisher|NA_Sales|EU_Sales|JP_Sales|Other_Sales|Global_Sales|\n",
            "+----+--------------------+--------+----+------------+---------+--------+--------+--------+-----------+------------+\n",
            "|   1|          Wii Sports|     Wii|2006|      Sports| Nintendo|   41.49|   29.02|    3.77|       8.46|       82.74|\n",
            "|   2|   Super Mario Bros.|     NES|1985|    Platform| Nintendo|   29.08|    3.58|    6.81|       0.77|       40.24|\n",
            "|   3|      Mario Kart Wii|     Wii|2008|      Racing| Nintendo|   15.85|   12.88|    3.79|       3.31|       35.82|\n",
            "|   4|   Wii Sports Resort|     Wii|2009|      Sports| Nintendo|   15.75|   11.01|    3.28|       2.96|        33.0|\n",
            "|   5|Pokemon Red/Pokem...|      GB|1996|Role-Playing| Nintendo|   11.27|    8.89|   10.22|        1.0|       31.37|\n",
            "|   6|              Tetris|      GB|1989|      Puzzle| Nintendo|    23.2|    2.26|    4.22|       0.58|       30.26|\n",
            "|   7|New Super Mario B...|      DS|2006|    Platform| Nintendo|   11.38|    9.23|     6.5|        2.9|       30.01|\n",
            "|   8|            Wii Play|     Wii|2006|        Misc| Nintendo|   14.03|     9.2|    2.93|       2.85|       29.02|\n",
            "|   9|New Super Mario B...|     Wii|2009|    Platform| Nintendo|   14.59|    7.06|     4.7|       2.26|       28.62|\n",
            "|  10|           Duck Hunt|     NES|1984|     Shooter| Nintendo|   26.93|    0.63|    0.28|       0.47|       28.31|\n",
            "+----+--------------------+--------+----+------------+---------+--------+--------+--------+-----------+------------+\n",
            "only showing top 10 rows\n",
            "\n"
          ],
          "name": "stdout"
        }
      ]
    },
    {
      "cell_type": "code",
      "metadata": {
        "id": "Y6v9t0Z4q5pO",
        "colab": {
          "base_uri": "https://localhost:8080/",
          "height": 1000
        },
        "outputId": "ea53f35e-5134-4bf4-bb24-c320748dae7f"
      },
      "source": [
        "def display_df(df_vgsales, n=20):\n",
        "    return df.limit(n).toPandas()\n",
        "\n",
        "display_df(df)\n",
        "#df.show()"
      ],
      "execution_count": null,
      "outputs": [
        {
          "output_type": "execute_result",
          "data": {
            "text/html": [
              "<div>\n",
              "<style scoped>\n",
              "    .dataframe tbody tr th:only-of-type {\n",
              "        vertical-align: middle;\n",
              "    }\n",
              "\n",
              "    .dataframe tbody tr th {\n",
              "        vertical-align: top;\n",
              "    }\n",
              "\n",
              "    .dataframe thead th {\n",
              "        text-align: right;\n",
              "    }\n",
              "</style>\n",
              "<table border=\"1\" class=\"dataframe\">\n",
              "  <thead>\n",
              "    <tr style=\"text-align: right;\">\n",
              "      <th></th>\n",
              "      <th>Rank</th>\n",
              "      <th>Name</th>\n",
              "      <th>Platform</th>\n",
              "      <th>Year</th>\n",
              "      <th>Genre</th>\n",
              "      <th>Publisher</th>\n",
              "      <th>NA_Sales</th>\n",
              "      <th>EU_Sales</th>\n",
              "      <th>JP_Sales</th>\n",
              "      <th>Other_Sales</th>\n",
              "      <th>Global_Sales</th>\n",
              "    </tr>\n",
              "  </thead>\n",
              "  <tbody>\n",
              "    <tr>\n",
              "      <th>0</th>\n",
              "      <td>1</td>\n",
              "      <td>Wii Sports</td>\n",
              "      <td>Wii</td>\n",
              "      <td>2006</td>\n",
              "      <td>Sports</td>\n",
              "      <td>Nintendo</td>\n",
              "      <td>41.49</td>\n",
              "      <td>29.02</td>\n",
              "      <td>3.77</td>\n",
              "      <td>8.46</td>\n",
              "      <td>82.74</td>\n",
              "    </tr>\n",
              "    <tr>\n",
              "      <th>1</th>\n",
              "      <td>2</td>\n",
              "      <td>Super Mario Bros.</td>\n",
              "      <td>NES</td>\n",
              "      <td>1985</td>\n",
              "      <td>Platform</td>\n",
              "      <td>Nintendo</td>\n",
              "      <td>29.08</td>\n",
              "      <td>3.58</td>\n",
              "      <td>6.81</td>\n",
              "      <td>0.77</td>\n",
              "      <td>40.24</td>\n",
              "    </tr>\n",
              "    <tr>\n",
              "      <th>2</th>\n",
              "      <td>3</td>\n",
              "      <td>Mario Kart Wii</td>\n",
              "      <td>Wii</td>\n",
              "      <td>2008</td>\n",
              "      <td>Racing</td>\n",
              "      <td>Nintendo</td>\n",
              "      <td>15.85</td>\n",
              "      <td>12.88</td>\n",
              "      <td>3.79</td>\n",
              "      <td>3.31</td>\n",
              "      <td>35.82</td>\n",
              "    </tr>\n",
              "    <tr>\n",
              "      <th>3</th>\n",
              "      <td>4</td>\n",
              "      <td>Wii Sports Resort</td>\n",
              "      <td>Wii</td>\n",
              "      <td>2009</td>\n",
              "      <td>Sports</td>\n",
              "      <td>Nintendo</td>\n",
              "      <td>15.75</td>\n",
              "      <td>11.01</td>\n",
              "      <td>3.28</td>\n",
              "      <td>2.96</td>\n",
              "      <td>33.00</td>\n",
              "    </tr>\n",
              "    <tr>\n",
              "      <th>4</th>\n",
              "      <td>5</td>\n",
              "      <td>Pokemon Red/Pokemon Blue</td>\n",
              "      <td>GB</td>\n",
              "      <td>1996</td>\n",
              "      <td>Role-Playing</td>\n",
              "      <td>Nintendo</td>\n",
              "      <td>11.27</td>\n",
              "      <td>8.89</td>\n",
              "      <td>10.22</td>\n",
              "      <td>1.00</td>\n",
              "      <td>31.37</td>\n",
              "    </tr>\n",
              "    <tr>\n",
              "      <th>5</th>\n",
              "      <td>6</td>\n",
              "      <td>Tetris</td>\n",
              "      <td>GB</td>\n",
              "      <td>1989</td>\n",
              "      <td>Puzzle</td>\n",
              "      <td>Nintendo</td>\n",
              "      <td>23.20</td>\n",
              "      <td>2.26</td>\n",
              "      <td>4.22</td>\n",
              "      <td>0.58</td>\n",
              "      <td>30.26</td>\n",
              "    </tr>\n",
              "    <tr>\n",
              "      <th>6</th>\n",
              "      <td>7</td>\n",
              "      <td>New Super Mario Bros.</td>\n",
              "      <td>DS</td>\n",
              "      <td>2006</td>\n",
              "      <td>Platform</td>\n",
              "      <td>Nintendo</td>\n",
              "      <td>11.38</td>\n",
              "      <td>9.23</td>\n",
              "      <td>6.50</td>\n",
              "      <td>2.90</td>\n",
              "      <td>30.01</td>\n",
              "    </tr>\n",
              "    <tr>\n",
              "      <th>7</th>\n",
              "      <td>8</td>\n",
              "      <td>Wii Play</td>\n",
              "      <td>Wii</td>\n",
              "      <td>2006</td>\n",
              "      <td>Misc</td>\n",
              "      <td>Nintendo</td>\n",
              "      <td>14.03</td>\n",
              "      <td>9.20</td>\n",
              "      <td>2.93</td>\n",
              "      <td>2.85</td>\n",
              "      <td>29.02</td>\n",
              "    </tr>\n",
              "    <tr>\n",
              "      <th>8</th>\n",
              "      <td>9</td>\n",
              "      <td>New Super Mario Bros. Wii</td>\n",
              "      <td>Wii</td>\n",
              "      <td>2009</td>\n",
              "      <td>Platform</td>\n",
              "      <td>Nintendo</td>\n",
              "      <td>14.59</td>\n",
              "      <td>7.06</td>\n",
              "      <td>4.70</td>\n",
              "      <td>2.26</td>\n",
              "      <td>28.62</td>\n",
              "    </tr>\n",
              "    <tr>\n",
              "      <th>9</th>\n",
              "      <td>10</td>\n",
              "      <td>Duck Hunt</td>\n",
              "      <td>NES</td>\n",
              "      <td>1984</td>\n",
              "      <td>Shooter</td>\n",
              "      <td>Nintendo</td>\n",
              "      <td>26.93</td>\n",
              "      <td>0.63</td>\n",
              "      <td>0.28</td>\n",
              "      <td>0.47</td>\n",
              "      <td>28.31</td>\n",
              "    </tr>\n",
              "    <tr>\n",
              "      <th>10</th>\n",
              "      <td>11</td>\n",
              "      <td>Nintendogs</td>\n",
              "      <td>DS</td>\n",
              "      <td>2005</td>\n",
              "      <td>Simulation</td>\n",
              "      <td>Nintendo</td>\n",
              "      <td>9.07</td>\n",
              "      <td>11.00</td>\n",
              "      <td>1.93</td>\n",
              "      <td>2.75</td>\n",
              "      <td>24.76</td>\n",
              "    </tr>\n",
              "    <tr>\n",
              "      <th>11</th>\n",
              "      <td>12</td>\n",
              "      <td>Mario Kart DS</td>\n",
              "      <td>DS</td>\n",
              "      <td>2005</td>\n",
              "      <td>Racing</td>\n",
              "      <td>Nintendo</td>\n",
              "      <td>9.81</td>\n",
              "      <td>7.57</td>\n",
              "      <td>4.13</td>\n",
              "      <td>1.92</td>\n",
              "      <td>23.42</td>\n",
              "    </tr>\n",
              "    <tr>\n",
              "      <th>12</th>\n",
              "      <td>13</td>\n",
              "      <td>Pokemon Gold/Pokemon Silver</td>\n",
              "      <td>GB</td>\n",
              "      <td>1999</td>\n",
              "      <td>Role-Playing</td>\n",
              "      <td>Nintendo</td>\n",
              "      <td>9.00</td>\n",
              "      <td>6.18</td>\n",
              "      <td>7.20</td>\n",
              "      <td>0.71</td>\n",
              "      <td>23.10</td>\n",
              "    </tr>\n",
              "    <tr>\n",
              "      <th>13</th>\n",
              "      <td>14</td>\n",
              "      <td>Wii Fit</td>\n",
              "      <td>Wii</td>\n",
              "      <td>2007</td>\n",
              "      <td>Sports</td>\n",
              "      <td>Nintendo</td>\n",
              "      <td>8.94</td>\n",
              "      <td>8.03</td>\n",
              "      <td>3.60</td>\n",
              "      <td>2.15</td>\n",
              "      <td>22.72</td>\n",
              "    </tr>\n",
              "    <tr>\n",
              "      <th>14</th>\n",
              "      <td>15</td>\n",
              "      <td>Wii Fit Plus</td>\n",
              "      <td>Wii</td>\n",
              "      <td>2009</td>\n",
              "      <td>Sports</td>\n",
              "      <td>Nintendo</td>\n",
              "      <td>9.09</td>\n",
              "      <td>8.59</td>\n",
              "      <td>2.53</td>\n",
              "      <td>1.79</td>\n",
              "      <td>22.00</td>\n",
              "    </tr>\n",
              "    <tr>\n",
              "      <th>15</th>\n",
              "      <td>16</td>\n",
              "      <td>Kinect Adventures!</td>\n",
              "      <td>X360</td>\n",
              "      <td>2010</td>\n",
              "      <td>Misc</td>\n",
              "      <td>Microsoft Game Studios</td>\n",
              "      <td>14.97</td>\n",
              "      <td>4.94</td>\n",
              "      <td>0.24</td>\n",
              "      <td>1.67</td>\n",
              "      <td>21.82</td>\n",
              "    </tr>\n",
              "    <tr>\n",
              "      <th>16</th>\n",
              "      <td>17</td>\n",
              "      <td>Grand Theft Auto V</td>\n",
              "      <td>PS3</td>\n",
              "      <td>2013</td>\n",
              "      <td>Action</td>\n",
              "      <td>Take-Two Interactive</td>\n",
              "      <td>7.01</td>\n",
              "      <td>9.27</td>\n",
              "      <td>0.97</td>\n",
              "      <td>4.14</td>\n",
              "      <td>21.40</td>\n",
              "    </tr>\n",
              "    <tr>\n",
              "      <th>17</th>\n",
              "      <td>18</td>\n",
              "      <td>Grand Theft Auto: San Andreas</td>\n",
              "      <td>PS2</td>\n",
              "      <td>2004</td>\n",
              "      <td>Action</td>\n",
              "      <td>Take-Two Interactive</td>\n",
              "      <td>9.43</td>\n",
              "      <td>0.40</td>\n",
              "      <td>0.41</td>\n",
              "      <td>10.57</td>\n",
              "      <td>20.81</td>\n",
              "    </tr>\n",
              "    <tr>\n",
              "      <th>18</th>\n",
              "      <td>19</td>\n",
              "      <td>Super Mario World</td>\n",
              "      <td>SNES</td>\n",
              "      <td>1990</td>\n",
              "      <td>Platform</td>\n",
              "      <td>Nintendo</td>\n",
              "      <td>12.78</td>\n",
              "      <td>3.75</td>\n",
              "      <td>3.54</td>\n",
              "      <td>0.55</td>\n",
              "      <td>20.61</td>\n",
              "    </tr>\n",
              "    <tr>\n",
              "      <th>19</th>\n",
              "      <td>20</td>\n",
              "      <td>Brain Age: Train Your Brain in Minutes a Day</td>\n",
              "      <td>DS</td>\n",
              "      <td>2005</td>\n",
              "      <td>Misc</td>\n",
              "      <td>Nintendo</td>\n",
              "      <td>4.75</td>\n",
              "      <td>9.26</td>\n",
              "      <td>4.16</td>\n",
              "      <td>2.05</td>\n",
              "      <td>20.22</td>\n",
              "    </tr>\n",
              "  </tbody>\n",
              "</table>\n",
              "</div>"
            ],
            "text/plain": [
              "    Rank  ... Global_Sales\n",
              "0      1  ...        82.74\n",
              "1      2  ...        40.24\n",
              "2      3  ...        35.82\n",
              "3      4  ...        33.00\n",
              "4      5  ...        31.37\n",
              "5      6  ...        30.26\n",
              "6      7  ...        30.01\n",
              "7      8  ...        29.02\n",
              "8      9  ...        28.62\n",
              "9     10  ...        28.31\n",
              "10    11  ...        24.76\n",
              "11    12  ...        23.42\n",
              "12    13  ...        23.10\n",
              "13    14  ...        22.72\n",
              "14    15  ...        22.00\n",
              "15    16  ...        21.82\n",
              "16    17  ...        21.40\n",
              "17    18  ...        20.81\n",
              "18    19  ...        20.61\n",
              "19    20  ...        20.22\n",
              "\n",
              "[20 rows x 11 columns]"
            ]
          },
          "metadata": {
            "tags": []
          },
          "execution_count": 271
        }
      ]
    },
    {
      "cell_type": "code",
      "metadata": {
        "id": "d2KsT68mrmW6",
        "colab": {
          "base_uri": "https://localhost:8080/"
        },
        "outputId": "65ad5ae3-cc4e-4971-b729-bdfe1bc867eb"
      },
      "source": [
        "df_vgsales.columns"
      ],
      "execution_count": null,
      "outputs": [
        {
          "output_type": "execute_result",
          "data": {
            "text/plain": [
              "['Rank',\n",
              " 'Name',\n",
              " 'Platform',\n",
              " 'Year',\n",
              " 'Genre',\n",
              " 'Publisher',\n",
              " 'NA_Sales',\n",
              " 'EU_Sales',\n",
              " 'JP_Sales',\n",
              " 'Other_Sales',\n",
              " 'Global_Sales']"
            ]
          },
          "metadata": {
            "tags": []
          },
          "execution_count": 242
        }
      ]
    },
    {
      "cell_type": "markdown",
      "metadata": {
        "id": "02qjuJQ_ryIe"
      },
      "source": [
        "**Pyspark API**"
      ]
    },
    {
      "cell_type": "code",
      "metadata": {
        "id": "0sXbDpgYro9R"
      },
      "source": [
        "#preciso pegar o gabarito\n",
        "\n",
        "import pyspark.sql.functions as f  #precisa importa a função para a leitura abaixo\n",
        "\n",
        "sales_PS4 = df_vgsales.select('Platform','Genre','Global_Sales','Year') \\\n",
        "    .where('Platform in (\"PS4\")') \\\n",
        "    .filter((f.col('Year')>=2013)&(f.col('Year')<=2019))\\\n",
        "    .groupBy('Platform','Genre','Global_Sales','Year')\\\n",
        "    .agg(\n",
        "        f.count('Global_sales').alias('Global_sales_TotalQuantity')\n",
        "        )\\\n",
        "    .orderBy(f.desc('Global_sales_TotalQuantity'))\\\n",
        "    .na.fill(0)"
      ],
      "execution_count": null,
      "outputs": []
    },
    {
      "cell_type": "code",
      "metadata": {
        "id": "ecPGucsQyJz9"
      },
      "source": [
        "\n",
        "display_df(sales_PS4)"
      ],
      "execution_count": null,
      "outputs": []
    },
    {
      "cell_type": "code",
      "metadata": {
        "id": "aZNufp0wy2NE",
        "colab": {
          "base_uri": "https://localhost:8080/",
          "height": 1000
        },
        "outputId": "78ebf83b-e21c-4583-9945-0765ebbd8855"
      },
      "source": [
        "import pyspark.sql.functions as f  #precisa importa a função para a leitura abaixo\n",
        "\n",
        "sales_PS4_2013 = df_vgsales.select('Platform','Genre','Global_Sales','Year') \\\n",
        "    .where('Platform = \"PS4\" AND') \\\n",
        "    .filter((f.col('Year')>=2013)&(f.col('Year')<=2019))\\\n",
        "    .groupBy('Platform','Global_Sales')\\\n",
        "    .agg(\n",
        "        f.count('Global_sales').alias('Global_sales_TotalQuantity')\n",
        "        )\\\n",
        "    .orderBy(f.desc('Global_sales_TotalQuantity'))\\\n",
        "    .na.fill(0)\n",
        "\n",
        "\n",
        "display_df(sales_PS4_2013)"
      ],
      "execution_count": null,
      "outputs": [
        {
          "output_type": "execute_result",
          "data": {
            "text/html": [
              "<div>\n",
              "<style scoped>\n",
              "    .dataframe tbody tr th:only-of-type {\n",
              "        vertical-align: middle;\n",
              "    }\n",
              "\n",
              "    .dataframe tbody tr th {\n",
              "        vertical-align: top;\n",
              "    }\n",
              "\n",
              "    .dataframe thead th {\n",
              "        text-align: right;\n",
              "    }\n",
              "</style>\n",
              "<table border=\"1\" class=\"dataframe\">\n",
              "  <thead>\n",
              "    <tr style=\"text-align: right;\">\n",
              "      <th></th>\n",
              "      <th>Rank</th>\n",
              "      <th>Name</th>\n",
              "      <th>Platform</th>\n",
              "      <th>Year</th>\n",
              "      <th>Genre</th>\n",
              "      <th>Publisher</th>\n",
              "      <th>NA_Sales</th>\n",
              "      <th>EU_Sales</th>\n",
              "      <th>JP_Sales</th>\n",
              "      <th>Other_Sales</th>\n",
              "      <th>Global_Sales</th>\n",
              "    </tr>\n",
              "  </thead>\n",
              "  <tbody>\n",
              "    <tr>\n",
              "      <th>0</th>\n",
              "      <td>1</td>\n",
              "      <td>Wii Sports</td>\n",
              "      <td>Wii</td>\n",
              "      <td>2006</td>\n",
              "      <td>Sports</td>\n",
              "      <td>Nintendo</td>\n",
              "      <td>41.49</td>\n",
              "      <td>29.02</td>\n",
              "      <td>3.77</td>\n",
              "      <td>8.46</td>\n",
              "      <td>82.74</td>\n",
              "    </tr>\n",
              "    <tr>\n",
              "      <th>1</th>\n",
              "      <td>2</td>\n",
              "      <td>Super Mario Bros.</td>\n",
              "      <td>NES</td>\n",
              "      <td>1985</td>\n",
              "      <td>Platform</td>\n",
              "      <td>Nintendo</td>\n",
              "      <td>29.08</td>\n",
              "      <td>3.58</td>\n",
              "      <td>6.81</td>\n",
              "      <td>0.77</td>\n",
              "      <td>40.24</td>\n",
              "    </tr>\n",
              "    <tr>\n",
              "      <th>2</th>\n",
              "      <td>3</td>\n",
              "      <td>Mario Kart Wii</td>\n",
              "      <td>Wii</td>\n",
              "      <td>2008</td>\n",
              "      <td>Racing</td>\n",
              "      <td>Nintendo</td>\n",
              "      <td>15.85</td>\n",
              "      <td>12.88</td>\n",
              "      <td>3.79</td>\n",
              "      <td>3.31</td>\n",
              "      <td>35.82</td>\n",
              "    </tr>\n",
              "    <tr>\n",
              "      <th>3</th>\n",
              "      <td>4</td>\n",
              "      <td>Wii Sports Resort</td>\n",
              "      <td>Wii</td>\n",
              "      <td>2009</td>\n",
              "      <td>Sports</td>\n",
              "      <td>Nintendo</td>\n",
              "      <td>15.75</td>\n",
              "      <td>11.01</td>\n",
              "      <td>3.28</td>\n",
              "      <td>2.96</td>\n",
              "      <td>33.00</td>\n",
              "    </tr>\n",
              "    <tr>\n",
              "      <th>4</th>\n",
              "      <td>5</td>\n",
              "      <td>Pokemon Red/Pokemon Blue</td>\n",
              "      <td>GB</td>\n",
              "      <td>1996</td>\n",
              "      <td>Role-Playing</td>\n",
              "      <td>Nintendo</td>\n",
              "      <td>11.27</td>\n",
              "      <td>8.89</td>\n",
              "      <td>10.22</td>\n",
              "      <td>1.00</td>\n",
              "      <td>31.37</td>\n",
              "    </tr>\n",
              "    <tr>\n",
              "      <th>5</th>\n",
              "      <td>6</td>\n",
              "      <td>Tetris</td>\n",
              "      <td>GB</td>\n",
              "      <td>1989</td>\n",
              "      <td>Puzzle</td>\n",
              "      <td>Nintendo</td>\n",
              "      <td>23.20</td>\n",
              "      <td>2.26</td>\n",
              "      <td>4.22</td>\n",
              "      <td>0.58</td>\n",
              "      <td>30.26</td>\n",
              "    </tr>\n",
              "    <tr>\n",
              "      <th>6</th>\n",
              "      <td>7</td>\n",
              "      <td>New Super Mario Bros.</td>\n",
              "      <td>DS</td>\n",
              "      <td>2006</td>\n",
              "      <td>Platform</td>\n",
              "      <td>Nintendo</td>\n",
              "      <td>11.38</td>\n",
              "      <td>9.23</td>\n",
              "      <td>6.50</td>\n",
              "      <td>2.90</td>\n",
              "      <td>30.01</td>\n",
              "    </tr>\n",
              "    <tr>\n",
              "      <th>7</th>\n",
              "      <td>8</td>\n",
              "      <td>Wii Play</td>\n",
              "      <td>Wii</td>\n",
              "      <td>2006</td>\n",
              "      <td>Misc</td>\n",
              "      <td>Nintendo</td>\n",
              "      <td>14.03</td>\n",
              "      <td>9.20</td>\n",
              "      <td>2.93</td>\n",
              "      <td>2.85</td>\n",
              "      <td>29.02</td>\n",
              "    </tr>\n",
              "    <tr>\n",
              "      <th>8</th>\n",
              "      <td>9</td>\n",
              "      <td>New Super Mario Bros. Wii</td>\n",
              "      <td>Wii</td>\n",
              "      <td>2009</td>\n",
              "      <td>Platform</td>\n",
              "      <td>Nintendo</td>\n",
              "      <td>14.59</td>\n",
              "      <td>7.06</td>\n",
              "      <td>4.70</td>\n",
              "      <td>2.26</td>\n",
              "      <td>28.62</td>\n",
              "    </tr>\n",
              "    <tr>\n",
              "      <th>9</th>\n",
              "      <td>10</td>\n",
              "      <td>Duck Hunt</td>\n",
              "      <td>NES</td>\n",
              "      <td>1984</td>\n",
              "      <td>Shooter</td>\n",
              "      <td>Nintendo</td>\n",
              "      <td>26.93</td>\n",
              "      <td>0.63</td>\n",
              "      <td>0.28</td>\n",
              "      <td>0.47</td>\n",
              "      <td>28.31</td>\n",
              "    </tr>\n",
              "    <tr>\n",
              "      <th>10</th>\n",
              "      <td>11</td>\n",
              "      <td>Nintendogs</td>\n",
              "      <td>DS</td>\n",
              "      <td>2005</td>\n",
              "      <td>Simulation</td>\n",
              "      <td>Nintendo</td>\n",
              "      <td>9.07</td>\n",
              "      <td>11.00</td>\n",
              "      <td>1.93</td>\n",
              "      <td>2.75</td>\n",
              "      <td>24.76</td>\n",
              "    </tr>\n",
              "    <tr>\n",
              "      <th>11</th>\n",
              "      <td>12</td>\n",
              "      <td>Mario Kart DS</td>\n",
              "      <td>DS</td>\n",
              "      <td>2005</td>\n",
              "      <td>Racing</td>\n",
              "      <td>Nintendo</td>\n",
              "      <td>9.81</td>\n",
              "      <td>7.57</td>\n",
              "      <td>4.13</td>\n",
              "      <td>1.92</td>\n",
              "      <td>23.42</td>\n",
              "    </tr>\n",
              "    <tr>\n",
              "      <th>12</th>\n",
              "      <td>13</td>\n",
              "      <td>Pokemon Gold/Pokemon Silver</td>\n",
              "      <td>GB</td>\n",
              "      <td>1999</td>\n",
              "      <td>Role-Playing</td>\n",
              "      <td>Nintendo</td>\n",
              "      <td>9.00</td>\n",
              "      <td>6.18</td>\n",
              "      <td>7.20</td>\n",
              "      <td>0.71</td>\n",
              "      <td>23.10</td>\n",
              "    </tr>\n",
              "    <tr>\n",
              "      <th>13</th>\n",
              "      <td>14</td>\n",
              "      <td>Wii Fit</td>\n",
              "      <td>Wii</td>\n",
              "      <td>2007</td>\n",
              "      <td>Sports</td>\n",
              "      <td>Nintendo</td>\n",
              "      <td>8.94</td>\n",
              "      <td>8.03</td>\n",
              "      <td>3.60</td>\n",
              "      <td>2.15</td>\n",
              "      <td>22.72</td>\n",
              "    </tr>\n",
              "    <tr>\n",
              "      <th>14</th>\n",
              "      <td>15</td>\n",
              "      <td>Wii Fit Plus</td>\n",
              "      <td>Wii</td>\n",
              "      <td>2009</td>\n",
              "      <td>Sports</td>\n",
              "      <td>Nintendo</td>\n",
              "      <td>9.09</td>\n",
              "      <td>8.59</td>\n",
              "      <td>2.53</td>\n",
              "      <td>1.79</td>\n",
              "      <td>22.00</td>\n",
              "    </tr>\n",
              "    <tr>\n",
              "      <th>15</th>\n",
              "      <td>16</td>\n",
              "      <td>Kinect Adventures!</td>\n",
              "      <td>X360</td>\n",
              "      <td>2010</td>\n",
              "      <td>Misc</td>\n",
              "      <td>Microsoft Game Studios</td>\n",
              "      <td>14.97</td>\n",
              "      <td>4.94</td>\n",
              "      <td>0.24</td>\n",
              "      <td>1.67</td>\n",
              "      <td>21.82</td>\n",
              "    </tr>\n",
              "    <tr>\n",
              "      <th>16</th>\n",
              "      <td>17</td>\n",
              "      <td>Grand Theft Auto V</td>\n",
              "      <td>PS3</td>\n",
              "      <td>2013</td>\n",
              "      <td>Action</td>\n",
              "      <td>Take-Two Interactive</td>\n",
              "      <td>7.01</td>\n",
              "      <td>9.27</td>\n",
              "      <td>0.97</td>\n",
              "      <td>4.14</td>\n",
              "      <td>21.40</td>\n",
              "    </tr>\n",
              "    <tr>\n",
              "      <th>17</th>\n",
              "      <td>18</td>\n",
              "      <td>Grand Theft Auto: San Andreas</td>\n",
              "      <td>PS2</td>\n",
              "      <td>2004</td>\n",
              "      <td>Action</td>\n",
              "      <td>Take-Two Interactive</td>\n",
              "      <td>9.43</td>\n",
              "      <td>0.40</td>\n",
              "      <td>0.41</td>\n",
              "      <td>10.57</td>\n",
              "      <td>20.81</td>\n",
              "    </tr>\n",
              "    <tr>\n",
              "      <th>18</th>\n",
              "      <td>19</td>\n",
              "      <td>Super Mario World</td>\n",
              "      <td>SNES</td>\n",
              "      <td>1990</td>\n",
              "      <td>Platform</td>\n",
              "      <td>Nintendo</td>\n",
              "      <td>12.78</td>\n",
              "      <td>3.75</td>\n",
              "      <td>3.54</td>\n",
              "      <td>0.55</td>\n",
              "      <td>20.61</td>\n",
              "    </tr>\n",
              "    <tr>\n",
              "      <th>19</th>\n",
              "      <td>20</td>\n",
              "      <td>Brain Age: Train Your Brain in Minutes a Day</td>\n",
              "      <td>DS</td>\n",
              "      <td>2005</td>\n",
              "      <td>Misc</td>\n",
              "      <td>Nintendo</td>\n",
              "      <td>4.75</td>\n",
              "      <td>9.26</td>\n",
              "      <td>4.16</td>\n",
              "      <td>2.05</td>\n",
              "      <td>20.22</td>\n",
              "    </tr>\n",
              "  </tbody>\n",
              "</table>\n",
              "</div>"
            ],
            "text/plain": [
              "    Rank  ... Global_Sales\n",
              "0      1  ...        82.74\n",
              "1      2  ...        40.24\n",
              "2      3  ...        35.82\n",
              "3      4  ...        33.00\n",
              "4      5  ...        31.37\n",
              "5      6  ...        30.26\n",
              "6      7  ...        30.01\n",
              "7      8  ...        29.02\n",
              "8      9  ...        28.62\n",
              "9     10  ...        28.31\n",
              "10    11  ...        24.76\n",
              "11    12  ...        23.42\n",
              "12    13  ...        23.10\n",
              "13    14  ...        22.72\n",
              "14    15  ...        22.00\n",
              "15    16  ...        21.82\n",
              "16    17  ...        21.40\n",
              "17    18  ...        20.81\n",
              "18    19  ...        20.61\n",
              "19    20  ...        20.22\n",
              "\n",
              "[20 rows x 11 columns]"
            ]
          },
          "metadata": {
            "tags": []
          },
          "execution_count": 277
        }
      ]
    },
    {
      "cell_type": "code",
      "metadata": {
        "id": "TvT4MPPEzcYY"
      },
      "source": [
        "#versão do professor\n",
        "\n",
        "#SparkSQL\n",
        "df.createOrReplaceGlobalTempView('vgsales1')\n",
        "spark.sql(\"\"\"\n",
        "SELECT\n",
        "  SUM(Global_Sales),\n",
        "  COUNT(Global_Sales),\n",
        "  Genre\n",
        "FROM\n",
        " vgsales1\n",
        "WHERE\n",
        " Platform = 'PS4'\n",
        " AND Year BEYWEEN 2013 AND 209\n",
        "GROUP BY Genre \n",
        "ORDER BY gloval_sales_sum DESC\n",
        "\"\"\").show()"
      ],
      "execution_count": null,
      "outputs": []
    },
    {
      "cell_type": "code",
      "metadata": {
        "id": "huUWCedF0PFS"
      },
      "source": [
        "#Pyspark\n",
        "\n",
        "df2 = df.select('Platform','Year','Genre')\\\n",
        "  .where('Platform = \"PS4\" AND Year BETWEEN 2013 AND 2019') \\\n",
        "  .groupBy('Genre')\\\n",
        "  .agg(\n",
        "      f.sum('Global_Sales')\n",
        "  )"
      ],
      "execution_count": null,
      "outputs": []
    }
  ]
}